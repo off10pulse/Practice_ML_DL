{
  "cells": [
    {
      "cell_type": "markdown",
      "metadata": {
        "id": "YRpc91hogxqS"
      },
      "source": [
        "# week0_03: Intro to PyTorch"
      ]
    },
    {
      "cell_type": "markdown",
      "metadata": {
        "id": "5F_QB3pogxqc"
      },
      "source": [
        "*special thanks to YSDA team for provided materials*\n",
        "\n",
        "What comes today:\n",
        "- Introduction to PyTorch\n",
        "- Automatic gradient computation\n",
        "- Logistic regression (it's a neural network, actually ;) )"
      ]
    },
    {
      "cell_type": "markdown",
      "metadata": {
        "id": "dktqsoXegxqe"
      },
      "source": [
        "![logo](https://pytorch.org/tutorials/_static/pytorch-logo-dark.svg)\n",
        "\n",
        "__This notebook__ will teach you to use pytorch low-level core. You can read about it [here](http://pytorch.org/).\n",
        "\n",
        "__Pytorch feels__ differently than other frameworks (like tensorflow/theano) on almost every level. TensorFlow makes your code live in two \"worlds\" simultaneously:  symbolic graphs and actual tensors. First you declare a symbolic \"recipe\" of how to get from inputs to outputs, then feed it with actual minibatches of data.  In pytorch, __there's only one world__: all tensors have a numeric value.\n",
        "\n",
        "You compute outputs on the fly without pre-declaring anything. The code looks exactly as in pure numpy with one exception: pytorch computes gradients for you. And can run stuff on GPU. And has a number of pre-implemented building blocks for your neural nets. [And a few more things.](https://medium.com/towards-data-science/pytorch-vs-tensorflow-spotting-the-difference-25c75777377b)\n",
        "\n",
        "Let's dive into it!"
      ]
    },
    {
      "cell_type": "code",
      "execution_count": 185,
      "metadata": {
        "ExecuteTime": {
          "end_time": "2021-03-20T11:06:13.601304Z",
          "start_time": "2021-03-20T11:06:13.599422Z"
        },
        "colab": {
          "base_uri": "https://localhost:8080/"
        },
        "id": "uRhCPYx0gxqh",
        "outputId": "302633d6-6799-4e5d-ba1c-4f7f3eda1ea0"
      },
      "outputs": [
        {
          "output_type": "stream",
          "name": "stdout",
          "text": [
            "--2024-08-06 17:48:21--  https://raw.githubusercontent.com/girafe-ai/ml-course/22f_basic/week0_03_linear_classification/notmnist.py\n",
            "Resolving raw.githubusercontent.com (raw.githubusercontent.com)... 185.199.111.133, 185.199.110.133, 185.199.108.133, ...\n",
            "Connecting to raw.githubusercontent.com (raw.githubusercontent.com)|185.199.111.133|:443... connected.\n",
            "HTTP request sent, awaiting response... 200 OK\n",
            "Length: 1848 (1.8K) [text/plain]\n",
            "Saving to: ‘notmnist.py.3’\n",
            "\n",
            "\rnotmnist.py.3         0%[                    ]       0  --.-KB/s               \rnotmnist.py.3       100%[===================>]   1.80K  --.-KB/s    in 0s      \n",
            "\n",
            "2024-08-06 17:48:21 (25.7 MB/s) - ‘notmnist.py.3’ saved [1848/1848]\n",
            "\n"
          ]
        }
      ],
      "source": [
        "# If you are using colab, uncomment this cell\n",
        "\n",
        "!wget https://raw.githubusercontent.com/girafe-ai/ml-course/22f_basic/week0_03_linear_classification/notmnist.py"
      ]
    },
    {
      "cell_type": "code",
      "execution_count": 186,
      "metadata": {
        "ExecuteTime": {
          "end_time": "2021-03-20T11:06:14.736527Z",
          "start_time": "2021-03-20T11:06:14.038670Z"
        },
        "id": "j9YGv4eXgxqm"
      },
      "outputs": [],
      "source": [
        "import matplotlib.pyplot as plt\n",
        "import numpy as np\n",
        "import torch"
      ]
    },
    {
      "cell_type": "code",
      "execution_count": 187,
      "metadata": {
        "ExecuteTime": {
          "end_time": "2021-03-20T11:06:14.742256Z",
          "start_time": "2021-03-20T11:06:14.737944Z"
        },
        "colab": {
          "base_uri": "https://localhost:8080/",
          "height": 35
        },
        "id": "Q0SdVPU0gxqn",
        "outputId": "aca82b07-5fab-4ecc-d3fa-bc650fd46f52"
      },
      "outputs": [
        {
          "output_type": "execute_result",
          "data": {
            "text/plain": [
              "'2.3.1+cu121'"
            ],
            "application/vnd.google.colaboratory.intrinsic+json": {
              "type": "string"
            }
          },
          "metadata": {},
          "execution_count": 187
        }
      ],
      "source": [
        "torch.__version__"
      ]
    },
    {
      "cell_type": "code",
      "execution_count": 188,
      "metadata": {
        "ExecuteTime": {
          "end_time": "2021-03-20T11:06:15.250588Z",
          "start_time": "2021-03-20T11:06:15.246484Z"
        },
        "scrolled": false,
        "colab": {
          "base_uri": "https://localhost:8080/"
        },
        "id": "VMBt2vHwgxqq",
        "outputId": "f79361af-df41-4cfb-8306-ab86b228186f"
      },
      "outputs": [
        {
          "output_type": "stream",
          "name": "stdout",
          "text": [
            "X :\n",
            "[[ 0  1  2  3]\n",
            " [ 4  5  6  7]\n",
            " [ 8  9 10 11]\n",
            " [12 13 14 15]]\n",
            "\n",
            "X.shape : (4, 4)\n",
            "\n",
            "add 5 :\n",
            "[[ 5  6  7  8]\n",
            " [ 9 10 11 12]\n",
            " [13 14 15 16]\n",
            " [17 18 19 20]]\n",
            "\n",
            "X*X^T  :\n",
            "[[ 14  38  62  86]\n",
            " [ 38 126 214 302]\n",
            " [ 62 214 366 518]\n",
            " [ 86 302 518 734]]\n",
            "\n",
            "mean over cols :\n",
            "[ 1.5  5.5  9.5 13.5]\n",
            "\n",
            "cumsum of cols :\n",
            "[[ 0  1  2  3]\n",
            " [ 4  6  8 10]\n",
            " [12 15 18 21]\n",
            " [24 28 32 36]]\n",
            "\n"
          ]
        }
      ],
      "source": [
        "# numpy world\n",
        "\n",
        "x = np.arange(16).reshape(4, 4)\n",
        "\n",
        "print(\"X :\\n%s\\n\" % x)\n",
        "print(\"X.shape : %s\\n\" % (x.shape,))\n",
        "print(\"add 5 :\\n%s\\n\" % (x + 5))\n",
        "print(\"X*X^T  :\\n%s\\n\" % np.dot(x, x.T))\n",
        "print(\"mean over cols :\\n%s\\n\" % (x.mean(axis=-1)))\n",
        "print(\"cumsum of cols :\\n%s\\n\" % (np.cumsum(x, axis=0)))"
      ]
    },
    {
      "cell_type": "code",
      "execution_count": 189,
      "metadata": {
        "ExecuteTime": {
          "end_time": "2021-03-20T11:06:15.848120Z",
          "start_time": "2021-03-20T11:06:15.838967Z"
        },
        "colab": {
          "base_uri": "https://localhost:8080/"
        },
        "id": "Z5pBxS5wgxqt",
        "outputId": "13aa8354-0c1f-425a-8e0f-048e4f30f840"
      },
      "outputs": [
        {
          "output_type": "stream",
          "name": "stdout",
          "text": [
            "X :\n",
            "tensor([[ 0.,  1.,  2.,  3.],\n",
            "        [ 4.,  5.,  6.,  7.],\n",
            "        [ 8.,  9., 10., 11.],\n",
            "        [12., 13., 14., 15.]])\n",
            "X.shape : torch.Size([4, 4])\n",
            "\n",
            "add 5 :\n",
            "tensor([[ 5.,  6.,  7.,  8.],\n",
            "        [ 9., 10., 11., 12.],\n",
            "        [13., 14., 15., 16.],\n",
            "        [17., 18., 19., 20.]])\n",
            "\n",
            "X*X^T  :\n",
            "tensor([[ 14.,  38.,  62.,  86.],\n",
            "        [ 38., 126., 214., 302.],\n",
            "        [ 62., 214., 366., 518.],\n",
            "        [ 86., 302., 518., 734.]])\n",
            "\n",
            "mean over cols :\n",
            "tensor([ 1.5000,  5.5000,  9.5000, 13.5000])\n",
            "\n",
            "cumsum of cols :\n",
            "tensor([[ 0.,  1.,  2.,  3.],\n",
            "        [ 4.,  6.,  8., 10.],\n",
            "        [12., 15., 18., 21.],\n",
            "        [24., 28., 32., 36.]])\n"
          ]
        }
      ],
      "source": [
        "# pytorch world\n",
        "\n",
        "x = np.arange(16).reshape(4, 4)\n",
        "\n",
        "x = torch.tensor(x, dtype=torch.float32)  # or torch.arange(0,16).view(4,4)\n",
        "\n",
        "print(\"X :\\n%s\" % x)\n",
        "print(\"X.shape : %s\\n\" % (x.shape,))\n",
        "print(\"add 5 :\\n%s\\n\" % (x + 5))\n",
        "print(\"X*X^T  :\\n%s\\n\" % torch.matmul(x, x.transpose(1, 0)))  # short: x.mm(x.t())\n",
        "print(\"mean over cols :\\n%s\\n\" % torch.mean(x, dim=-1))\n",
        "print(\"cumsum of cols :\\n%s\" % torch.cumsum(x, dim=0))"
      ]
    },
    {
      "cell_type": "markdown",
      "metadata": {
        "heading_collapsed": true,
        "id": "L4wHN91Ugxqu"
      },
      "source": [
        "#### NumPy and Pytorch\n",
        "\n",
        "As you can notice, pytorch allows you to hack stuff much the same way you did with numpy. This means that you can _see the numeric value of any tensor at any moment of time_. Debugging such code can be done with by printing tensors or using any debug tool you want (e.g. [gdb](https://wiki.python.org/moin/DebuggingWithGdb)).\n",
        "\n",
        "You could also notice the a few new method names and a different API. So no, there's no compatibility with numpy [yet](https://github.com/pytorch/pytorch/issues/2228) and yes, you'll have to memorize all the names again. Get excited!\n",
        "\n",
        "![img](http://i0.kym-cdn.com/entries/icons/original/000/017/886/download.jpg)\n",
        "\n",
        "For example,\n",
        "* If something takes a list/tuple of axes in numpy, you can expect it to take *args in pytorch\n",
        " * `x.reshape([1,2,8]) -> x.view(1,2,8)`\n",
        "* You should swap _axis_ for _dim_ in operations like mean or cumsum\n",
        " * `x.sum(axis=-1) -> x.sum(dim=-1)`\n",
        "* most mathematical operations are the same, but types an shaping is different\n",
        " * `x.astype('int64') -> x.type(torch.LongTensor)`\n",
        "\n",
        "To help you acclimatize, there's a [table](https://github.com/torch/torch7/wiki/Torch-for-Numpy-users) covering most new things. There's also a neat [documentation page](http://pytorch.org/docs/master/).\n",
        "\n",
        "Finally, if you're stuck with a technical problem, we recommend searching [pytorch forumns](https://discuss.pytorch.org/). Or just googling, which usually works just as efficiently.\n",
        "\n",
        "If you feel like you almost give up, remember two things: __GPU__ and __free gradients__. Besides you can always jump back to numpy with x.numpy()"
      ]
    },
    {
      "cell_type": "markdown",
      "metadata": {
        "id": "z4DcffnOgxqw"
      },
      "source": [
        "## Warmup: trigonometric knotwork\n",
        "\n",
        "_inspired by [this post](https://www.quora.com/What-are-the-most-interesting-equation-plots)_\n",
        "\n",
        "There are some simple mathematical functions with cool plots. For one, consider this:\n",
        "\n",
        "$$ x(t) = t - 1.5 * cos( 15 t) $$\n",
        "$$ y(t) = t - 1.5 * sin( 16 t) $$\n"
      ]
    },
    {
      "cell_type": "code",
      "execution_count": 190,
      "metadata": {
        "ExecuteTime": {
          "end_time": "2021-03-20T11:06:18.125078Z",
          "start_time": "2021-03-20T11:06:17.951606Z"
        },
        "colab": {
          "base_uri": "https://localhost:8080/",
          "height": 448
        },
        "id": "UVcXHbujgxqx",
        "outputId": "74d78407-72c8-4882-d36b-c9f6e1b71356"
      },
      "outputs": [
        {
          "output_type": "execute_result",
          "data": {
            "text/plain": [
              "[<matplotlib.lines.Line2D at 0x7b1e78f6c4c0>]"
            ]
          },
          "metadata": {},
          "execution_count": 190
        },
        {
          "output_type": "display_data",
          "data": {
            "text/plain": [
              "<Figure size 640x480 with 1 Axes>"
            ],
            "image/png": "[encoded data removed]"
          },
          "metadata": {}
        }
      ],
      "source": [
        "t = torch.linspace(-10, 10, steps=10000)\n",
        "\n",
        "# compute x(t) and y(t) as defined above\n",
        "x = t - 1.5 * torch.cos(15 * t)  # YOUR CODE HERE\n",
        "y = t - 1.5 * torch.sin(16 * t)  # YOUR CODE HERE\n",
        "\n",
        "plt.plot(x.numpy(), y.numpy())"
      ]
    },
    {
      "cell_type": "markdown",
      "metadata": {
        "id": "7Qez9fEPgxqx"
      },
      "source": [
        "if you're done early, try adjusting the formula and seing how  it affects the function"
      ]
    },
    {
      "cell_type": "markdown",
      "metadata": {
        "id": "WuJj8xrOgxqy"
      },
      "source": [
        "## Automatic gradients\n",
        "\n",
        "Any self-respecting DL framework must do your backprop for you. Torch handles this with the `autograd` module.\n",
        "\n",
        "The general pipeline looks like this:\n",
        "* When creating a tensor, you mark it as `requires_grad`:\n",
        "    * __```torch.zeros(5, requires_grad=True)```__\n",
        "    * torch.tensor(np.arange(5), dtype=torch.float32, requires_grad=True)\n",
        "* Define some differentiable `loss = arbitrary_function(a)`\n",
        "* Call `loss.backward()`\n",
        "* Gradients are now available as ```a.grads```\n",
        "\n",
        "__Here's an example:__ let's fit a linear regression on Boston house prices"
      ]
    },
    {
      "cell_type": "code",
      "source": [
        "# from sklearn.datasets import load_boston\n",
        "import pandas as pd"
      ],
      "metadata": {
        "id": "flKnHN5-kQ31"
      },
      "execution_count": 191,
      "outputs": []
    },
    {
      "cell_type": "code",
      "source": [
        "data_url = \"http://lib.stat.cmu.edu/datasets/boston\"\n",
        "raw_df = pd.read_csv(data_url, sep=\"\\s+\", skiprows=22, header=None)\n",
        "data = np.hstack([raw_df.values[::2, :], raw_df.values[1::2, :2]])\n",
        "target = raw_df.values[1::2, 2]"
      ],
      "metadata": {
        "id": "UoVekFrokSTD"
      },
      "execution_count": 192,
      "outputs": []
    },
    {
      "cell_type": "code",
      "source": [
        "data.shape, target.shape"
      ],
      "metadata": {
        "colab": {
          "base_uri": "https://localhost:8080/"
        },
        "id": "8UOQ_rEkki-V",
        "outputId": "b70f74d5-3f7b-4bb0-853b-68f9c8c4c497"
      },
      "execution_count": 193,
      "outputs": [
        {
          "output_type": "execute_result",
          "data": {
            "text/plain": [
              "((506, 13), (506,))"
            ]
          },
          "metadata": {},
          "execution_count": 193
        }
      ]
    },
    {
      "cell_type": "code",
      "execution_count": 194,
      "metadata": {
        "ExecuteTime": {
          "end_time": "2021-03-20T11:06:27.033389Z",
          "start_time": "2021-03-20T11:06:26.895470Z"
        },
        "scrolled": true,
        "colab": {
          "base_uri": "https://localhost:8080/",
          "height": 448
        },
        "id": "F_iVf1xJgxq0",
        "outputId": "48a5aee2-f843-4dd8-f203-54a9b57ca66b"
      },
      "outputs": [
        {
          "output_type": "execute_result",
          "data": {
            "text/plain": [
              "<matplotlib.collections.PathCollection at 0x7b1e78d4d270>"
            ]
          },
          "metadata": {},
          "execution_count": 194
        },
        {
          "output_type": "display_data",
          "data": {
            "text/plain": [
              "<Figure size 640x480 with 1 Axes>"
            ],
            "image/png": "[encoded data removed]"
          },
          "metadata": {}
        }
      ],
      "source": [
        "# boston = load_boston()\n",
        "# plt.scatter(boston.data[:, -1], boston.target)\n",
        "plt.scatter(data[:, -1], target)"
      ]
    },
    {
      "cell_type": "code",
      "execution_count": 195,
      "metadata": {
        "ExecuteTime": {
          "end_time": "2021-03-20T11:06:27.393913Z",
          "start_time": "2021-03-20T11:06:27.391125Z"
        },
        "id": "VGR3qsaqgxq0"
      },
      "outputs": [],
      "source": [
        "w = torch.zeros(1, requires_grad=True)\n",
        "b = torch.zeros(1, requires_grad=True)\n",
        "\n",
        "# x = torch.tensor(boston.data[:, -1] / 10, dtype=torch.float32)\n",
        "# y = torch.tensor(boston.target, dtype=torch.float32)\n",
        "x = torch.tensor(data[:, -1] / 10, dtype=torch.float32)\n",
        "y = torch.tensor(target, dtype=torch.float32)"
      ]
    },
    {
      "cell_type": "code",
      "execution_count": 196,
      "metadata": {
        "ExecuteTime": {
          "end_time": "2021-03-20T11:06:28.025275Z",
          "start_time": "2021-03-20T11:06:28.022490Z"
        },
        "id": "8TJ_3Ls8gxq1"
      },
      "outputs": [],
      "source": [
        "y_pred = w * x + b\n",
        "loss = torch.mean((y_pred - y) ** 2)\n",
        "\n",
        "# propagete gradients\n",
        "loss.backward()"
      ]
    },
    {
      "cell_type": "markdown",
      "metadata": {
        "id": "zgo2smD-gxq2"
      },
      "source": [
        "The gradients are now stored in `.grad` of those variables that require them."
      ]
    },
    {
      "cell_type": "code",
      "execution_count": 197,
      "metadata": {
        "ExecuteTime": {
          "end_time": "2021-03-20T11:06:29.306517Z",
          "start_time": "2021-03-20T11:06:29.302708Z"
        },
        "colab": {
          "base_uri": "https://localhost:8080/"
        },
        "id": "j2RPK4bAgxq2",
        "outputId": "0c116aa4-49c4-4dc9-b851-f385bb4a5702"
      },
      "outputs": [
        {
          "output_type": "stream",
          "name": "stdout",
          "text": [
            "dL/dw = tensor([-47.3514])\n",
            "\n",
            "dL/db = tensor([-45.0656])\n",
            "\n"
          ]
        }
      ],
      "source": [
        "print(\"dL/dw = {}\\n\".format(w.grad))\n",
        "print(\"dL/db = {}\\n\".format(b.grad))"
      ]
    },
    {
      "cell_type": "markdown",
      "metadata": {
        "id": "zaH69u9-gxq3"
      },
      "source": [
        "If you compute gradient from multiple losses, the gradients will add up at variables, therefore it's useful to __zero the gradients__ between iteratons."
      ]
    },
    {
      "cell_type": "code",
      "execution_count": 198,
      "metadata": {
        "ExecuteTime": {
          "end_time": "2021-03-20T11:06:30.616231Z",
          "start_time": "2021-03-20T11:06:30.614325Z"
        },
        "id": "Uc8z3vP3gxq3"
      },
      "outputs": [],
      "source": [
        "from IPython.display import clear_output"
      ]
    },
    {
      "cell_type": "code",
      "execution_count": 199,
      "metadata": {
        "ExecuteTime": {
          "end_time": "2021-03-20T11:06:33.981724Z",
          "start_time": "2021-03-20T11:06:31.582379Z"
        },
        "colab": {
          "base_uri": "https://localhost:8080/",
          "height": 448
        },
        "id": "VoEDbZYNgxq4",
        "outputId": "2e4f68dd-b357-4aea-a6b5-7ab05c2f0593"
      },
      "outputs": [
        {
          "output_type": "display_data",
          "data": {
            "text/plain": [
              "<Figure size 640x480 with 1 Axes>"
            ],
            "image/png": "[encoded data removed]"
          },
          "metadata": {}
        },
        {
          "output_type": "stream",
          "name": "stdout",
          "text": [
            "loss =  28.3435\n"
          ]
        }
      ],
      "source": [
        "w = torch.zeros(1, requires_grad=True)\n",
        "b = torch.zeros(1, requires_grad=True)\n",
        "\n",
        "x = torch.tensor(data[:, -1] / 10, dtype=torch.float32)\n",
        "y = torch.tensor(target, dtype=torch.float32)\n",
        "\n",
        "for i in range(100):\n",
        "    # y_pred = w * x + b\n",
        "    y_pred = w * torch.log(x) + b\n",
        "    loss = torch.mean((y_pred - y) ** 2)\n",
        "    loss.backward()\n",
        "\n",
        "    w.data -= 0.05 * w.grad.data\n",
        "    b.data -= 0.05 * b.grad.data\n",
        "\n",
        "    # zero gradients\n",
        "    w.grad.data.zero_()\n",
        "    b.grad.data.zero_()\n",
        "\n",
        "    # the rest of code is just bells and whistles\n",
        "    if (i + 1) % 5 == 0:\n",
        "        clear_output(True)\n",
        "        plt.scatter(x.data.numpy(), y.data.numpy())\n",
        "        plt.scatter(x.data.numpy(), y_pred.data.numpy(), color=\"orange\", linewidth=5)\n",
        "        plt.show()\n",
        "\n",
        "        print(\"loss = \", loss.data.numpy())\n",
        "        if loss.data.numpy() < 0.5:\n",
        "            print(\"Done!\")\n",
        "            break"
      ]
    },
    {
      "cell_type": "markdown",
      "metadata": {
        "id": "Zy4-UfG4gxq5"
      },
      "source": [
        "__Quest__: try implementing and writing some nonlinear regression. You can try quadratic features or some trigonometry, or a simple neural network. The only difference is that now you have more variables and a more complicated `y_pred`."
      ]
    },
    {
      "cell_type": "markdown",
      "metadata": {
        "id": "J35Zs1wNgxq5"
      },
      "source": [
        "Suprizingly, we were walking really close to the edge. Look a few cells above. We have divided the `x` values by 10 times. Let's what happens if we don't:"
      ]
    },
    {
      "cell_type": "code",
      "execution_count": 200,
      "metadata": {
        "ExecuteTime": {
          "end_time": "2021-03-20T11:06:38.580152Z",
          "start_time": "2021-03-20T11:06:36.062190Z"
        },
        "colab": {
          "base_uri": "https://localhost:8080/",
          "height": 448
        },
        "id": "H2qiyYjjgxq5",
        "outputId": "eee93a7d-3da4-4279-b3c0-f3bce8069805"
      },
      "outputs": [
        {
          "output_type": "display_data",
          "data": {
            "text/plain": [
              "<Figure size 640x480 with 1 Axes>"
            ],
            "image/png": "[encoded data removed]"
          },
          "metadata": {}
        },
        {
          "output_type": "stream",
          "name": "stdout",
          "text": [
            "loss =  38.482967\n"
          ]
        }
      ],
      "source": [
        "# Now we do not divide the x values by 10. See what happens next\n",
        "x = torch.tensor(data[:, -1], dtype=torch.float32)\n",
        "# may normalized:\n",
        "x = (x - x.mean(dim=0)) / x.std(dim=0)\n",
        "\n",
        "w = torch.zeros(1, requires_grad=True)\n",
        "b = torch.zeros(1, requires_grad=True)\n",
        "\n",
        "grad_history = []\n",
        "\n",
        "for i in range(100):\n",
        "    y_pred = w * x + b\n",
        "    loss = torch.mean((y_pred - y) ** 2)\n",
        "    loss.backward()\n",
        "    grad_history.append((w.grad.item(), b.grad.item()))\n",
        "\n",
        "    # Be extremely careful with accessing the .data attribute!\n",
        "    w.data -= 0.05 * w.grad.data\n",
        "    b.data -= 0.05 * b.grad.data\n",
        "\n",
        "    # zero gradients\n",
        "    w.grad.data.zero_()\n",
        "    b.grad.data.zero_()\n",
        "\n",
        "    # the rest of code is just bells and whistles\n",
        "    if (i + 1) % 5 == 0:\n",
        "        clear_output(True)\n",
        "        plt.scatter(x.data.numpy(), y.data.numpy())\n",
        "        plt.scatter(x.data.numpy(), y_pred.data.numpy(), color=\"orange\", linewidth=5)\n",
        "        plt.show()\n",
        "\n",
        "        print(\"loss = \", loss.data.numpy())\n",
        "        if loss.data.numpy() < 0.5:\n",
        "            print(\"Done!\")\n",
        "            break"
      ]
    },
    {
      "cell_type": "code",
      "execution_count": 201,
      "metadata": {
        "ExecuteTime": {
          "end_time": "2021-03-20T11:06:39.028899Z",
          "start_time": "2021-03-20T11:06:38.926878Z"
        },
        "colab": {
          "base_uri": "https://localhost:8080/",
          "height": 448
        },
        "id": "EE38CLCngxq6",
        "outputId": "c3b482d5-adb5-45a4-8d84-ba4a00c7dd38"
      },
      "outputs": [
        {
          "output_type": "execute_result",
          "data": {
            "text/plain": [
              "[<matplotlib.lines.Line2D at 0x7b1e78d63e20>]"
            ]
          },
          "metadata": {},
          "execution_count": 201
        },
        {
          "output_type": "display_data",
          "data": {
            "text/plain": [
              "<Figure size 640x480 with 1 Axes>"
            ],
            "image/png": "[encoded data removed]"
          },
          "metadata": {}
        }
      ],
      "source": [
        "plt.plot([element[0] for element in grad_history])"
      ]
    },
    {
      "cell_type": "code",
      "execution_count": 202,
      "metadata": {
        "ExecuteTime": {
          "end_time": "2021-03-20T11:06:44.665153Z",
          "start_time": "2021-03-20T11:06:44.662866Z"
        },
        "colab": {
          "base_uri": "https://localhost:8080/"
        },
        "id": "8Dfu33atgxq7",
        "outputId": "8d8a20f0-82ac-45c7-fbcd-0447e1f9dcb3"
      },
      "outputs": [
        {
          "output_type": "stream",
          "name": "stdout",
          "text": [
            "[(13.541905403137207, -45.06561279296875), (12.190389633178711, -40.559051513671875), (10.973760604858398, -36.50314712524414), (9.87855339050293, -32.85283279418945), (8.89264965057373, -29.567550659179688), (8.005143165588379, -26.61079216003418), (7.206210613250732, -23.9497127532959), (6.487013339996338, -21.55474090576172), (5.839594841003418, -19.399269104003906), (5.256789207458496, -17.45934295654297), (4.732149600982666, -15.713409423828125), (4.259869575500488, -14.142066955566406), (3.834723949432373, -12.727859497070312), (3.452009916305542, -11.455074310302734), (3.1074912548065186, -10.30956745147705), (2.7973568439483643, -9.278610229492188), (2.518173933029175, -8.350750923156738), (2.2668540477752686, -7.5156755447387695), (2.040616512298584, -6.764107704162598), (1.8369580507278442, -6.087696552276611), (1.6536253690719604, -5.478928565979004), (1.488589882850647, -4.931034564971924), (1.3400250673294067, -4.437932014465332), (1.2062870264053345, -3.9941375255584717), (1.0858972072601318, -3.594723701477051), (0.9775216579437256, -3.2352497577667236), (0.8799624443054199, -2.91172456741333), (0.7921397686004639, -2.6205527782440186), (0.7130824327468872, -2.3584980964660645), (0.6419150829315186, -2.1226470470428467), (0.5778500437736511, -1.9103821516036987), (0.5201793313026428, -1.7193419933319092), (0.46826404333114624, -1.5474060773849487), (0.42153021693229675, -1.3926665782928467), (0.37946027517318726, -1.2533996105194092), (0.3415893316268921, -1.1280601024627686), (0.30749809741973877, -1.0152556896209717), (0.27680858969688416, -0.9137312769889832), (0.2491830438375473, -0.8223578929901123), (0.22431376576423645, -0.7401207089424133), (0.2019266039133072, -0.6661078929901123), (0.18177326023578644, -0.5994957089424133), (0.16363239288330078, -0.5395477414131165), (0.14730164408683777, -0.48559263348579407), (0.13260024785995483, -0.43703150749206543), (0.11936651170253754, -0.3933265209197998), (0.10745400190353394, -0.35399314761161804), (0.09673017263412476, -0.3185928165912628), (0.08707606792449951, -0.28673237562179565), (0.07838518917560577, -0.2580573260784149), (0.07056266069412231, -0.2322508543729782), (0.06352029740810394, -0.20902708172798157), (0.05718027055263519, -0.1881224811077118), (0.051473721861839294, -0.16930854320526123), (0.04633672535419464, -0.15237875282764435), (0.041711777448654175, -0.13713902235031128), (0.037548795342445374, -0.12342524528503418), (0.03380163013935089, -0.11108075082302094), (0.030428439378738403, -0.09997239708900452), (0.02739131450653076, -0.0899742841720581), (0.024657785892486572, -0.08097526431083679), (0.022196263074874878, -0.07287667691707611), (0.019981607794761658, -0.06559060513973236), (0.01798778772354126, -0.05903315544128418), (0.016192346811294556, -0.053128063678741455), (0.014576166868209839, -0.047814130783081055), (0.01312205195426941, -0.04303434491157532), (0.011812597513198853, -0.03873133659362793), (0.01063305139541626, -0.03485943377017975), (0.009571895003318787, -0.031372666358947754), (0.008616358041763306, -0.028237059712409973), (0.00775676965713501, -0.02541424334049225), (0.006983086466789246, -0.02287362515926361), (0.006286263465881348, -0.020584896206855774), (0.0056591033935546875, -0.01852482557296753), (0.0050948262214660645, -0.016670912504196167), (0.004586324095726013, -0.015003964304924011), (0.004128649830818176, -0.01350472867488861), (0.0037164241075515747, -0.012154489755630493), (0.003345385193824768, -0.010937601327896118), (0.003011450171470642, -0.009842634201049805), (0.0027103424072265625, -0.008858397603034973), (0.0024401694536209106, -0.007973462343215942), (0.0021965503692626953, -0.007176190614700317), (0.0019775331020355225, -0.006458967924118042), (0.0017805099487304688, -0.005814388394355774), (0.00160256028175354, -0.005234479904174805), (0.0014427155256271362, -0.004711955785751343), (0.0012989342212677002, -0.004238829016685486), (0.0011695176362991333, -0.0038155317306518555), (0.0010524243116378784, -0.003433927893638611), (0.0009476989507675171, -0.0030905157327651978), (0.0008534789085388184, -0.002781584858894348), (0.0007686465978622437, -0.0025031864643096924), (0.0006917864084243774, -0.0022514760494232178), (0.0006222277879714966, -0.0020262300968170166), (0.0005605071783065796, -0.0018241554498672485), (0.0005041360855102539, -0.001641005277633667), (0.0004538297653198242, -0.0014770328998565674), (0.0004080235958099365, -0.0013282299041748047)]\n"
          ]
        }
      ],
      "source": [
        "print(grad_history)"
      ]
    },
    {
      "cell_type": "markdown",
      "metadata": {
        "id": "YgG6VThYgxq8"
      },
      "source": [
        "As you can see, the gradients have exploded. We could avoid it by using the smaller _learning rate_ or by using _gradient clipping_.\n",
        "\n",
        "__You should be really careful using the gradient descent even with such simple models as linear or logistic regression.__"
      ]
    },
    {
      "cell_type": "markdown",
      "metadata": {
        "id": "fKmb7q9Agxq8"
      },
      "source": [
        "**Remember!**\n",
        "![img](https://media.giphy.com/media/3o751UMCYtSrRAFRFC/giphy.gif)\n",
        "\n",
        "When dealing with more complex stuff like neural network, it's best if you use tensors the way samurai uses his sword.\n"
      ]
    },
    {
      "cell_type": "markdown",
      "metadata": {
        "id": "nOZCoU9ugxq9"
      },
      "source": [
        "# High-level pytorch\n",
        "\n",
        "So far we've been dealing with low-level torch API. While it's absolutely vital for any custom losses or layers, building large neura nets in it is a bit clumsy.\n",
        "\n",
        "Luckily, there's also a high-level torch interface with a pre-defined layers, activations and training algorithms.\n",
        "\n",
        "We'll cover them as we go through a simple image recognition problem: classifying letters into __\"A\"__ vs __\"B\"__.\n"
      ]
    },
    {
      "cell_type": "code",
      "execution_count": 203,
      "metadata": {
        "ExecuteTime": {
          "end_time": "2021-03-20T11:06:48.559449Z",
          "start_time": "2021-03-20T11:06:48.534377Z"
        },
        "id": "oyWp2OABgxq9"
      },
      "outputs": [],
      "source": [
        "# from notmnist import load_notmnist  # file notmnist.py at this directory"
      ]
    },
    {
      "cell_type": "code",
      "source": [
        "import os\n",
        "from glob import glob\n",
        "\n",
        "import numpy as np\n",
        "from matplotlib.pyplot import imread\n",
        "from sklearn.model_selection import train_test_split\n",
        "\n",
        "\n",
        "def load_notmnist(\n",
        "    path=\"./notMNIST_small\", letters=\"ABCDEFGHIJ\", img_shape=(28, 28), test_size=0.25, one_hot=False\n",
        "):\n",
        "\n",
        "    # download data if it's missing. If you have any problems, go to the urls and load it manually.\n",
        "    if not os.path.exists(path):\n",
        "        if not os.path.exists(\"./notMNIST_small.tar.gz\"):\n",
        "            print(\"Downloading data...\")\n",
        "            assert (\n",
        "                os.system(\n",
        "                    \"curl http://yaroslavvb.com/upload/notMNIST/notMNIST_small.tar.gz > notMNIST_small.tar.gz\"\n",
        "                )\n",
        "                == 0\n",
        "            )\n",
        "        print(\"Extracting ...\")\n",
        "        assert os.system(\"tar -zxvf notMNIST_small.tar.gz > untar_notmnist.log\") == 0\n",
        "\n",
        "    data, labels = [], []\n",
        "    print(\"Parsing...\")\n",
        "    for img_path in glob(os.path.join(path, \"*/*\")):\n",
        "        class_i = img_path.split(os.sep)[-2]\n",
        "        if class_i not in letters:\n",
        "            continue\n",
        "        try:\n",
        "            data.append(imread(img_path))\n",
        "            labels.append(\n",
        "                class_i,\n",
        "            )\n",
        "        except BaseException:\n",
        "            print(\"found broken img: %s [it's ok if <10 images are broken]\" % img_path)\n",
        "\n",
        "    data = np.stack(data)[:, None].astype(\"float32\")\n",
        "    data = (data - np.mean(data)) / np.std(data)\n",
        "\n",
        "    # convert classes to ints\n",
        "    letter_to_i = {l: i for i, l in enumerate(letters)}\n",
        "    labels = np.array(list(map(letter_to_i.get, labels)))\n",
        "\n",
        "    if one_hot:\n",
        "        labels = (np.arange(np.max(labels) + 1)[None, :] == labels[:, None]).astype(\"float32\")\n",
        "\n",
        "    # split into train/test\n",
        "    X_train, X_test, y_train, y_test = train_test_split(\n",
        "        data, labels, test_size=test_size, random_state=42\n",
        "    )\n",
        "\n",
        "    print(\"Done\")\n",
        "    return X_train, y_train, X_test, y_test"
      ],
      "metadata": {
        "id": "J8D_U5rnqpMb"
      },
      "execution_count": 204,
      "outputs": []
    },
    {
      "cell_type": "code",
      "execution_count": 205,
      "metadata": {
        "ExecuteTime": {
          "end_time": "2021-03-20T11:06:50.585973Z",
          "start_time": "2021-03-20T11:06:49.038171Z"
        },
        "colab": {
          "base_uri": "https://localhost:8080/"
        },
        "id": "zrdEVI6jgxq9",
        "outputId": "66007b71-65fc-4157-e8ca-beb78b2714e4"
      },
      "outputs": [
        {
          "output_type": "stream",
          "name": "stdout",
          "text": [
            "Parsing...\n",
            "found broken img: ./notMNIST_small/A/RGVtb2NyYXRpY2FCb2xkT2xkc3R5bGUgQm9sZC50dGY=.png [it's ok if <10 images are broken]\n",
            "Done\n",
            "Train size = 2808, test_size = 937\n"
          ]
        }
      ],
      "source": [
        "X_train, y_train, X_test, y_test = load_notmnist(letters=\"AB\")\n",
        "X_train, X_test = X_train.reshape([-1, 784]), X_test.reshape([-1, 784])\n",
        "\n",
        "print(\"Train size = %i, test_size = %i\" % (len(X_train), len(X_test)))"
      ]
    },
    {
      "cell_type": "code",
      "execution_count": 206,
      "metadata": {
        "ExecuteTime": {
          "end_time": "2021-03-20T11:06:52.068828Z",
          "start_time": "2021-03-20T11:06:51.918518Z"
        },
        "scrolled": true,
        "colab": {
          "base_uri": "https://localhost:8080/",
          "height": 308
        },
        "id": "rTvXrwi2gxq-",
        "outputId": "c598f38f-f821-4e12-85c4-a41a5722469b"
      },
      "outputs": [
        {
          "output_type": "display_data",
          "data": {
            "text/plain": [
              "<Figure size 640x480 with 2 Axes>"
            ],
            "image/png": "[encoded data removed]"
          },
          "metadata": {}
        }
      ],
      "source": [
        "for i in [0, 1]:\n",
        "    plt.subplot(1, 2, i + 1)\n",
        "    plt.imshow(X_train[i].reshape([28, 28]))\n",
        "    plt.title(str(y_train[i]))"
      ]
    },
    {
      "cell_type": "markdown",
      "metadata": {
        "id": "x7UHmhD3gxq_"
      },
      "source": [
        "Let's start with layers. The main abstraction here is __`torch.nn.Module`__"
      ]
    },
    {
      "cell_type": "code",
      "execution_count": 207,
      "metadata": {
        "ExecuteTime": {
          "end_time": "2021-03-20T11:06:55.575937Z",
          "start_time": "2021-03-20T11:06:55.574207Z"
        },
        "id": "BmZU_Ak0gxrA"
      },
      "outputs": [],
      "source": [
        "from torch import nn"
      ]
    },
    {
      "cell_type": "code",
      "execution_count": 208,
      "metadata": {
        "ExecuteTime": {
          "end_time": "2021-03-20T11:06:56.137053Z",
          "start_time": "2021-03-20T11:06:56.134791Z"
        },
        "colab": {
          "base_uri": "https://localhost:8080/"
        },
        "id": "rx3JoteygxrA",
        "outputId": "77ca659c-a72b-45cc-d42d-44ec51a7bb3c"
      },
      "outputs": [
        {
          "output_type": "stream",
          "name": "stdout",
          "text": [
            "Base class for all neural network modules.\n",
            "\n",
            "    Your models should also subclass this class.\n",
            "\n",
            "    Modules can also contain other Modules, allowing to nest them in\n",
            "    a tree structure. You can assign the submodules as regular attributes::\n",
            "\n",
            "        import torch.nn as nn\n",
            "        import torch.nn.functional as F\n",
            "\n",
            "        class Model(nn.Module):\n",
            "            def __init__(self):\n",
            "                super().__init__()\n",
            "                self.conv1 = nn.Conv2d(1, 20, 5)\n",
            "                self.conv2 = nn.Conv2d(20, 20, 5)\n",
            "\n",
            "            def forward(self, x):\n",
            "                x = F.relu(self.conv1(x))\n",
            "                return F.relu(self.conv2(x))\n",
            "\n",
            "    Submodules assigned in this way will be registered, and will have their\n",
            "    parameters converted too when you call :meth:`to`, etc.\n",
            "\n",
            "    .. note::\n",
            "        As per the example above, an ``__init__()`` call to the parent class\n",
            "        must be made before assignment on the child.\n",
            "\n",
            "    :ivar training: Boolean represents whether this module is in training or\n",
            "                    evaluation mode.\n",
            "    :vartype training: bool\n",
            "    \n"
          ]
        }
      ],
      "source": [
        "print(nn.Module.__doc__)"
      ]
    },
    {
      "cell_type": "markdown",
      "metadata": {
        "id": "YTa56ie7gxrB"
      },
      "source": [
        "There's a vast library of popular layers and architectures already built for ya'.\n",
        "\n",
        "This is a binary classification problem, so we'll train a __Logistic Regression with sigmoid__.\n",
        "$$P(y_i | X_i) = \\sigma(W \\cdot X_i + b) ={ 1 \\over {1+e^{- [W \\cdot X_i + b]}} }$$\n"
      ]
    },
    {
      "cell_type": "code",
      "execution_count": 209,
      "metadata": {
        "ExecuteTime": {
          "end_time": "2021-03-20T11:06:58.040714Z",
          "start_time": "2021-03-20T11:06:58.037987Z"
        },
        "id": "6ZYk27FngxrB"
      },
      "outputs": [],
      "source": [
        "# create a network that stacks layers on top of each other\n",
        "model = nn.Sequential()\n",
        "\n",
        "# add first \"dense\" layer with 784 input units and 1 output unit.\n",
        "model.add_module(\"l1\", nn.Linear(784, 1))\n",
        "\n",
        "# add softmax activation for probabilities. Normalize over axis 1\n",
        "# note: layer names must be unique\n",
        "model.add_module(\"l2\", nn.Sigmoid())"
      ]
    },
    {
      "cell_type": "code",
      "execution_count": 210,
      "metadata": {
        "ExecuteTime": {
          "end_time": "2021-03-20T11:07:01.328670Z",
          "start_time": "2021-03-20T11:07:01.326305Z"
        },
        "colab": {
          "base_uri": "https://localhost:8080/"
        },
        "id": "v6AnIVtCgxrC",
        "outputId": "39ea7231-05ae-4fc5-e171-83ea2bfa43d0"
      },
      "outputs": [
        {
          "output_type": "stream",
          "name": "stdout",
          "text": [
            "Weight shapes: [torch.Size([1, 784]), torch.Size([1])]\n"
          ]
        }
      ],
      "source": [
        "print(\"Weight shapes:\", [w.shape for w in model.parameters()])"
      ]
    },
    {
      "cell_type": "code",
      "execution_count": 211,
      "metadata": {
        "ExecuteTime": {
          "end_time": "2021-03-20T11:07:01.842288Z",
          "start_time": "2021-03-20T11:07:01.837811Z"
        },
        "colab": {
          "base_uri": "https://localhost:8080/"
        },
        "id": "HiQwGhX1gxrT",
        "outputId": "964566c8-2c17-42f8-eec0-6ffd9258f144"
      },
      "outputs": [
        {
          "output_type": "execute_result",
          "data": {
            "text/plain": [
              "tensor([0.4266, 0.6935, 0.4046], grad_fn=<SelectBackward0>)"
            ]
          },
          "metadata": {},
          "execution_count": 211
        }
      ],
      "source": [
        "# create dummy data with 3 samples and 784 features\n",
        "x = torch.tensor(X_train[:3], dtype=torch.float32)\n",
        "y = torch.tensor(y_train[:3], dtype=torch.float32)\n",
        "\n",
        "# compute outputs given inputs, both are variables\n",
        "y_predicted = model(x)[:, 0]\n",
        "\n",
        "y_predicted  # display what we've got"
      ]
    },
    {
      "cell_type": "markdown",
      "metadata": {
        "id": "BmDos53cgxrT"
      },
      "source": [
        "Let's now define a loss function for our model.\n",
        "\n",
        "The natural choice is to use binary crossentropy (aka logloss, negative llh):\n",
        "$$ L = {1 \\over N} \\underset{X_i,y_i} \\sum - [  y_i \\cdot log P(y_i | X_i) + (1-y_i) \\cdot log (1-P(y_i | X_i)) ]$$\n",
        "\n"
      ]
    },
    {
      "cell_type": "code",
      "execution_count": 212,
      "metadata": {
        "ExecuteTime": {
          "end_time": "2021-03-20T11:07:03.302524Z",
          "start_time": "2021-03-20T11:07:03.230065Z"
        },
        "id": "T1BKDY9jgxrU"
      },
      "outputs": [],
      "source": [
        "crossentropy = - (y * torch.log(y_predicted) + (1 - y) * torch.log(1 - y_predicted))  # YOUR CODE HERE\n",
        "loss = w * torch.mean(crossentropy)  # YOUR CODE HERE\n",
        "# loss = nn.functional.binary_cross_entropy(y_predicted, y)\n",
        "\n",
        "assert tuple(crossentropy.size()) == (3,), \"Crossentropy must be a vector with element per sample\"\n",
        "assert tuple(loss.size()) == (1,), \"Loss must be scalar. Did you forget the mean/sum?\"\n",
        "assert (\n",
        "    crossentropy.data.numpy()[0] > 0\n",
        "), \"Crossentropy must non-negative, zero only for perfect prediction\"\n",
        "assert loss.data.numpy()[0] <= np.log(\n",
        "    5\n",
        "), \"Loss is too large even for untrained model. Please double-check it.\""
      ]
    },
    {
      "cell_type": "markdown",
      "metadata": {
        "id": "Jh-mjep_gxrU"
      },
      "source": [
        "__Note:__ you can also find many such functions in `torch.nn.functional`, just type __`F.<tab>`__."
      ]
    },
    {
      "cell_type": "markdown",
      "metadata": {
        "id": "Bw1lGcgSgxrV"
      },
      "source": [
        "__Torch optimizers__\n",
        "\n",
        "When we trained Linear Regression above, we had to manually .zero_() gradients on both our variables. Imagine that code for a 50-layer network.\n",
        "\n",
        "Again, to keep it from getting dirty, there's `torch.optim` module with pre-implemented algorithms:"
      ]
    },
    {
      "cell_type": "code",
      "execution_count": 213,
      "metadata": {
        "ExecuteTime": {
          "end_time": "2021-03-20T11:07:10.478800Z",
          "start_time": "2021-03-20T11:07:10.471190Z"
        },
        "id": "ahiOQ9VkgxrV"
      },
      "outputs": [],
      "source": [
        "# opt = torch.optim.RMSprop(model.parameters(), lr=0.01)\n",
        "opt = torch.optim.SGD(model.parameters(), lr=0.01)\n",
        "\n",
        "# here's how it's used:\n",
        "loss.backward()  # add new gradients\n",
        "opt.step()  # change weights\n",
        "opt.zero_grad()  # clear gradients"
      ]
    },
    {
      "cell_type": "code",
      "execution_count": 214,
      "metadata": {
        "id": "zGmSWABrgxrW"
      },
      "outputs": [],
      "source": [
        "# dispose of old variables to avoid bugs later\n",
        "del x, y, y_predicted, loss, y_pred"
      ]
    },
    {
      "cell_type": "markdown",
      "metadata": {
        "id": "Jaj3VqnugxrW"
      },
      "source": [
        "## Putting it all together"
      ]
    },
    {
      "cell_type": "code",
      "execution_count": 215,
      "metadata": {
        "ExecuteTime": {
          "end_time": "2021-03-20T11:07:22.208909Z",
          "start_time": "2021-03-20T11:07:22.205867Z"
        },
        "id": "q0ck82uJgxrX"
      },
      "outputs": [],
      "source": [
        "# create network again just in case\n",
        "model = nn.Sequential()\n",
        "model.add_module(\"first\", nn.Linear(784, 1))\n",
        "model.add_module(\"second\", nn.Sigmoid())\n",
        "\n",
        "opt = torch.optim.Adam(model.parameters(), lr=1e-3)"
      ]
    },
    {
      "cell_type": "code",
      "execution_count": 216,
      "metadata": {
        "ExecuteTime": {
          "end_time": "2021-03-20T11:07:22.792329Z",
          "start_time": "2021-03-20T11:07:22.783174Z"
        },
        "colab": {
          "base_uri": "https://localhost:8080/"
        },
        "id": "z9RJ5HjXgxrX",
        "outputId": "f91daeb9-9e79-42c6-e98a-68dca69f70a9"
      },
      "outputs": [
        {
          "output_type": "stream",
          "name": "stdout",
          "text": [
            "step #0 | mean loss = 0.660\n",
            "step #10 | mean loss = 0.384\n",
            "step #20 | mean loss = 0.237\n",
            "step #30 | mean loss = 0.164\n",
            "step #40 | mean loss = 0.142\n",
            "step #50 | mean loss = 0.122\n",
            "step #60 | mean loss = 0.115\n",
            "step #70 | mean loss = 0.111\n",
            "step #80 | mean loss = 0.103\n",
            "step #90 | mean loss = 0.096\n"
          ]
        }
      ],
      "source": [
        "history = []\n",
        "\n",
        "for i in range(100):\n",
        "    # sample 256 random images\n",
        "    ix = np.random.randint(0, len(X_train), 256)\n",
        "    x_batch = torch.tensor(X_train[ix], dtype=torch.float32)\n",
        "    y_batch = torch.tensor(y_train[ix], dtype=torch.float32)\n",
        "\n",
        "    # predict probabilities\n",
        "    y_predicted = model(x_batch)[:, 0]  # YOUR CODE HERE\n",
        "\n",
        "    assert y_predicted.dim() == 1, \"did you forget to select first column with [:, 0]\"\n",
        "\n",
        "    # compute loss, just like before\n",
        "    loss = nn.functional.binary_cross_entropy(y_predicted, y_batch)  # YOUR CODE HERE\n",
        "    # crossentropy = - (y_batch * torch.log(y_predicted) + (1 - y_batch) * torch.log(1 - y_predicted))\n",
        "    # loss = torch.mean(crossentropy)\n",
        "\n",
        "    # compute gradients\n",
        "    # YOUR CODE HERE\n",
        "    loss.backward()\n",
        "\n",
        "    # Adam step\n",
        "    # YOUR CODE HERE\n",
        "    opt.step()\n",
        "\n",
        "    # clear gradients\n",
        "    # YOUR CODE HERE\n",
        "    opt.zero_grad()\n",
        "\n",
        "    history.append(loss.data.numpy())\n",
        "\n",
        "    if i % 10 == 0:\n",
        "        print(\"step #%i | mean loss = %.3f\" % (i, np.mean(history[-10:])))"
      ]
    },
    {
      "cell_type": "markdown",
      "metadata": {
        "id": "TssP7PaWgxrY"
      },
      "source": [
        "__Debugging tips:__\n",
        "* make sure your model predicts probabilities correctly. Just print them and see what's inside.\n",
        "* don't forget _minus_ sign in the loss function! It's a mistake 99% ppl do at some point.\n",
        "* make sure you zero-out gradients after each step. Srsly:)\n",
        "* In general, pytorch's error messages are quite helpful, read 'em before you google 'em.\n",
        "* if you see nan/inf, print what happens at each iteration to find our where exactly it occurs.\n",
        "  * If loss goes down and then turns nan midway through, try smaller learning rate. (Our current loss formula is unstable).\n"
      ]
    },
    {
      "cell_type": "markdown",
      "metadata": {
        "id": "bZ32XVtagxrY"
      },
      "source": [
        "## Evaluation\n",
        "\n",
        "Let's see how our model performs on test data"
      ]
    },
    {
      "cell_type": "code",
      "execution_count": 217,
      "metadata": {
        "colab": {
          "base_uri": "https://localhost:8080/"
        },
        "id": "WXsLL0HYgxrZ",
        "outputId": "bd759fbb-2b89-43fc-f984-f677f9a94d05"
      },
      "outputs": [
        {
          "output_type": "stream",
          "name": "stdout",
          "text": [
            "Test accuracy: 0.96158\n",
            "Great job!\n"
          ]
        }
      ],
      "source": [
        "# use your model to predict classes (0 or 1) for all test samples\n",
        "pred_test = model(torch.from_numpy(X_test))[:, 0]  # YOUR CODE HERE\n",
        "pred_test = np.array(pred_test > 0.5)\n",
        "\n",
        "assert isinstance(pred_test, np.ndarray), \"please return np array, not %s\" % type(pred_test)\n",
        "assert pred_test.shape == y_test.shape, \"please predict one class for each test sample\"\n",
        "assert np.in1d(pred_test, y_test).all(), \"please predict class indexes\"\n",
        "\n",
        "accuracy = np.mean(pred_test == y_test)\n",
        "print(\"Test accuracy: %.5f\" % accuracy)\n",
        "\n",
        "assert accuracy > 0.95, \"try training longer\"\n",
        "\n",
        "print(\"Great job!\")"
      ]
    },
    {
      "cell_type": "markdown",
      "metadata": {
        "id": "BddQ8wDggxrZ"
      },
      "source": [
        "## More about pytorch:\n",
        "\n",
        "* Using torch on GPU and multi-GPU - [link](http://pytorch.org/docs/master/notes/cuda.html)\n",
        "* More tutorials on pytorch - [link](http://pytorch.org/tutorials/beginner/deep_learning_60min_blitz.html)\n",
        "* Pytorch examples - a repo that implements many cool DL models in pytorch - [link](https://github.com/pytorch/examples)\n",
        "* Practical pytorch - a repo that implements some... other cool DL models... yes, in pytorch - [link](https://github.com/spro/practical-pytorch)\n",
        "* And some more - [link](https://www.reddit.com/r/pytorch/comments/6z0yeo/pytorch_and_pytorch_tricks_for_kaggle/)"
      ]
    },
    {
      "cell_type": "markdown",
      "metadata": {
        "id": "64GmUPlrgxra"
      },
      "source": [
        "## Outline\n",
        "* PyTorch is a great choice to start writing simple (and not so simple) models from scratch\n",
        "* Autodiff will help you to get the derivatives even for complex functions (if implemented correctly), so use it wisely\n",
        "* Be careful with data normalization and monitor your loss/gradients values"
      ]
    },
    {
      "cell_type": "code",
      "execution_count": null,
      "metadata": {
        "id": "PeUblDqFgxrb"
      },
      "outputs": [],
      "source": []
    }
  ],
  "metadata": {
    "kernelspec": {
      "display_name": "Py3 Research",
      "language": "python",
      "name": "py3_research_kernel"
    },
    "language_info": {
      "codemirror_mode": {
        "name": "ipython",
        "version": 3
      },
      "file_extension": ".py",
      "mimetype": "text/x-python",
      "name": "python",
      "nbconvert_exporter": "python",
      "pygments_lexer": "ipython3",
      "version": "3.9.7"
    },
    "toc": {
      "base_numbering": 1,
      "nav_menu": {},
      "number_sections": true,
      "sideBar": true,
      "skip_h1_title": false,
      "title_cell": "Table of Contents",
      "title_sidebar": "Contents",
      "toc_cell": false,
      "toc_position": {},
      "toc_section_display": true,
      "toc_window_display": true
    },
    "colab": {
      "provenance": []
    }
  },
  "nbformat": 4,
  "nbformat_minor": 0
}