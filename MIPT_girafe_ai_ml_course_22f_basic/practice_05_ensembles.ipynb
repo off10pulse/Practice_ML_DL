{
  "cells": [
    {
      "cell_type": "markdown",
      "metadata": {
        "id": "3ig5kNR-MxpJ"
      },
      "source": [
        "# Ensembles\n",
        "<h3> План семинара </h3>\n",
        "\n",
        "* **Bagging**\n",
        " - Bootstrap\n",
        " - Как построить доверительный интревал с помощью bootstrap\n",
        " - Описание композиции Bagging\n",
        " - Bagging в применении в DT\n",
        "\n",
        "* **Bias-vairance trade-off**\n",
        "  - Разложение ошибки на Bias и Variance\n",
        "  - bias\\variance для bagging и boosting\n",
        "    \n",
        "* **Random Forest**\n",
        " - Алгоритм построения случайного леса\n",
        " - Применение RandomForest на реальной задаче (предсказание оттока клиентов)\n",
        " - Out-of-bag error\n",
        "\n",
        "* **Основные выводы**"
      ]
    },
    {
      "cell_type": "code",
      "execution_count": null,
      "metadata": {
        "id": "7pXqW5ZmMxpT"
      },
      "outputs": [],
      "source": [
        "from IPython.display import Image\n",
        "\n",
        "import warnings\n",
        "warnings.simplefilter(\"ignore\")\n",
        "\n",
        "import numpy as np\n",
        "import pandas as pd\n",
        "from matplotlib import pyplot as plt\n",
        "plt.style.use('ggplot')\n",
        "plt.rcParams['figure.figsize'] = 10, 6\n",
        "import seaborn as sns\n",
        "%matplotlib inline\n",
        "\n",
        "from sklearn.datasets import load_digits as load\n",
        "from sklearn.model_selection import cross_val_score\n",
        "from sklearn.ensemble import BaggingClassifier\n",
        "from sklearn.neighbors import KNeighborsClassifier\n",
        "from sklearn.ensemble import RandomForestRegressor, RandomForestClassifier, BaggingRegressor\n",
        "from sklearn.tree import DecisionTreeRegressor, DecisionTreeClassifier\n",
        "\n",
        "import pandas as pd\n",
        "from sklearn.model_selection import cross_val_score, StratifiedKFold, GridSearchCV\n",
        "from sklearn.metrics import accuracy_score"
      ]
    },
    {
      "cell_type": "markdown",
      "metadata": {
        "id": "mBnS_PgpMxpY"
      },
      "source": [
        "----------\n",
        "<h1 align=\"center\">Bagging</h1>\n",
        "\n",
        "** Вопросы для самоконтроля**\n",
        "* Зачем нужно строить композиции над алгоритмами?\n",
        "* Что такое bootstrap-выборка?\n",
        "* Что такие RSM, Pasting?\n",
        "* Какие бывают варианты построения композиций N базовых алгоритмов классификации?\n",
        "* Что такое Bagging?\n",
        "* Почему работает Bagging?"
      ]
    },
    {
      "cell_type": "markdown",
      "metadata": {
        "id": "C25JEoiUMxpZ"
      },
      "source": [
        "### Bootstrap"
      ]
    },
    {
      "cell_type": "markdown",
      "metadata": {
        "id": "BhH_Esq_Mxpa"
      },
      "source": [
        "<img src='https://github.com/girafe-ai/ml-course/blob/master/week0_05_trees_and_ensembles/img/bootstrap.png?raw=true'>"
      ]
    },
    {
      "cell_type": "markdown",
      "metadata": {
        "id": "xJ1kJ6kAMxpb"
      },
      "source": [
        "** Важно! **\n",
        "    - Бутстрепная выборка имеет такой же размер, что и исходная\n",
        "    - Генерация с повторениями"
      ]
    },
    {
      "cell_type": "markdown",
      "metadata": {
        "id": "Wg5oq_haMxpc"
      },
      "source": [
        "### Bagging"
      ]
    },
    {
      "cell_type": "markdown",
      "metadata": {
        "id": "lpaPa7tCMxpd"
      },
      "source": [
        "## $$a_{Bagging}(x) = \\frac{1}{M}\\sum_{i=1}^M a_i(x)$$\n",
        "\n",
        "$a_i(x)$ - обучен на бутстреп-выборке $X^i$"
      ]
    },
    {
      "cell_type": "markdown",
      "metadata": {
        "id": "iTXN3piWMxpe"
      },
      "source": [
        "<img src='https://github.com/girafe-ai/ml-course/blob/master/week0_05_trees_and_ensembles/img/bagging.png?raw=true'>"
      ]
    },
    {
      "cell_type": "code",
      "execution_count": null,
      "metadata": {
        "id": "OLsfv5gJMxpf"
      },
      "outputs": [],
      "source": [
        "iris = load()\n",
        "X = iris.data\n",
        "y = iris.target\n",
        "\n",
        "f = X.shape[1]\n",
        "\n",
        "rnd_d3 = DecisionTreeClassifier(max_features=int(f ** 0.5)) # Решающее дерево с рандомизацией в сплитах\n",
        "d3 = DecisionTreeClassifier() # Обычное решающее дерево"
      ]
    },
    {
      "cell_type": "code",
      "execution_count": null,
      "metadata": {
        "id": "QFDccgFuMxpg"
      },
      "outputs": [],
      "source": [
        "from sklearn.ensemble import RandomForestClassifier"
      ]
    },
    {
      "cell_type": "code",
      "execution_count": null,
      "metadata": {
        "colab": {
          "base_uri": "https://localhost:8080/",
          "height": 239
        },
        "id": "-NutYMZKMxpg",
        "outputId": "5be95417-1a89-45b0-e0d6-29e55b88cb42"
      },
      "outputs": [
        {
          "output_type": "execute_result",
          "data": {
            "text/plain": [
              "sklearn.ensemble._forest.RandomForestClassifier"
            ],
            "text/html": [
              "<div style=\"max-width:800px; border: 1px solid var(--colab-border-color);\"><style>\n",
              "      pre.function-repr-contents {\n",
              "        overflow-x: auto;\n",
              "        padding: 8px 12px;\n",
              "        max-height: 500px;\n",
              "      }\n",
              "\n",
              "      pre.function-repr-contents.function-repr-contents-collapsed {\n",
              "        cursor: pointer;\n",
              "        max-height: 100px;\n",
              "      }\n",
              "    </style>\n",
              "    <pre style=\"white-space: initial; background:\n",
              "         var(--colab-secondary-surface-color); padding: 8px 12px;\n",
              "         border-bottom: 1px solid var(--colab-border-color);\"><b>sklearn.ensemble._forest.RandomForestClassifier</b><br/>def __init__(n_estimators=100, *, criterion=&#x27;gini&#x27;, max_depth=None, min_samples_split=2, min_samples_leaf=1, min_weight_fraction_leaf=0.0, max_features=&#x27;sqrt&#x27;, max_leaf_nodes=None, min_impurity_decrease=0.0, bootstrap=True, oob_score=False, n_jobs=None, random_state=None, verbose=0, warm_start=False, class_weight=None, ccp_alpha=0.0, max_samples=None)</pre><pre class=\"function-repr-contents function-repr-contents-collapsed\" style=\"\"><a class=\"filepath\" style=\"display:none\" href=\"#\">/usr/local/lib/python3.10/dist-packages/sklearn/ensemble/_forest.py</a>A random forest classifier.\n",
              "\n",
              "A random forest is a meta estimator that fits a number of decision tree\n",
              "classifiers on various sub-samples of the dataset and uses averaging to\n",
              "improve the predictive accuracy and control over-fitting.\n",
              "The sub-sample size is controlled with the `max_samples` parameter if\n",
              "`bootstrap=True` (default), otherwise the whole dataset is used to build\n",
              "each tree.\n",
              "\n",
              "For a comparison between tree-based ensemble models see the example\n",
              ":ref:`sphx_glr_auto_examples_ensemble_plot_forest_hist_grad_boosting_comparison.py`.\n",
              "\n",
              "Read more in the :ref:`User Guide &lt;forest&gt;`.\n",
              "\n",
              "Parameters\n",
              "----------\n",
              "n_estimators : int, default=100\n",
              "    The number of trees in the forest.\n",
              "\n",
              "    .. versionchanged:: 0.22\n",
              "       The default value of ``n_estimators`` changed from 10 to 100\n",
              "       in 0.22.\n",
              "\n",
              "criterion : {&quot;gini&quot;, &quot;entropy&quot;, &quot;log_loss&quot;}, default=&quot;gini&quot;\n",
              "    The function to measure the quality of a split. Supported criteria are\n",
              "    &quot;gini&quot; for the Gini impurity and &quot;log_loss&quot; and &quot;entropy&quot; both for the\n",
              "    Shannon information gain, see :ref:`tree_mathematical_formulation`.\n",
              "    Note: This parameter is tree-specific.\n",
              "\n",
              "max_depth : int, default=None\n",
              "    The maximum depth of the tree. If None, then nodes are expanded until\n",
              "    all leaves are pure or until all leaves contain less than\n",
              "    min_samples_split samples.\n",
              "\n",
              "min_samples_split : int or float, default=2\n",
              "    The minimum number of samples required to split an internal node:\n",
              "\n",
              "    - If int, then consider `min_samples_split` as the minimum number.\n",
              "    - If float, then `min_samples_split` is a fraction and\n",
              "      `ceil(min_samples_split * n_samples)` are the minimum\n",
              "      number of samples for each split.\n",
              "\n",
              "    .. versionchanged:: 0.18\n",
              "       Added float values for fractions.\n",
              "\n",
              "min_samples_leaf : int or float, default=1\n",
              "    The minimum number of samples required to be at a leaf node.\n",
              "    A split point at any depth will only be considered if it leaves at\n",
              "    least ``min_samples_leaf`` training samples in each of the left and\n",
              "    right branches.  This may have the effect of smoothing the model,\n",
              "    especially in regression.\n",
              "\n",
              "    - If int, then consider `min_samples_leaf` as the minimum number.\n",
              "    - If float, then `min_samples_leaf` is a fraction and\n",
              "      `ceil(min_samples_leaf * n_samples)` are the minimum\n",
              "      number of samples for each node.\n",
              "\n",
              "    .. versionchanged:: 0.18\n",
              "       Added float values for fractions.\n",
              "\n",
              "min_weight_fraction_leaf : float, default=0.0\n",
              "    The minimum weighted fraction of the sum total of weights (of all\n",
              "    the input samples) required to be at a leaf node. Samples have\n",
              "    equal weight when sample_weight is not provided.\n",
              "\n",
              "max_features : {&quot;sqrt&quot;, &quot;log2&quot;, None}, int or float, default=&quot;sqrt&quot;\n",
              "    The number of features to consider when looking for the best split:\n",
              "\n",
              "    - If int, then consider `max_features` features at each split.\n",
              "    - If float, then `max_features` is a fraction and\n",
              "      `max(1, int(max_features * n_features_in_))` features are considered at each\n",
              "      split.\n",
              "    - If &quot;sqrt&quot;, then `max_features=sqrt(n_features)`.\n",
              "    - If &quot;log2&quot;, then `max_features=log2(n_features)`.\n",
              "    - If None, then `max_features=n_features`.\n",
              "\n",
              "    .. versionchanged:: 1.1\n",
              "        The default of `max_features` changed from `&quot;auto&quot;` to `&quot;sqrt&quot;`.\n",
              "\n",
              "    Note: the search for a split does not stop until at least one\n",
              "    valid partition of the node samples is found, even if it requires to\n",
              "    effectively inspect more than ``max_features`` features.\n",
              "\n",
              "max_leaf_nodes : int, default=None\n",
              "    Grow trees with ``max_leaf_nodes`` in best-first fashion.\n",
              "    Best nodes are defined as relative reduction in impurity.\n",
              "    If None then unlimited number of leaf nodes.\n",
              "\n",
              "min_impurity_decrease : float, default=0.0\n",
              "    A node will be split if this split induces a decrease of the impurity\n",
              "    greater than or equal to this value.\n",
              "\n",
              "    The weighted impurity decrease equation is the following::\n",
              "\n",
              "        N_t / N * (impurity - N_t_R / N_t * right_impurity\n",
              "                            - N_t_L / N_t * left_impurity)\n",
              "\n",
              "    where ``N`` is the total number of samples, ``N_t`` is the number of\n",
              "    samples at the current node, ``N_t_L`` is the number of samples in the\n",
              "    left child, and ``N_t_R`` is the number of samples in the right child.\n",
              "\n",
              "    ``N``, ``N_t``, ``N_t_R`` and ``N_t_L`` all refer to the weighted sum,\n",
              "    if ``sample_weight`` is passed.\n",
              "\n",
              "    .. versionadded:: 0.19\n",
              "\n",
              "bootstrap : bool, default=True\n",
              "    Whether bootstrap samples are used when building trees. If False, the\n",
              "    whole dataset is used to build each tree.\n",
              "\n",
              "oob_score : bool or callable, default=False\n",
              "    Whether to use out-of-bag samples to estimate the generalization score.\n",
              "    By default, :func:`~sklearn.metrics.accuracy_score` is used.\n",
              "    Provide a callable with signature `metric(y_true, y_pred)` to use a\n",
              "    custom metric. Only available if `bootstrap=True`.\n",
              "\n",
              "n_jobs : int, default=None\n",
              "    The number of jobs to run in parallel. :meth:`fit`, :meth:`predict`,\n",
              "    :meth:`decision_path` and :meth:`apply` are all parallelized over the\n",
              "    trees. ``None`` means 1 unless in a :obj:`joblib.parallel_backend`\n",
              "    context. ``-1`` means using all processors. See :term:`Glossary\n",
              "    &lt;n_jobs&gt;` for more details.\n",
              "\n",
              "random_state : int, RandomState instance or None, default=None\n",
              "    Controls both the randomness of the bootstrapping of the samples used\n",
              "    when building trees (if ``bootstrap=True``) and the sampling of the\n",
              "    features to consider when looking for the best split at each node\n",
              "    (if ``max_features &lt; n_features``).\n",
              "    See :term:`Glossary &lt;random_state&gt;` for details.\n",
              "\n",
              "verbose : int, default=0\n",
              "    Controls the verbosity when fitting and predicting.\n",
              "\n",
              "warm_start : bool, default=False\n",
              "    When set to ``True``, reuse the solution of the previous call to fit\n",
              "    and add more estimators to the ensemble, otherwise, just fit a whole\n",
              "    new forest. See :term:`Glossary &lt;warm_start&gt;` and\n",
              "    :ref:`gradient_boosting_warm_start` for details.\n",
              "\n",
              "class_weight : {&quot;balanced&quot;, &quot;balanced_subsample&quot;}, dict or list of dicts,             default=None\n",
              "    Weights associated with classes in the form ``{class_label: weight}``.\n",
              "    If not given, all classes are supposed to have weight one. For\n",
              "    multi-output problems, a list of dicts can be provided in the same\n",
              "    order as the columns of y.\n",
              "\n",
              "    Note that for multioutput (including multilabel) weights should be\n",
              "    defined for each class of every column in its own dict. For example,\n",
              "    for four-class multilabel classification weights should be\n",
              "    [{0: 1, 1: 1}, {0: 1, 1: 5}, {0: 1, 1: 1}, {0: 1, 1: 1}] instead of\n",
              "    [{1:1}, {2:5}, {3:1}, {4:1}].\n",
              "\n",
              "    The &quot;balanced&quot; mode uses the values of y to automatically adjust\n",
              "    weights inversely proportional to class frequencies in the input data\n",
              "    as ``n_samples / (n_classes * np.bincount(y))``\n",
              "\n",
              "    The &quot;balanced_subsample&quot; mode is the same as &quot;balanced&quot; except that\n",
              "    weights are computed based on the bootstrap sample for every tree\n",
              "    grown.\n",
              "\n",
              "    For multi-output, the weights of each column of y will be multiplied.\n",
              "\n",
              "    Note that these weights will be multiplied with sample_weight (passed\n",
              "    through the fit method) if sample_weight is specified.\n",
              "\n",
              "ccp_alpha : non-negative float, default=0.0\n",
              "    Complexity parameter used for Minimal Cost-Complexity Pruning. The\n",
              "    subtree with the largest cost complexity that is smaller than\n",
              "    ``ccp_alpha`` will be chosen. By default, no pruning is performed. See\n",
              "    :ref:`minimal_cost_complexity_pruning` for details.\n",
              "\n",
              "    .. versionadded:: 0.22\n",
              "\n",
              "max_samples : int or float, default=None\n",
              "    If bootstrap is True, the number of samples to draw from X\n",
              "    to train each base estimator.\n",
              "\n",
              "    - If None (default), then draw `X.shape[0]` samples.\n",
              "    - If int, then draw `max_samples` samples.\n",
              "    - If float, then draw `max(round(n_samples * max_samples), 1)` samples. Thus,\n",
              "      `max_samples` should be in the interval `(0.0, 1.0]`.\n",
              "\n",
              "    .. versionadded:: 0.22\n",
              "\n",
              "Attributes\n",
              "----------\n",
              "estimator_ : :class:`~sklearn.tree.DecisionTreeClassifier`\n",
              "    The child estimator template used to create the collection of fitted\n",
              "    sub-estimators.\n",
              "\n",
              "    .. versionadded:: 1.2\n",
              "       `base_estimator_` was renamed to `estimator_`.\n",
              "\n",
              "base_estimator_ : DecisionTreeClassifier\n",
              "    The child estimator template used to create the collection of fitted\n",
              "    sub-estimators.\n",
              "\n",
              "    .. deprecated:: 1.2\n",
              "        `base_estimator_` is deprecated and will be removed in 1.4.\n",
              "        Use `estimator_` instead.\n",
              "\n",
              "estimators_ : list of DecisionTreeClassifier\n",
              "    The collection of fitted sub-estimators.\n",
              "\n",
              "classes_ : ndarray of shape (n_classes,) or a list of such arrays\n",
              "    The classes labels (single output problem), or a list of arrays of\n",
              "    class labels (multi-output problem).\n",
              "\n",
              "n_classes_ : int or list\n",
              "    The number of classes (single output problem), or a list containing the\n",
              "    number of classes for each output (multi-output problem).\n",
              "\n",
              "n_features_in_ : int\n",
              "    Number of features seen during :term:`fit`.\n",
              "\n",
              "    .. versionadded:: 0.24\n",
              "\n",
              "feature_names_in_ : ndarray of shape (`n_features_in_`,)\n",
              "    Names of features seen during :term:`fit`. Defined only when `X`\n",
              "    has feature names that are all strings.\n",
              "\n",
              "    .. versionadded:: 1.0\n",
              "\n",
              "n_outputs_ : int\n",
              "    The number of outputs when ``fit`` is performed.\n",
              "\n",
              "feature_importances_ : ndarray of shape (n_features,)\n",
              "    The impurity-based feature importances.\n",
              "    The higher, the more important the feature.\n",
              "    The importance of a feature is computed as the (normalized)\n",
              "    total reduction of the criterion brought by that feature.  It is also\n",
              "    known as the Gini importance.\n",
              "\n",
              "    Warning: impurity-based feature importances can be misleading for\n",
              "    high cardinality features (many unique values). See\n",
              "    :func:`sklearn.inspection.permutation_importance` as an alternative.\n",
              "\n",
              "oob_score_ : float\n",
              "    Score of the training dataset obtained using an out-of-bag estimate.\n",
              "    This attribute exists only when ``oob_score`` is True.\n",
              "\n",
              "oob_decision_function_ : ndarray of shape (n_samples, n_classes) or             (n_samples, n_classes, n_outputs)\n",
              "    Decision function computed with out-of-bag estimate on the training\n",
              "    set. If n_estimators is small it might be possible that a data point\n",
              "    was never left out during the bootstrap. In this case,\n",
              "    `oob_decision_function_` might contain NaN. This attribute exists\n",
              "    only when ``oob_score`` is True.\n",
              "\n",
              "See Also\n",
              "--------\n",
              "sklearn.tree.DecisionTreeClassifier : A decision tree classifier.\n",
              "sklearn.ensemble.ExtraTreesClassifier : Ensemble of extremely randomized\n",
              "    tree classifiers.\n",
              "sklearn.ensemble.HistGradientBoostingClassifier : A Histogram-based Gradient\n",
              "    Boosting Classification Tree, very fast for big datasets (n_samples &gt;=\n",
              "    10_000).\n",
              "\n",
              "Notes\n",
              "-----\n",
              "The default values for the parameters controlling the size of the trees\n",
              "(e.g. ``max_depth``, ``min_samples_leaf``, etc.) lead to fully grown and\n",
              "unpruned trees which can potentially be very large on some data sets. To\n",
              "reduce memory consumption, the complexity and size of the trees should be\n",
              "controlled by setting those parameter values.\n",
              "\n",
              "The features are always randomly permuted at each split. Therefore,\n",
              "the best found split may vary, even with the same training data,\n",
              "``max_features=n_features`` and ``bootstrap=False``, if the improvement\n",
              "of the criterion is identical for several splits enumerated during the\n",
              "search of the best split. To obtain a deterministic behaviour during\n",
              "fitting, ``random_state`` has to be fixed.\n",
              "\n",
              "References\n",
              "----------\n",
              ".. [1] L. Breiman, &quot;Random Forests&quot;, Machine Learning, 45(1), 5-32, 2001.\n",
              "\n",
              "Examples\n",
              "--------\n",
              "&gt;&gt;&gt; from sklearn.ensemble import RandomForestClassifier\n",
              "&gt;&gt;&gt; from sklearn.datasets import make_classification\n",
              "&gt;&gt;&gt; X, y = make_classification(n_samples=1000, n_features=4,\n",
              "...                            n_informative=2, n_redundant=0,\n",
              "...                            random_state=0, shuffle=False)\n",
              "&gt;&gt;&gt; clf = RandomForestClassifier(max_depth=2, random_state=0)\n",
              "&gt;&gt;&gt; clf.fit(X, y)\n",
              "RandomForestClassifier(...)\n",
              "&gt;&gt;&gt; print(clf.predict([[0, 0, 0, 0]]))\n",
              "[1]</pre>\n",
              "      <script>\n",
              "      if (google.colab.kernel.accessAllowed && google.colab.files && google.colab.files.view) {\n",
              "        for (const element of document.querySelectorAll('.filepath')) {\n",
              "          element.style.display = 'block'\n",
              "          element.onclick = (event) => {\n",
              "            event.preventDefault();\n",
              "            event.stopPropagation();\n",
              "            google.colab.files.view(element.textContent, 1090);\n",
              "          };\n",
              "        }\n",
              "      }\n",
              "      for (const element of document.querySelectorAll('.function-repr-contents')) {\n",
              "        element.onclick = (event) => {\n",
              "          event.preventDefault();\n",
              "          event.stopPropagation();\n",
              "          element.classList.toggle('function-repr-contents-collapsed');\n",
              "        };\n",
              "      }\n",
              "      </script>\n",
              "      </div>"
            ]
          },
          "metadata": {},
          "execution_count": 4
        }
      ],
      "source": [
        "RandomForestClassifier"
      ]
    },
    {
      "cell_type": "markdown",
      "metadata": {
        "id": "RzmmZxNSMxph"
      },
      "source": [
        "Качество классификации одним решающим деревом:"
      ]
    },
    {
      "cell_type": "code",
      "execution_count": null,
      "metadata": {
        "colab": {
          "base_uri": "https://localhost:8080/"
        },
        "id": "_x92QTzxMxph",
        "outputId": "4533cb05-b224-469c-a661-27c094ccbb44"
      },
      "outputs": [
        {
          "output_type": "stream",
          "name": "stdout",
          "text": [
            "Decision tree: 0.7785515320334262\n"
          ]
        }
      ],
      "source": [
        "print(\"Decision tree:\", cross_val_score(d3, X, y).mean())"
      ]
    },
    {
      "cell_type": "markdown",
      "metadata": {
        "id": "IQInVdIwMxpj"
      },
      "source": [
        "Качество бэггинга над решающими деревьями:"
      ]
    },
    {
      "cell_type": "code",
      "execution_count": null,
      "metadata": {
        "colab": {
          "base_uri": "https://localhost:8080/"
        },
        "id": "UiD5wBXfMxpk",
        "outputId": "c0c2bef7-6ed4-49bf-e425-dd07944967e4"
      },
      "outputs": [
        {
          "output_type": "stream",
          "name": "stdout",
          "text": [
            "Bagging: 0.8781507273290003\n"
          ]
        }
      ],
      "source": [
        "print(\"Bagging:\", cross_val_score(BaggingClassifier(d3), X, y).mean())"
      ]
    },
    {
      "cell_type": "markdown",
      "metadata": {
        "id": "ZnyKbnEyMxpl"
      },
      "source": [
        "- Какой недостаток есть у деревьев?\n",
        "- Как bagging борется с этим недостатком?"
      ]
    },
    {
      "cell_type": "markdown",
      "metadata": {
        "id": "mthpsRvrMxpl"
      },
      "source": [
        "- Как можно улучшить качество? При построении каждого узла отбирать случайные max_features признаков и искать информативное разбиение только по одному из них."
      ]
    },
    {
      "cell_type": "code",
      "execution_count": null,
      "metadata": {
        "colab": {
          "base_uri": "https://localhost:8080/"
        },
        "id": "ef53-M4BMxpl",
        "outputId": "69df3e43-99bb-4c73-b8c7-a3d0e1c6fa85"
      },
      "outputs": [
        {
          "output_type": "stream",
          "name": "stdout",
          "text": [
            "Randomized Bagging: 0.9076493345713402\n"
          ]
        }
      ],
      "source": [
        "print(\"Randomized Bagging:\", cross_val_score(BaggingClassifier(rnd_d3), X, y).mean())"
      ]
    },
    {
      "cell_type": "markdown",
      "metadata": {
        "id": "0GT0Pkn4Mxpm"
      },
      "source": [
        "<h1 align=\"center\">Bias-Variance Tradeoff</h1>"
      ]
    },
    {
      "cell_type": "markdown",
      "metadata": {
        "id": "_ZJqynRdMxpm"
      },
      "source": [
        "###  Разложение ошибки на Bias и Variance\n",
        "\n",
        "#### Какая природа бывает у ошибок\n",
        "\n",
        "<img src='https://github.com/girafe-ai/ml-course/blob/master/week0_05_trees_and_ensembles/img/bv_darts.png?raw=true' width=400>\n",
        "\n",
        "#### Как это отражается на модели\n",
        "\n",
        "<img src='https://github.com/girafe-ai/ml-course/blob/master/week0_05_trees_and_ensembles/img/bv_model_complex.png?raw=true'>\n"
      ]
    },
    {
      "cell_type": "markdown",
      "metadata": {
        "id": "pusEqiqBMxpn"
      },
      "source": [
        "### Bias-Variance tradeoff (напоминание)"
      ]
    },
    {
      "cell_type": "markdown",
      "metadata": {
        "id": "YRtrgrinMxpn"
      },
      "source": [
        "$$y = f(x) + \\varepsilon$$"
      ]
    },
    {
      "cell_type": "markdown",
      "metadata": {
        "id": "PMfqOZluMxpo"
      },
      "source": [
        "$$\\varepsilon \\sim N(0, \\sigma^2)$$"
      ]
    },
    {
      "cell_type": "markdown",
      "metadata": {
        "id": "yVQuf1AMMxpo"
      },
      "source": [
        "$$y \\sim N(f(x), \\sigma^2)$$"
      ]
    },
    {
      "cell_type": "markdown",
      "metadata": {
        "id": "aU_dQ3SRMxpo"
      },
      "source": [
        "<img src='https://github.com/girafe-ai/ml-course/blob/master/week0_05_trees_and_ensembles/img/bv_1.png?raw=true'>\n",
        "<img src='https://github.com/girafe-ai/ml-course/blob/master/week0_05_trees_and_ensembles/img/bv_2.png?raw=true'>\n",
        "<img src='https://github.com/girafe-ai/ml-course/blob/master/week0_05_trees_and_ensembles/img/bv_3.png?raw=true'>\n",
        "<img src='https://github.com/girafe-ai/ml-course/blob/master/week0_05_trees_and_ensembles/img/bv_4.png?raw=true'>\n",
        "<img src='https://github.com/girafe-ai/ml-course/blob/master/week0_05_trees_and_ensembles/img/bv_5.png?raw=true'>"
      ]
    },
    {
      "cell_type": "markdown",
      "metadata": {
        "id": "ZQH_SBnZMxpp"
      },
      "source": [
        "### Bias\\variance для Bagging"
      ]
    },
    {
      "cell_type": "markdown",
      "metadata": {
        "id": "MOIE5djYMxpp"
      },
      "source": [
        "Рассмотрим задачу регрессии с базовыми алгоритмами $b_1(x), .. ,b_n(x)$. Предположим, что существует истинная функция ответа для всех объектов $y(x)$, а также задано распределение на объектах $p(x)$. В этом случае мы можем записать ошибку каждой функции регрессии:\n",
        "\n",
        "$$\\varepsilon_i(x) = b_i(x) - y(x), i=1,..,n$$"
      ]
    },
    {
      "cell_type": "markdown",
      "metadata": {
        "id": "iWZe5gYlMxpp"
      },
      "source": [
        "Средняя ошибка построенных функций регрессии имеет вид:\n",
        "    $$E_1 = \\dfrac{1}{n} E_x \\varepsilon_i^2(x)$$"
      ]
    },
    {
      "cell_type": "markdown",
      "metadata": {
        "id": "2llSV7A_Mxpq"
      },
      "source": [
        "Предположим, что ошибки несмещены и некоррелированы:\n",
        "    $$E_x \\varepsilon_i(x) = 0$$\n",
        "    $$E_x \\varepsilon_i(x) \\varepsilon_j(x) = 0, i \\neq j$$"
      ]
    },
    {
      "cell_type": "markdown",
      "metadata": {
        "id": "6JltSBCEMxpq"
      },
      "source": [
        "Построим теперь новую функцию регрессии, которая будет усреднять ответы построенных нами функций:\n",
        "    $$a(x) = \\dfrac{1}{n} \\sum_{i=1}^n b_i(x)$$"
      ]
    },
    {
      "cell_type": "markdown",
      "metadata": {
        "id": "wywRmu1GMxpr"
      },
      "source": [
        "Найдем ее среднеквадратичную ошибку:\n",
        "<img src=\"https://github.com/girafe-ai/ml-course/blob/master/week0_05_trees_and_ensembles/img/bv_6.png?raw=true\">"
      ]
    },
    {
      "cell_type": "markdown",
      "metadata": {
        "id": "aBAlT7KlMxpr"
      },
      "source": [
        "### Random Forest"
      ]
    },
    {
      "cell_type": "markdown",
      "metadata": {
        "id": "pZusFNiVMxps"
      },
      "source": [
        "##### Алгоритм построения случайного леса из $N$ деревьев"
      ]
    },
    {
      "cell_type": "markdown",
      "metadata": {
        "id": "XSovanVDMxps"
      },
      "source": [
        "Для каждого $n = 1..N$:\n",
        "\n",
        "Сгенерировать выборку $X_n$ с помощью бутстрэпа;\n",
        "Построить решающее дерево $b_n$ по выборке $X_n$:\n",
        "* по заданному критерию мы выбираем лучший признак, делаем разбиение в дереве по нему и так до исчерпания выборки\n",
        "* дерево строится, пока в каждом листе не более $n_{min}$ объектов или пока не достигнем определенной высоты дерева\n",
        "* при каждом разбиении сначала выбирается $m$ случайных признаков из $n$ исходных, и оптимальное разделение выборки ищется только среди них."
      ]
    },
    {
      "cell_type": "markdown",
      "metadata": {
        "id": "ynlbhs7-Mxps"
      },
      "source": [
        "Итоговый классификатор:\n",
        "    $$ a(x) = \\dfrac{1}{N} \\sum_{i=1}^{N} b_i(x)$$"
      ]
    },
    {
      "cell_type": "markdown",
      "metadata": {
        "id": "ENrD1IbjMxpt"
      },
      "source": [
        "$m$ советуют выбирать равным:\n",
        "- $\\sqrt{n}$ для классификации\n",
        "- $\\dfrac{n}{3}$ для регрессии"
      ]
    },
    {
      "cell_type": "markdown",
      "metadata": {
        "id": "0iFts7NeMxpt"
      },
      "source": [
        "### Random Forest из sklearn"
      ]
    },
    {
      "cell_type": "markdown",
      "metadata": {
        "id": "XQdv3BJ7Mxp7"
      },
      "source": [
        "Полный список параметров случайного леса для задачи регрессии:"
      ]
    },
    {
      "cell_type": "code",
      "execution_count": null,
      "metadata": {
        "colab": {
          "base_uri": "https://localhost:8080/",
          "height": 109
        },
        "id": "DPjS5WrFMxp8",
        "outputId": "750556f5-c610-4795-910a-a491c4da8675"
      },
      "outputs": [
        {
          "output_type": "execute_result",
          "data": {
            "text/plain": [
              "'\\nclass sklearn.ensemble.RandomForestRegressor(\\n    n_estimators — число деревьев в \"лесу\" (по дефолту – 10)\\n    criterion — функция, которая измеряет качество разбиения ветки дерева (по дефолту — \"mse\" , так же можно выбрать \"mae\")\\n    max_features — число признаков, по которым ищется разбиение. Вы можете указать конкретное число или процент признаков, либо выбрать из доступных значений: \"auto\" (все признаки), \"sqrt\", \"log2\". По дефолту стоит \"auto\".\\n    max_depth — максимальная глубина дерева  (по дефолту глубина не ограничена)\\n    min_samples_split — минимальное количество объектов, необходимое для разделения внутреннего узла. Можно задать числом или процентом от общего числа объектов (по дефолту — 2)\\n    min_samples_leaf — минимальное число объектов в листе. Можно задать числом или процентом от общего числа объектов (по дефолту — 1)\\n    min_weight_fraction_leaf — минимальная взвешенная доля от общей суммы весов (всех входных объектов) должна быть в листе (по дефолту имеют одинаковый вес)\\n    max_leaf_nodes — максимальное количество листьев (по дефолту нет ограничения)\\n    min_impurity_split — порог для остановки наращивания дерева (по дефолту 1е-7)\\n    bootstrap — применять ли бустрэп для построения дерева (по дефолту True)\\n    oob_score — использовать ли out-of-bag объекты для оценки R^2 (по дефолту False)\\n    n_jobs — количество ядер для построения модели и предсказаний (по дефолту 1, если поставить -1, то будут использоваться все ядра)\\n    random_state — начальное значение для генерации случайных чисел (по дефолту его нет, если хотите воспроизводимые результаты, то нужно указать любое число типа int\\n    verbose — вывод логов по построению деревьев (по дефолту 0)\\n    warm_start — использует уже натренированую модель и добавляет деревьев в ансамбль (по дефолту False)\\n)\\n'"
            ],
            "application/vnd.google.colaboratory.intrinsic+json": {
              "type": "string"
            }
          },
          "metadata": {},
          "execution_count": 8
        }
      ],
      "source": [
        "\"\"\"\n",
        "class sklearn.ensemble.RandomForestRegressor(\n",
        "    n_estimators — число деревьев в \"лесу\" (по дефолту – 10)\n",
        "    criterion — функция, которая измеряет качество разбиения ветки дерева (по дефолту — \"mse\" , так же можно выбрать \"mae\")\n",
        "    max_features — число признаков, по которым ищется разбиение. Вы можете указать конкретное число или процент признаков, либо выбрать из доступных значений: \"auto\" (все признаки), \"sqrt\", \"log2\". По дефолту стоит \"auto\".\n",
        "    max_depth — максимальная глубина дерева  (по дефолту глубина не ограничена)\n",
        "    min_samples_split — минимальное количество объектов, необходимое для разделения внутреннего узла. Можно задать числом или процентом от общего числа объектов (по дефолту — 2)\n",
        "    min_samples_leaf — минимальное число объектов в листе. Можно задать числом или процентом от общего числа объектов (по дефолту — 1)\n",
        "    min_weight_fraction_leaf — минимальная взвешенная доля от общей суммы весов (всех входных объектов) должна быть в листе (по дефолту имеют одинаковый вес)\n",
        "    max_leaf_nodes — максимальное количество листьев (по дефолту нет ограничения)\n",
        "    min_impurity_split — порог для остановки наращивания дерева (по дефолту 1е-7)\n",
        "    bootstrap — применять ли бустрэп для построения дерева (по дефолту True)\n",
        "    oob_score — использовать ли out-of-bag объекты для оценки R^2 (по дефолту False)\n",
        "    n_jobs — количество ядер для построения модели и предсказаний (по дефолту 1, если поставить -1, то будут использоваться все ядра)\n",
        "    random_state — начальное значение для генерации случайных чисел (по дефолту его нет, если хотите воспроизводимые результаты, то нужно указать любое число типа int\n",
        "    verbose — вывод логов по построению деревьев (по дефолту 0)\n",
        "    warm_start — использует уже натренированую модель и добавляет деревьев в ансамбль (по дефолту False)\n",
        ")\n",
        "\"\"\""
      ]
    },
    {
      "cell_type": "markdown",
      "metadata": {
        "id": "DU6VxNnwMxp9"
      },
      "source": [
        "Для задачи классификации все почти то же самое, мы приведем только те параметры, которыми RandomForestClassifier отличается от RandomForestRegressor:"
      ]
    },
    {
      "cell_type": "code",
      "execution_count": null,
      "metadata": {
        "colab": {
          "base_uri": "https://localhost:8080/",
          "height": 72
        },
        "id": "icSuawVYMxp9",
        "outputId": "2d0c3b5b-a6e3-4dbc-dabb-faaebf1332e9"
      },
      "outputs": [
        {
          "output_type": "execute_result",
          "data": {
            "text/plain": [
              "'\\nclass sklearn.ensemble.RandomForestClassifier(\\n    criterion — поскольку у нас теперь задача классификации, то по дефолту выбран критерий \"gini\" (можно выбрать \"entropy\")\\n    class_weight — вес каждого класса (по дефолту все веса равны 1, но можно передать словарь с весами, либо явно указать \"balanced\", тогда веса классов будут равны их исходным частям в генеральной совокупности; также можно указать \"balanced_subsample\", тогда веса на каждой подвыборке будут меняться в зависимости от распределения классов на этой подвыборке.\\n)\\n'"
            ],
            "application/vnd.google.colaboratory.intrinsic+json": {
              "type": "string"
            }
          },
          "metadata": {},
          "execution_count": 9
        }
      ],
      "source": [
        "\"\"\"\n",
        "class sklearn.ensemble.RandomForestClassifier(\n",
        "    criterion — поскольку у нас теперь задача классификации, то по дефолту выбран критерий \"gini\" (можно выбрать \"entropy\")\n",
        "    class_weight — вес каждого класса (по дефолту все веса равны 1, но можно передать словарь с весами, либо явно указать \"balanced\", тогда веса классов будут равны их исходным частям в генеральной совокупности; также можно указать \"balanced_subsample\", тогда веса на каждой подвыборке будут меняться в зависимости от распределения классов на этой подвыборке.\n",
        ")\n",
        "\"\"\""
      ]
    },
    {
      "cell_type": "markdown",
      "metadata": {
        "id": "EgYEHIFiMxp-"
      },
      "source": [
        "\n",
        "При построениии модели в первую очередь стоит обратить внимание на следующие параметры:"
      ]
    },
    {
      "cell_type": "markdown",
      "metadata": {
        "id": "upa4sL4KMxp-"
      },
      "source": [
        "- n_estimators — число деревьев в \"лесу\"\n",
        "- criterion — критерий для разбиения выборки в вершине\n",
        "- max_features — число признаков, по которым ищется разбиение\n",
        "- min_samples_leaf — минимальное число объектов в листе\n",
        "- max_depth — максимальная глубина дерева\n"
      ]
    },
    {
      "cell_type": "markdown",
      "metadata": {
        "id": "hedzJUAEMxp_"
      },
      "source": [
        "### Применение RandomForest на реальной задаче (предсказание оттока клиентов)"
      ]
    },
    {
      "cell_type": "markdown",
      "metadata": {
        "id": "PbhCHp0uMxp_"
      },
      "source": [
        "Данные можно взять тут: https://github.com/Yorko/mlcourse_open/blob/master/data/telecom_churn.csv"
      ]
    },
    {
      "cell_type": "code",
      "execution_count": null,
      "metadata": {
        "colab": {
          "base_uri": "https://localhost:8080/"
        },
        "id": "khboqotYMxp_",
        "outputId": "f5027b65-f8af-46af-f4f5-9403e6138a95"
      },
      "outputs": [
        {
          "output_type": "stream",
          "name": "stdout",
          "text": [
            "--2024-08-07 14:28:30--  https://raw.githubusercontent.com/Yorko/mlcourse.ai/master/data/telecom_churn.csv\n",
            "Resolving raw.githubusercontent.com (raw.githubusercontent.com)... 185.199.108.133, 185.199.109.133, 185.199.110.133, ...\n",
            "Connecting to raw.githubusercontent.com (raw.githubusercontent.com)|185.199.108.133|:443... connected.\n",
            "HTTP request sent, awaiting response... 200 OK\n",
            "Length: 279997 (273K) [text/plain]\n",
            "Saving to: ‘telecom_churn.csv’\n",
            "\n",
            "telecom_churn.csv   100%[===================>] 273.43K  --.-KB/s    in 0.005s  \n",
            "\n",
            "2024-08-07 14:28:30 (50.5 MB/s) - ‘telecom_churn.csv’ saved [279997/279997]\n",
            "\n"
          ]
        }
      ],
      "source": [
        "!wget https://raw.githubusercontent.com/Yorko/mlcourse.ai/master/data/telecom_churn.csv"
      ]
    },
    {
      "cell_type": "code",
      "execution_count": null,
      "metadata": {
        "colab": {
          "base_uri": "https://localhost:8080/"
        },
        "id": "nJ5rmou_MxqA",
        "outputId": "085dbf2e-4319-4cef-c52a-abda0d4b4ffb"
      },
      "outputs": [
        {
          "output_type": "stream",
          "name": "stdout",
          "text": [
            "CV accuracy score: 92.50%\n"
          ]
        }
      ],
      "source": [
        "# Загружаем данные\n",
        "df = pd.read_csv(\"telecom_churn.csv\")\n",
        "\n",
        "# Выбираем сначала только колонки с числовым типом данных\n",
        "cols = []\n",
        "for i in df.columns:\n",
        "    if (df[i].dtype == \"float64\") or (df[i].dtype == 'int64'):\n",
        "        cols.append(i)\n",
        "\n",
        "# Разделяем на признаки и объекты\n",
        "X, y = df[cols].copy(), np.asarray(df[\"Churn\"],dtype='int8')\n",
        "\n",
        "# Инициализируем страифицированную разбивку нашего датасета для валидации\n",
        "skf = StratifiedKFold(n_splits=5, shuffle=True, random_state=42)\n",
        "\n",
        "# Инициализируем наш классификатор с дефолтными параметрами\n",
        "rfc = RandomForestClassifier(random_state=42, n_jobs=-1, oob_score=True)\n",
        "\n",
        "# Обучаем на тренировочном датасете\n",
        "results = cross_val_score(rfc, X, y, cv=skf)\n",
        "\n",
        "# Оцениваем долю верных ответов на тестовом датасете\n",
        "print(\"CV accuracy score: {:.2f}%\".format(results.mean()*100))"
      ]
    },
    {
      "cell_type": "markdown",
      "metadata": {
        "id": "yY7buu_wMxqB"
      },
      "source": [
        "Улучшим этот результат: посмотрим, как ведут себя кривые валидации при изменении основных параметров"
      ]
    },
    {
      "cell_type": "code",
      "execution_count": null,
      "metadata": {
        "colab": {
          "base_uri": "https://localhost:8080/"
        },
        "id": "0AaK5fE1MxqB",
        "outputId": "53640139-bd64-46f4-aa92-42fbe0c31b2f"
      },
      "outputs": [
        {
          "output_type": "stream",
          "name": "stdout",
          "text": [
            "Best accuracy on CV is 92.50% with 100 trees\n"
          ]
        }
      ],
      "source": [
        "# Инициализируем валидацию\n",
        "skf = StratifiedKFold(n_splits=5, shuffle=True, random_state=42)\n",
        "\n",
        "# Создаем списки для сохранения точности на тренировочном и тестовом датасете\n",
        "train_acc = []\n",
        "test_acc = []\n",
        "temp_train_acc = []\n",
        "temp_test_acc = []\n",
        "trees_grid = [5, 10, 15, 20, 30, 50, 75, 100]\n",
        "\n",
        "# Обучаем на тренировочном датасете\n",
        "for ntrees in trees_grid:\n",
        "    rfc = RandomForestClassifier(n_estimators=ntrees, random_state=42, n_jobs=-1, oob_score=True)\n",
        "    temp_train_acc = []\n",
        "    temp_test_acc = []\n",
        "    for train_index, test_index in skf.split(X, y):\n",
        "        X_train, X_test = X.iloc[train_index], X.iloc[test_index]\n",
        "        y_train, y_test = y[train_index], y[test_index]\n",
        "        rfc.fit(X_train, y_train)\n",
        "        temp_train_acc.append(rfc.score(X_train, y_train))\n",
        "        temp_test_acc.append(rfc.score(X_test, y_test))\n",
        "    train_acc.append(temp_train_acc)\n",
        "    test_acc.append(temp_test_acc)\n",
        "\n",
        "train_acc, test_acc = np.asarray(train_acc), np.asarray(test_acc)\n",
        "print(\"Best accuracy on CV is {:.2f}% with {} trees\".format(max(test_acc.mean(axis=1))*100,\n",
        "                                                        trees_grid[np.argmax(test_acc.mean(axis=1))]))"
      ]
    },
    {
      "cell_type": "code",
      "execution_count": null,
      "metadata": {
        "colab": {
          "base_uri": "https://localhost:8080/",
          "height": 416
        },
        "id": "TRSVgfVWMxqC",
        "outputId": "8d9e4452-630b-45c3-b424-072b0b2a04d1"
      },
      "outputs": [
        {
          "output_type": "execute_result",
          "data": {
            "text/plain": [
              "Text(0.5, 0, 'N_estimators')"
            ]
          },
          "metadata": {},
          "execution_count": 13
        },
        {
          "output_type": "display_data",
          "data": {
            "text/plain": [
              "<Figure size 800x400 with 1 Axes>"
            ],
            "image/png": "[encoded data removed]"
          },
          "metadata": {}
        }
      ],
      "source": [
        "import matplotlib.pyplot as plt\n",
        "plt.style.use('ggplot')\n",
        "%matplotlib inline\n",
        "\n",
        "fig, ax = plt.subplots(figsize=(8, 4))\n",
        "ax.plot(trees_grid, train_acc.mean(axis=1), alpha=0.5, color='blue', label='train')\n",
        "ax.plot(trees_grid, test_acc.mean(axis=1), alpha=0.5, color='red', label='cv')\n",
        "ax.fill_between(trees_grid, test_acc.mean(axis=1) - test_acc.std(axis=1), test_acc.mean(axis=1) + test_acc.std(axis=1), color='#888888', alpha=0.4)\n",
        "ax.fill_between(trees_grid, test_acc.mean(axis=1) - 2*test_acc.std(axis=1), test_acc.mean(axis=1) + 2*test_acc.std(axis=1), color='#888888', alpha=0.2)\n",
        "ax.legend(loc='best')\n",
        "ax.set_ylim([0.88,1.02])\n",
        "ax.set_ylabel(\"Accuracy\")\n",
        "ax.set_xlabel(\"N_estimators\")"
      ]
    },
    {
      "cell_type": "markdown",
      "metadata": {
        "id": "fTRMeoOCMxqD"
      },
      "source": [
        "Подбираем параметр max_depth:"
      ]
    },
    {
      "cell_type": "code",
      "execution_count": null,
      "metadata": {
        "colab": {
          "base_uri": "https://localhost:8080/"
        },
        "id": "aeD7SL8jMxqD",
        "outputId": "be8b74bf-6e6d-4eb4-baae-7886c6812055"
      },
      "outputs": [
        {
          "output_type": "stream",
          "name": "stdout",
          "text": [
            "Best accuracy on CV is 92.44% with 24 max_depth\n"
          ]
        }
      ],
      "source": [
        "# Создаем списки для сохранения точности на тренировочном и тестовом датасете\n",
        "train_acc = []\n",
        "test_acc = []\n",
        "temp_train_acc = []\n",
        "temp_test_acc = []\n",
        "max_depth_grid = [3, 5, 7, 9, 11, 13, 15, 17, 20, 22, 24]\n",
        "\n",
        "# Обучаем на тренировочном датасете\n",
        "for max_depth in max_depth_grid:\n",
        "    rfc = RandomForestClassifier(n_estimators=100, random_state=42, n_jobs=-1, oob_score=True, max_depth=max_depth)\n",
        "    temp_train_acc = []\n",
        "    temp_test_acc = []\n",
        "    for train_index, test_index in skf.split(X, y):\n",
        "        X_train, X_test = X.iloc[train_index], X.iloc[test_index]\n",
        "        y_train, y_test = y[train_index], y[test_index]\n",
        "        rfc.fit(X_train, y_train)\n",
        "        temp_train_acc.append(rfc.score(X_train, y_train))\n",
        "        temp_test_acc.append(rfc.score(X_test, y_test))\n",
        "    train_acc.append(temp_train_acc)\n",
        "    test_acc.append(temp_test_acc)\n",
        "\n",
        "train_acc, test_acc = np.asarray(train_acc), np.asarray(test_acc)\n",
        "print(\"Best accuracy on CV is {:.2f}% with {} max_depth\".format(max(test_acc.mean(axis=1))*100,\n",
        "                                                        max_depth_grid[np.argmax(test_acc.mean(axis=1))]))"
      ]
    },
    {
      "cell_type": "code",
      "execution_count": null,
      "metadata": {
        "colab": {
          "base_uri": "https://localhost:8080/",
          "height": 416
        },
        "id": "AYD0WxHVMxqE",
        "outputId": "d322f929-016c-4d52-f0a7-1a01bd186be6"
      },
      "outputs": [
        {
          "output_type": "execute_result",
          "data": {
            "text/plain": [
              "Text(0.5, 0, 'Max_depth')"
            ]
          },
          "metadata": {},
          "execution_count": 15
        },
        {
          "output_type": "display_data",
          "data": {
            "text/plain": [
              "<Figure size 800x400 with 1 Axes>"
            ],
            "image/png": "[encoded data removed]"
          },
          "metadata": {}
        }
      ],
      "source": [
        "fig, ax = plt.subplots(figsize=(8, 4))\n",
        "ax.plot(max_depth_grid, train_acc.mean(axis=1), alpha=0.5, color='blue', label='train')\n",
        "ax.plot(max_depth_grid, test_acc.mean(axis=1), alpha=0.5, color='red', label='cv')\n",
        "ax.fill_between(max_depth_grid, test_acc.mean(axis=1) - test_acc.std(axis=1), test_acc.mean(axis=1) + test_acc.std(axis=1), color='#888888', alpha=0.4)\n",
        "ax.fill_between(max_depth_grid, test_acc.mean(axis=1) - 2*test_acc.std(axis=1), test_acc.mean(axis=1) + 2*test_acc.std(axis=1), color='#888888', alpha=0.2)\n",
        "ax.legend(loc='best')\n",
        "ax.set_ylim([0.88,1.02])\n",
        "ax.set_ylabel(\"Accuracy\")\n",
        "ax.set_xlabel(\"Max_depth\")"
      ]
    },
    {
      "cell_type": "markdown",
      "metadata": {
        "id": "sZpKLJ5rMxqF"
      },
      "source": [
        "Параметр max_depth хорошо справляется с регуляризацией модели, и мы уже не так сильно переобучаемся."
      ]
    },
    {
      "cell_type": "markdown",
      "metadata": {
        "id": "YYsRyrYxMxqF"
      },
      "source": [
        "Параметр min_samples_leaf также выполняет функцию регуляризатора."
      ]
    },
    {
      "cell_type": "code",
      "execution_count": null,
      "metadata": {
        "colab": {
          "base_uri": "https://localhost:8080/"
        },
        "id": "SJtYRfmhMxqG",
        "outputId": "e05692b9-e465-4b22-b095-fcd92a56b8fc"
      },
      "outputs": [
        {
          "output_type": "stream",
          "name": "stdout",
          "text": [
            "Best accuracy on CV is 92.50% with 1 min_samples_leaf\n"
          ]
        }
      ],
      "source": [
        "# Создаем списки для сохранения точности на тренировочном и тестовом датасете\n",
        "train_acc = []\n",
        "test_acc = []\n",
        "temp_train_acc = []\n",
        "temp_test_acc = []\n",
        "min_samples_leaf_grid = [1, 3, 5, 7, 9, 11, 13, 15, 17, 20, 22, 24]\n",
        "\n",
        "# Обучаем на тренировочном датасете\n",
        "for min_samples_leaf in min_samples_leaf_grid:\n",
        "    rfc = RandomForestClassifier(n_estimators=100, random_state=42, n_jobs=-1,\n",
        "                                 oob_score=True, min_samples_leaf=min_samples_leaf)\n",
        "    temp_train_acc = []\n",
        "    temp_test_acc = []\n",
        "    for train_index, test_index in skf.split(X, y):\n",
        "        X_train, X_test = X.iloc[train_index], X.iloc[test_index]\n",
        "        y_train, y_test = y[train_index], y[test_index]\n",
        "        rfc.fit(X_train, y_train)\n",
        "        temp_train_acc.append(rfc.score(X_train, y_train))\n",
        "        temp_test_acc.append(rfc.score(X_test, y_test))\n",
        "    train_acc.append(temp_train_acc)\n",
        "    test_acc.append(temp_test_acc)\n",
        "\n",
        "train_acc, test_acc = np.asarray(train_acc), np.asarray(test_acc)\n",
        "print(\"Best accuracy on CV is {:.2f}% with {} min_samples_leaf\".format(max(test_acc.mean(axis=1))*100,\n",
        "                                                        min_samples_leaf_grid[np.argmax(test_acc.mean(axis=1))]))"
      ]
    },
    {
      "cell_type": "code",
      "execution_count": null,
      "metadata": {
        "colab": {
          "base_uri": "https://localhost:8080/",
          "height": 416
        },
        "id": "TWa_OXejMxqH",
        "outputId": "0a7ff01e-8259-4339-d3b1-6e80ebdd7564"
      },
      "outputs": [
        {
          "output_type": "execute_result",
          "data": {
            "text/plain": [
              "Text(0.5, 0, 'Min_samples_leaf')"
            ]
          },
          "metadata": {},
          "execution_count": 17
        },
        {
          "output_type": "display_data",
          "data": {
            "text/plain": [
              "<Figure size 800x400 with 1 Axes>"
            ],
            "image/png": "[encoded data removed]"
          },
          "metadata": {}
        }
      ],
      "source": [
        "fig, ax = plt.subplots(figsize=(8, 4))\n",
        "ax.plot(min_samples_leaf_grid, train_acc.mean(axis=1), alpha=0.5, color='blue', label='train')\n",
        "ax.plot(min_samples_leaf_grid, test_acc.mean(axis=1), alpha=0.5, color='red', label='cv')\n",
        "ax.fill_between(min_samples_leaf_grid, test_acc.mean(axis=1) - test_acc.std(axis=1), test_acc.mean(axis=1) + test_acc.std(axis=1), color='#888888', alpha=0.4)\n",
        "ax.fill_between(min_samples_leaf_grid, test_acc.mean(axis=1) - 2*test_acc.std(axis=1), test_acc.mean(axis=1) + 2*test_acc.std(axis=1), color='#888888', alpha=0.2)\n",
        "ax.legend(loc='best')\n",
        "ax.set_ylim([0.88,1.02])\n",
        "ax.set_ylabel(\"Accuracy\")\n",
        "ax.set_xlabel(\"Min_samples_leaf\")"
      ]
    },
    {
      "cell_type": "markdown",
      "metadata": {
        "id": "rMzjRA4ZMxqH"
      },
      "source": [
        "Рассмотрим такой параметр как max_features. Для задач классификации по умолчанию используется $\\sqrt{n}$, где $n$ — число признаков."
      ]
    },
    {
      "cell_type": "code",
      "execution_count": null,
      "metadata": {
        "colab": {
          "base_uri": "https://localhost:8080/"
        },
        "id": "L2j_rdBFMxqI",
        "outputId": "cb9a4461-addc-481f-ad28-2ea5018cddad"
      },
      "outputs": [
        {
          "output_type": "stream",
          "name": "stdout",
          "text": [
            "Best accuracy on CV is 92.50% with 4 max_features\n"
          ]
        }
      ],
      "source": [
        "# Создаем списки для сохранения точности на тренировочном и тестовом датасете\n",
        "train_acc = []\n",
        "test_acc = []\n",
        "temp_train_acc = []\n",
        "temp_test_acc = []\n",
        "max_features_grid = [2, 4, 6, 8, 10, 12, 14, 16]\n",
        "\n",
        "# Обучаем на тренировочном датасете\n",
        "for max_features in max_features_grid:\n",
        "    rfc = RandomForestClassifier(n_estimators=100, random_state=42, n_jobs=-1,\n",
        "                                 oob_score=True, max_features=max_features)\n",
        "    temp_train_acc = []\n",
        "    temp_test_acc = []\n",
        "    for train_index, test_index in skf.split(X, y):\n",
        "        X_train, X_test = X.iloc[train_index], X.iloc[test_index]\n",
        "        y_train, y_test = y[train_index], y[test_index]\n",
        "        rfc.fit(X_train, y_train)\n",
        "        temp_train_acc.append(rfc.score(X_train, y_train))\n",
        "        temp_test_acc.append(rfc.score(X_test, y_test))\n",
        "    train_acc.append(temp_train_acc)\n",
        "    test_acc.append(temp_test_acc)\n",
        "\n",
        "train_acc, test_acc = np.asarray(train_acc), np.asarray(test_acc)\n",
        "print(\"Best accuracy on CV is {:.2f}% with {} max_features\".format(max(test_acc.mean(axis=1))*100,\n",
        "                                                        max_features_grid[np.argmax(test_acc.mean(axis=1))]))"
      ]
    },
    {
      "cell_type": "code",
      "execution_count": null,
      "metadata": {
        "colab": {
          "base_uri": "https://localhost:8080/",
          "height": 416
        },
        "id": "jNJQyGxcMxqI",
        "outputId": "3374d835-6e94-4be4-f6c6-c0fa7d6eb5a0"
      },
      "outputs": [
        {
          "output_type": "execute_result",
          "data": {
            "text/plain": [
              "Text(0.5, 0, 'Max_features')"
            ]
          },
          "metadata": {},
          "execution_count": 19
        },
        {
          "output_type": "display_data",
          "data": {
            "text/plain": [
              "<Figure size 800x400 with 1 Axes>"
            ],
            "image/png": "[encoded data removed]"
          },
          "metadata": {}
        }
      ],
      "source": [
        "fig, ax = plt.subplots(figsize=(8, 4))\n",
        "ax.plot(max_features_grid, train_acc.mean(axis=1), alpha=0.5, color='blue', label='train')\n",
        "ax.plot(max_features_grid, test_acc.mean(axis=1), alpha=0.5, color='red', label='cv')\n",
        "ax.fill_between(max_features_grid, test_acc.mean(axis=1) - test_acc.std(axis=1), test_acc.mean(axis=1) + test_acc.std(axis=1), color='#888888', alpha=0.4)\n",
        "ax.fill_between(max_features_grid, test_acc.mean(axis=1) - 2*test_acc.std(axis=1), test_acc.mean(axis=1) + 2*test_acc.std(axis=1), color='#888888', alpha=0.2)\n",
        "ax.legend(loc='best')\n",
        "ax.set_ylim([0.88,1.02])\n",
        "ax.set_ylabel(\"Accuracy\")\n",
        "ax.set_xlabel(\"Max_features\")"
      ]
    },
    {
      "cell_type": "markdown",
      "metadata": {
        "id": "bbnRUf-zMxqJ"
      },
      "source": [
        "В нашем случае оптимальное число признаков - 10."
      ]
    },
    {
      "cell_type": "markdown",
      "metadata": {
        "id": "BgVDYxsTMxqJ"
      },
      "source": [
        "Итак, итоговый перебор параметров будет выглядеть следующим образом:"
      ]
    },
    {
      "cell_type": "code",
      "execution_count": null,
      "metadata": {
        "colab": {
          "base_uri": "https://localhost:8080/",
          "height": 136
        },
        "id": "yQg5nZ5FMxqK",
        "outputId": "45ce3f53-b1b6-4552-cb64-f5ac7f23c267"
      },
      "outputs": [
        {
          "output_type": "stream",
          "name": "stdout",
          "text": [
            "Fitting 5 folds for each of 64 candidates, totalling 320 fits\n"
          ]
        },
        {
          "output_type": "execute_result",
          "data": {
            "text/plain": [
              "GridSearchCV(cv=StratifiedKFold(n_splits=5, random_state=42, shuffle=True),\n",
              "             estimator=RandomForestClassifier(n_jobs=-1, oob_score=True,\n",
              "                                              random_state=42),\n",
              "             n_jobs=-1,\n",
              "             param_grid={'max_depth': [5, 10, 15, 20],\n",
              "                         'max_features': [4, 7, 10, 13],\n",
              "                         'min_samples_leaf': [1, 3, 5, 7]},\n",
              "             verbose=1)"
            ],
            "text/html": [
              "<style>#sk-container-id-1 {color: black;}#sk-container-id-1 pre{padding: 0;}#sk-container-id-1 div.sk-toggleable {background-color: white;}#sk-container-id-1 label.sk-toggleable__label {cursor: pointer;display: block;width: 100%;margin-bottom: 0;padding: 0.3em;box-sizing: border-box;text-align: center;}#sk-container-id-1 label.sk-toggleable__label-arrow:before {content: \"▸\";float: left;margin-right: 0.25em;color: #696969;}#sk-container-id-1 label.sk-toggleable__label-arrow:hover:before {color: black;}#sk-container-id-1 div.sk-estimator:hover label.sk-toggleable__label-arrow:before {color: black;}#sk-container-id-1 div.sk-toggleable__content {max-height: 0;max-width: 0;overflow: hidden;text-align: left;background-color: #f0f8ff;}#sk-container-id-1 div.sk-toggleable__content pre {margin: 0.2em;color: black;border-radius: 0.25em;background-color: #f0f8ff;}#sk-container-id-1 input.sk-toggleable__control:checked~div.sk-toggleable__content {max-height: 200px;max-width: 100%;overflow: auto;}#sk-container-id-1 input.sk-toggleable__control:checked~label.sk-toggleable__label-arrow:before {content: \"▾\";}#sk-container-id-1 div.sk-estimator input.sk-toggleable__control:checked~label.sk-toggleable__label {background-color: #d4ebff;}#sk-container-id-1 div.sk-label input.sk-toggleable__control:checked~label.sk-toggleable__label {background-color: #d4ebff;}#sk-container-id-1 input.sk-hidden--visually {border: 0;clip: rect(1px 1px 1px 1px);clip: rect(1px, 1px, 1px, 1px);height: 1px;margin: -1px;overflow: hidden;padding: 0;position: absolute;width: 1px;}#sk-container-id-1 div.sk-estimator {font-family: monospace;background-color: #f0f8ff;border: 1px dotted black;border-radius: 0.25em;box-sizing: border-box;margin-bottom: 0.5em;}#sk-container-id-1 div.sk-estimator:hover {background-color: #d4ebff;}#sk-container-id-1 div.sk-parallel-item::after {content: \"\";width: 100%;border-bottom: 1px solid gray;flex-grow: 1;}#sk-container-id-1 div.sk-label:hover label.sk-toggleable__label {background-color: #d4ebff;}#sk-container-id-1 div.sk-serial::before {content: \"\";position: absolute;border-left: 1px solid gray;box-sizing: border-box;top: 0;bottom: 0;left: 50%;z-index: 0;}#sk-container-id-1 div.sk-serial {display: flex;flex-direction: column;align-items: center;background-color: white;padding-right: 0.2em;padding-left: 0.2em;position: relative;}#sk-container-id-1 div.sk-item {position: relative;z-index: 1;}#sk-container-id-1 div.sk-parallel {display: flex;align-items: stretch;justify-content: center;background-color: white;position: relative;}#sk-container-id-1 div.sk-item::before, #sk-container-id-1 div.sk-parallel-item::before {content: \"\";position: absolute;border-left: 1px solid gray;box-sizing: border-box;top: 0;bottom: 0;left: 50%;z-index: -1;}#sk-container-id-1 div.sk-parallel-item {display: flex;flex-direction: column;z-index: 1;position: relative;background-color: white;}#sk-container-id-1 div.sk-parallel-item:first-child::after {align-self: flex-end;width: 50%;}#sk-container-id-1 div.sk-parallel-item:last-child::after {align-self: flex-start;width: 50%;}#sk-container-id-1 div.sk-parallel-item:only-child::after {width: 0;}#sk-container-id-1 div.sk-dashed-wrapped {border: 1px dashed gray;margin: 0 0.4em 0.5em 0.4em;box-sizing: border-box;padding-bottom: 0.4em;background-color: white;}#sk-container-id-1 div.sk-label label {font-family: monospace;font-weight: bold;display: inline-block;line-height: 1.2em;}#sk-container-id-1 div.sk-label-container {text-align: center;}#sk-container-id-1 div.sk-container {/* jupyter's `normalize.less` sets `[hidden] { display: none; }` but bootstrap.min.css set `[hidden] { display: none !important; }` so we also need the `!important` here to be able to override the default hidden behavior on the sphinx rendered scikit-learn.org. See: https://github.com/scikit-learn/scikit-learn/issues/21755 */display: inline-block !important;position: relative;}#sk-container-id-1 div.sk-text-repr-fallback {display: none;}</style><div id=\"sk-container-id-1\" class=\"sk-top-container\"><div class=\"sk-text-repr-fallback\"><pre>GridSearchCV(cv=StratifiedKFold(n_splits=5, random_state=42, shuffle=True),\n",
              "             estimator=RandomForestClassifier(n_jobs=-1, oob_score=True,\n",
              "                                              random_state=42),\n",
              "             n_jobs=-1,\n",
              "             param_grid={&#x27;max_depth&#x27;: [5, 10, 15, 20],\n",
              "                         &#x27;max_features&#x27;: [4, 7, 10, 13],\n",
              "                         &#x27;min_samples_leaf&#x27;: [1, 3, 5, 7]},\n",
              "             verbose=1)</pre><b>In a Jupyter environment, please rerun this cell to show the HTML representation or trust the notebook. <br />On GitHub, the HTML representation is unable to render, please try loading this page with nbviewer.org.</b></div><div class=\"sk-container\" hidden><div class=\"sk-item sk-dashed-wrapped\"><div class=\"sk-label-container\"><div class=\"sk-label sk-toggleable\"><input class=\"sk-toggleable__control sk-hidden--visually\" id=\"sk-estimator-id-1\" type=\"checkbox\" ><label for=\"sk-estimator-id-1\" class=\"sk-toggleable__label sk-toggleable__label-arrow\">GridSearchCV</label><div class=\"sk-toggleable__content\"><pre>GridSearchCV(cv=StratifiedKFold(n_splits=5, random_state=42, shuffle=True),\n",
              "             estimator=RandomForestClassifier(n_jobs=-1, oob_score=True,\n",
              "                                              random_state=42),\n",
              "             n_jobs=-1,\n",
              "             param_grid={&#x27;max_depth&#x27;: [5, 10, 15, 20],\n",
              "                         &#x27;max_features&#x27;: [4, 7, 10, 13],\n",
              "                         &#x27;min_samples_leaf&#x27;: [1, 3, 5, 7]},\n",
              "             verbose=1)</pre></div></div></div><div class=\"sk-parallel\"><div class=\"sk-parallel-item\"><div class=\"sk-item\"><div class=\"sk-label-container\"><div class=\"sk-label sk-toggleable\"><input class=\"sk-toggleable__control sk-hidden--visually\" id=\"sk-estimator-id-2\" type=\"checkbox\" ><label for=\"sk-estimator-id-2\" class=\"sk-toggleable__label sk-toggleable__label-arrow\">estimator: RandomForestClassifier</label><div class=\"sk-toggleable__content\"><pre>RandomForestClassifier(n_jobs=-1, oob_score=True, random_state=42)</pre></div></div></div><div class=\"sk-serial\"><div class=\"sk-item\"><div class=\"sk-estimator sk-toggleable\"><input class=\"sk-toggleable__control sk-hidden--visually\" id=\"sk-estimator-id-3\" type=\"checkbox\" ><label for=\"sk-estimator-id-3\" class=\"sk-toggleable__label sk-toggleable__label-arrow\">RandomForestClassifier</label><div class=\"sk-toggleable__content\"><pre>RandomForestClassifier(n_jobs=-1, oob_score=True, random_state=42)</pre></div></div></div></div></div></div></div></div></div></div>"
            ]
          },
          "metadata": {},
          "execution_count": 20
        }
      ],
      "source": [
        "# Сделаем инициализацию параметров, по которым хотим сделать полный перебор\n",
        "parameters = {'max_features': [4, 7, 10, 13], 'min_samples_leaf': [1, 3, 5, 7], 'max_depth': [5,10,15,20]}\n",
        "rfc = RandomForestClassifier(n_estimators=100, random_state=42,\n",
        "                             n_jobs=-1, oob_score=True)\n",
        "gcv = GridSearchCV(rfc, parameters, n_jobs=-1, cv=skf, verbose=1)\n",
        "gcv.fit(X, y)"
      ]
    },
    {
      "cell_type": "markdown",
      "metadata": {
        "id": "xO7s4OLxMxqK"
      },
      "source": [
        "### Есть ли переобучение с увеличением числа деревьев?"
      ]
    },
    {
      "cell_type": "code",
      "execution_count": null,
      "metadata": {
        "id": "-N9Cv4E1MxqL"
      },
      "outputs": [],
      "source": [
        "from sklearn.metrics import accuracy_score"
      ]
    },
    {
      "cell_type": "code",
      "execution_count": null,
      "metadata": {
        "colab": {
          "base_uri": "https://localhost:8080/"
        },
        "id": "H7cgwjJyMxqL",
        "outputId": "db6252b9-ac35-4ed0-e5c1-7ffbad9fcbd9"
      },
      "outputs": [
        {
          "output_type": "stream",
          "name": "stdout",
          "text": [
            "n_estimators =   10 train_acc = 0.9880014998125234 test_acc = 0.9234234234234234\n",
            "n_estimators =   40 train_acc = 0.9988751406074241 test_acc = 0.924924924924925\n",
            "n_estimators =  100 train_acc =  1.0 test_acc = 0.9219219219219219\n",
            "n_estimators =  200 train_acc =  1.0 test_acc = 0.9219219219219219\n",
            "n_estimators =  600 train_acc =  1.0 test_acc = 0.9234234234234234\n",
            "n_estimators = 1000 train_acc =  1.0 test_acc = 0.9204204204204204\n",
            "CPU times: user 2.54 s, sys: 424 ms, total: 2.97 s\n",
            "Wall time: 59 s\n"
          ]
        }
      ],
      "source": [
        "%%time\n",
        "\n",
        "for n_estimators in [10, 40, 100, 200, 600, 1000]:\n",
        "    clf = BaggingClassifier(base_estimator=DecisionTreeClassifier(), n_estimators=n_estimators, n_jobs=4)\n",
        "    clf = clf.fit(X_train, y_train)\n",
        "    train_acc, test_acc = accuracy_score(clf.predict(X_train), y_train), accuracy_score(clf.predict(X_test), y_test)\n",
        "    print('n_estimators = %4s train_acc = %4s test_acc = %4s' %(n_estimators, train_acc, test_acc))"
      ]
    },
    {
      "cell_type": "code",
      "execution_count": null,
      "metadata": {
        "colab": {
          "base_uri": "https://localhost:8080/"
        },
        "id": "9d30fg7BMxqM",
        "outputId": "5887e23e-f984-445c-84c2-56fc82f67bfa"
      },
      "outputs": [
        {
          "output_type": "stream",
          "name": "stdout",
          "text": [
            "n_estimators =   10 train_acc = 0.9460067491563554 test_acc = 0.9219219219219219\n",
            "n_estimators =   40 train_acc = 0.9482564679415073 test_acc = 0.9264264264264265\n",
            "n_estimators =  100 train_acc = 0.948631421072366 test_acc = 0.9264264264264265\n",
            "n_estimators =  200 train_acc = 0.9471316085489314 test_acc = 0.9279279279279279\n",
            "n_estimators =  600 train_acc = 0.9471316085489314 test_acc = 0.924924924924925\n",
            "n_estimators = 1000 train_acc = 0.9478815148106486 test_acc = 0.924924924924925\n",
            "CPU times: user 2.31 s, sys: 141 ms, total: 2.45 s\n",
            "Wall time: 36.7 s\n"
          ]
        }
      ],
      "source": [
        "%%time\n",
        "\n",
        "for n_estimators in [10, 40, 100, 200, 600, 1000]:\n",
        "    clf = BaggingClassifier(base_estimator=DecisionTreeClassifier(max_depth=7), n_estimators=n_estimators, n_jobs=4)\n",
        "    clf = clf.fit(X_train, y_train)\n",
        "    train_acc, test_acc = accuracy_score(clf.predict(X_train), y_train), accuracy_score(clf.predict(X_test), y_test)\n",
        "    print('n_estimators = %4s train_acc = %4s test_acc = %4s' %(n_estimators, train_acc, test_acc))"
      ]
    },
    {
      "cell_type": "code",
      "execution_count": null,
      "metadata": {
        "colab": {
          "base_uri": "https://localhost:8080/"
        },
        "id": "a5c1eZJmMxqN",
        "outputId": "339ccfbc-9440-47b9-c477-dce281694cf7"
      },
      "outputs": [
        {
          "output_type": "stream",
          "name": "stdout",
          "text": [
            "n_estimators =   10 train_acc = 0.9823772028496438 test_acc = 0.9279279279279279\n",
            "n_estimators =   40 train_acc = 0.9861267341582303 test_acc = 0.9219219219219219\n",
            "n_estimators =  100 train_acc = 0.9872515935508062 test_acc = 0.9219219219219219\n",
            "n_estimators =  200 train_acc = 0.9880014998125234 test_acc = 0.9264264264264265\n",
            "n_estimators =  600 train_acc = 0.989501312335958 test_acc = 0.924924924924925\n",
            "n_estimators = 1000 train_acc = 0.9902512185976753 test_acc = 0.924924924924925\n",
            "CPU times: user 2.42 s, sys: 181 ms, total: 2.6 s\n",
            "Wall time: 54.3 s\n"
          ]
        }
      ],
      "source": [
        "%%time\n",
        "\n",
        "for n_estimators in [10, 40, 100, 200, 600, 1000]:\n",
        "    clf = BaggingClassifier(base_estimator=DecisionTreeClassifier(max_depth=14), n_estimators=n_estimators, n_jobs=4)\n",
        "    clf = clf.fit(X_train, y_train)\n",
        "    train_acc, test_acc = accuracy_score(clf.predict(X_train), y_train), accuracy_score(clf.predict(X_test), y_test)\n",
        "    print('n_estimators = %4s train_acc = %4s test_acc = %4s' %(n_estimators, train_acc, test_acc))"
      ]
    },
    {
      "cell_type": "markdown",
      "metadata": {
        "id": "H2saNBAzMxqN"
      },
      "source": [
        "### Out-of-bag error"
      ]
    },
    {
      "cell_type": "markdown",
      "metadata": {
        "id": "kAWRY9dGMxqO"
      },
      "source": [
        "<img src='https://github.com/girafe-ai/ml-course/blob/master/week0_05_trees_and_ensembles/img/oob.png?raw=true' width=700>"
      ]
    },
    {
      "cell_type": "markdown",
      "metadata": {
        "id": "so2HjWuOMxqO"
      },
      "source": [
        "**Задача** Покажите, что примерно 37% примеров остаются вне выборки бутстрэпа и не используются при построении k-го дерева."
      ]
    },
    {
      "cell_type": "markdown",
      "metadata": {
        "id": "T5I2CaC1MxqO"
      },
      "source": [
        "**Решение** Пусть в выборке $l$ объектов. На каждом шаге все объекты попадают в подвыборку с возвращением равновероятно, т.е отдельный объект — с вероятностью $\\dfrac{1}{l}$. Вероятность того, что объект НЕ попадет в подвыборку (т.е. его не взяли $l$ раз): $(1-\\dfrac{1}{l})^l$\n",
        "\n",
        "\n",
        "$$\\lim_{l \\rightarrow +\\infty} (1-\\dfrac{1}{l})^l = \\dfrac{1}{e}$$\n",
        "\n",
        "Тогда вероятность попадания конкретного объекта в подвыборку $1 - \\dfrac{1}{e} \\approx 63\\%$."
      ]
    },
    {
      "cell_type": "markdown",
      "metadata": {
        "id": "52djL6h3MxqP"
      },
      "source": [
        "Out-of-Bag оценка — это усредненная оценка базовых алгоритмов на тех ~37% данных, на которых они не обучались."
      ]
    },
    {
      "cell_type": "markdown",
      "metadata": {
        "id": "18DFWvSoMxqP"
      },
      "source": [
        "### Отбор признаков с помощью случайного леса"
      ]
    },
    {
      "cell_type": "markdown",
      "metadata": {
        "id": "ZbOsK278MxqP"
      },
      "source": [
        "<img src='https://github.com/girafe-ai/ml-course/blob/master/week0_05_trees_and_ensembles/img/features.png?raw=true'>"
      ]
    },
    {
      "cell_type": "markdown",
      "metadata": {
        "id": "4edqcAiLMxqQ"
      },
      "source": [
        "### Как вычисляется feature importance?\n",
        "\n",
        "Каждый узел дерева использует конкретную фичу для максимизации критерия информативности. Для каждой фичи можно посчитать взвешенное (по размеру выборки) суммарное (по всем вершинам) изменение критерия информативности.\n",
        "И с помощью полученных результатов отсортировать фичи по важности.\n",
        "Для леса, данные значения можно вначале усреднить по всем деревьям, а уже затем отсортировать."
      ]
    },
    {
      "cell_type": "markdown",
      "metadata": {
        "id": "ZVSGYHAKMxqQ"
      },
      "source": [
        "Также можно напрямую измерять влияние фичи на качество модели. Например случайно переставлять значения какой-то фичи в тестовой выборке и смотреть как сильно ухудшается качество."
      ]
    },
    {
      "cell_type": "markdown",
      "metadata": {
        "id": "NY54HJK7MxqQ"
      },
      "source": [
        "Данные можно взять здесь: https://github.com/Yorko/mlcourse_open/blob/master/data/hostel_factors.csv"
      ]
    },
    {
      "cell_type": "code",
      "execution_count": null,
      "metadata": {
        "colab": {
          "base_uri": "https://localhost:8080/"
        },
        "id": "e0L18VI4MxqR",
        "outputId": "8d395616-dfea-47aa-ef90-cfdd4addc8ba"
      },
      "outputs": [
        {
          "output_type": "stream",
          "name": "stdout",
          "text": [
            "--2024-08-07 14:44:52--  https://raw.githubusercontent.com/Yorko/mlcourse.ai/master/data/hostel_factors.csv\n",
            "Resolving raw.githubusercontent.com (raw.githubusercontent.com)... 185.199.108.133, 185.199.109.133, 185.199.110.133, ...\n",
            "Connecting to raw.githubusercontent.com (raw.githubusercontent.com)|185.199.108.133|:443... connected.\n",
            "HTTP request sent, awaiting response... 200 OK\n",
            "Length: 2874 (2.8K) [text/plain]\n",
            "Saving to: ‘hostel_factors.csv’\n",
            "\n",
            "\rhostel_factors.csv    0%[                    ]       0  --.-KB/s               \rhostel_factors.csv  100%[===================>]   2.81K  --.-KB/s    in 0s      \n",
            "\n",
            "2024-08-07 14:44:52 (26.4 MB/s) - ‘hostel_factors.csv’ saved [2874/2874]\n",
            "\n"
          ]
        }
      ],
      "source": [
        "!wget https://raw.githubusercontent.com/Yorko/mlcourse.ai/master/data/hostel_factors.csv"
      ]
    },
    {
      "cell_type": "code",
      "execution_count": null,
      "metadata": {
        "colab": {
          "base_uri": "https://localhost:8080/",
          "height": 1000
        },
        "id": "H98Eh5NhMxqR",
        "outputId": "70fdbf0f-d278-449c-8e35-697fb24d63d6"
      },
      "outputs": [
        {
          "output_type": "stream",
          "name": "stdout",
          "text": [
            "Populating the interactive namespace from numpy and matplotlib\n",
            "Feature ranking:\n",
            "1. Персонал 0.183150 \n",
            "2. Цена/качество 0.147704 \n",
            "3. Состояние общего пространства 0.128188 \n",
            "4. Дополнительные услуги 0.116819 \n",
            "5. ССЦ 0.105748 \n",
            "6. Общие условия и удобства 0.088730 \n",
            "7. Состояние общей кухни 0.074776 \n",
            "8. Заезд в хостел и выезд из хостела 0.061881 \n",
            "9. Бронирование хостела  0.053899 \n",
            "10. Состояние комнаты 0.039105 \n"
          ]
        },
        {
          "output_type": "execute_result",
          "data": {
            "text/plain": [
              "<matplotlib.legend.Legend at 0x7be80b389840>"
            ]
          },
          "metadata": {},
          "execution_count": 27
        },
        {
          "output_type": "stream",
          "name": "stderr",
          "text": [
            "WARNING:matplotlib.font_manager:findfont: Font family 'Verdana' not found.\n",
            "WARNING:matplotlib.font_manager:findfont: Font family 'Verdana' not found.\n",
            "WARNING:matplotlib.font_manager:findfont: Font family 'Verdana' not found.\n",
            "WARNING:matplotlib.font_manager:findfont: Font family 'Verdana' not found.\n",
            "WARNING:matplotlib.font_manager:findfont: Font family 'Verdana' not found.\n",
            "WARNING:matplotlib.font_manager:findfont: Font family 'Verdana' not found.\n",
            "WARNING:matplotlib.font_manager:findfont: Font family 'Verdana' not found.\n",
            "WARNING:matplotlib.font_manager:findfont: Font family 'Verdana' not found.\n",
            "WARNING:matplotlib.font_manager:findfont: Font family 'Verdana' not found.\n",
            "WARNING:matplotlib.font_manager:findfont: Font family 'Verdana' not found.\n",
            "WARNING:matplotlib.font_manager:findfont: Font family 'Verdana' not found.\n",
            "WARNING:matplotlib.font_manager:findfont: Font family 'Verdana' not found.\n",
            "WARNING:matplotlib.font_manager:findfont: Font family 'Verdana' not found.\n",
            "WARNING:matplotlib.font_manager:findfont: Font family 'Verdana' not found.\n",
            "WARNING:matplotlib.font_manager:findfont: Font family 'Verdana' not found.\n",
            "WARNING:matplotlib.font_manager:findfont: Font family 'Verdana' not found.\n",
            "WARNING:matplotlib.font_manager:findfont: Font family 'Verdana' not found.\n",
            "WARNING:matplotlib.font_manager:findfont: Font family 'Verdana' not found.\n",
            "WARNING:matplotlib.font_manager:findfont: Font family 'Verdana' not found.\n",
            "WARNING:matplotlib.font_manager:findfont: Font family 'Verdana' not found.\n",
            "WARNING:matplotlib.font_manager:findfont: Font family 'Verdana' not found.\n",
            "WARNING:matplotlib.font_manager:findfont: Font family 'Verdana' not found.\n",
            "WARNING:matplotlib.font_manager:findfont: Font family 'Verdana' not found.\n",
            "WARNING:matplotlib.font_manager:findfont: Font family 'Verdana' not found.\n",
            "WARNING:matplotlib.font_manager:findfont: Font family 'Verdana' not found.\n",
            "WARNING:matplotlib.font_manager:findfont: Font family 'Verdana' not found.\n",
            "WARNING:matplotlib.font_manager:findfont: Font family 'Verdana' not found.\n",
            "WARNING:matplotlib.font_manager:findfont: Font family 'Verdana' not found.\n",
            "WARNING:matplotlib.font_manager:findfont: Font family 'Verdana' not found.\n",
            "WARNING:matplotlib.font_manager:findfont: Font family 'Verdana' not found.\n",
            "WARNING:matplotlib.font_manager:findfont: Font family 'Verdana' not found.\n",
            "WARNING:matplotlib.font_manager:findfont: Font family 'Verdana' not found.\n",
            "WARNING:matplotlib.font_manager:findfont: Font family 'Verdana' not found.\n",
            "WARNING:matplotlib.font_manager:findfont: Font family 'Verdana' not found.\n",
            "WARNING:matplotlib.font_manager:findfont: Font family 'Verdana' not found.\n",
            "WARNING:matplotlib.font_manager:findfont: Font family 'Verdana' not found.\n",
            "WARNING:matplotlib.font_manager:findfont: Font family 'Verdana' not found.\n",
            "WARNING:matplotlib.font_manager:findfont: Font family 'Verdana' not found.\n",
            "WARNING:matplotlib.font_manager:findfont: Font family 'Verdana' not found.\n",
            "WARNING:matplotlib.font_manager:findfont: Font family 'Verdana' not found.\n",
            "WARNING:matplotlib.font_manager:findfont: Font family 'Verdana' not found.\n",
            "WARNING:matplotlib.font_manager:findfont: Font family 'Verdana' not found.\n",
            "WARNING:matplotlib.font_manager:findfont: Font family 'Verdana' not found.\n",
            "WARNING:matplotlib.font_manager:findfont: Font family 'Verdana' not found.\n",
            "WARNING:matplotlib.font_manager:findfont: Font family 'Verdana' not found.\n",
            "WARNING:matplotlib.font_manager:findfont: Font family 'Verdana' not found.\n",
            "WARNING:matplotlib.font_manager:findfont: Font family 'Verdana' not found.\n",
            "WARNING:matplotlib.font_manager:findfont: Font family 'Verdana' not found.\n",
            "WARNING:matplotlib.font_manager:findfont: Font family 'Verdana' not found.\n",
            "WARNING:matplotlib.font_manager:findfont: Font family 'Verdana' not found.\n",
            "WARNING:matplotlib.font_manager:findfont: Font family 'Verdana' not found.\n",
            "WARNING:matplotlib.font_manager:findfont: Font family 'Verdana' not found.\n",
            "WARNING:matplotlib.font_manager:findfont: Font family 'Verdana' not found.\n",
            "WARNING:matplotlib.font_manager:findfont: Font family 'Verdana' not found.\n",
            "WARNING:matplotlib.font_manager:findfont: Font family 'Verdana' not found.\n",
            "WARNING:matplotlib.font_manager:findfont: Font family 'Verdana' not found.\n",
            "WARNING:matplotlib.font_manager:findfont: Font family 'Verdana' not found.\n",
            "WARNING:matplotlib.font_manager:findfont: Font family 'Verdana' not found.\n",
            "WARNING:matplotlib.font_manager:findfont: Font family 'Verdana' not found.\n",
            "WARNING:matplotlib.font_manager:findfont: Font family 'Verdana' not found.\n",
            "WARNING:matplotlib.font_manager:findfont: Font family 'Verdana' not found.\n",
            "WARNING:matplotlib.font_manager:findfont: Font family 'Verdana' not found.\n",
            "WARNING:matplotlib.font_manager:findfont: Font family 'Verdana' not found.\n",
            "WARNING:matplotlib.font_manager:findfont: Font family 'Verdana' not found.\n",
            "WARNING:matplotlib.font_manager:findfont: Font family 'Verdana' not found.\n",
            "WARNING:matplotlib.font_manager:findfont: Font family 'Verdana' not found.\n",
            "WARNING:matplotlib.font_manager:findfont: Font family 'Verdana' not found.\n",
            "WARNING:matplotlib.font_manager:findfont: Font family 'Verdana' not found.\n",
            "WARNING:matplotlib.font_manager:findfont: Font family 'Verdana' not found.\n",
            "WARNING:matplotlib.font_manager:findfont: Font family 'Verdana' not found.\n",
            "WARNING:matplotlib.font_manager:findfont: Font family 'Verdana' not found.\n",
            "WARNING:matplotlib.font_manager:findfont: Font family 'Verdana' not found.\n",
            "WARNING:matplotlib.font_manager:findfont: Font family 'Verdana' not found.\n",
            "WARNING:matplotlib.font_manager:findfont: Font family 'Verdana' not found.\n",
            "WARNING:matplotlib.font_manager:findfont: Font family 'Verdana' not found.\n",
            "WARNING:matplotlib.font_manager:findfont: Font family 'Verdana' not found.\n",
            "WARNING:matplotlib.font_manager:findfont: Font family 'Verdana' not found.\n",
            "WARNING:matplotlib.font_manager:findfont: Font family 'Verdana' not found.\n",
            "WARNING:matplotlib.font_manager:findfont: Font family 'Verdana' not found.\n",
            "WARNING:matplotlib.font_manager:findfont: Font family 'Verdana' not found.\n",
            "WARNING:matplotlib.font_manager:findfont: Font family 'Verdana' not found.\n",
            "WARNING:matplotlib.font_manager:findfont: Font family 'Verdana' not found.\n",
            "WARNING:matplotlib.font_manager:findfont: Font family 'Verdana' not found.\n",
            "WARNING:matplotlib.font_manager:findfont: Font family 'Verdana' not found.\n",
            "WARNING:matplotlib.font_manager:findfont: Font family 'Verdana' not found.\n",
            "WARNING:matplotlib.font_manager:findfont: Font family 'Verdana' not found.\n",
            "WARNING:matplotlib.font_manager:findfont: Font family 'Verdana' not found.\n",
            "WARNING:matplotlib.font_manager:findfont: Font family 'Verdana' not found.\n",
            "WARNING:matplotlib.font_manager:findfont: Font family 'Verdana' not found.\n",
            "WARNING:matplotlib.font_manager:findfont: Font family 'Verdana' not found.\n",
            "WARNING:matplotlib.font_manager:findfont: Font family 'Verdana' not found.\n",
            "WARNING:matplotlib.font_manager:findfont: Font family 'Verdana' not found.\n",
            "WARNING:matplotlib.font_manager:findfont: Font family 'Verdana' not found.\n",
            "WARNING:matplotlib.font_manager:findfont: Font family 'Verdana' not found.\n",
            "WARNING:matplotlib.font_manager:findfont: Font family 'Verdana' not found.\n",
            "WARNING:matplotlib.font_manager:findfont: Font family 'Verdana' not found.\n",
            "WARNING:matplotlib.font_manager:findfont: Font family 'Verdana' not found.\n",
            "WARNING:matplotlib.font_manager:findfont: Font family 'Verdana' not found.\n",
            "WARNING:matplotlib.font_manager:findfont: Font family 'Verdana' not found.\n",
            "WARNING:matplotlib.font_manager:findfont: Font family 'Verdana' not found.\n",
            "WARNING:matplotlib.font_manager:findfont: Font family 'Verdana' not found.\n",
            "WARNING:matplotlib.font_manager:findfont: Font family 'Verdana' not found.\n",
            "WARNING:matplotlib.font_manager:findfont: Font family 'Verdana' not found.\n",
            "WARNING:matplotlib.font_manager:findfont: Font family 'Verdana' not found.\n",
            "WARNING:matplotlib.font_manager:findfont: Font family 'Verdana' not found.\n",
            "WARNING:matplotlib.font_manager:findfont: Font family 'Verdana' not found.\n",
            "WARNING:matplotlib.font_manager:findfont: Font family 'Verdana' not found.\n",
            "WARNING:matplotlib.font_manager:findfont: Font family 'Verdana' not found.\n",
            "WARNING:matplotlib.font_manager:findfont: Font family 'Verdana' not found.\n",
            "WARNING:matplotlib.font_manager:findfont: Font family 'Verdana' not found.\n",
            "WARNING:matplotlib.font_manager:findfont: Font family 'Verdana' not found.\n",
            "WARNING:matplotlib.font_manager:findfont: Font family 'Verdana' not found.\n",
            "WARNING:matplotlib.font_manager:findfont: Font family 'Verdana' not found.\n",
            "WARNING:matplotlib.font_manager:findfont: Font family 'Verdana' not found.\n",
            "WARNING:matplotlib.font_manager:findfont: Font family 'Verdana' not found.\n",
            "WARNING:matplotlib.font_manager:findfont: Font family 'Verdana' not found.\n",
            "WARNING:matplotlib.font_manager:findfont: Font family 'Verdana' not found.\n",
            "WARNING:matplotlib.font_manager:findfont: Font family 'Verdana' not found.\n",
            "WARNING:matplotlib.font_manager:findfont: Font family 'Verdana' not found.\n",
            "WARNING:matplotlib.font_manager:findfont: Font family 'Verdana' not found.\n",
            "WARNING:matplotlib.font_manager:findfont: Font family 'Verdana' not found.\n",
            "WARNING:matplotlib.font_manager:findfont: Font family 'Verdana' not found.\n",
            "WARNING:matplotlib.font_manager:findfont: Font family 'Verdana' not found.\n",
            "WARNING:matplotlib.font_manager:findfont: Font family 'Verdana' not found.\n",
            "WARNING:matplotlib.font_manager:findfont: Font family 'Verdana' not found.\n",
            "WARNING:matplotlib.font_manager:findfont: Font family 'Verdana' not found.\n",
            "WARNING:matplotlib.font_manager:findfont: Font family 'Verdana' not found.\n",
            "WARNING:matplotlib.font_manager:findfont: Font family 'Verdana' not found.\n",
            "WARNING:matplotlib.font_manager:findfont: Font family 'Verdana' not found.\n",
            "WARNING:matplotlib.font_manager:findfont: Font family 'Verdana' not found.\n",
            "WARNING:matplotlib.font_manager:findfont: Font family 'Verdana' not found.\n",
            "WARNING:matplotlib.font_manager:findfont: Font family 'Verdana' not found.\n",
            "WARNING:matplotlib.font_manager:findfont: Font family 'Verdana' not found.\n",
            "WARNING:matplotlib.font_manager:findfont: Font family 'Verdana' not found.\n",
            "WARNING:matplotlib.font_manager:findfont: Font family 'Verdana' not found.\n",
            "WARNING:matplotlib.font_manager:findfont: Font family 'Verdana' not found.\n",
            "WARNING:matplotlib.font_manager:findfont: Font family 'Verdana' not found.\n",
            "WARNING:matplotlib.font_manager:findfont: Font family 'Verdana' not found.\n",
            "WARNING:matplotlib.font_manager:findfont: Font family 'Verdana' not found.\n",
            "WARNING:matplotlib.font_manager:findfont: Font family 'Verdana' not found.\n",
            "WARNING:matplotlib.font_manager:findfont: Font family 'Verdana' not found.\n",
            "WARNING:matplotlib.font_manager:findfont: Font family 'Verdana' not found.\n",
            "WARNING:matplotlib.font_manager:findfont: Font family 'Verdana' not found.\n",
            "WARNING:matplotlib.font_manager:findfont: Font family 'Verdana' not found.\n",
            "WARNING:matplotlib.font_manager:findfont: Font family 'Verdana' not found.\n",
            "WARNING:matplotlib.font_manager:findfont: Font family 'Verdana' not found.\n",
            "WARNING:matplotlib.font_manager:findfont: Font family 'Verdana' not found.\n",
            "WARNING:matplotlib.font_manager:findfont: Font family 'Verdana' not found.\n",
            "WARNING:matplotlib.font_manager:findfont: Font family 'Verdana' not found.\n",
            "WARNING:matplotlib.font_manager:findfont: Font family 'Verdana' not found.\n",
            "WARNING:matplotlib.font_manager:findfont: Font family 'Verdana' not found.\n",
            "WARNING:matplotlib.font_manager:findfont: Font family 'Verdana' not found.\n",
            "WARNING:matplotlib.font_manager:findfont: Font family 'Verdana' not found.\n",
            "WARNING:matplotlib.font_manager:findfont: Font family 'Verdana' not found.\n",
            "WARNING:matplotlib.font_manager:findfont: Font family 'Verdana' not found.\n",
            "WARNING:matplotlib.font_manager:findfont: Font family 'Verdana' not found.\n",
            "WARNING:matplotlib.font_manager:findfont: Font family 'Verdana' not found.\n",
            "WARNING:matplotlib.font_manager:findfont: Font family 'Verdana' not found.\n",
            "WARNING:matplotlib.font_manager:findfont: Font family 'Verdana' not found.\n",
            "WARNING:matplotlib.font_manager:findfont: Font family 'Verdana' not found.\n",
            "WARNING:matplotlib.font_manager:findfont: Font family 'Verdana' not found.\n",
            "WARNING:matplotlib.font_manager:findfont: Font family 'Verdana' not found.\n",
            "WARNING:matplotlib.font_manager:findfont: Font family 'Verdana' not found.\n",
            "WARNING:matplotlib.font_manager:findfont: Font family 'Verdana' not found.\n",
            "WARNING:matplotlib.font_manager:findfont: Font family 'Verdana' not found.\n",
            "WARNING:matplotlib.font_manager:findfont: Font family 'Verdana' not found.\n",
            "WARNING:matplotlib.font_manager:findfont: Font family 'Verdana' not found.\n",
            "WARNING:matplotlib.font_manager:findfont: Font family 'Verdana' not found.\n",
            "WARNING:matplotlib.font_manager:findfont: Font family 'Verdana' not found.\n",
            "WARNING:matplotlib.font_manager:findfont: Font family 'Verdana' not found.\n",
            "WARNING:matplotlib.font_manager:findfont: Font family 'Verdana' not found.\n",
            "WARNING:matplotlib.font_manager:findfont: Font family 'Verdana' not found.\n",
            "WARNING:matplotlib.font_manager:findfont: Font family 'Verdana' not found.\n",
            "WARNING:matplotlib.font_manager:findfont: Font family 'Verdana' not found.\n",
            "WARNING:matplotlib.font_manager:findfont: Font family 'Verdana' not found.\n",
            "WARNING:matplotlib.font_manager:findfont: Font family 'Verdana' not found.\n",
            "WARNING:matplotlib.font_manager:findfont: Font family 'Verdana' not found.\n",
            "WARNING:matplotlib.font_manager:findfont: Font family 'Verdana' not found.\n",
            "WARNING:matplotlib.font_manager:findfont: Font family 'Verdana' not found.\n",
            "WARNING:matplotlib.font_manager:findfont: Font family 'Verdana' not found.\n",
            "WARNING:matplotlib.font_manager:findfont: Font family 'Verdana' not found.\n",
            "WARNING:matplotlib.font_manager:findfont: Font family 'Verdana' not found.\n",
            "WARNING:matplotlib.font_manager:findfont: Font family 'Verdana' not found.\n",
            "WARNING:matplotlib.font_manager:findfont: Font family 'Verdana' not found.\n",
            "WARNING:matplotlib.font_manager:findfont: Font family 'Verdana' not found.\n",
            "WARNING:matplotlib.font_manager:findfont: Font family 'Verdana' not found.\n",
            "WARNING:matplotlib.font_manager:findfont: Font family 'Verdana' not found.\n",
            "WARNING:matplotlib.font_manager:findfont: Font family 'Verdana' not found.\n",
            "WARNING:matplotlib.font_manager:findfont: Font family 'Verdana' not found.\n",
            "WARNING:matplotlib.font_manager:findfont: Font family 'Verdana' not found.\n",
            "WARNING:matplotlib.font_manager:findfont: Font family 'Verdana' not found.\n",
            "WARNING:matplotlib.font_manager:findfont: Font family 'Verdana' not found.\n",
            "WARNING:matplotlib.font_manager:findfont: Font family 'Verdana' not found.\n",
            "WARNING:matplotlib.font_manager:findfont: Font family 'Verdana' not found.\n",
            "WARNING:matplotlib.font_manager:findfont: Font family 'Verdana' not found.\n",
            "WARNING:matplotlib.font_manager:findfont: Font family 'Verdana' not found.\n",
            "WARNING:matplotlib.font_manager:findfont: Font family 'Verdana' not found.\n",
            "WARNING:matplotlib.font_manager:findfont: Font family 'Verdana' not found.\n",
            "WARNING:matplotlib.font_manager:findfont: Font family 'Verdana' not found.\n",
            "WARNING:matplotlib.font_manager:findfont: Font family 'Verdana' not found.\n",
            "WARNING:matplotlib.font_manager:findfont: Font family 'Verdana' not found.\n",
            "WARNING:matplotlib.font_manager:findfont: Font family 'Verdana' not found.\n",
            "WARNING:matplotlib.font_manager:findfont: Font family 'Verdana' not found.\n",
            "WARNING:matplotlib.font_manager:findfont: Font family 'Verdana' not found.\n",
            "WARNING:matplotlib.font_manager:findfont: Font family 'Verdana' not found.\n",
            "WARNING:matplotlib.font_manager:findfont: Font family 'Verdana' not found.\n",
            "WARNING:matplotlib.font_manager:findfont: Font family 'Verdana' not found.\n",
            "WARNING:matplotlib.font_manager:findfont: Font family 'Verdana' not found.\n",
            "WARNING:matplotlib.font_manager:findfont: Font family 'Verdana' not found.\n",
            "WARNING:matplotlib.font_manager:findfont: Font family 'Verdana' not found.\n",
            "WARNING:matplotlib.font_manager:findfont: Font family 'Verdana' not found.\n",
            "WARNING:matplotlib.font_manager:findfont: Font family 'Verdana' not found.\n",
            "WARNING:matplotlib.font_manager:findfont: Font family 'Verdana' not found.\n",
            "WARNING:matplotlib.font_manager:findfont: Font family 'Verdana' not found.\n",
            "WARNING:matplotlib.font_manager:findfont: Font family 'Verdana' not found.\n",
            "WARNING:matplotlib.font_manager:findfont: Font family 'Verdana' not found.\n",
            "WARNING:matplotlib.font_manager:findfont: Font family 'Verdana' not found.\n",
            "WARNING:matplotlib.font_manager:findfont: Font family 'Verdana' not found.\n",
            "WARNING:matplotlib.font_manager:findfont: Font family 'Verdana' not found.\n",
            "WARNING:matplotlib.font_manager:findfont: Font family 'Verdana' not found.\n",
            "WARNING:matplotlib.font_manager:findfont: Font family 'Verdana' not found.\n",
            "WARNING:matplotlib.font_manager:findfont: Font family 'Verdana' not found.\n",
            "WARNING:matplotlib.font_manager:findfont: Font family 'Verdana' not found.\n",
            "WARNING:matplotlib.font_manager:findfont: Font family 'Verdana' not found.\n",
            "WARNING:matplotlib.font_manager:findfont: Font family 'Verdana' not found.\n",
            "WARNING:matplotlib.font_manager:findfont: Font family 'Verdana' not found.\n",
            "WARNING:matplotlib.font_manager:findfont: Font family 'Verdana' not found.\n",
            "WARNING:matplotlib.font_manager:findfont: Font family 'Verdana' not found.\n",
            "WARNING:matplotlib.font_manager:findfont: Font family 'Verdana' not found.\n",
            "WARNING:matplotlib.font_manager:findfont: Font family 'Verdana' not found.\n",
            "WARNING:matplotlib.font_manager:findfont: Font family 'Verdana' not found.\n",
            "WARNING:matplotlib.font_manager:findfont: Font family 'Verdana' not found.\n",
            "WARNING:matplotlib.font_manager:findfont: Font family 'Verdana' not found.\n",
            "WARNING:matplotlib.font_manager:findfont: Font family 'Verdana' not found.\n",
            "WARNING:matplotlib.font_manager:findfont: Font family 'Verdana' not found.\n",
            "WARNING:matplotlib.font_manager:findfont: Font family 'Verdana' not found.\n",
            "WARNING:matplotlib.font_manager:findfont: Font family 'Verdana' not found.\n",
            "WARNING:matplotlib.font_manager:findfont: Font family 'Verdana' not found.\n",
            "WARNING:matplotlib.font_manager:findfont: Font family 'Verdana' not found.\n",
            "WARNING:matplotlib.font_manager:findfont: Font family 'Verdana' not found.\n",
            "WARNING:matplotlib.font_manager:findfont: Font family 'Verdana' not found.\n",
            "WARNING:matplotlib.font_manager:findfont: Font family 'Verdana' not found.\n",
            "WARNING:matplotlib.font_manager:findfont: Font family 'Verdana' not found.\n",
            "WARNING:matplotlib.font_manager:findfont: Font family 'Verdana' not found.\n",
            "WARNING:matplotlib.font_manager:findfont: Font family 'Verdana' not found.\n",
            "WARNING:matplotlib.font_manager:findfont: Font family 'Verdana' not found.\n",
            "WARNING:matplotlib.font_manager:findfont: Font family 'Verdana' not found.\n",
            "WARNING:matplotlib.font_manager:findfont: Font family 'Verdana' not found.\n",
            "WARNING:matplotlib.font_manager:findfont: Font family 'Verdana' not found.\n",
            "WARNING:matplotlib.font_manager:findfont: Font family 'Verdana' not found.\n",
            "WARNING:matplotlib.font_manager:findfont: Font family 'Verdana' not found.\n",
            "WARNING:matplotlib.font_manager:findfont: Font family 'Verdana' not found.\n",
            "WARNING:matplotlib.font_manager:findfont: Font family 'Verdana' not found.\n",
            "WARNING:matplotlib.font_manager:findfont: Font family 'Verdana' not found.\n",
            "WARNING:matplotlib.font_manager:findfont: Font family 'Verdana' not found.\n",
            "WARNING:matplotlib.font_manager:findfont: Font family 'Verdana' not found.\n",
            "WARNING:matplotlib.font_manager:findfont: Font family 'Verdana' not found.\n",
            "WARNING:matplotlib.font_manager:findfont: Font family 'Verdana' not found.\n",
            "WARNING:matplotlib.font_manager:findfont: Font family 'Verdana' not found.\n",
            "WARNING:matplotlib.font_manager:findfont: Font family 'Verdana' not found.\n",
            "WARNING:matplotlib.font_manager:findfont: Font family 'Verdana' not found.\n",
            "WARNING:matplotlib.font_manager:findfont: Font family 'Verdana' not found.\n",
            "WARNING:matplotlib.font_manager:findfont: Font family 'Verdana' not found.\n",
            "WARNING:matplotlib.font_manager:findfont: Font family 'Verdana' not found.\n",
            "WARNING:matplotlib.font_manager:findfont: Font family 'Verdana' not found.\n",
            "WARNING:matplotlib.font_manager:findfont: Font family 'Verdana' not found.\n",
            "WARNING:matplotlib.font_manager:findfont: Font family 'Verdana' not found.\n",
            "WARNING:matplotlib.font_manager:findfont: Font family 'Verdana' not found.\n",
            "WARNING:matplotlib.font_manager:findfont: Font family 'Verdana' not found.\n",
            "WARNING:matplotlib.font_manager:findfont: Font family 'Verdana' not found.\n",
            "WARNING:matplotlib.font_manager:findfont: Font family 'Verdana' not found.\n",
            "WARNING:matplotlib.font_manager:findfont: Font family 'Verdana' not found.\n",
            "WARNING:matplotlib.font_manager:findfont: Font family 'Verdana' not found.\n",
            "WARNING:matplotlib.font_manager:findfont: Font family 'Verdana' not found.\n",
            "WARNING:matplotlib.font_manager:findfont: Font family 'Verdana' not found.\n",
            "WARNING:matplotlib.font_manager:findfont: Font family 'Verdana' not found.\n",
            "WARNING:matplotlib.font_manager:findfont: Font family 'Verdana' not found.\n",
            "WARNING:matplotlib.font_manager:findfont: Font family 'Verdana' not found.\n",
            "WARNING:matplotlib.font_manager:findfont: Font family 'Verdana' not found.\n",
            "WARNING:matplotlib.font_manager:findfont: Font family 'Verdana' not found.\n",
            "WARNING:matplotlib.font_manager:findfont: Font family 'Verdana' not found.\n",
            "WARNING:matplotlib.font_manager:findfont: Font family 'Verdana' not found.\n",
            "WARNING:matplotlib.font_manager:findfont: Font family 'Verdana' not found.\n",
            "WARNING:matplotlib.font_manager:findfont: Font family 'Verdana' not found.\n",
            "WARNING:matplotlib.font_manager:findfont: Font family 'Verdana' not found.\n",
            "WARNING:matplotlib.font_manager:findfont: Font family 'Verdana' not found.\n",
            "WARNING:matplotlib.font_manager:findfont: Font family 'Verdana' not found.\n",
            "WARNING:matplotlib.font_manager:findfont: Font family 'Verdana' not found.\n",
            "WARNING:matplotlib.font_manager:findfont: Font family 'Verdana' not found.\n",
            "WARNING:matplotlib.font_manager:findfont: Font family 'Verdana' not found.\n",
            "WARNING:matplotlib.font_manager:findfont: Font family 'Verdana' not found.\n",
            "WARNING:matplotlib.font_manager:findfont: Font family 'Verdana' not found.\n",
            "WARNING:matplotlib.font_manager:findfont: Font family 'Verdana' not found.\n",
            "WARNING:matplotlib.font_manager:findfont: Font family 'Verdana' not found.\n",
            "WARNING:matplotlib.font_manager:findfont: Font family 'Verdana' not found.\n",
            "WARNING:matplotlib.font_manager:findfont: Font family 'Verdana' not found.\n",
            "WARNING:matplotlib.font_manager:findfont: Font family 'Verdana' not found.\n",
            "WARNING:matplotlib.font_manager:findfont: Font family 'Verdana' not found.\n",
            "WARNING:matplotlib.font_manager:findfont: Font family 'Verdana' not found.\n",
            "WARNING:matplotlib.font_manager:findfont: Font family 'Verdana' not found.\n"
          ]
        },
        {
          "output_type": "display_data",
          "data": {
            "text/plain": [
              "<Figure size 1500x500 with 1 Axes>"
            ],
            "image/png": "[encoded data removed]"
          },
          "metadata": {}
        }
      ],
      "source": [
        "from __future__ import division, print_function\n",
        "# отключим всякие предупреждения Anaconda\n",
        "import warnings\n",
        "warnings.filterwarnings('ignore')\n",
        "%pylab inline\n",
        "import seaborn as sns\n",
        "# russian headres\n",
        "from matplotlib import rc\n",
        "font = {'family': 'Verdana',\n",
        "        'weight': 'normal'}\n",
        "rc('font', **font)\n",
        "import pandas as pd\n",
        "import numpy as np\n",
        "from sklearn.ensemble import RandomForestRegressor\n",
        "\n",
        "hostel_data = pd.read_csv(\"hostel_factors.csv\")\n",
        "features = {\"f1\":u\"Персонал\",\n",
        "\"f2\":u\"Бронирование хостела \",\n",
        "\"f3\":u\"Заезд в хостел и выезд из хостела\",\n",
        "\"f4\":u\"Состояние комнаты\",\n",
        "\"f5\":u\"Состояние общей кухни\",\n",
        "\"f6\":u\"Состояние общего пространства\",\n",
        "\"f7\":u\"Дополнительные услуги\",\n",
        "\"f8\":u\"Общие условия и удобства\",\n",
        "\"f9\":u\"Цена/качество\",\n",
        "\"f10\":u\"ССЦ\"}\n",
        "\n",
        "forest = RandomForestRegressor(n_estimators=1000, max_features=10,\n",
        "                                random_state=0)\n",
        "\n",
        "forest.fit(hostel_data.drop(['hostel', 'rating'], axis=1),\n",
        "           hostel_data['rating'])\n",
        "importances = forest.feature_importances_\n",
        "\n",
        "indices = np.argsort(importances)[::-1]\n",
        "# Plot the feature importancies of the forest\n",
        "num_to_plot = 10\n",
        "feature_indices = [ind+1 for ind in indices[:num_to_plot]]\n",
        "\n",
        "# Print the feature ranking\n",
        "print(\"Feature ranking:\")\n",
        "\n",
        "for f in range(num_to_plot):\n",
        "    print(\"%d. %s %f \" % (f + 1,\n",
        "            features[\"f\"+str(feature_indices[f])],\n",
        "            importances[indices[f]]))\n",
        "plt.figure(figsize=(15,5))\n",
        "plt.title(u\"Важность конструктов\")\n",
        "bars = plt.bar(range(num_to_plot),\n",
        "               importances[indices[:num_to_plot]],\n",
        "       color=([str(i/float(num_to_plot+1))\n",
        "               for i in range(num_to_plot)]),\n",
        "               align=\"center\")\n",
        "ticks = plt.xticks(range(num_to_plot),\n",
        "                   feature_indices)\n",
        "plt.xlim([-1, num_to_plot])\n",
        "plt.legend(bars, [u''.join(features[\"f\"+str(i)])\n",
        "                  for i in feature_indices])"
      ]
    },
    {
      "cell_type": "markdown",
      "metadata": {
        "id": "a_6QwRTTMxqT"
      },
      "source": [
        "<h1 align=\"center\">Выводы</h1>"
      ]
    },
    {
      "cell_type": "markdown",
      "metadata": {
        "collapsed": true,
        "id": "XMNzSX_1MxqT"
      },
      "source": [
        "**Bagging**:\n",
        "    - Одна из лучших техник для построения алгоритмов ML\n",
        "    - Линейно уменьшает разброс и не уменьшает смещение (если не коррелированы ответы базовых алоритмов)\n",
        "    - Слабое переобучение\n",
        "    - НО переобучение ЕСТЬ -- от сложности одного алгоритма, лучше все же немного обрезать деревья\n",
        "\n",
        "** Random Forest **\n",
        "\n",
        "Плюсы:\n",
        "- имеет высокую точность предсказания, на большинстве задач будет лучше линейных алгоритмов; точность сравнима с точностью бустинга\n",
        "- практически не чувствителен к выбросам в данных из-за случайного сэмлирования\n",
        "- не чувствителен к масштабированию (и вообще к любым монотонным преобразованиям) значений признаков, связано с выбором случайных подпространств\n",
        "- не требует тщательной настройки параметров, хорошо работает «из коробки». С помощью «тюнинга» параметров можно достичь прироста от 0.5 до 3% точности в зависимости от задачи и данных\n",
        "- способен эффективно обрабатывать данные с большим числом признаков и классов\n",
        "- одинаково хорошо обрабатывет как непрерывные, так и дискретные признаки\n",
        "- редко переобучается, на практике добавление деревьев почти всегда только улучшает композицию, но на валидации, после достижения определенного количества деревьев, кривая обучения выходит на асимптоту\n",
        "- для случайного леса существуют методы оценивания значимости отдельных признаков в модели\n",
        "- хорошо работает с пропущенными данными; сохраняет хорошую точность, если большая часть данных пропущенна\n",
        "- предполагает возможность сбалансировать вес каждого класса на всей выборке, либо на подвыборке каждого дерева\n",
        "- вычисляет близость между парами объектов, которые могут использоваться при кластеризации, обнаружении выбросов или (путем масштабирования) дают интересные представления данных\n",
        "- возможности, описанные выше, могут быть расширены до неразмеченных данных, что приводит к возможности делать кластеризацию и визуализацию данных, обнаруживать выбросы\n",
        "- высокая параллелизуемость и масштабируемость.\n",
        "\n",
        "Минусы:\n",
        "- в отличие от одного дерева, результаты случайного леса сложнее интерпретировать\n",
        "- нет формальных выводов (p-values), доступных для оценки важности переменных\n",
        "- алгоритм работает хуже многих линейных методов, когда в выборке очень много разреженных признаков (тексты, Bag of words)\n",
        "- случайный лес не умеет экстраполировать, в отличие от той же линейной регрессии (но это можно считать и плюсом, так как не будет экстремальных значений в случае попадания выброса)\n",
        "- алгоритм склонен к переобучению на некоторых задачах, особенно на зашумленных данных\n",
        "- для данных, включающих категориальные переменные с различным количеством уровней, случайные леса предвзяты в пользу признаков с большим количеством уровней: когда у признака много уровней, дерево будет сильнее подстраиваться именно под эти признаки, так как на них можно получить более высокое значение оптимизируемого функционала (типа прироста информации)\n",
        "- если данные содержат группы коррелированных признаков, имеющих схожую значимость для меток, то предпочтение отдается небольшим группам перед большими\n",
        "- больший размер получающихся моделей. Требуется $O(NK)$ памяти для хранения модели, где $K$ — число деревьев."
      ]
    }
  ],
  "metadata": {
    "anaconda-cloud": {},
    "kernelspec": {
      "display_name": "Py3 research env",
      "language": "python",
      "name": "py3_research"
    },
    "language_info": {
      "codemirror_mode": {
        "name": "ipython",
        "version": 3
      },
      "file_extension": ".py",
      "mimetype": "text/x-python",
      "name": "python",
      "nbconvert_exporter": "python",
      "pygments_lexer": "ipython3",
      "version": "3.7.7"
    },
    "colab": {
      "provenance": []
    }
  },
  "nbformat": 4,
  "nbformat_minor": 0
}