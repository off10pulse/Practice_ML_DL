{
  "nbformat": 4,
  "nbformat_minor": 0,
  "metadata": {
    "colab": {
      "provenance": [],
      "gpuType": "T4"
    },
    "kernelspec": {
      "name": "python3",
      "display_name": "Python 3"
    },
    "language_info": {
      "name": "python"
    },
    "accelerator": "GPU",
    "widgets": {
      "application/vnd.jupyter.widget-state+json": {
        "1fe4e81b9d8d4bfa9b594244c59348a7": {
          "model_module": "@jupyter-widgets/controls",
          "model_name": "HBoxModel",
          "model_module_version": "1.5.0",
          "state": {
            "_dom_classes": [],
            "_model_module": "@jupyter-widgets/controls",
            "_model_module_version": "1.5.0",
            "_model_name": "HBoxModel",
            "_view_count": null,
            "_view_module": "@jupyter-widgets/controls",
            "_view_module_version": "1.5.0",
            "_view_name": "HBoxView",
            "box_style": "",
            "children": [
              "IPY_MODEL_c398c1ad764c4fd08c7642b9c93f5f42",
              "IPY_MODEL_51113d40e4084b3f9c8c97e5209fe119",
              "IPY_MODEL_72ca9dcdfa5e43e9911762a0e3b5c1b6"
            ],
            "layout": "IPY_MODEL_3b4b8c8d39ca4877b41bcf347ebe957a"
          }
        },
        "c398c1ad764c4fd08c7642b9c93f5f42": {
          "model_module": "@jupyter-widgets/controls",
          "model_name": "HTMLModel",
          "model_module_version": "1.5.0",
          "state": {
            "_dom_classes": [],
            "_model_module": "@jupyter-widgets/controls",
            "_model_module_version": "1.5.0",
            "_model_name": "HTMLModel",
            "_view_count": null,
            "_view_module": "@jupyter-widgets/controls",
            "_view_module_version": "1.5.0",
            "_view_name": "HTMLView",
            "description": "",
            "description_tooltip": null,
            "layout": "IPY_MODEL_8d1b6d83f1cd433d9acb452ca01308ff",
            "placeholder": "​",
            "style": "IPY_MODEL_69f9eda906964cf9bd17ffa08cc30ccf",
            "value": "100%"
          }
        },
        "51113d40e4084b3f9c8c97e5209fe119": {
          "model_module": "@jupyter-widgets/controls",
          "model_name": "FloatProgressModel",
          "model_module_version": "1.5.0",
          "state": {
            "_dom_classes": [],
            "_model_module": "@jupyter-widgets/controls",
            "_model_module_version": "1.5.0",
            "_model_name": "FloatProgressModel",
            "_view_count": null,
            "_view_module": "@jupyter-widgets/controls",
            "_view_module_version": "1.5.0",
            "_view_name": "ProgressView",
            "bar_style": "success",
            "description": "",
            "description_tooltip": null,
            "layout": "IPY_MODEL_64714332437543cea73a75d373e0046c",
            "max": 10,
            "min": 0,
            "orientation": "horizontal",
            "style": "IPY_MODEL_6d31633c4fe84acfbec4d1491c790faf",
            "value": 10
          }
        },
        "72ca9dcdfa5e43e9911762a0e3b5c1b6": {
          "model_module": "@jupyter-widgets/controls",
          "model_name": "HTMLModel",
          "model_module_version": "1.5.0",
          "state": {
            "_dom_classes": [],
            "_model_module": "@jupyter-widgets/controls",
            "_model_module_version": "1.5.0",
            "_model_name": "HTMLModel",
            "_view_count": null,
            "_view_module": "@jupyter-widgets/controls",
            "_view_module_version": "1.5.0",
            "_view_name": "HTMLView",
            "description": "",
            "description_tooltip": null,
            "layout": "IPY_MODEL_072432cb000c4df5890444b8115d2d2d",
            "placeholder": "​",
            "style": "IPY_MODEL_55b22c333430418b9626155cf3aa5e3c",
            "value": " 10/10 [01:29&lt;00:00,  8.45s/it]"
          }
        },
        "3b4b8c8d39ca4877b41bcf347ebe957a": {
          "model_module": "@jupyter-widgets/base",
          "model_name": "LayoutModel",
          "model_module_version": "1.2.0",
          "state": {
            "_model_module": "@jupyter-widgets/base",
            "_model_module_version": "1.2.0",
            "_model_name": "LayoutModel",
            "_view_count": null,
            "_view_module": "@jupyter-widgets/base",
            "_view_module_version": "1.2.0",
            "_view_name": "LayoutView",
            "align_content": null,
            "align_items": null,
            "align_self": null,
            "border": null,
            "bottom": null,
            "display": null,
            "flex": null,
            "flex_flow": null,
            "grid_area": null,
            "grid_auto_columns": null,
            "grid_auto_flow": null,
            "grid_auto_rows": null,
            "grid_column": null,
            "grid_gap": null,
            "grid_row": null,
            "grid_template_areas": null,
            "grid_template_columns": null,
            "grid_template_rows": null,
            "height": null,
            "justify_content": null,
            "justify_items": null,
            "left": null,
            "margin": null,
            "max_height": null,
            "max_width": null,
            "min_height": null,
            "min_width": null,
            "object_fit": null,
            "object_position": null,
            "order": null,
            "overflow": null,
            "overflow_x": null,
            "overflow_y": null,
            "padding": null,
            "right": null,
            "top": null,
            "visibility": null,
            "width": null
          }
        },
        "8d1b6d83f1cd433d9acb452ca01308ff": {
          "model_module": "@jupyter-widgets/base",
          "model_name": "LayoutModel",
          "model_module_version": "1.2.0",
          "state": {
            "_model_module": "@jupyter-widgets/base",
            "_model_module_version": "1.2.0",
            "_model_name": "LayoutModel",
            "_view_count": null,
            "_view_module": "@jupyter-widgets/base",
            "_view_module_version": "1.2.0",
            "_view_name": "LayoutView",
            "align_content": null,
            "align_items": null,
            "align_self": null,
            "border": null,
            "bottom": null,
            "display": null,
            "flex": null,
            "flex_flow": null,
            "grid_area": null,
            "grid_auto_columns": null,
            "grid_auto_flow": null,
            "grid_auto_rows": null,
            "grid_column": null,
            "grid_gap": null,
            "grid_row": null,
            "grid_template_areas": null,
            "grid_template_columns": null,
            "grid_template_rows": null,
            "height": null,
            "justify_content": null,
            "justify_items": null,
            "left": null,
            "margin": null,
            "max_height": null,
            "max_width": null,
            "min_height": null,
            "min_width": null,
            "object_fit": null,
            "object_position": null,
            "order": null,
            "overflow": null,
            "overflow_x": null,
            "overflow_y": null,
            "padding": null,
            "right": null,
            "top": null,
            "visibility": null,
            "width": null
          }
        },
        "69f9eda906964cf9bd17ffa08cc30ccf": {
          "model_module": "@jupyter-widgets/controls",
          "model_name": "DescriptionStyleModel",
          "model_module_version": "1.5.0",
          "state": {
            "_model_module": "@jupyter-widgets/controls",
            "_model_module_version": "1.5.0",
            "_model_name": "DescriptionStyleModel",
            "_view_count": null,
            "_view_module": "@jupyter-widgets/base",
            "_view_module_version": "1.2.0",
            "_view_name": "StyleView",
            "description_width": ""
          }
        },
        "64714332437543cea73a75d373e0046c": {
          "model_module": "@jupyter-widgets/base",
          "model_name": "LayoutModel",
          "model_module_version": "1.2.0",
          "state": {
            "_model_module": "@jupyter-widgets/base",
            "_model_module_version": "1.2.0",
            "_model_name": "LayoutModel",
            "_view_count": null,
            "_view_module": "@jupyter-widgets/base",
            "_view_module_version": "1.2.0",
            "_view_name": "LayoutView",
            "align_content": null,
            "align_items": null,
            "align_self": null,
            "border": null,
            "bottom": null,
            "display": null,
            "flex": null,
            "flex_flow": null,
            "grid_area": null,
            "grid_auto_columns": null,
            "grid_auto_flow": null,
            "grid_auto_rows": null,
            "grid_column": null,
            "grid_gap": null,
            "grid_row": null,
            "grid_template_areas": null,
            "grid_template_columns": null,
            "grid_template_rows": null,
            "height": null,
            "justify_content": null,
            "justify_items": null,
            "left": null,
            "margin": null,
            "max_height": null,
            "max_width": null,
            "min_height": null,
            "min_width": null,
            "object_fit": null,
            "object_position": null,
            "order": null,
            "overflow": null,
            "overflow_x": null,
            "overflow_y": null,
            "padding": null,
            "right": null,
            "top": null,
            "visibility": null,
            "width": null
          }
        },
        "6d31633c4fe84acfbec4d1491c790faf": {
          "model_module": "@jupyter-widgets/controls",
          "model_name": "ProgressStyleModel",
          "model_module_version": "1.5.0",
          "state": {
            "_model_module": "@jupyter-widgets/controls",
            "_model_module_version": "1.5.0",
            "_model_name": "ProgressStyleModel",
            "_view_count": null,
            "_view_module": "@jupyter-widgets/base",
            "_view_module_version": "1.2.0",
            "_view_name": "StyleView",
            "bar_color": null,
            "description_width": ""
          }
        },
        "072432cb000c4df5890444b8115d2d2d": {
          "model_module": "@jupyter-widgets/base",
          "model_name": "LayoutModel",
          "model_module_version": "1.2.0",
          "state": {
            "_model_module": "@jupyter-widgets/base",
            "_model_module_version": "1.2.0",
            "_model_name": "LayoutModel",
            "_view_count": null,
            "_view_module": "@jupyter-widgets/base",
            "_view_module_version": "1.2.0",
            "_view_name": "LayoutView",
            "align_content": null,
            "align_items": null,
            "align_self": null,
            "border": null,
            "bottom": null,
            "display": null,
            "flex": null,
            "flex_flow": null,
            "grid_area": null,
            "grid_auto_columns": null,
            "grid_auto_flow": null,
            "grid_auto_rows": null,
            "grid_column": null,
            "grid_gap": null,
            "grid_row": null,
            "grid_template_areas": null,
            "grid_template_columns": null,
            "grid_template_rows": null,
            "height": null,
            "justify_content": null,
            "justify_items": null,
            "left": null,
            "margin": null,
            "max_height": null,
            "max_width": null,
            "min_height": null,
            "min_width": null,
            "object_fit": null,
            "object_position": null,
            "order": null,
            "overflow": null,
            "overflow_x": null,
            "overflow_y": null,
            "padding": null,
            "right": null,
            "top": null,
            "visibility": null,
            "width": null
          }
        },
        "55b22c333430418b9626155cf3aa5e3c": {
          "model_module": "@jupyter-widgets/controls",
          "model_name": "DescriptionStyleModel",
          "model_module_version": "1.5.0",
          "state": {
            "_model_module": "@jupyter-widgets/controls",
            "_model_module_version": "1.5.0",
            "_model_name": "DescriptionStyleModel",
            "_view_count": null,
            "_view_module": "@jupyter-widgets/base",
            "_view_module_version": "1.2.0",
            "_view_name": "StyleView",
            "description_width": ""
          }
        },
        "2efc23966d394f679f79265a38d93396": {
          "model_module": "@jupyter-widgets/controls",
          "model_name": "HBoxModel",
          "model_module_version": "1.5.0",
          "state": {
            "_dom_classes": [],
            "_model_module": "@jupyter-widgets/controls",
            "_model_module_version": "1.5.0",
            "_model_name": "HBoxModel",
            "_view_count": null,
            "_view_module": "@jupyter-widgets/controls",
            "_view_module_version": "1.5.0",
            "_view_name": "HBoxView",
            "box_style": "",
            "children": [
              "IPY_MODEL_f2c2b39612c84aeeacc83c377a2d2fb4",
              "IPY_MODEL_d8097aadf72c42c39189d305c05e4c49",
              "IPY_MODEL_e2b5336039004cc0a808d20547423dd3"
            ],
            "layout": "IPY_MODEL_f5fbefb15af34e04a1377f7dc294d239"
          }
        },
        "f2c2b39612c84aeeacc83c377a2d2fb4": {
          "model_module": "@jupyter-widgets/controls",
          "model_name": "HTMLModel",
          "model_module_version": "1.5.0",
          "state": {
            "_dom_classes": [],
            "_model_module": "@jupyter-widgets/controls",
            "_model_module_version": "1.5.0",
            "_model_name": "HTMLModel",
            "_view_count": null,
            "_view_module": "@jupyter-widgets/controls",
            "_view_module_version": "1.5.0",
            "_view_name": "HTMLView",
            "description": "",
            "description_tooltip": null,
            "layout": "IPY_MODEL_8e6e5bb047fc430cb37d139bb815c19c",
            "placeholder": "​",
            "style": "IPY_MODEL_1f5869075aae4c11987c957d7ccc2491",
            "value": "100%"
          }
        },
        "d8097aadf72c42c39189d305c05e4c49": {
          "model_module": "@jupyter-widgets/controls",
          "model_name": "FloatProgressModel",
          "model_module_version": "1.5.0",
          "state": {
            "_dom_classes": [],
            "_model_module": "@jupyter-widgets/controls",
            "_model_module_version": "1.5.0",
            "_model_name": "FloatProgressModel",
            "_view_count": null,
            "_view_module": "@jupyter-widgets/controls",
            "_view_module_version": "1.5.0",
            "_view_name": "ProgressView",
            "bar_style": "success",
            "description": "",
            "description_tooltip": null,
            "layout": "IPY_MODEL_74b31bec52a94b218176620cdf8a8ec6",
            "max": 10,
            "min": 0,
            "orientation": "horizontal",
            "style": "IPY_MODEL_7db1fd07713e426bac9c5d6a004e969e",
            "value": 10
          }
        },
        "e2b5336039004cc0a808d20547423dd3": {
          "model_module": "@jupyter-widgets/controls",
          "model_name": "HTMLModel",
          "model_module_version": "1.5.0",
          "state": {
            "_dom_classes": [],
            "_model_module": "@jupyter-widgets/controls",
            "_model_module_version": "1.5.0",
            "_model_name": "HTMLModel",
            "_view_count": null,
            "_view_module": "@jupyter-widgets/controls",
            "_view_module_version": "1.5.0",
            "_view_name": "HTMLView",
            "description": "",
            "description_tooltip": null,
            "layout": "IPY_MODEL_d34fd14cd1e541a3b0aa520728ff6950",
            "placeholder": "​",
            "style": "IPY_MODEL_eb795a713f4c41e4be73376eb3c3b8de",
            "value": " 10/10 [00:48&lt;00:00,  4.84s/it]"
          }
        },
        "f5fbefb15af34e04a1377f7dc294d239": {
          "model_module": "@jupyter-widgets/base",
          "model_name": "LayoutModel",
          "model_module_version": "1.2.0",
          "state": {
            "_model_module": "@jupyter-widgets/base",
            "_model_module_version": "1.2.0",
            "_model_name": "LayoutModel",
            "_view_count": null,
            "_view_module": "@jupyter-widgets/base",
            "_view_module_version": "1.2.0",
            "_view_name": "LayoutView",
            "align_content": null,
            "align_items": null,
            "align_self": null,
            "border": null,
            "bottom": null,
            "display": null,
            "flex": null,
            "flex_flow": null,
            "grid_area": null,
            "grid_auto_columns": null,
            "grid_auto_flow": null,
            "grid_auto_rows": null,
            "grid_column": null,
            "grid_gap": null,
            "grid_row": null,
            "grid_template_areas": null,
            "grid_template_columns": null,
            "grid_template_rows": null,
            "height": null,
            "justify_content": null,
            "justify_items": null,
            "left": null,
            "margin": null,
            "max_height": null,
            "max_width": null,
            "min_height": null,
            "min_width": null,
            "object_fit": null,
            "object_position": null,
            "order": null,
            "overflow": null,
            "overflow_x": null,
            "overflow_y": null,
            "padding": null,
            "right": null,
            "top": null,
            "visibility": null,
            "width": null
          }
        },
        "8e6e5bb047fc430cb37d139bb815c19c": {
          "model_module": "@jupyter-widgets/base",
          "model_name": "LayoutModel",
          "model_module_version": "1.2.0",
          "state": {
            "_model_module": "@jupyter-widgets/base",
            "_model_module_version": "1.2.0",
            "_model_name": "LayoutModel",
            "_view_count": null,
            "_view_module": "@jupyter-widgets/base",
            "_view_module_version": "1.2.0",
            "_view_name": "LayoutView",
            "align_content": null,
            "align_items": null,
            "align_self": null,
            "border": null,
            "bottom": null,
            "display": null,
            "flex": null,
            "flex_flow": null,
            "grid_area": null,
            "grid_auto_columns": null,
            "grid_auto_flow": null,
            "grid_auto_rows": null,
            "grid_column": null,
            "grid_gap": null,
            "grid_row": null,
            "grid_template_areas": null,
            "grid_template_columns": null,
            "grid_template_rows": null,
            "height": null,
            "justify_content": null,
            "justify_items": null,
            "left": null,
            "margin": null,
            "max_height": null,
            "max_width": null,
            "min_height": null,
            "min_width": null,
            "object_fit": null,
            "object_position": null,
            "order": null,
            "overflow": null,
            "overflow_x": null,
            "overflow_y": null,
            "padding": null,
            "right": null,
            "top": null,
            "visibility": null,
            "width": null
          }
        },
        "1f5869075aae4c11987c957d7ccc2491": {
          "model_module": "@jupyter-widgets/controls",
          "model_name": "DescriptionStyleModel",
          "model_module_version": "1.5.0",
          "state": {
            "_model_module": "@jupyter-widgets/controls",
            "_model_module_version": "1.5.0",
            "_model_name": "DescriptionStyleModel",
            "_view_count": null,
            "_view_module": "@jupyter-widgets/base",
            "_view_module_version": "1.2.0",
            "_view_name": "StyleView",
            "description_width": ""
          }
        },
        "74b31bec52a94b218176620cdf8a8ec6": {
          "model_module": "@jupyter-widgets/base",
          "model_name": "LayoutModel",
          "model_module_version": "1.2.0",
          "state": {
            "_model_module": "@jupyter-widgets/base",
            "_model_module_version": "1.2.0",
            "_model_name": "LayoutModel",
            "_view_count": null,
            "_view_module": "@jupyter-widgets/base",
            "_view_module_version": "1.2.0",
            "_view_name": "LayoutView",
            "align_content": null,
            "align_items": null,
            "align_self": null,
            "border": null,
            "bottom": null,
            "display": null,
            "flex": null,
            "flex_flow": null,
            "grid_area": null,
            "grid_auto_columns": null,
            "grid_auto_flow": null,
            "grid_auto_rows": null,
            "grid_column": null,
            "grid_gap": null,
            "grid_row": null,
            "grid_template_areas": null,
            "grid_template_columns": null,
            "grid_template_rows": null,
            "height": null,
            "justify_content": null,
            "justify_items": null,
            "left": null,
            "margin": null,
            "max_height": null,
            "max_width": null,
            "min_height": null,
            "min_width": null,
            "object_fit": null,
            "object_position": null,
            "order": null,
            "overflow": null,
            "overflow_x": null,
            "overflow_y": null,
            "padding": null,
            "right": null,
            "top": null,
            "visibility": null,
            "width": null
          }
        },
        "7db1fd07713e426bac9c5d6a004e969e": {
          "model_module": "@jupyter-widgets/controls",
          "model_name": "ProgressStyleModel",
          "model_module_version": "1.5.0",
          "state": {
            "_model_module": "@jupyter-widgets/controls",
            "_model_module_version": "1.5.0",
            "_model_name": "ProgressStyleModel",
            "_view_count": null,
            "_view_module": "@jupyter-widgets/base",
            "_view_module_version": "1.2.0",
            "_view_name": "StyleView",
            "bar_color": null,
            "description_width": ""
          }
        },
        "d34fd14cd1e541a3b0aa520728ff6950": {
          "model_module": "@jupyter-widgets/base",
          "model_name": "LayoutModel",
          "model_module_version": "1.2.0",
          "state": {
            "_model_module": "@jupyter-widgets/base",
            "_model_module_version": "1.2.0",
            "_model_name": "LayoutModel",
            "_view_count": null,
            "_view_module": "@jupyter-widgets/base",
            "_view_module_version": "1.2.0",
            "_view_name": "LayoutView",
            "align_content": null,
            "align_items": null,
            "align_self": null,
            "border": null,
            "bottom": null,
            "display": null,
            "flex": null,
            "flex_flow": null,
            "grid_area": null,
            "grid_auto_columns": null,
            "grid_auto_flow": null,
            "grid_auto_rows": null,
            "grid_column": null,
            "grid_gap": null,
            "grid_row": null,
            "grid_template_areas": null,
            "grid_template_columns": null,
            "grid_template_rows": null,
            "height": null,
            "justify_content": null,
            "justify_items": null,
            "left": null,
            "margin": null,
            "max_height": null,
            "max_width": null,
            "min_height": null,
            "min_width": null,
            "object_fit": null,
            "object_position": null,
            "order": null,
            "overflow": null,
            "overflow_x": null,
            "overflow_y": null,
            "padding": null,
            "right": null,
            "top": null,
            "visibility": null,
            "width": null
          }
        },
        "eb795a713f4c41e4be73376eb3c3b8de": {
          "model_module": "@jupyter-widgets/controls",
          "model_name": "DescriptionStyleModel",
          "model_module_version": "1.5.0",
          "state": {
            "_model_module": "@jupyter-widgets/controls",
            "_model_module_version": "1.5.0",
            "_model_name": "DescriptionStyleModel",
            "_view_count": null,
            "_view_module": "@jupyter-widgets/base",
            "_view_module_version": "1.2.0",
            "_view_name": "StyleView",
            "description_width": ""
          }
        }
      }
    }
  },
  "cells": [
    {
      "cell_type": "markdown",
      "source": [
        "# In this notebook, I'm going to practice a powerful technique called transfer learning and be replicating a machine learning research paper."
      ],
      "metadata": {
        "id": "s4_9cAic5VYU"
      }
    },
    {
      "cell_type": "markdown",
      "source": [
        "Course practice: https://github.com/mrdbourke/pytorch-deep-learning"
      ],
      "metadata": {
        "id": "1HSouZT_5YrF"
      }
    },
    {
      "cell_type": "markdown",
      "source": [
        "## Imports"
      ],
      "metadata": {
        "id": "-9kaVM783Dmw"
      }
    },
    {
      "cell_type": "code",
      "execution_count": null,
      "metadata": {
        "id": "HeNVJSCQ2hU0"
      },
      "outputs": [],
      "source": [
        "import torch\n",
        "from torch.utils.data import DataLoader\n",
        "from torch import nn\n",
        "\n",
        "import torchvision\n",
        "from torchvision import datasets, transforms\n",
        "\n",
        "import numpy as np\n",
        "import pandas as pd\n",
        "import matplotlib.pyplot as plt\n",
        "from sklearn.metrics import confusion_matrix\n",
        "from seaborn import heatmap\n",
        "\n",
        "from pathlib import Path\n",
        "import requests\n",
        "import zipfile\n",
        "import os\n",
        "from tqdm.auto import tqdm\n",
        "from timeit import default_timer as timer\n",
        "from PIL import Image\n",
        "import random\n",
        "from typing import Tuple, Dict, List"
      ]
    },
    {
      "cell_type": "code",
      "source": [
        "try:\n",
        "    from torchinfo import summary\n",
        "except:\n",
        "    !pip install torchinfo\n",
        "    from torchinfo import summary"
      ],
      "metadata": {
        "colab": {
          "base_uri": "https://localhost:8080/"
        },
        "id": "f7sUAhEC3Fe5",
        "outputId": "19261d43-603e-49c7-9619-675611b4ca08"
      },
      "execution_count": null,
      "outputs": [
        {
          "output_type": "stream",
          "name": "stdout",
          "text": [
            "Collecting torchinfo\n",
            "  Downloading torchinfo-1.8.0-py3-none-any.whl.metadata (21 kB)\n",
            "Downloading torchinfo-1.8.0-py3-none-any.whl (23 kB)\n",
            "Installing collected packages: torchinfo\n",
            "Successfully installed torchinfo-1.8.0\n"
          ]
        }
      ]
    },
    {
      "cell_type": "markdown",
      "source": [
        "## Usful class and basic setup"
      ],
      "metadata": {
        "id": "5r5Bg8bf3J_-"
      }
    },
    {
      "cell_type": "code",
      "source": [
        "class Helper():\n",
        "\n",
        "    def __init__(self, device: torch.device):\n",
        "        self.device = device\n",
        "\n",
        "    def download_data(self,\n",
        "                      source: str,\n",
        "                      destination: str,\n",
        "                      remove_source: bool=True) -> Path:\n",
        "\n",
        "        # Path to data folder\n",
        "        data_path = Path('data/')\n",
        "        image_path = data_path / destination\n",
        "\n",
        "        # If image folder doesn't exist, dowload and prepare it\n",
        "        if image_path.is_dir():\n",
        "            print(f'{image_path} is already exists')\n",
        "        else:\n",
        "            print(f'Did not find {image_path} directory, creating it')\n",
        "            image_path.mkdir(parents=True, exist_ok=True)\n",
        "\n",
        "            # Download data from source\n",
        "            target_file = Path(source).name\n",
        "\n",
        "            with open(data_path / target_file, 'wb') as f:\n",
        "                request = requests.get(source)\n",
        "                print(f'Downloading {target_file} form {source}')\n",
        "                f.write(request.content)\n",
        "\n",
        "            # Unzip data from target file:\n",
        "            with zipfile.ZipFile(data_path / target_file, 'r') as zip:\n",
        "                print(f'Unzipping {target_file}')\n",
        "                zip.extractall(image_path)\n",
        "\n",
        "            if remove_source:\n",
        "                os.remove(data_path / target_file)\n",
        "\n",
        "        return image_path\n",
        "\n",
        "    def create_dataloaders(self,\n",
        "                           train_dir: str,\n",
        "                           test_dir: str,\n",
        "                           transform: transforms.Compose,\n",
        "                           batch_size: int,\n",
        "                           num_workers: int=os.cpu_count()):\n",
        "\n",
        "        # Create custom datasets by using ImageFolder\n",
        "        train_dataset = datasets.ImageFolder(train_dir, transform=transform)\n",
        "        test_dataset = datasets.ImageFolder(test_dir, transform=transform)\n",
        "\n",
        "        # Get class names\n",
        "        class_names = train_dataset.classes\n",
        "\n",
        "        # Turn images into data loaders\n",
        "        train_dataloader = DataLoader(dataset=train_dataset,\n",
        "                                      batch_size=batch_size,\n",
        "                                      shuffle=True,\n",
        "                                      num_workers=num_workers,\n",
        "                                      pin_memory=True\n",
        "                                      )\n",
        "        test_dataloader = DataLoader(dataset=test_dataset,\n",
        "                                     batch_size=batch_size,\n",
        "                                     shuffle=False,\n",
        "                                     num_workers=num_workers,\n",
        "                                     pin_memory=True)\n",
        "\n",
        "        return train_dataloader, test_dataloader, class_names\n",
        "\n",
        "    def set_seeds(self, seed: int=42):\n",
        "\n",
        "        # Set the seed for general torch operations\n",
        "        torch.manual_seed(seed)\n",
        "\n",
        "        # Set the seed for CUDA torch operations (ones that happen on the GPU)\n",
        "        torch.cuda.manual_seed(seed)\n",
        "\n",
        "    def train_step(self,\n",
        "                   model: torch.nn.Module,\n",
        "                   dataloader: torch.utils.data.DataLoader,\n",
        "                   loss_fn: torch.nn.Module,\n",
        "                   optimizer: torch.optim.Optimizer,\n",
        "                   device: torch.device) -> Tuple[float, float]:\n",
        "\n",
        "        # Put model in train mode\n",
        "        model.train()\n",
        "\n",
        "        # Setup train loss and train accuracy\n",
        "        train_loss, train_accuracy = 0, 0\n",
        "\n",
        "        # Loop through data loader data batches\n",
        "        for batch, (X, y) in enumerate(dataloader):\n",
        "\n",
        "            # Send data to device\n",
        "            X = X.to(device)\n",
        "            y = y.to(device)\n",
        "\n",
        "            # Forward pass\n",
        "            y_pred = model(X)\n",
        "\n",
        "            # Calculate loss\n",
        "            loss = loss_fn(y_pred, y)\n",
        "            train_loss += loss.item()\n",
        "\n",
        "            # 3 must have\n",
        "            optimizer.zero_grad()\n",
        "            loss.backward()\n",
        "            optimizer.step()\n",
        "\n",
        "            # Calculate accuracy\n",
        "            y_pred_class = torch.argmax(torch.softmax(y_pred, dim=1), dim=1)\n",
        "            train_accuracy += torch.eq(y_pred_class, y).sum().item() / len(y)\n",
        "\n",
        "        # Adjust metrics to get average loss and accuracy per batch\n",
        "        train_loss /= len(dataloader)\n",
        "        train_accuracy /= len(dataloader)\n",
        "\n",
        "        return train_loss, train_accuracy\n",
        "\n",
        "    @torch.inference_mode()\n",
        "    def test_step(self,\n",
        "                  model: torch.nn.Module,\n",
        "                  dataloader: torch.utils.data.DataLoader,\n",
        "                  loss_fn: torch.nn.Module,\n",
        "                  device: torch.device) -> Tuple[float, float]:\n",
        "\n",
        "        # Put model in eval mode\n",
        "        model.eval()\n",
        "\n",
        "        # Setup test loss and test accuracy\n",
        "        test_loss, test_accuracy = 0, 0\n",
        "\n",
        "        # Loop through data loader data batches\n",
        "        for batch, (X, y) in enumerate(dataloader):\n",
        "\n",
        "            # Send data to device\n",
        "            X = X.to(device)\n",
        "            y = y.to(device)\n",
        "\n",
        "            # Forward pass\n",
        "            y_pred = model(X)\n",
        "\n",
        "            # Calculate loss\n",
        "            loss = loss_fn(y_pred, y)\n",
        "            test_loss += loss.item()\n",
        "\n",
        "            # Calculate accuracy\n",
        "            y_pred_class = torch.argmax(torch.softmax(y_pred, dim=1), dim=1)\n",
        "            test_accuracy += torch.eq(y_pred_class, y).sum().item() / len(y)\n",
        "\n",
        "        # Adjust metrics to get average loss and accuracy per batch\n",
        "        test_loss /= len(dataloader)\n",
        "        test_accuracy /= len(dataloader)\n",
        "\n",
        "        return test_loss, test_accuracy\n",
        "\n",
        "    def train(self,\n",
        "              model: torch.nn.Module,\n",
        "              train_dataloader: torch.utils.data.DataLoader,\n",
        "              test_dataloader: torch.utils.data.DataLoader,\n",
        "              loss_fn: torch.nn.Module,\n",
        "              optimizer: torch.optim.Optimizer,\n",
        "              epochs: int,\n",
        "              device: torch.device) -> Dict[str, List[float]]:\n",
        "\n",
        "        res = {'train_loss': [],\n",
        "               'train_acc': [],\n",
        "               'test_loss': [],\n",
        "               'test_acc': []}\n",
        "\n",
        "        # Loop through training and testing steps for a number of epochs\n",
        "        for epoch in tqdm(range(epochs)):\n",
        "            train_loss, train_accuracy = self.train_step(model=model,\n",
        "                                                         dataloader=train_dataloader,\n",
        "                                                         loss_fn=loss_fn,\n",
        "                                                         optimizer=optimizer,\n",
        "                                                         device=device)\n",
        "            test_loss, test_accuracy = self.test_step(model=model,\n",
        "                                                      dataloader=test_dataloader,\n",
        "                                                      loss_fn=loss_fn,\n",
        "                                                      device=device)\n",
        "\n",
        "            # Logs\n",
        "            print(f'Epoch: {epoch + 1} | '\n",
        "                  f'train loss: {train_loss:.4f} | '\n",
        "                  f'train accuracy: {train_accuracy:.4f} | '\n",
        "                  f'test loss: {test_loss:.4f} | '\n",
        "                  f'test accuracy: {test_accuracy:.4f}')\n",
        "\n",
        "            # Update results\n",
        "            res['train_loss'].append(train_loss)\n",
        "            res['train_acc'].append(train_accuracy)\n",
        "            res['test_loss'].append(test_loss)\n",
        "            res['test_acc'].append(test_accuracy)\n",
        "\n",
        "        return res\n",
        "\n",
        "    def plot_loss_accuracy_curves(self, results: Dict[str, List[int]]):\n",
        "\n",
        "        # Get train loss, test loss, train accuracy, test accuracy from dict\n",
        "        train_loss = results['train_loss']\n",
        "        train_accuracy = results['train_acc']\n",
        "        test_loss = results['test_loss']\n",
        "        test_accuracy = results['test_acc']\n",
        "\n",
        "        # Figure out how many epochs there are\n",
        "        epochs = range(len(train_loss))\n",
        "\n",
        "        # Setup the plot\n",
        "        plt.figure(figsize=(15, 7))\n",
        "\n",
        "        # Plot loss\n",
        "        plt.subplot(1, 2, 1)\n",
        "        plt.plot(epochs, train_loss, label='Train loss')\n",
        "        plt.plot(epochs, test_loss, label='Test loss')\n",
        "        plt.title('Loss')\n",
        "        plt.xlabel('Epochs')\n",
        "        plt.legend()\n",
        "\n",
        "        # Plot accuracy\n",
        "        plt.subplot(1, 2, 2)\n",
        "        plt.plot(epochs, train_accuracy, label='Train accuracy')\n",
        "        plt.plot(epochs, test_accuracy, label='Test accuracy')\n",
        "        plt.title('Accuracy')\n",
        "        plt.xlabel('Epochs')\n",
        "        plt.legend()\n",
        "\n",
        "    @torch.inference_mode()\n",
        "    def predict_and_mb_plot(self,\n",
        "                            model: torch.nn.Module,\n",
        "                            image_path: str,\n",
        "                            class_names: List[str],\n",
        "                            device: torch.device,\n",
        "                            image_size: Tuple[int, int]=(224, 224),\n",
        "                            transform: torchvision.transforms=None,\n",
        "                            make_plot: bool=False):\n",
        "\n",
        "        # Open Image\n",
        "        image = Image.open(image_path)\n",
        "\n",
        "        # Create transformation for image\n",
        "        if transform:\n",
        "            image_transform = transform\n",
        "        else:\n",
        "            image_transform = transform\n",
        "            image_transform = torchvision.transforms.Compose([transforms.Resize(image_size),\n",
        "                                                             transforms.ToTensor(),\n",
        "                                                             transforms.Normalize(mean=[.485, .456, .406],\n",
        "                                                                                  std=[.229, .224, .225])])\n",
        "\n",
        "        # Predict label (class)\n",
        "        # Make sure the model is on the target device\n",
        "        model.to(device)\n",
        "\n",
        "        # Put model to eval mode\n",
        "        model.eval()\n",
        "\n",
        "        # Transform and add an extra dimension to image (model requires samples in [batch_size, color_channels, height, width])\n",
        "        transformed_image = image_transform(image).unsqueeze(dim=0)\n",
        "\n",
        "        # Calculate logits on image with an extra dimension and send it to the target device\n",
        "        logits = model((transformed_image).to(device))\n",
        "\n",
        "        # Calculate probability and make a prediction\n",
        "        probability = torch.softmax(logits, dim=1)\n",
        "        predicted = torch.argmax(probability, dim=1)\n",
        "\n",
        "        # Plot image with predicted label and probability\n",
        "        if make_plot:\n",
        "            plt.figure()\n",
        "            plt.imshow(image)\n",
        "            plt.title(f'Pred: {class_names[predicted]} | Prob: {probability.max():.3f}')\n",
        "            plt.axis(False)\n",
        "        else:\n",
        "            return predicted, torch.round(probability.max(), decimals=3)\n",
        "\n",
        "    def save_model(self,\n",
        "                   model: torch.nn.Module,\n",
        "                   target_dir: str,\n",
        "                   model_name: str):\n",
        "\n",
        "        # Create target directory\n",
        "        target_dir_path = Path(target_dir)\n",
        "        target_dir_path.mkdir(parents=True,\n",
        "                              exist_ok=True)\n",
        "\n",
        "        # Create model save path\n",
        "        assert model_name.endswith(\".pth\") or model_name.endswith(\".pt\"), \"model_name should end with '.pt' or '.pth'\"\n",
        "        model_save_path = target_dir_path / model_name\n",
        "\n",
        "        # Save model's state_dict()\n",
        "        print(f'Model saved in {model_save_path}')\n",
        "        torch.save(obj=model.state_dict(),\n",
        "                   f=model_save_path)\n",
        "\n",
        "    @torch.inference_mode()\n",
        "    def make_prediction(self,\n",
        "                        model: torch.nn.Module,\n",
        "                        data: list,\n",
        "                        device: torch.device) -> torch.Tensor:\n",
        "\n",
        "        probs, preds = [], []\n",
        "        model.eval()\n",
        "        if type(data[0]) is tuple:\n",
        "            data = [data[i][0] for i in range(len(data))]\n",
        "        for sample in data:\n",
        "            # Add an extra dimension to image (model requires samples in [batch_size, color_channels, height, width])\n",
        "            sample = torch.unsqueeze(sample, dim=0).to(device)\n",
        "            # Calculate logits on image with an extra dimension and send it to the target device\n",
        "            logits = model(sample)\n",
        "            # Calculate probability\n",
        "            probability = torch.softmax(logits, dim=1)\n",
        "            probs.append(probability.cpu())\n",
        "            predicted = torch.argmax(probability, dim=1)\n",
        "            preds.append(predicted.cpu())\n",
        "\n",
        "        # Stack probabilities and predictions into tensors\n",
        "        probs = torch.cat(probs, dim=0)\n",
        "        preds = torch.cat(preds, dim=0)\n",
        "\n",
        "        return probs, preds"
      ],
      "metadata": {
        "id": "_pm54NxK3GmE"
      },
      "execution_count": null,
      "outputs": []
    },
    {
      "cell_type": "code",
      "source": [
        "device = 'cuda' if torch.cuda.is_available() else 'cpu'"
      ],
      "metadata": {
        "id": "lcEmKO8-3Mad"
      },
      "execution_count": null,
      "outputs": []
    },
    {
      "cell_type": "code",
      "source": [
        "helper = Helper(device)"
      ],
      "metadata": {
        "id": "1L7GqrA83Ncg"
      },
      "execution_count": null,
      "outputs": []
    },
    {
      "cell_type": "code",
      "source": [
        "# Create global variables\n",
        "BATCH_SIZE = 32\n",
        "NUM_CLASSES = 3\n",
        "IMG_SIZE = 224\n",
        "OUT_SHAPE = 768"
      ],
      "metadata": {
        "id": "hCCFi-rh3OSw"
      },
      "execution_count": null,
      "outputs": []
    },
    {
      "cell_type": "markdown",
      "source": [
        "## Block 2: replicating a machine learning research paper"
      ],
      "metadata": {
        "id": "5XkhS9o-3Ugz"
      }
    },
    {
      "cell_type": "markdown",
      "source": [
        "Going to be replicating the machine learning research paper An Image is Worth 16x16 Words: Transformers for Image Recognition at Scale (ViT paper) with PyTorch\n",
        "Sourse: https://arxiv.org/abs/2010.11929"
      ],
      "metadata": {
        "id": "IAYX0Zr_3XxG"
      }
    },
    {
      "cell_type": "code",
      "source": [
        "# Let's create paths for training and testing directoreis\n",
        "image_path = helper.download_data(source='https://github.com/mrdbourke/pytorch-deep-learning/raw/main/data/pizza_steak_sushi.zip',\n",
        "                                  destination='pizza_steak_sushi')\n",
        "\n",
        "train_dir = image_path / 'train'\n",
        "test_dir = image_path / 'test'"
      ],
      "metadata": {
        "colab": {
          "base_uri": "https://localhost:8080/"
        },
        "id": "WUvU26Vr3PR2",
        "outputId": "02e35032-d842-4792-ddf8-e47e37ce6681"
      },
      "execution_count": null,
      "outputs": [
        {
          "output_type": "stream",
          "name": "stdout",
          "text": [
            "Did not find data/pizza_steak_sushi directory, creating it\n",
            "Downloading pizza_steak_sushi.zip form https://github.com/mrdbourke/pytorch-deep-learning/raw/main/data/pizza_steak_sushi.zip\n",
            "Unzipping pizza_steak_sushi.zip\n"
          ]
        }
      ]
    },
    {
      "cell_type": "code",
      "source": [
        "# As we can see, all training is performed with a resolution of 224\n",
        "# Let's add a new one to our global variables - IMG_SIZE = 224\n",
        "# And create a transform pipeline\n",
        "manual_transform = transforms.Compose([transforms.Resize(size=(IMG_SIZE, IMG_SIZE)),\n",
        "                                        transforms.ToTensor()])"
      ],
      "metadata": {
        "id": "jHxtM1163Z-c"
      },
      "execution_count": null,
      "outputs": []
    },
    {
      "cell_type": "code",
      "source": [
        "# In the original, BATCH_SIZE is 4096\n",
        "# It's too expensive, so let's use 32\n",
        "# Setup data loaders\n",
        "train_dataloader, test_dataloader, class_names = helper.create_dataloaders(train_dir=train_dir,\n",
        "                                                                           test_dir=test_dir,\n",
        "                                                                           transform=manual_transform,\n",
        "                                                                           batch_size=BATCH_SIZE)"
      ],
      "metadata": {
        "id": "y6U7X7-L3a8R"
      },
      "execution_count": null,
      "outputs": []
    },
    {
      "cell_type": "markdown",
      "source": [
        "### Equation 1 overview\n",
        "\n",
        "This equation deals with the class token, patch embedding and position embedding (E is for embedding) of the input image.\n",
        "\n",
        "In vector form, the embedding might look something like:\n",
        "\n",
        "x_input = [class_token, image_patch_1, image_patch_2, image_patch_3...] + [class_token_position, image_patch_1_position, image_patch_2_position, image_patch_3_position...]"
      ],
      "metadata": {
        "id": "RVkmfuxI3gau"
      }
    },
    {
      "cell_type": "code",
      "source": [
        "# Calculating number of patches\n",
        "height, width, color_channels, patch_size = IMG_SIZE, IMG_SIZE, 3, 16\n",
        "number_of_patches = int((height * width) / patch_size**2)\n",
        "\n",
        "# Calculating patch embedding input and output shapes\n",
        "embedding_layer_input_shape = (height, width, color_channels)\n",
        "embedding_layer_output_shape = (number_of_patches, patch_size**2 * color_channels)\n",
        "\n",
        "print(f\"Input shape (single 2D image): {embedding_layer_input_shape}\")\n",
        "print(f\"Output shape (single 2D image flattened into patches): {embedding_layer_output_shape}\")\n",
        "# New global variable OUT_SHAPE = 768"
      ],
      "metadata": {
        "colab": {
          "base_uri": "https://localhost:8080/"
        },
        "id": "vvYUzF1n3ccm",
        "outputId": "a3331018-ee81-412e-be43-07f227f1c954"
      },
      "execution_count": null,
      "outputs": [
        {
          "output_type": "stream",
          "name": "stdout",
          "text": [
            "Input shape (single 2D image): (224, 224, 3)\n",
            "Output shape (single 2D image flattened into patches): (196, 768)\n"
          ]
        }
      ]
    },
    {
      "cell_type": "code",
      "source": [
        "# Creating image patches with torch.nn.Conv2d()\n",
        "conv2d = nn.Conv2d(in_channels=color_channels,\n",
        "                   out_channels=OUT_SHAPE,\n",
        "                   kernel_size=(patch_size, patch_size),\n",
        "                   stride=patch_size,\n",
        "                   padding=0)"
      ],
      "metadata": {
        "id": "xBKIcaNg3iKV"
      },
      "execution_count": null,
      "outputs": []
    },
    {
      "cell_type": "code",
      "source": [
        "# Let's test on one random image\n",
        "image_batch, label_batch = next(iter(train_dataloader))\n",
        "image, label = image_batch[0], label_batch[0]\n",
        "image.shape, label"
      ],
      "metadata": {
        "colab": {
          "base_uri": "https://localhost:8080/"
        },
        "id": "gZY4kesO3jWu",
        "outputId": "a89b442d-0361-4132-da04-b33e4690b54e"
      },
      "execution_count": null,
      "outputs": [
        {
          "output_type": "execute_result",
          "data": {
            "text/plain": [
              "(torch.Size([3, 224, 224]), tensor(2))"
            ]
          },
          "metadata": {},
          "execution_count": 12
        }
      ]
    },
    {
      "cell_type": "code",
      "source": [
        "plt.imshow(image.permute(1, 2, 0))  # image.shape = [color_channels, height, width] but mpl like image.shape = [height, width, color_channels]\n",
        "plt.title(class_names[label])\n",
        "plt.axis(False)"
      ],
      "metadata": {
        "colab": {
          "base_uri": "https://localhost:8080/",
          "height": 446
        },
        "id": "pB8Vc5jv3ktE",
        "outputId": "44e1d9b5-56a7-4c26-d10c-251a9cf7bf15"
      },
      "execution_count": null,
      "outputs": [
        {
          "output_type": "execute_result",
          "data": {
            "text/plain": [
              "(-0.5, 223.5, 223.5, -0.5)"
            ]
          },
          "metadata": {},
          "execution_count": 13
        },
        {
          "output_type": "display_data",
          "data": {
            "text/plain": [
              "<Figure size 640x480 with 1 Axes>"
            ],
            "image/png": "[encoded data removed]"
          },
          "metadata": {}
        }
      ]
    },
    {
      "cell_type": "code",
      "source": [
        "# Pass image through the conv2d\n",
        "image_out_of_conv2d = conv2d(image.unsqueeze(dim=0))  # add a single batch dimension (height, width, color_channels) -> (batch, height, width, color_channels)\n",
        "print(image_out_of_conv2d.shape)\n",
        "# [batch_size, embedding_dim, feature_map_height, feature_map_width]"
      ],
      "metadata": {
        "colab": {
          "base_uri": "https://localhost:8080/"
        },
        "id": "jQsydU6v3ly-",
        "outputId": "8388143d-ae2b-43cc-a1ac-34eded9516dd"
      },
      "execution_count": null,
      "outputs": [
        {
          "output_type": "stream",
          "name": "stdout",
          "text": [
            "torch.Size([1, 768, 14, 14])\n"
          ]
        }
      ]
    },
    {
      "cell_type": "code",
      "source": [
        "# Plot random 5 conv feature features\n",
        "rows, cols, n = 1, 5, 5\n",
        "random_idxs = random.sample(range(OUT_SHAPE), k=n)\n",
        "print(random_idxs)\n",
        "fig, ax = plt.subplots(rows, cols, figsize=(9, 9))\n",
        "for i, idx in enumerate(random_idxs):\n",
        "    image_conv_feature_map = image_out_of_conv2d[:, idx, :, :]  # index on the output tensor of the convolutional layer\n",
        "    ax[i].imshow(image_conv_feature_map.squeeze().detach().numpy())\n",
        "    ax[i].set(xticklabels=[], yticklabels=[], xticks=[], yticks=[])"
      ],
      "metadata": {
        "colab": {
          "base_uri": "https://localhost:8080/",
          "height": 175
        },
        "id": "vPWBT2Vf3nYK",
        "outputId": "543e1cb8-dca1-4e6c-b99c-7c121f3cee81"
      },
      "execution_count": null,
      "outputs": [
        {
          "output_type": "stream",
          "name": "stdout",
          "text": [
            "[490, 459, 190, 113, 596]\n"
          ]
        },
        {
          "output_type": "display_data",
          "data": {
            "text/plain": [
              "<Figure size 900x900 with 5 Axes>"
            ],
            "image/png": "[encoded data removed]"
          },
          "metadata": {}
        }
      ]
    },
    {
      "cell_type": "code",
      "source": [
        "# Only want to flatten the \"spatial dimensions of the feature map\"\n",
        "# Which in this case is the feature_map_height and feature_map_width dimensions of image_out_of_conv\n",
        "flatten = nn.Flatten(start_dim=2,  # flatten feature_map_height (dimension 2)\n",
        "                     end_dim=3)  # flatten feature_map_width (dimension 3)"
      ],
      "metadata": {
        "id": "Rv5aDkna3oQU"
      },
      "execution_count": null,
      "outputs": []
    },
    {
      "cell_type": "code",
      "source": [
        "# Flattening the patch embedding with torch.nn.Flatten()\n",
        "image_out_of_conv2d_flattened = flatten(image_out_of_conv2d)\n",
        "print(f\"Flattened image feature map shape: {image_out_of_conv2d_flattened.shape}\")"
      ],
      "metadata": {
        "colab": {
          "base_uri": "https://localhost:8080/"
        },
        "id": "pawPkukG3pz-",
        "outputId": "1734f9d7-f490-42b5-98a8-4516eecef144"
      },
      "execution_count": null,
      "outputs": [
        {
          "output_type": "stream",
          "name": "stdout",
          "text": [
            "Flattened image feature map shape: torch.Size([1, 768, 196])\n"
          ]
        }
      ]
    },
    {
      "cell_type": "code",
      "source": [
        "# Wanna [batch_size, num_patches, embedding_size] but now have [batch_size, embedding_size, num_patches]\n",
        "image_out_of_conv2d_flattened_reshaped = image_out_of_conv2d_flattened.permute(0, 2, 1)\n",
        "print(f\"Flattened image feature map shape: {image_out_of_conv2d_flattened_reshaped.shape}\")"
      ],
      "metadata": {
        "colab": {
          "base_uri": "https://localhost:8080/"
        },
        "id": "wMY9xW8C3q5n",
        "outputId": "cbfb769c-77cf-4737-9496-5244eedce2d6"
      },
      "execution_count": null,
      "outputs": [
        {
          "output_type": "stream",
          "name": "stdout",
          "text": [
            "Flattened image feature map shape: torch.Size([1, 196, 768])\n"
          ]
        }
      ]
    },
    {
      "cell_type": "code",
      "source": [
        "# Get a single flatten feature map\n",
        "single_flattened_feature_map = image_out_of_conv2d_flattened_reshaped[:, :, 0]\n",
        "plt.figure(figsize=(18, 18))\n",
        "plt.imshow(single_flattened_feature_map.detach().numpy())\n",
        "plt.title(f'Flattened feature map shape: {single_flattened_feature_map.shape}')\n",
        "plt.axis(False)"
      ],
      "metadata": {
        "colab": {
          "base_uri": "https://localhost:8080/",
          "height": 84
        },
        "id": "yFAtPfSp3r11",
        "outputId": "bcd7bd03-2556-4a35-ddce-60b857f8df4d"
      },
      "execution_count": null,
      "outputs": [
        {
          "output_type": "execute_result",
          "data": {
            "text/plain": [
              "(-0.5, 195.5, 0.5, -0.5)"
            ]
          },
          "metadata": {},
          "execution_count": 19
        },
        {
          "output_type": "display_data",
          "data": {
            "text/plain": [
              "<Figure size 1800x1800 with 1 Axes>"
            ],
            "image/png": "[encoded data removed]"
          },
          "metadata": {}
        }
      ]
    },
    {
      "cell_type": "code",
      "source": [
        "# Create the patch embedding into a single PyTorch layer\n",
        "class PatchEmbedding(nn.Module):\n",
        "    def __init__(self,\n",
        "                 in_channels=3,\n",
        "                 patch_size=16,\n",
        "                 embedding_dim=768):\n",
        "\n",
        "        super().__init__()\n",
        "\n",
        "        # A layer to turn an image into patches\n",
        "        self.patcher = nn.Conv2d(in_channels=in_channels,\n",
        "                                 out_channels=embedding_dim,\n",
        "                                 kernel_size=(patch_size, patch_size),\n",
        "                                 stride=patch_size,\n",
        "                                 padding=0)\n",
        "        # A layer to flatten the patch feature maps into a single dimension\n",
        "        self.flatten = nn.Flatten(start_dim=2, end_dim=3)\n",
        "\n",
        "    # Forward pass\n",
        "    def forward(self, x):\n",
        "\n",
        "        # Assertion to check that inputs are the correct shape\n",
        "        image_resolution = x.shape[-1]\n",
        "        assert image_resolution % patch_size == 0, f\"Input image size must be divisble by patch size, image shape: {image_resolution}, patch size: {patch_size}\"\n",
        "\n",
        "        x_patched = self.patcher(x)\n",
        "        x_flattened = self.flatten(x_patched)\n",
        "\n",
        "        return x_flattened.permute(0, 2, 1)"
      ],
      "metadata": {
        "id": "HssOvjBU3s29"
      },
      "execution_count": null,
      "outputs": []
    },
    {
      "cell_type": "code",
      "source": [
        "# Check\n",
        "helper.set_seeds()\n",
        "patchify = PatchEmbedding(in_channels=color_channels, patch_size=patch_size, embedding_dim=OUT_SHAPE)\n",
        "print(f\"Input image shape: {image.unsqueeze(0).shape}\")\n",
        "patch_embedded_image = patchify(image.unsqueeze(0))  # an extra batch dimension on the 0th index, otherwise will error\n",
        "print(f\"Output patch embedding shape: {patch_embedded_image.shape}\")"
      ],
      "metadata": {
        "colab": {
          "base_uri": "https://localhost:8080/"
        },
        "id": "-v4pj4hY3uyO",
        "outputId": "1ed5582e-e36e-4f2f-d4b7-491a537bcccf"
      },
      "execution_count": null,
      "outputs": [
        {
          "output_type": "stream",
          "name": "stdout",
          "text": [
            "Input image shape: torch.Size([1, 3, 224, 224])\n",
            "Output patch embedding shape: torch.Size([1, 196, 768])\n"
          ]
        }
      ]
    },
    {
      "cell_type": "code",
      "source": [
        "# Creating the class token embedding\n",
        "class_token = nn.Parameter(data=torch.randn(1, 1, OUT_SHAPE),  # [batch_size, number_of_tokens, embedding_dimension]\n",
        "                           requires_grad=True)\n",
        "print(f'Class token shape: {class_token.shape}')"
      ],
      "metadata": {
        "colab": {
          "base_uri": "https://localhost:8080/"
        },
        "id": "IMt4KgRf3wOC",
        "outputId": "376e7276-5358-4f98-def6-753091ba00c9"
      },
      "execution_count": null,
      "outputs": [
        {
          "output_type": "stream",
          "name": "stdout",
          "text": [
            "Class token shape: torch.Size([1, 1, 768])\n"
          ]
        }
      ]
    },
    {
      "cell_type": "code",
      "source": [
        "# Add the class token embedding to the front of the patch embedding\n",
        "patch_embedded_image_with_class_embedding = torch.cat((class_token, patch_embedded_image),\n",
        "                                                      dim=1)\n",
        "\n",
        "print(patch_embedded_image_with_class_embedding)\n",
        "print(f\"Sequence of patch embeddings with class token prepended shape: {patch_embedded_image_with_class_embedding.shape} -> [batch_size, number_of_patches, embedding_dimension]\")"
      ],
      "metadata": {
        "colab": {
          "base_uri": "https://localhost:8080/"
        },
        "id": "MLG51gRa3xCv",
        "outputId": "3b8c69e4-5318-48b2-bbaf-6dd12e4c0447"
      },
      "execution_count": null,
      "outputs": [
        {
          "output_type": "stream",
          "name": "stdout",
          "text": [
            "tensor([[[ 0.5436, -0.4700, -1.2133,  ..., -0.4571,  0.4486,  0.1217],\n",
            "         [-0.0298, -0.0063, -0.0322,  ...,  0.0185, -0.0090,  0.0092],\n",
            "         [-0.2239,  0.0199, -0.0241,  ...,  0.1530, -0.0877,  0.0157],\n",
            "         ...,\n",
            "         [-0.1131,  0.0228, -0.0625,  ...,  0.0849, -0.0809,  0.0354],\n",
            "         [-0.0044, -0.0392, -0.0298,  ...,  0.0096, -0.0269,  0.0357],\n",
            "         [-0.0313, -0.0086, -0.0443,  ...,  0.0430, -0.0086,  0.0028]]],\n",
            "       grad_fn=<CatBackward0>)\n",
            "Sequence of patch embeddings with class token prepended shape: torch.Size([1, 197, 768]) -> [batch_size, number_of_patches, embedding_dimension]\n"
          ]
        }
      ]
    },
    {
      "cell_type": "code",
      "source": [
        "# Creating the position embedding\n",
        "position_embedding = nn.Parameter(data=torch.randn(1, number_of_patches + 1, OUT_SHAPE),  # [batch_size, number_of_patches, embedding_dimension]\n",
        "                                  requires_grad=True)\n",
        "\n",
        "print(f'Position embeddding shape: {position_embedding.shape}')"
      ],
      "metadata": {
        "colab": {
          "base_uri": "https://localhost:8080/"
        },
        "id": "6vpOOGI63yRo",
        "outputId": "f5fbe339-e971-4bfa-e043-8077172de5cb"
      },
      "execution_count": null,
      "outputs": [
        {
          "output_type": "stream",
          "name": "stdout",
          "text": [
            "Position embeddding shape: torch.Size([1, 197, 768])\n"
          ]
        }
      ]
    },
    {
      "cell_type": "code",
      "source": [
        "# Position embeddings created!\n",
        "# Let's add them to our sequence of patch embeddings with a prepended class token\n",
        "patch_and_position_embedding = patch_embedded_image_with_class_embedding + position_embedding\n",
        "print(f'Patch embeddings, class token prepended and positional embeddings added shape: {patch_and_position_embedding.shape}')"
      ],
      "metadata": {
        "colab": {
          "base_uri": "https://localhost:8080/"
        },
        "id": "i4qfVr3G3zg9",
        "outputId": "82eaba57-a9f4-44d4-f16f-0f3520381b70"
      },
      "execution_count": null,
      "outputs": [
        {
          "output_type": "stream",
          "name": "stdout",
          "text": [
            "Patch embeddings, class token prepended and positional embeddings added shape: torch.Size([1, 197, 768])\n"
          ]
        }
      ]
    },
    {
      "cell_type": "code",
      "source": [
        "# Let's put all together\n",
        "helper.set_seeds()\n",
        "\n",
        "# Original shape\n",
        "print(f'Image tensor shape: {image.shape}')\n",
        "height, width = image.shape[1], image.shape[2]\n",
        "\n",
        "# Get image tensor and add batch dimenstion\n",
        "img = image.unsqueeze(dim=0)\n",
        "print(f'Input image with batch dim shape: {img.shape}')\n",
        "\n",
        "# Create patch embedding layer\n",
        "patch_embedding_layer = PatchEmbedding(in_channels=color_channels, patch_size=patch_size, embedding_dim=OUT_SHAPE)\n",
        "\n",
        "# Pass the img through patch embedding layer\n",
        "patch_embedding = patch_embedding_layer(img)\n",
        "print(f'Patch embedding shape: {patch_embedding.shape}')\n",
        "\n",
        "# Create token embedding\n",
        "class_token = nn.Parameter(data=torch.randn(1, 1, OUT_SHAPE),\n",
        "                           requires_grad=True)\n",
        "print(f'Class token shape: {class_token.shape}')\n",
        "\n",
        "# Concatenate token embedding patch embedding\n",
        "patch_embedding_class_token = torch.cat((class_token, patch_embedding), dim=1)\n",
        "print(f'Patch embedding with class token shape: {patch_embedding_class_token.shape}')\n",
        "\n",
        "# Create position embedding\n",
        "position_embedding = nn.Parameter(data=torch.randn(1, number_of_patches+1, OUT_SHAPE),\n",
        "                                  requires_grad=True)\n",
        "\n",
        "# Positon embedding + prev results\n",
        "patch_and_position_embedding = patch_embedding_class_token + position_embedding\n",
        "print(f'Patch and position embedding shape: {patch_and_position_embedding.shape}')"
      ],
      "metadata": {
        "colab": {
          "base_uri": "https://localhost:8080/"
        },
        "id": "30lcWj6w30cr",
        "outputId": "f4f3ff2d-e132-4e1c-bf29-eba419dae1ec"
      },
      "execution_count": null,
      "outputs": [
        {
          "output_type": "stream",
          "name": "stdout",
          "text": [
            "Image tensor shape: torch.Size([3, 224, 224])\n",
            "Input image with batch dim shape: torch.Size([1, 3, 224, 224])\n",
            "Patch embedding shape: torch.Size([1, 196, 768])\n",
            "Class token shape: torch.Size([1, 1, 768])\n",
            "Patch embedding with class token shape: torch.Size([1, 197, 768])\n",
            "Patch and position embedding shape: torch.Size([1, 197, 768])\n"
          ]
        }
      ]
    },
    {
      "cell_type": "markdown",
      "source": [
        "### Equation 2 overview\n",
        "\n",
        "This says that for every layer from 1 through to L (the total number of layers), there's a Multi-Head Attention layer (MSA) wrapping a LayerNorm layer (LN).\n",
        "\n",
        "The addition on the end is the equivalent of adding the input to the output and forming a skip/residual connection.\n",
        "\n",
        "We'll call this layer the \"MSA block\".\n",
        "\n",
        "In pseudocode, this might look like:\n",
        "\n",
        "x_output_MSA_block = MSA_layer(LN_layer(x_input)) + x_input\n",
        "Notice the skip connection on the end (adding the input of the layers to the output of the layers)."
      ],
      "metadata": {
        "id": "CTk00Z_g35FJ"
      }
    },
    {
      "cell_type": "code",
      "source": [
        "class MultiheadSelfAttentionBlock(nn.Module):\n",
        "    def __init__(self,\n",
        "                 embedding_dim: int=768,\n",
        "                 num_heads: int=12,\n",
        "                 attention_dropout: float=.0):\n",
        "\n",
        "        super().__init__()\n",
        "\n",
        "        # Norm layer\n",
        "        self.layer_norm = nn.LayerNorm(normalized_shape=embedding_dim)\n",
        "\n",
        "        # Multi-head attention layer\n",
        "        self.multihead_attention = nn.MultiheadAttention(embed_dim=embedding_dim,\n",
        "                                                         num_heads=num_heads,\n",
        "                                                         dropout=attention_dropout)\n",
        "\n",
        "    # Forward pass\n",
        "    def forward(self, x):\n",
        "        normalized_x = self.layer_norm(x)\n",
        "        attention_output, _ = self.multihead_attention(query=normalized_x,  # query embedding\n",
        "                                                       key=normalized_x,  # key embedding\n",
        "                                                       value=normalized_x,  # value embedding\n",
        "                                                       need_weights=False)\n",
        "\n",
        "        return attention_output\n",
        "# skip connection will be added as the result"
      ],
      "metadata": {
        "id": "NjxCIUpB31o_"
      },
      "execution_count": null,
      "outputs": []
    },
    {
      "cell_type": "code",
      "source": [
        "# Check\n",
        "multi_head_self_attention_block = MultiheadSelfAttentionBlock(embedding_dim=OUT_SHAPE, num_heads=12)  # num_heads from table 1\n",
        "patched_image_through_msa_block = multi_head_self_attention_block(patch_and_position_embedding)\n",
        "print(f'Input shape of MSA block: {patch_and_position_embedding.shape}')\n",
        "print(f'Output shape MSA block: {patched_image_through_msa_block.shape}')"
      ],
      "metadata": {
        "colab": {
          "base_uri": "https://localhost:8080/"
        },
        "id": "4kgL5SNf36tb",
        "outputId": "96e6bcab-c779-4989-e50f-440bd8bcd8a9"
      },
      "execution_count": null,
      "outputs": [
        {
          "output_type": "stream",
          "name": "stdout",
          "text": [
            "Input shape of MSA block: torch.Size([1, 197, 768])\n",
            "Output shape MSA block: torch.Size([1, 197, 768])\n"
          ]
        }
      ]
    },
    {
      "cell_type": "markdown",
      "source": [
        "### Equation 3 overview\n",
        "\n",
        "This says that for every layer from 1 through to L (the total number of layers), there's also a Multilayer Perceptron layer (MLP) wrapping a LayerNorm layer (LN).\n",
        "\n",
        "The addition on the end is showing the presence of a skip/residual connection.\n",
        "\n",
        "We'll call this layer the \"MLP block\".\n",
        "\n",
        "In pseudocode, this might look like:\n",
        "\n",
        "x_output_MLP_block = MLP_layer(LN_layer(x_output_MSA_block)) + x_output_MSA_block\n",
        "Notice the skip connection on the end (adding the input of the layers to the output of the layers)."
      ],
      "metadata": {
        "id": "ME7Hnpro39oF"
      }
    },
    {
      "cell_type": "code",
      "source": [
        "class MLPBlock(nn.Module):\n",
        "    def __init__(self,\n",
        "                 embedding_dim: int=768,\n",
        "                 mlp_size: int=3072,  # from table 1\n",
        "                 dropout: float=.1):  # from table 3\n",
        "\n",
        "        super().__init__()\n",
        "\n",
        "        # Norm layer\n",
        "        self.layer_norm = nn.LayerNorm(normalized_shape=embedding_dim)\n",
        "\n",
        "        # MLP layer\n",
        "        self.mlp = nn.Sequential(nn.Linear(in_features=embedding_dim,\n",
        "                                           out_features=mlp_size),\n",
        "                                 nn.GELU(),\n",
        "                                 nn.Dropout(p=dropout),\n",
        "                                 nn.Linear(in_features=mlp_size,\n",
        "                                           out_features=embedding_dim),\n",
        "                                 nn.Dropout(p=dropout))\n",
        "\n",
        "    # Forward pass\n",
        "    def forward(self, x):\n",
        "        normalized_x = self.layer_norm(x)\n",
        "        return self.mlp(normalized_x)\n",
        "# skip connection will be added as the result"
      ],
      "metadata": {
        "id": "3lczlAcl37uW"
      },
      "execution_count": null,
      "outputs": []
    },
    {
      "cell_type": "code",
      "source": [
        "# Check\n",
        "mlp_block = MLPBlock(embedding_dim=OUT_SHAPE, mlp_size=3071, dropout=.1)\n",
        "patched_image_through_mlp_block = mlp_block(patched_image_through_msa_block)\n",
        "print(f'Input shape of MLP block: {patched_image_through_msa_block.shape}')\n",
        "print(f'Output shape MLP block: {patched_image_through_mlp_block.shape}')"
      ],
      "metadata": {
        "colab": {
          "base_uri": "https://localhost:8080/"
        },
        "id": "8NYq_45-3_YS",
        "outputId": "e5153b31-2bbb-4620-f57b-ba01f92ae38d"
      },
      "execution_count": null,
      "outputs": [
        {
          "output_type": "stream",
          "name": "stdout",
          "text": [
            "Input shape of MLP block: torch.Size([1, 197, 768])\n",
            "Output shape MLP block: torch.Size([1, 197, 768])\n"
          ]
        }
      ]
    },
    {
      "cell_type": "markdown",
      "source": [
        "### Equation 4 overview\n",
        "\n",
        "This says for the last layer L, the output y is the 0 index token of z wrapped in a LayerNorm layer (LN).\n",
        "\n",
        "Or in our case, the 0 index of x_output_MLP_block:\n",
        "\n",
        "y = Linear_layer(LN_layer(x_output_MLP_block[0]))"
      ],
      "metadata": {
        "id": "BnJGBlQB4Cqg"
      }
    },
    {
      "cell_type": "markdown",
      "source": [
        "#### Assembling the model"
      ],
      "metadata": {
        "id": "JDSGQo_M4Kgt"
      }
    },
    {
      "cell_type": "code",
      "source": [
        "# Creating a Transformer Encoder by combining our custom made layers\n",
        "class TransformEncoderBlock(nn.Module):\n",
        "    def __init__(self,\n",
        "                 embedding_dim: int=768,\n",
        "                 num_heads: int=12,\n",
        "                 mlp_size: int=3072,\n",
        "                 mlp_dropout: float=.1,\n",
        "                 attention_dropout: float=.0):\n",
        "\n",
        "        super().__init__()\n",
        "\n",
        "        # MSE block\n",
        "        self.mse_block = MultiheadSelfAttentionBlock(embedding_dim=embedding_dim,\n",
        "                                                     num_heads=num_heads,\n",
        "                                                     attention_dropout=attention_dropout)\n",
        "\n",
        "        # MLP block\n",
        "        self.mlp_block = MLPBlock(embedding_dim=embedding_dim,\n",
        "                                  mlp_size=mlp_size,\n",
        "                                  dropout=mlp_dropout)\n",
        "\n",
        "    # Forward pass\n",
        "    def forward(self, x):\n",
        "\n",
        "        x = self.mse_block(x) + x  # add skip connection for mse block\n",
        "        x = self.mlp_block(x) + x  # add skip connectoin for mlp block\n",
        "\n",
        "        return x"
      ],
      "metadata": {
        "id": "m9m8QDA44ART"
      },
      "execution_count": null,
      "outputs": []
    },
    {
      "cell_type": "code",
      "source": [
        "# Let's print model architecture\n",
        "transform_encoder_block = TransformEncoderBlock(embedding_dim=OUT_SHAPE,\n",
        "                                                num_heads=12,\n",
        "                                                mlp_size=3072,\n",
        "                                                mlp_dropout=.1,\n",
        "                                                attention_dropout=.0)\n",
        "summary(model=transform_encoder_block,\n",
        "        input_size=(1, 197, 768),\n",
        "        col_names=['input_size', 'output_size', 'num_params', 'trainable'],\n",
        "        col_width=20,\n",
        "        row_settings=['var_names'])"
      ],
      "metadata": {
        "colab": {
          "base_uri": "https://localhost:8080/"
        },
        "id": "5ak5Tw2C4MFf",
        "outputId": "f540abbb-8162-422f-ebd0-cb3052079dac"
      },
      "execution_count": null,
      "outputs": [
        {
          "output_type": "execute_result",
          "data": {
            "text/plain": [
              "=======================================================================================================================================\n",
              "Layer (type (var_name))                                 Input Shape          Output Shape         Param #              Trainable\n",
              "=======================================================================================================================================\n",
              "TransformEncoderBlock (TransformEncoderBlock)           [1, 197, 768]        [1, 197, 768]        --                   True\n",
              "├─MultiheadSelfAttentionBlock (mse_block)               [1, 197, 768]        [1, 197, 768]        --                   True\n",
              "│    └─LayerNorm (layer_norm)                           [1, 197, 768]        [1, 197, 768]        1,536                True\n",
              "│    └─MultiheadAttention (multihead_attention)         --                   [1, 197, 768]        2,362,368            True\n",
              "├─MLPBlock (mlp_block)                                  [1, 197, 768]        [1, 197, 768]        --                   True\n",
              "│    └─LayerNorm (layer_norm)                           [1, 197, 768]        [1, 197, 768]        1,536                True\n",
              "│    └─Sequential (mlp)                                 [1, 197, 768]        [1, 197, 768]        --                   True\n",
              "│    │    └─Linear (0)                                  [1, 197, 768]        [1, 197, 3072]       2,362,368            True\n",
              "│    │    └─GELU (1)                                    [1, 197, 3072]       [1, 197, 3072]       --                   --\n",
              "│    │    └─Dropout (2)                                 [1, 197, 3072]       [1, 197, 3072]       --                   --\n",
              "│    │    └─Linear (3)                                  [1, 197, 3072]       [1, 197, 768]        2,360,064            True\n",
              "│    │    └─Dropout (4)                                 [1, 197, 768]        [1, 197, 768]        --                   --\n",
              "=======================================================================================================================================\n",
              "Total params: 7,087,872\n",
              "Trainable params: 7,087,872\n",
              "Non-trainable params: 0\n",
              "Total mult-adds (M): 4.73\n",
              "=======================================================================================================================================\n",
              "Input size (MB): 0.61\n",
              "Forward/backward pass size (MB): 8.47\n",
              "Params size (MB): 18.90\n",
              "Estimated Total Size (MB): 27.98\n",
              "======================================================================================================================================="
            ]
          },
          "metadata": {},
          "execution_count": 32
        }
      ]
    },
    {
      "cell_type": "code",
      "source": [
        "# This architecture exists in PyTorch\n",
        "torch_transformer_encoder_layer = nn.TransformerEncoderLayer(d_model=768,\n",
        "                                                             nhead=12,\n",
        "                                                             dim_feedforward=3072,\n",
        "                                                             dropout=0.1,\n",
        "                                                             activation=\"gelu\",\n",
        "                                                             batch_first=True,\n",
        "                                                             norm_first=True)\n",
        "\n",
        "\n",
        "summary(model=torch_transformer_encoder_layer,\n",
        "        input_size=(1, 197, 768),\n",
        "        col_names=[\"input_size\", \"output_size\", \"num_params\", \"trainable\"],\n",
        "        col_width=20,\n",
        "        row_settings=[\"var_names\"])"
      ],
      "metadata": {
        "colab": {
          "base_uri": "https://localhost:8080/"
        },
        "id": "dr7aNYnJ4NXm",
        "outputId": "5435faeb-f5d9-40a6-9a3a-36279e0c6fac"
      },
      "execution_count": null,
      "outputs": [
        {
          "output_type": "execute_result",
          "data": {
            "text/plain": [
              "==================================================================================================================================\n",
              "Layer (type (var_name))                            Input Shape          Output Shape         Param #              Trainable\n",
              "==================================================================================================================================\n",
              "TransformerEncoderLayer (TransformerEncoderLayer)  [1, 197, 768]        [1, 197, 768]        7,087,872            True\n",
              "==================================================================================================================================\n",
              "Total params: 7,087,872\n",
              "Trainable params: 7,087,872\n",
              "Non-trainable params: 0\n",
              "Total mult-adds (M): 0\n",
              "==================================================================================================================================\n",
              "Input size (MB): 0.61\n",
              "Forward/backward pass size (MB): 0.00\n",
              "Params size (MB): 0.00\n",
              "Estimated Total Size (MB): 0.61\n",
              "=================================================================================================================================="
            ]
          },
          "metadata": {},
          "execution_count": 33
        }
      ]
    },
    {
      "cell_type": "code",
      "source": [
        "# Putting all together\n",
        "class ViT(nn.Module):\n",
        "    def __init__(self,\n",
        "                 img_size: int=224,\n",
        "                 in_channels: int=3,\n",
        "                 patch_size: int=16,\n",
        "                 num_transformer_layers: int=12,\n",
        "                 embedding_dim: int=768,\n",
        "                 mlp_size: int=3072,\n",
        "                 num_heads: int=12,\n",
        "                 attention_dropout: float=.0,\n",
        "                 mlp_dropout: float=.1,\n",
        "                 embedding_dropout: float=.1,\n",
        "                 num_classes: int=1000):\n",
        "\n",
        "        super().__init__()\n",
        "\n",
        "        # Make sure the image size is divisble by the patch size\n",
        "        assert img_size % patch_size == 0, f\"Image size must be divisible by patch size, image size: {img_size}, patch size: {patch_size}.\"\n",
        "\n",
        "        # Calculate number of patches (height * width/patch^2)\n",
        "        self.num_patches = (img_size * img_size) // patch_size**2\n",
        "\n",
        "        # Learnable class embedding\n",
        "        self.class_embedding = nn.Parameter(data=torch.randn(1, 1, embedding_dim),\n",
        "                                            requires_grad=True)\n",
        "\n",
        "        # Learnable position embedding\n",
        "        self.position_embedding = nn.Parameter(data=torch.randn(1, self.num_patches+1, embedding_dim),\n",
        "                                               requires_grad=True)\n",
        "\n",
        "        # Embedding dropout value\n",
        "        self.embedding_dropout = nn.Dropout(p=embedding_dropout)\n",
        "\n",
        "        # Patch embedding layer\n",
        "        self.patch_embedding = PatchEmbedding(in_channels=in_channels,\n",
        "                                              patch_size=patch_size,\n",
        "                                              embedding_dim=embedding_dim)\n",
        "\n",
        "        # Transformer Encoder blocks (can stack Transformer Encoder blocks using nn.Sequential()); * means all\n",
        "        self.transformer_encoder = nn.Sequential(*[TransformEncoderBlock(embedding_dim=embedding_dim,\n",
        "                                                                         num_heads=num_heads,\n",
        "                                                                         mlp_size=mlp_size,\n",
        "                                                                         mlp_dropout=mlp_dropout,\n",
        "                                                                         attention_dropout=attention_dropout) for _ in range(num_transformer_layers)])\n",
        "\n",
        "        # Classifier\n",
        "        self.classifier = nn.Sequential(nn.LayerNorm(normalized_shape=embedding_dim),\n",
        "                                        nn.Linear(in_features=embedding_dim,\n",
        "                                                  out_features=num_classes))\n",
        "\n",
        "    # Forward pass\n",
        "    def forward(self, x):\n",
        "\n",
        "        # Get batch size\n",
        "        batch_size = x.shape[0]\n",
        "\n",
        "        # Create class token embedding and expand it to match the batch size (equation 1)\n",
        "        class_token = self.class_embedding.expand(batch_size, -1, -1)  # -1 means to infer the dimension (try this line on its own)\n",
        "\n",
        "        # Patch embedding (equation 1)\n",
        "        x = self.patch_embedding(x)\n",
        "\n",
        "        # Concatenate patch embedding (equation 1)\n",
        "        x = torch.cat((class_token, x), dim=1)\n",
        "\n",
        "        # Add position embedding to patch embedding (equation 1)\n",
        "        x = self.position_embedding + x\n",
        "\n",
        "        # Embedding dropout (Appendix B.1)\n",
        "        x = self.embedding_dropout(x)\n",
        "\n",
        "        # Pass patch, position and class embedding through transformer encoder layers (equations 2 & 3)\n",
        "        x = self.transformer_encoder(x)\n",
        "\n",
        "        # Put 0 index logit through classifier (equation 4)\n",
        "        x = self.classifier(x[:, 0])\n",
        "\n",
        "        return x"
      ],
      "metadata": {
        "id": "JqLqVvkf4Oh-"
      },
      "execution_count": null,
      "outputs": []
    },
    {
      "cell_type": "code",
      "source": [
        "# Check\n",
        "helper.set_seeds()\n",
        "random_image_tensor = torch.randn(1, 3, 224, 224)\n",
        "vit = ViT(num_classes=len(class_names))\n",
        "vit(random_image_tensor)"
      ],
      "metadata": {
        "colab": {
          "base_uri": "https://localhost:8080/"
        },
        "id": "vuZ6on1e4RFP",
        "outputId": "eaced70a-1acf-4b16-bc62-5a2dd122215d"
      },
      "execution_count": null,
      "outputs": [
        {
          "output_type": "execute_result",
          "data": {
            "text/plain": [
              "tensor([[0.3366, 0.3670, 0.5442]], grad_fn=<AddmmBackward0>)"
            ]
          },
          "metadata": {},
          "execution_count": 35
        }
      ]
    },
    {
      "cell_type": "code",
      "source": [
        "# Model architecture\n",
        "summary(model=vit,\n",
        "        input_size=(32, 3, 224, 224),\n",
        "        col_names=[\"input_size\", \"output_size\", \"num_params\", \"trainable\"],\n",
        "        col_width=20,\n",
        "        row_settings=[\"var_names\"])"
      ],
      "metadata": {
        "colab": {
          "base_uri": "https://localhost:8080/"
        },
        "id": "w26sSKS44R0W",
        "outputId": "1e2ea5de-83e4-446a-a305-e6df85668329"
      },
      "execution_count": null,
      "outputs": [
        {
          "output_type": "execute_result",
          "data": {
            "text/plain": [
              "=================================================================================================================================================\n",
              "Layer (type (var_name))                                           Input Shape          Output Shape         Param #              Trainable\n",
              "=================================================================================================================================================\n",
              "ViT (ViT)                                                         [32, 3, 224, 224]    [32, 3]              152,064              True\n",
              "├─PatchEmbedding (patch_embedding)                                [32, 3, 224, 224]    [32, 196, 768]       --                   True\n",
              "│    └─Conv2d (patcher)                                           [32, 3, 224, 224]    [32, 768, 14, 14]    590,592              True\n",
              "│    └─Flatten (flatten)                                          [32, 768, 14, 14]    [32, 768, 196]       --                   --\n",
              "├─Dropout (embedding_dropout)                                     [32, 197, 768]       [32, 197, 768]       --                   --\n",
              "├─Sequential (transformer_encoder)                                [32, 197, 768]       [32, 197, 768]       --                   True\n",
              "│    └─TransformEncoderBlock (0)                                  [32, 197, 768]       [32, 197, 768]       --                   True\n",
              "│    │    └─MultiheadSelfAttentionBlock (mse_block)               [32, 197, 768]       [32, 197, 768]       2,363,904            True\n",
              "│    │    └─MLPBlock (mlp_block)                                  [32, 197, 768]       [32, 197, 768]       4,723,968            True\n",
              "│    └─TransformEncoderBlock (1)                                  [32, 197, 768]       [32, 197, 768]       --                   True\n",
              "│    │    └─MultiheadSelfAttentionBlock (mse_block)               [32, 197, 768]       [32, 197, 768]       2,363,904            True\n",
              "│    │    └─MLPBlock (mlp_block)                                  [32, 197, 768]       [32, 197, 768]       4,723,968            True\n",
              "│    └─TransformEncoderBlock (2)                                  [32, 197, 768]       [32, 197, 768]       --                   True\n",
              "│    │    └─MultiheadSelfAttentionBlock (mse_block)               [32, 197, 768]       [32, 197, 768]       2,363,904            True\n",
              "│    │    └─MLPBlock (mlp_block)                                  [32, 197, 768]       [32, 197, 768]       4,723,968            True\n",
              "│    └─TransformEncoderBlock (3)                                  [32, 197, 768]       [32, 197, 768]       --                   True\n",
              "│    │    └─MultiheadSelfAttentionBlock (mse_block)               [32, 197, 768]       [32, 197, 768]       2,363,904            True\n",
              "│    │    └─MLPBlock (mlp_block)                                  [32, 197, 768]       [32, 197, 768]       4,723,968            True\n",
              "│    └─TransformEncoderBlock (4)                                  [32, 197, 768]       [32, 197, 768]       --                   True\n",
              "│    │    └─MultiheadSelfAttentionBlock (mse_block)               [32, 197, 768]       [32, 197, 768]       2,363,904            True\n",
              "│    │    └─MLPBlock (mlp_block)                                  [32, 197, 768]       [32, 197, 768]       4,723,968            True\n",
              "│    └─TransformEncoderBlock (5)                                  [32, 197, 768]       [32, 197, 768]       --                   True\n",
              "│    │    └─MultiheadSelfAttentionBlock (mse_block)               [32, 197, 768]       [32, 197, 768]       2,363,904            True\n",
              "│    │    └─MLPBlock (mlp_block)                                  [32, 197, 768]       [32, 197, 768]       4,723,968            True\n",
              "│    └─TransformEncoderBlock (6)                                  [32, 197, 768]       [32, 197, 768]       --                   True\n",
              "│    │    └─MultiheadSelfAttentionBlock (mse_block)               [32, 197, 768]       [32, 197, 768]       2,363,904            True\n",
              "│    │    └─MLPBlock (mlp_block)                                  [32, 197, 768]       [32, 197, 768]       4,723,968            True\n",
              "│    └─TransformEncoderBlock (7)                                  [32, 197, 768]       [32, 197, 768]       --                   True\n",
              "│    │    └─MultiheadSelfAttentionBlock (mse_block)               [32, 197, 768]       [32, 197, 768]       2,363,904            True\n",
              "│    │    └─MLPBlock (mlp_block)                                  [32, 197, 768]       [32, 197, 768]       4,723,968            True\n",
              "│    └─TransformEncoderBlock (8)                                  [32, 197, 768]       [32, 197, 768]       --                   True\n",
              "│    │    └─MultiheadSelfAttentionBlock (mse_block)               [32, 197, 768]       [32, 197, 768]       2,363,904            True\n",
              "│    │    └─MLPBlock (mlp_block)                                  [32, 197, 768]       [32, 197, 768]       4,723,968            True\n",
              "│    └─TransformEncoderBlock (9)                                  [32, 197, 768]       [32, 197, 768]       --                   True\n",
              "│    │    └─MultiheadSelfAttentionBlock (mse_block)               [32, 197, 768]       [32, 197, 768]       2,363,904            True\n",
              "│    │    └─MLPBlock (mlp_block)                                  [32, 197, 768]       [32, 197, 768]       4,723,968            True\n",
              "│    └─TransformEncoderBlock (10)                                 [32, 197, 768]       [32, 197, 768]       --                   True\n",
              "│    │    └─MultiheadSelfAttentionBlock (mse_block)               [32, 197, 768]       [32, 197, 768]       2,363,904            True\n",
              "│    │    └─MLPBlock (mlp_block)                                  [32, 197, 768]       [32, 197, 768]       4,723,968            True\n",
              "│    └─TransformEncoderBlock (11)                                 [32, 197, 768]       [32, 197, 768]       --                   True\n",
              "│    │    └─MultiheadSelfAttentionBlock (mse_block)               [32, 197, 768]       [32, 197, 768]       2,363,904            True\n",
              "│    │    └─MLPBlock (mlp_block)                                  [32, 197, 768]       [32, 197, 768]       4,723,968            True\n",
              "├─Sequential (classifier)                                         [32, 768]            [32, 3]              --                   True\n",
              "│    └─LayerNorm (0)                                              [32, 768]            [32, 768]            1,536                True\n",
              "│    └─Linear (1)                                                 [32, 768]            [32, 3]              2,307                True\n",
              "=================================================================================================================================================\n",
              "Total params: 85,800,963\n",
              "Trainable params: 85,800,963\n",
              "Non-trainable params: 0\n",
              "Total mult-adds (G): 5.52\n",
              "=================================================================================================================================================\n",
              "Input size (MB): 19.27\n",
              "Forward/backward pass size (MB): 3292.20\n",
              "Params size (MB): 229.20\n",
              "Estimated Total Size (MB): 3540.67\n",
              "================================================================================================================================================="
            ]
          },
          "metadata": {},
          "execution_count": 36
        }
      ]
    },
    {
      "cell_type": "markdown",
      "source": [
        "#### Set up training code for ViT model"
      ],
      "metadata": {
        "id": "IosAnNT77EqB"
      }
    },
    {
      "cell_type": "code",
      "source": [
        "# Setup loss function and optimizer\n",
        "loss_fn = nn.CrossEntropyLoss()\n",
        "optimizer = torch.optim.Adam(params=vit.parameters(),\n",
        "                             lr=3e-3,\n",
        "                             betas=(.9, .999),\n",
        "                             weight_decay=.3)"
      ],
      "metadata": {
        "id": "gWrNzixY4TAC"
      },
      "execution_count": null,
      "outputs": []
    },
    {
      "cell_type": "code",
      "source": [
        "# Train the model\n",
        "helper.set_seeds()\n",
        "results = helper.train(model=vit,\n",
        "                       train_dataloader=train_dataloader,\n",
        "                       test_dataloader=test_dataloader,\n",
        "                       loss_fn=loss_fn,\n",
        "                       optimizer=optimizer,\n",
        "                       epochs=10,\n",
        "                       device=device)"
      ],
      "metadata": {
        "colab": {
          "base_uri": "https://localhost:8080/",
          "height": 233,
          "referenced_widgets": [
            "1fe4e81b9d8d4bfa9b594244c59348a7",
            "c398c1ad764c4fd08c7642b9c93f5f42",
            "51113d40e4084b3f9c8c97e5209fe119",
            "72ca9dcdfa5e43e9911762a0e3b5c1b6",
            "3b4b8c8d39ca4877b41bcf347ebe957a",
            "8d1b6d83f1cd433d9acb452ca01308ff",
            "69f9eda906964cf9bd17ffa08cc30ccf",
            "64714332437543cea73a75d373e0046c",
            "6d31633c4fe84acfbec4d1491c790faf",
            "072432cb000c4df5890444b8115d2d2d",
            "55b22c333430418b9626155cf3aa5e3c"
          ]
        },
        "id": "jaAgQayk4UOY",
        "outputId": "ae80098c-da59-4ebe-8e1a-15985f30ee1a"
      },
      "execution_count": null,
      "outputs": [
        {
          "output_type": "display_data",
          "data": {
            "text/plain": [
              "  0%|          | 0/10 [00:00<?, ?it/s]"
            ],
            "application/vnd.jupyter.widget-view+json": {
              "version_major": 2,
              "version_minor": 0,
              "model_id": "1fe4e81b9d8d4bfa9b594244c59348a7"
            }
          },
          "metadata": {}
        },
        {
          "output_type": "stream",
          "name": "stdout",
          "text": [
            "Epoch: 1 | train loss: 3.1134 | train accuracy: 0.3594 | test loss: 4.3140 | test accuracy: 0.2604\n",
            "Epoch: 2 | train loss: 1.9399 | train accuracy: 0.3320 | test loss: 1.4209 | test accuracy: 0.2604\n",
            "Epoch: 3 | train loss: 1.3102 | train accuracy: 0.4141 | test loss: 1.7574 | test accuracy: 0.2604\n",
            "Epoch: 4 | train loss: 1.2775 | train accuracy: 0.4141 | test loss: 2.0974 | test accuracy: 0.1979\n",
            "Epoch: 5 | train loss: 1.2108 | train accuracy: 0.2930 | test loss: 1.3430 | test accuracy: 0.2604\n",
            "Epoch: 6 | train loss: 1.1904 | train accuracy: 0.2891 | test loss: 1.4265 | test accuracy: 0.1979\n",
            "Epoch: 7 | train loss: 1.1665 | train accuracy: 0.4102 | test loss: 1.9689 | test accuracy: 0.1979\n",
            "Epoch: 8 | train loss: 1.1938 | train accuracy: 0.3242 | test loss: 1.2398 | test accuracy: 0.2604\n",
            "Epoch: 9 | train loss: 1.1663 | train accuracy: 0.3047 | test loss: 1.0303 | test accuracy: 0.5417\n",
            "Epoch: 10 | train loss: 1.2009 | train accuracy: 0.2422 | test loss: 1.3557 | test accuracy: 0.2604\n"
          ]
        }
      ]
    },
    {
      "cell_type": "markdown",
      "source": [
        "The results aren't good cause the original ViT papaer uses a far larger amount of data than current. Another factor is the reduced size of the batch (32 instead of 4096). And other modifications that smart ml engineers have made to their work."
      ],
      "metadata": {
        "id": "O-4L7VuI4aV5"
      }
    },
    {
      "cell_type": "code",
      "source": [
        "# Let's take a look at the loss and accuracy graphs\n",
        "helper.plot_loss_accuracy_curves(results)"
      ],
      "metadata": {
        "colab": {
          "base_uri": "https://localhost:8080/",
          "height": 641
        },
        "id": "VyqWz9sD4VgY",
        "outputId": "96f21559-b070-4688-df49-f401eb3a81f1"
      },
      "execution_count": null,
      "outputs": [
        {
          "output_type": "display_data",
          "data": {
            "text/plain": [
              "<Figure size 1500x700 with 2 Axes>"
            ],
            "image/png": "[encoded data removed]"
          },
          "metadata": {}
        }
      ]
    },
    {
      "cell_type": "markdown",
      "source": [
        "Let's use a pretrained ViT from torchvision.models on the same dataset"
      ],
      "metadata": {
        "id": "_Jw89wnT4fae"
      }
    },
    {
      "cell_type": "code",
      "source": [
        "# Get weights\n",
        "vit_weights = torchvision.models.ViT_B_16_Weights.DEFAULT\n",
        "\n",
        "# Setup ViT model\n",
        "pretrained_vit = torchvision.models.vit_b_16(weights=vit_weights)\n",
        "\n",
        "# Freeze base parameters\n",
        "for param in pretrained_vit.parameters():\n",
        "    param.requires_grad = False\n",
        "\n",
        "# Change classifier\n",
        "helper.set_seeds()\n",
        "pretrained_vit.heads = nn.Linear(in_features=OUT_SHAPE, out_features=len(class_names)).to(device)"
      ],
      "metadata": {
        "colab": {
          "base_uri": "https://localhost:8080/"
        },
        "id": "wD59eyoQ4cHy",
        "outputId": "2eedf808-387b-40c5-c143-5ed1f91a2ff9"
      },
      "execution_count": null,
      "outputs": [
        {
          "output_type": "stream",
          "name": "stderr",
          "text": [
            "Downloading: \"https://download.pytorch.org/models/vit_b_16-c867db91.pth\" to /root/.cache/torch/hub/checkpoints/vit_b_16-c867db91.pth\n",
            "100%|██████████| 330M/330M [00:02<00:00, 167MB/s]\n"
          ]
        }
      ]
    },
    {
      "cell_type": "code",
      "source": [
        "# Pretrained model architecture\n",
        "summary(model=pretrained_vit,\n",
        "        input_size=(32, 3, 224, 224),\n",
        "        col_names=['input_size', 'output_size', 'num_params', 'trainable'],\n",
        "        col_width=20,\n",
        "        row_settings=['var_names'])"
      ],
      "metadata": {
        "colab": {
          "base_uri": "https://localhost:8080/"
        },
        "id": "UASDFOBc4gla",
        "outputId": "630d2375-70fd-439a-db96-eb235702c72b"
      },
      "execution_count": null,
      "outputs": [
        {
          "output_type": "execute_result",
          "data": {
            "text/plain": [
              "============================================================================================================================================\n",
              "Layer (type (var_name))                                      Input Shape          Output Shape         Param #              Trainable\n",
              "============================================================================================================================================\n",
              "VisionTransformer (VisionTransformer)                        [32, 3, 224, 224]    [32, 3]              768                  Partial\n",
              "├─Conv2d (conv_proj)                                         [32, 3, 224, 224]    [32, 768, 14, 14]    (590,592)            False\n",
              "├─Encoder (encoder)                                          [32, 197, 768]       [32, 197, 768]       151,296              False\n",
              "│    └─Dropout (dropout)                                     [32, 197, 768]       [32, 197, 768]       --                   --\n",
              "│    └─Sequential (layers)                                   [32, 197, 768]       [32, 197, 768]       --                   False\n",
              "│    │    └─EncoderBlock (encoder_layer_0)                   [32, 197, 768]       [32, 197, 768]       (7,087,872)          False\n",
              "│    │    └─EncoderBlock (encoder_layer_1)                   [32, 197, 768]       [32, 197, 768]       (7,087,872)          False\n",
              "│    │    └─EncoderBlock (encoder_layer_2)                   [32, 197, 768]       [32, 197, 768]       (7,087,872)          False\n",
              "│    │    └─EncoderBlock (encoder_layer_3)                   [32, 197, 768]       [32, 197, 768]       (7,087,872)          False\n",
              "│    │    └─EncoderBlock (encoder_layer_4)                   [32, 197, 768]       [32, 197, 768]       (7,087,872)          False\n",
              "│    │    └─EncoderBlock (encoder_layer_5)                   [32, 197, 768]       [32, 197, 768]       (7,087,872)          False\n",
              "│    │    └─EncoderBlock (encoder_layer_6)                   [32, 197, 768]       [32, 197, 768]       (7,087,872)          False\n",
              "│    │    └─EncoderBlock (encoder_layer_7)                   [32, 197, 768]       [32, 197, 768]       (7,087,872)          False\n",
              "│    │    └─EncoderBlock (encoder_layer_8)                   [32, 197, 768]       [32, 197, 768]       (7,087,872)          False\n",
              "│    │    └─EncoderBlock (encoder_layer_9)                   [32, 197, 768]       [32, 197, 768]       (7,087,872)          False\n",
              "│    │    └─EncoderBlock (encoder_layer_10)                  [32, 197, 768]       [32, 197, 768]       (7,087,872)          False\n",
              "│    │    └─EncoderBlock (encoder_layer_11)                  [32, 197, 768]       [32, 197, 768]       (7,087,872)          False\n",
              "│    └─LayerNorm (ln)                                        [32, 197, 768]       [32, 197, 768]       (1,536)              False\n",
              "├─Linear (heads)                                             [32, 768]            [32, 3]              2,307                True\n",
              "============================================================================================================================================\n",
              "Total params: 85,800,963\n",
              "Trainable params: 2,307\n",
              "Non-trainable params: 85,798,656\n",
              "Total mult-adds (G): 5.52\n",
              "============================================================================================================================================\n",
              "Input size (MB): 19.27\n",
              "Forward/backward pass size (MB): 3330.74\n",
              "Params size (MB): 229.20\n",
              "Estimated Total Size (MB): 3579.21\n",
              "============================================================================================================================================"
            ]
          },
          "metadata": {},
          "execution_count": 41
        }
      ]
    },
    {
      "cell_type": "code",
      "source": [
        "# Let's create paths for training and testing directoreis\n",
        "image_path = helper.download_data(source='https://github.com/mrdbourke/pytorch-deep-learning/raw/main/data/pizza_steak_sushi.zip',\n",
        "                                  destination='pizza_steak_sushi')\n",
        "\n",
        "train_dir = image_path / 'train'\n",
        "test_dir = image_path / 'test'"
      ],
      "metadata": {
        "colab": {
          "base_uri": "https://localhost:8080/"
        },
        "id": "iRnha3C84hhQ",
        "outputId": "a0b75674-06a1-4db2-fdd4-e2677dec25d4"
      },
      "execution_count": null,
      "outputs": [
        {
          "output_type": "stream",
          "name": "stdout",
          "text": [
            "data/pizza_steak_sushi is already exists\n"
          ]
        }
      ]
    },
    {
      "cell_type": "code",
      "source": [
        "# Let's see automatic transform\n",
        "vit_weights.transforms()"
      ],
      "metadata": {
        "colab": {
          "base_uri": "https://localhost:8080/"
        },
        "id": "Iyd6zvGm4i9T",
        "outputId": "dded7196-f948-4bec-f923-2cd9fcd1b597"
      },
      "execution_count": null,
      "outputs": [
        {
          "output_type": "execute_result",
          "data": {
            "text/plain": [
              "ImageClassification(\n",
              "    crop_size=[224]\n",
              "    resize_size=[256]\n",
              "    mean=[0.485, 0.456, 0.406]\n",
              "    std=[0.229, 0.224, 0.225]\n",
              "    interpolation=InterpolationMode.BILINEAR\n",
              ")"
            ]
          },
          "metadata": {},
          "execution_count": 43
        }
      ]
    },
    {
      "cell_type": "code",
      "source": [
        "# Setup data loaders\n",
        "train_dataloader, test_dataloader, class_names = helper.create_dataloaders(train_dir=train_dir,\n",
        "                                                                           test_dir=test_dir,\n",
        "                                                                           transform=vit_weights.transforms(),\n",
        "                                                                           batch_size=BATCH_SIZE)"
      ],
      "metadata": {
        "id": "zIQAAUfh4kFM"
      },
      "execution_count": null,
      "outputs": []
    },
    {
      "cell_type": "code",
      "source": [
        "# Setup loss function and optimizer\n",
        "loss_fn = nn.CrossEntropyLoss()\n",
        "optimizer = torch.optim.Adam(params=pretrained_vit.parameters(), lr=1e-3)"
      ],
      "metadata": {
        "id": "qRtyHFg94lEN"
      },
      "execution_count": null,
      "outputs": []
    },
    {
      "cell_type": "code",
      "source": [
        "# Train pretrained model\n",
        "results = helper.train(model=pretrained_vit,\n",
        "                       train_dataloader=train_dataloader,\n",
        "                       test_dataloader=test_dataloader,\n",
        "                       loss_fn=loss_fn,\n",
        "                       optimizer=optimizer,\n",
        "                       epochs=10,\n",
        "                       device=device)"
      ],
      "metadata": {
        "colab": {
          "base_uri": "https://localhost:8080/",
          "height": 233,
          "referenced_widgets": [
            "2efc23966d394f679f79265a38d93396",
            "f2c2b39612c84aeeacc83c377a2d2fb4",
            "d8097aadf72c42c39189d305c05e4c49",
            "e2b5336039004cc0a808d20547423dd3",
            "f5fbefb15af34e04a1377f7dc294d239",
            "8e6e5bb047fc430cb37d139bb815c19c",
            "1f5869075aae4c11987c957d7ccc2491",
            "74b31bec52a94b218176620cdf8a8ec6",
            "7db1fd07713e426bac9c5d6a004e969e",
            "d34fd14cd1e541a3b0aa520728ff6950",
            "eb795a713f4c41e4be73376eb3c3b8de"
          ]
        },
        "id": "K5Cwxps64mFl",
        "outputId": "132f1d7d-49a5-4a25-adac-fa7b13253c63"
      },
      "execution_count": null,
      "outputs": [
        {
          "output_type": "display_data",
          "data": {
            "text/plain": [
              "  0%|          | 0/10 [00:00<?, ?it/s]"
            ],
            "application/vnd.jupyter.widget-view+json": {
              "version_major": 2,
              "version_minor": 0,
              "model_id": "2efc23966d394f679f79265a38d93396"
            }
          },
          "metadata": {}
        },
        {
          "output_type": "stream",
          "name": "stdout",
          "text": [
            "Epoch: 1 | train loss: 0.8004 | train accuracy: 0.7188 | test loss: 0.5354 | test accuracy: 0.8769\n",
            "Epoch: 2 | train loss: 0.3782 | train accuracy: 0.9336 | test loss: 0.3577 | test accuracy: 0.9081\n",
            "Epoch: 3 | train loss: 0.3803 | train accuracy: 0.8242 | test loss: 0.2496 | test accuracy: 0.9384\n",
            "Epoch: 4 | train loss: 0.1848 | train accuracy: 0.9531 | test loss: 0.2636 | test accuracy: 0.8883\n",
            "Epoch: 5 | train loss: 0.1977 | train accuracy: 0.9570 | test loss: 0.2702 | test accuracy: 0.8883\n",
            "Epoch: 6 | train loss: 0.3238 | train accuracy: 0.8398 | test loss: 0.2768 | test accuracy: 0.8883\n",
            "Epoch: 7 | train loss: 0.1262 | train accuracy: 0.9688 | test loss: 0.2666 | test accuracy: 0.8987\n",
            "Epoch: 8 | train loss: 0.1283 | train accuracy: 0.9766 | test loss: 0.2352 | test accuracy: 0.9384\n",
            "Epoch: 9 | train loss: 0.0962 | train accuracy: 0.9844 | test loss: 0.2087 | test accuracy: 0.9280\n",
            "Epoch: 10 | train loss: 0.0892 | train accuracy: 0.9805 | test loss: 0.2023 | test accuracy: 0.9280\n"
          ]
        }
      ]
    },
    {
      "cell_type": "code",
      "source": [
        "# Let's take a look at the loss and accuracy graphs\n",
        "helper.plot_loss_accuracy_curves(results)"
      ],
      "metadata": {
        "colab": {
          "base_uri": "https://localhost:8080/",
          "height": 641
        },
        "id": "iWXI7abR4nPX",
        "outputId": "235fa2cc-a9a2-4374-9add-f9d17e9fa1f0"
      },
      "execution_count": null,
      "outputs": [
        {
          "output_type": "display_data",
          "data": {
            "text/plain": [
              "<Figure size 1500x700 with 2 Axes>"
            ],
            "image/png": "[encoded data removed]"
          },
          "metadata": {}
        }
      ]
    },
    {
      "cell_type": "code",
      "source": [
        "helper.save_model(model=pretrained_vit,\n",
        "                  target_dir='models',\n",
        "                  model_name='pretrained_vit.pth')"
      ],
      "metadata": {
        "colab": {
          "base_uri": "https://localhost:8080/"
        },
        "id": "HLTkBFSY4oej",
        "outputId": "7cd721ae-6f65-44bb-9d2c-5699d75d412a"
      },
      "execution_count": null,
      "outputs": [
        {
          "output_type": "stream",
          "name": "stdout",
          "text": [
            "Model saved in models/pretrained_vit.pth\n"
          ]
        }
      ]
    },
    {
      "cell_type": "code",
      "source": [
        "# Check model size\n",
        "pretrained_vit_size = Path('models/pretrained_vit.pth').stat().st_size // (1024 * 1024)\n",
        "print(f'Size: {pretrained_vit_size} MB')"
      ],
      "metadata": {
        "colab": {
          "base_uri": "https://localhost:8080/"
        },
        "id": "6KWuqJoT4pkV",
        "outputId": "3caa92f1-f505-4e10-be7c-0480c2d732f8"
      },
      "execution_count": null,
      "outputs": [
        {
          "output_type": "stream",
          "name": "stdout",
          "text": [
            "Size: 327 MB\n"
          ]
        }
      ]
    },
    {
      "cell_type": "code",
      "source": [],
      "metadata": {
        "id": "EAOfTYX54qg0"
      },
      "execution_count": null,
      "outputs": []
    }
  ]
}