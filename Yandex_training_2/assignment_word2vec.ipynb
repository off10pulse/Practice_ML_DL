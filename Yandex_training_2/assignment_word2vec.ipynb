{
  "cells": [
    {
      "cell_type": "markdown",
      "metadata": {
        "id": "nTSf4ro-qU0d"
      },
      "source": [
        "## Бонусное задание: word2vec на PyTorch\n",
        "\n",
        "Как вы уже могли заметить, идея, лежащая в основе [word2vec](https://arxiv.org/pdf/1310.4546), достаточно общая. В данном задании вы реализуете его самостоятельно.\n",
        "\n",
        "Дисклеймер: не стоит удивляться тому, что реализация от `gensim` (или аналоги) обучается быстрее и работает точнее. Она использует множество доработок и ускорений, а также достаточно эффективный код. Ваша задача добиться промежуточных результатов за разумное время.\n",
        "\n",
        "P.s. Как ни странно, GPU в этом задании нам не потребуется."
      ]
    },
    {
      "cell_type": "markdown",
      "metadata": {
        "id": "KhJBzFFBADfu"
      },
      "source": [
        "__Requirements:__ if you're running locally, in the selected environment run the following command:\n",
        "\n",
        "```pip install --upgrade nltk bokeh umap-learn```\n"
      ]
    },
    {
      "cell_type": "code",
      "execution_count": null,
      "metadata": {
        "id": "Oipe2DU8qfm7"
      },
      "outputs": [],
      "source": [
        "#!pip install --upgrade nltk bokeh umap-learn"
      ]
    },
    {
      "cell_type": "code",
      "execution_count": null,
      "metadata": {
        "colab": {
          "base_uri": "https://localhost:8080/"
        },
        "id": "w2nIerPWANZR",
        "outputId": "5ef00724-1802-4f19-d917-945d6dc33ca3"
      },
      "outputs": [
        {
          "name": "stdout",
          "output_type": "stream",
          "text": [
            "Collecting umap-learn\n",
            "  Downloading umap_learn-0.5.7-py3-none-any.whl.metadata (21 kB)\n",
            "Requirement already satisfied: numpy>=1.17 in /usr/local/lib/python3.10/dist-packages (from umap-learn) (1.26.4)\n",
            "Requirement already satisfied: scipy>=1.3.1 in /usr/local/lib/python3.10/dist-packages (from umap-learn) (1.13.1)\n",
            "Requirement already satisfied: scikit-learn>=0.22 in /usr/local/lib/python3.10/dist-packages (from umap-learn) (1.5.2)\n",
            "Requirement already satisfied: numba>=0.51.2 in /usr/local/lib/python3.10/dist-packages (from umap-learn) (0.60.0)\n",
            "Collecting pynndescent>=0.5 (from umap-learn)\n",
            "  Downloading pynndescent-0.5.13-py3-none-any.whl.metadata (6.8 kB)\n",
            "Requirement already satisfied: tqdm in /usr/local/lib/python3.10/dist-packages (from umap-learn) (4.66.5)\n",
            "Requirement already satisfied: llvmlite<0.44,>=0.43.0dev0 in /usr/local/lib/python3.10/dist-packages (from numba>=0.51.2->umap-learn) (0.43.0)\n",
            "Requirement already satisfied: joblib>=0.11 in /usr/local/lib/python3.10/dist-packages (from pynndescent>=0.5->umap-learn) (1.4.2)\n",
            "Requirement already satisfied: threadpoolctl>=3.1.0 in /usr/local/lib/python3.10/dist-packages (from scikit-learn>=0.22->umap-learn) (3.5.0)\n",
            "Downloading umap_learn-0.5.7-py3-none-any.whl (88 kB)\n",
            "\u001b[2K   \u001b[90m━━━━━━━━━━━━━━━━━━━━━━━━━━━━━━━━━━━━━━━━\u001b[0m \u001b[32m88.8/88.8 kB\u001b[0m \u001b[31m3.5 MB/s\u001b[0m eta \u001b[36m0:00:00\u001b[0m\n",
            "\u001b[?25hDownloading pynndescent-0.5.13-py3-none-any.whl (56 kB)\n",
            "\u001b[2K   \u001b[90m━━━━━━━━━━━━━━━━━━━━━━━━━━━━━━━━━━━━━━━━\u001b[0m \u001b[32m56.9/56.9 kB\u001b[0m \u001b[31m3.8 MB/s\u001b[0m eta \u001b[36m0:00:00\u001b[0m\n",
            "\u001b[?25hInstalling collected packages: pynndescent, umap-learn\n",
            "Successfully installed pynndescent-0.5.13 umap-learn-0.5.7\n"
          ]
        }
      ],
      "source": [
        "# !pip install umap-learn"
      ]
    },
    {
      "cell_type": "code",
      "execution_count": null,
      "metadata": {
        "id": "pqPU4Lu2qU0h"
      },
      "outputs": [],
      "source": [
        "import itertools\n",
        "import random\n",
        "import string\n",
        "from collections import Counter\n",
        "from itertools import chain\n",
        "\n",
        "import matplotlib.pyplot as plt\n",
        "import numpy as np\n",
        "import torch\n",
        "import torch.autograd as autograd\n",
        "import torch.nn as nn\n",
        "import torch.nn.functional as F\n",
        "import torch.optim as optim\n",
        "import umap\n",
        "from IPython.display import clear_output\n",
        "from matplotlib import pyplot as plt\n",
        "from nltk.tokenize import WordPunctTokenizer\n",
        "from torch.optim.lr_scheduler import ReduceLROnPlateau, StepLR\n",
        "from tqdm.auto import tqdm as tqdma"
      ]
    },
    {
      "cell_type": "code",
      "execution_count": null,
      "metadata": {
        "colab": {
          "base_uri": "https://localhost:8080/"
        },
        "id": "8Fbx57z3qU0i",
        "outputId": "14418c06-1744-4d7c-9422-0c747c2c3733"
      },
      "outputs": [
        {
          "name": "stdout",
          "output_type": "stream",
          "text": [
            "--2024-10-29 09:48:36--  https://www.dropbox.com/s/obaitrix9jyu84r/quora.txt?dl=1\n",
            "Resolving www.dropbox.com (www.dropbox.com)... 162.125.5.18, 2620:100:601d:18::a27d:512\n",
            "Connecting to www.dropbox.com (www.dropbox.com)|162.125.5.18|:443... connected.\n",
            "HTTP request sent, awaiting response... 302 Found\n",
            "Location: https://www.dropbox.com/scl/fi/p0t2dw6oqs6oxpd6zz534/quora.txt?rlkey=bjupppwua4zmd4elz8octecy9&dl=1 [following]\n",
            "--2024-10-29 09:48:37--  https://www.dropbox.com/scl/fi/p0t2dw6oqs6oxpd6zz534/quora.txt?rlkey=bjupppwua4zmd4elz8octecy9&dl=1\n",
            "Reusing existing connection to www.dropbox.com:443.\n",
            "HTTP request sent, awaiting response... 302 Found\n",
            "Location: https://uc13d48e3247d1865393e215c567.dl.dropboxusercontent.com/cd/0/inline/CdUm5TlkVF-MjQ5vv9XK4J1cZsoU8yh1TZw8HPVdCKgMsLUN1CtwJ5TEjHHb0QlGNyu4QgDp-Ry9wIkGKwgY963xx17_yRaiqI3BfRS5j1pV_hAivYagra10UK6APkigLWU/file?dl=1# [following]\n",
            "--2024-10-29 09:48:37--  https://uc13d48e3247d1865393e215c567.dl.dropboxusercontent.com/cd/0/inline/CdUm5TlkVF-MjQ5vv9XK4J1cZsoU8yh1TZw8HPVdCKgMsLUN1CtwJ5TEjHHb0QlGNyu4QgDp-Ry9wIkGKwgY963xx17_yRaiqI3BfRS5j1pV_hAivYagra10UK6APkigLWU/file?dl=1\n",
            "Resolving uc13d48e3247d1865393e215c567.dl.dropboxusercontent.com (uc13d48e3247d1865393e215c567.dl.dropboxusercontent.com)... 162.125.5.15, 2620:100:601d:15::a27d:50f\n",
            "Connecting to uc13d48e3247d1865393e215c567.dl.dropboxusercontent.com (uc13d48e3247d1865393e215c567.dl.dropboxusercontent.com)|162.125.5.15|:443... connected.\n",
            "HTTP request sent, awaiting response... 200 OK\n",
            "Length: 33813903 (32M) [application/binary]\n",
            "Saving to: ‘./quora.txt’\n",
            "\n",
            "./quora.txt         100%[===================>]  32.25M  57.5MB/s    in 0.6s    \n",
            "\n",
            "2024-10-29 09:48:38 (57.5 MB/s) - ‘./quora.txt’ saved [33813903/33813903]\n",
            "\n"
          ]
        }
      ],
      "source": [
        "# download the data:\n",
        "!wget https://www.dropbox.com/s/obaitrix9jyu84r/quora.txt?dl=1 -O ./quora.txt -nc\n",
        "# alternative download link: https://yadi.sk/i/BPQrUu1NaTduEw"
      ]
    },
    {
      "cell_type": "code",
      "execution_count": null,
      "metadata": {
        "colab": {
          "base_uri": "https://localhost:8080/",
          "height": 35
        },
        "id": "8EYy5dQpqU0i",
        "outputId": "1536a908-ac4b-4cc3-d08c-07c175aeb040",
        "scrolled": false
      },
      "outputs": [
        {
          "data": {
            "application/vnd.google.colaboratory.intrinsic+json": {
              "type": "string"
            },
            "text/plain": [
              "\"What TV shows or books help you read people's body language?\\n\""
            ]
          },
          "execution_count": 84,
          "metadata": {},
          "output_type": "execute_result"
        }
      ],
      "source": [
        "data = list(open(\"./quora.txt\", encoding=\"utf-8\"))\n",
        "data[50]"
      ]
    },
    {
      "cell_type": "markdown",
      "metadata": {
        "id": "feBEGI2eqU0j"
      },
      "source": [
        "Токенизация – первый шаг.\n",
        "Тексты, с которыми мы работаем, включают в себя пунктуацию, смайлики и прочие нестандартные токены, так что простой `str.split` не подойдет.\n",
        "\n",
        "Обратимся к `nltk` - библиотеку, нашла широкое применеие в области NLP."
      ]
    },
    {
      "cell_type": "code",
      "execution_count": null,
      "metadata": {
        "colab": {
          "base_uri": "https://localhost:8080/"
        },
        "id": "7mWTvm50qU0j",
        "outputId": "696dc2c1-7087-4661-f04b-a9eb2c083e5f"
      },
      "outputs": [
        {
          "name": "stdout",
          "output_type": "stream",
          "text": [
            "['What', 'TV', 'shows', 'or', 'books', 'help', 'you', 'read', 'people', \"'\", 's', 'body', 'language', '?']\n"
          ]
        }
      ],
      "source": [
        "tokenizer = WordPunctTokenizer()\n",
        "\n",
        "print(tokenizer.tokenize(data[50]))"
      ]
    },
    {
      "cell_type": "code",
      "execution_count": null,
      "metadata": {
        "id": "HzC05EHWqU0j"
      },
      "outputs": [],
      "source": [
        "data_tok = [tokenizer.tokenize(line.translate(str.maketrans(\"\", \"\", string.punctuation)).lower()) for line in data]\n",
        "data_tok = [x for x in data_tok if len(x) >= 3]"
      ]
    },
    {
      "cell_type": "markdown",
      "metadata": {
        "id": "6azRAgHIqU0k"
      },
      "source": [
        "Несколько проверок:"
      ]
    },
    {
      "cell_type": "code",
      "execution_count": null,
      "metadata": {
        "id": "Cp8UpxdWqU0k"
      },
      "outputs": [],
      "source": [
        "assert all(isinstance(row, (list, tuple)) for row in data_tok), \"please convert each line into a list of tokens (strings)\"\n",
        "assert all(all(isinstance(tok, str) for tok in row) for row in data_tok), \"please convert each line into a list of tokens (strings)\"\n",
        "is_latin = lambda tok: all(\"a\" <= x.lower() <= \"z\" for x in tok)\n",
        "assert all(map(lambda l: not is_latin(l) or l.islower(), map(\" \".join, data_tok))), \"please make sure to lowercase the data\""
      ]
    },
    {
      "cell_type": "markdown",
      "metadata": {
        "id": "37e7-MIhqU0x"
      },
      "source": [
        "Ниже заданы константы ширины окна контекста и проведена предобработка для построения skip-gram модели."
      ]
    },
    {
      "cell_type": "code",
      "execution_count": null,
      "metadata": {
        "id": "fugc1IomqU0x"
      },
      "outputs": [],
      "source": [
        "min_count = 5\n",
        "window_radius = 5"
      ]
    },
    {
      "cell_type": "code",
      "execution_count": null,
      "metadata": {
        "id": "oyazjZTCADf5"
      },
      "outputs": [],
      "source": [
        "vocabulary_with_counter = Counter(chain.from_iterable(data_tok))\n",
        "\n",
        "word_count_dict = dict()\n",
        "for word, counter in vocabulary_with_counter.items():\n",
        "    if counter >= min_count:\n",
        "        word_count_dict[word] = counter\n",
        "\n",
        "vocabulary = set(word_count_dict.keys())\n",
        "del vocabulary_with_counter"
      ]
    },
    {
      "cell_type": "code",
      "execution_count": null,
      "metadata": {
        "id": "rA4eloUOADf6"
      },
      "outputs": [],
      "source": [
        "word_to_index = {word: index for index, word in enumerate(vocabulary)}\n",
        "index_to_word = {index: word for word, index in word_to_index.items()}"
      ]
    },
    {
      "cell_type": "markdown",
      "metadata": {
        "id": "4Y8rlBfqqU0x"
      },
      "source": [
        "Пары `(слово, контекст)` на основе доступного датасета сгенерированы ниже."
      ]
    },
    {
      "cell_type": "code",
      "execution_count": null,
      "metadata": {
        "colab": {
          "base_uri": "https://localhost:8080/"
        },
        "id": "h2-aqyyaqU0x",
        "outputId": "0480d109-a587-46da-a531-078729487dd2"
      },
      "outputs": [
        {
          "name": "stdout",
          "output_type": "stream",
          "text": [
            "Generated 40220313 pairs of target and context words.\n"
          ]
        }
      ],
      "source": [
        "context_pairs = []\n",
        "\n",
        "for text in data_tok:\n",
        "    for i, central_word in enumerate(text):\n",
        "        context_indices = range(max(0, i - window_radius), min(i + window_radius, len(text)))\n",
        "        for j in context_indices:\n",
        "            if j == i:\n",
        "                continue\n",
        "            context_word = text[j]\n",
        "            if central_word in vocabulary and context_word in vocabulary:\n",
        "                context_pairs.append((word_to_index[central_word], word_to_index[context_word]))\n",
        "\n",
        "print(f\"Generated {len(context_pairs)} pairs of target and context words.\")"
      ]
    },
    {
      "cell_type": "markdown",
      "metadata": {
        "id": "SDQLnNT8ADf8"
      },
      "source": [
        "#### Подзадача №1: subsampling\n",
        "Для того, чтобы сгладить разницу в частоте встречаемсости слов, необходимо реализовать механизм subsampling'а.\n",
        "Для этого вам необходимо реализовать функцию ниже.\n",
        "\n",
        "Вероятность **исключить** слово из обучения (на фиксированном шаге) вычисляется как\n",
        "$$\n",
        "P_\\text{drop}(w_i)=1 - \\sqrt{\\frac{t}{f(w_i)}},\n",
        "$$\n",
        "где $f(w_i)$ – нормированная частота встречаемости слова, а $t$ – заданный порог (threshold)."
      ]
    },
    {
      "cell_type": "code",
      "execution_count": 149,
      "metadata": {
        "id": "QpNTlXyrADf9"
      },
      "outputs": [],
      "source": [
        "def subsample_frequent_words(word_count_dict, threshold=1e-5):\n",
        "    \"\"\"\n",
        "    Calculates the subsampling probabilities for words based on their frequencies.\n",
        "\n",
        "    This function is used to determine the probability of keeping a word in the dataset\n",
        "    when subsampling frequent words. The method used is inspired by the subsampling approach\n",
        "    in Word2Vec, where each word's frequency affects its probability of being kept.\n",
        "\n",
        "    Parameters:\n",
        "    - word_count_dict (dict): A dictionary where keys are words and values are the counts of those words.\n",
        "    - threshold (float, optional): A threshold parameter used to adjust the frequency of word subsampling.\n",
        "                                   Defaults to 1e-5.\n",
        "\n",
        "    Returns:\n",
        "    - dict: A dictionary where keys are words and values are the probabilities of keeping each word.\n",
        "\n",
        "    Example:\n",
        "    >>> word_counts = {'the': 5000, 'is': 1000, 'apple': 50}\n",
        "    >>> subsample_frequent_words(word_counts)\n",
        "    {'the': 0.028, 'is': 0.223, 'apple': 1.0}\n",
        "    \"\"\"\n",
        "\n",
        "    ### YOUR CODE HERE\n",
        "    total_count = sum(word_count_dict.values())\n",
        "    word_freq_dict = {word: count / total_count for word, count in word_count_dict.items()}\n",
        "    keep_prob_dict = {word: (threshold / freq) ** 0.5 for word, freq in word_freq_dict.items()}\n",
        "    # keep_prob_dict = {word: 0 for word in word_count_dict.keys()}  # THIS IS A PLACEHOLDER!\n",
        "\n",
        "    return keep_prob_dict"
      ]
    },
    {
      "cell_type": "code",
      "execution_count": 150,
      "metadata": {
        "colab": {
          "base_uri": "https://localhost:8080/"
        },
        "id": "Qsd14QpDO_Sz",
        "outputId": "f61b4b15-be6d-44cd-ba2b-6359ee1b0f42"
      },
      "outputs": [
        {
          "output_type": "execute_result",
          "data": {
            "text/plain": [
              "{'the': 0.0034785054261852176,\n",
              " 'is': 0.007778174593052023,\n",
              " 'apple': 0.034785054261852175}"
            ]
          },
          "metadata": {},
          "execution_count": 150
        }
      ],
      "source": [
        "word_counts = {'the': 5000, 'is': 1000, 'apple': 50}\n",
        "subsample_frequent_words(word_counts)"
      ]
    },
    {
      "cell_type": "markdown",
      "metadata": {
        "id": "Q76o3yyaADf-"
      },
      "source": [
        "#### Подзадача №2: negative sampling\n",
        "Для более эффективного обучения необходимо не только предсказывать высокие вероятности для слов из контекста, но и предсказывать низкие для слов, не встреченных в контексте. Для этого вам необходимо вычислить вероятност использовать слово в качестве negative sample, реализовав функцию ниже.\n",
        "\n",
        "В оригинальной статье предлагается оценивать вероятность слов выступать в качестве negative sample согласно распределению $P_n(w)$\n",
        "$$\n",
        "P_n(w) = \\frac{U(w)^{3/4}}{Z},\n",
        "$$\n",
        "\n",
        "где $U(w)$ распределение слов по частоте (или, как его еще называют, по униграммам), а $Z$ – нормировочная константа, чтобы общая мера была равна $1$."
      ]
    },
    {
      "cell_type": "code",
      "execution_count": 151,
      "metadata": {
        "id": "ZZlN9xdTADf_"
      },
      "outputs": [],
      "source": [
        "def get_negative_sampling_prob(word_count_dict):\n",
        "    \"\"\"\n",
        "    Calculates the negative sampling probabilities for words based on their frequencies.\n",
        "\n",
        "    This function adjusts the frequency of each word raised to the power of 0.75, which is\n",
        "    commonly used in algorithms like Word2Vec to moderate the influence of very frequent words.\n",
        "    It then normalizes these adjusted frequencies to ensure they sum to 1, forming a probability\n",
        "    distribution used for negative sampling.\n",
        "\n",
        "    Parameters:\n",
        "    - word_count_dict (dict): A dictionary where keys are words and values are the counts of those words.\n",
        "\n",
        "    Returns:\n",
        "    - dict: A dictionary where keys are words and values are the probabilities of selecting each word\n",
        "            for negative sampling.\n",
        "\n",
        "    Example:\n",
        "    >>> word_counts = {'the': 5000, 'is': 1000, 'apple': 50}\n",
        "    >>> get_negative_sampling_prob(word_counts)\n",
        "    {'the': 0.298, 'is': 0.160, 'apple': 0.042}\n",
        "    \"\"\"\n",
        "\n",
        "    ### YOUR CODE HERE\n",
        "    adjusted_freq_dict = {word: count ** 0.75 for word, count in word_count_dict.items()}\n",
        "    Z = sum(adjusted_freq_dict.values())\n",
        "    negative_sampling_prob_dict = {word: freq / Z for word, freq in adjusted_freq_dict.items()}\n",
        "    # negative_sampling_prob_dict = {word: 0 for word in word_count_dict.keys()}  # THIS IS A PLACEHOLDER!\n",
        "\n",
        "    return negative_sampling_prob_dict"
      ]
    },
    {
      "cell_type": "code",
      "execution_count": 152,
      "metadata": {
        "colab": {
          "base_uri": "https://localhost:8080/"
        },
        "id": "kuJ_r4ADSV_3",
        "outputId": "32334cdc-cff8-44b0-bca4-e73110ef990e"
      },
      "outputs": [
        {
          "output_type": "execute_result",
          "data": {
            "text/plain": [
              "{'the': 0.751488398196177,\n",
              " 'is': 0.2247474520689081,\n",
              " 'apple': 0.023764149734914898}"
            ]
          },
          "metadata": {},
          "execution_count": 152
        }
      ],
      "source": [
        "word_counts = {'the': 5000, 'is': 1000, 'apple': 50}\n",
        "get_negative_sampling_prob(word_counts)"
      ]
    },
    {
      "cell_type": "markdown",
      "metadata": {
        "id": "j4geoY5sADf_"
      },
      "source": [
        "Для удобства, преобразуем полученные словари в массивы (т.к. все слова все равно уже пронумерованы)."
      ]
    },
    {
      "cell_type": "code",
      "execution_count": 153,
      "metadata": {
        "id": "apski4OeADf_"
      },
      "outputs": [],
      "source": [
        "keep_prob_dict = subsample_frequent_words(word_count_dict)\n",
        "assert keep_prob_dict.keys() == word_count_dict.keys()"
      ]
    },
    {
      "cell_type": "code",
      "execution_count": 154,
      "metadata": {
        "id": "eMRxi5YAADgA"
      },
      "outputs": [],
      "source": [
        "negative_sampling_prob_dict = get_negative_sampling_prob(word_count_dict)\n",
        "assert negative_sampling_prob_dict.keys() == negative_sampling_prob_dict.keys()\n",
        "assert np.allclose(sum(negative_sampling_prob_dict.values()), 1)"
      ]
    },
    {
      "cell_type": "code",
      "execution_count": 155,
      "metadata": {
        "id": "WO5jl35-ADgA"
      },
      "outputs": [],
      "source": [
        "keep_prob_array = np.array([keep_prob_dict[index_to_word[idx]] for idx in range(len(word_to_index))])\n",
        "negative_sampling_prob_array = np.array([negative_sampling_prob_dict[index_to_word[idx]] for idx in range(len(word_to_index))])"
      ]
    },
    {
      "cell_type": "markdown",
      "metadata": {
        "id": "KBc2FkYXADgB"
      },
      "source": [
        "Если все прошло успешно, функция ниже поможет вам с генерацией подвыборок (батчей)."
      ]
    },
    {
      "cell_type": "code",
      "execution_count": 156,
      "metadata": {
        "id": "QkRy1NBbADgB"
      },
      "outputs": [],
      "source": [
        "def generate_batch_with_neg_samples(context_pairs,\n",
        "                                    batch_size,\n",
        "                                    keep_prob_array,\n",
        "                                    word_to_index,\n",
        "                                    num_negatives,\n",
        "                                    negative_sampling_prob_array,):\n",
        "\n",
        "    batch = []\n",
        "    neg_samples = []\n",
        "\n",
        "    while len(batch) < batch_size:\n",
        "        center, context = random.choice(context_pairs)\n",
        "        if random.random() < keep_prob_array[center]:\n",
        "            batch.append((center, context))\n",
        "            neg_sample = np.random.choice(range(len(negative_sampling_prob_array)),\n",
        "                                          size=num_negatives,\n",
        "                                          p=negative_sampling_prob_array,)\n",
        "            neg_samples.append(neg_sample)\n",
        "    batch = np.array(batch)\n",
        "    neg_samples = np.vstack(neg_samples)\n",
        "    return batch, neg_samples"
      ]
    },
    {
      "cell_type": "code",
      "execution_count": 157,
      "metadata": {
        "id": "V-HOEiLHADgC"
      },
      "outputs": [],
      "source": [
        "batch_size = 4\n",
        "num_negatives = 15\n",
        "batch, neg_samples = generate_batch_with_neg_samples(context_pairs,\n",
        "                                                     batch_size,\n",
        "                                                     keep_prob_array,\n",
        "                                                     word_to_index,\n",
        "                                                     num_negatives,\n",
        "                                                     negative_sampling_prob_array,)"
      ]
    },
    {
      "cell_type": "markdown",
      "metadata": {
        "id": "8oarDrskADgC"
      },
      "source": [
        "Наконец, время реализовать модель. Обращаем ваше внимание, использование линейных слоев (`nn.Linear`) далеко не всегда оправданно!\n",
        "\n",
        "Напомним, что в случае negative sampling решается задача максимизации следующего функционала:\n",
        "\n",
        "$$\n",
        "\\mathcal{L} = \\log \\sigma({\\mathbf{v}'_{w_O}}^\\top \\mathbf{v}_{w_I}) + \\sum_{i=1}^{k} \\mathbb{E}_{w_i \\sim P_n(w)} \\left[ \\log \\sigma({-\\mathbf{v}'_{w_i}}^\\top \\mathbf{v}_{w_I}) \\right],\n",
        "$$\n",
        "\n",
        "где:\n",
        "- $\\mathbf{v}_{w_I}$ – вектор центрального слова $w_I$,\n",
        "- $\\mathbf{v}'_{w_O}$ – вектор слова из контекста $w_O$,\n",
        "- $k$ – число negative samplesЮ,\n",
        "- $P_n(w)$ – распределение negative samples, заданное выше,\n",
        "- $\\sigma$ – сигмоида."
      ]
    },
    {
      "cell_type": "code",
      "execution_count": 158,
      "metadata": {
        "id": "PqVex-BgADgD"
      },
      "outputs": [],
      "source": [
        "class SkipGramModelWithNegSampling(nn.Module):\n",
        "    def __init__(self, vocab_size, embedding_dim):\n",
        "        super().__init__()\n",
        "        self.center_embeddings = nn.Embedding(vocab_size, embedding_dim)  # YOUR CODE HERE\n",
        "        self.context_embeddings = nn.Embedding(vocab_size, embedding_dim)  # YOUR CODE HERE\n",
        "\n",
        "    def forward(self, center_words, pos_context_words, neg_context_words):\n",
        "        # YOUR CODE HERE\n",
        "        pos_scores = torch.sum(self.center_embeddings(center_words) * self.context_embeddings(pos_context_words), dim=-1)\n",
        "        neg_scores = torch.bmm(self.context_embeddings(neg_context_words), self.center_embeddings(center_words).unsqueeze(1).transpose(1, 2)).squeeze(2)\n",
        "        # pos_scores = 0  # THIS IS A PLACEHOLDER\n",
        "        # neg_scores = 0  # THIS IS A PLACEHOLDER\n",
        "\n",
        "        return pos_scores, neg_scores"
      ]
    },
    {
      "cell_type": "code",
      "execution_count": 159,
      "metadata": {
        "id": "ZaLZ9zk8ADgD"
      },
      "outputs": [],
      "source": [
        "device = torch.device(\"cpu\")"
      ]
    },
    {
      "cell_type": "code",
      "execution_count": 160,
      "metadata": {
        "id": "VI05XyqtADgE"
      },
      "outputs": [],
      "source": [
        "vocab_size = len(word_to_index)\n",
        "embedding_dim = 32\n",
        "num_negatives = 15\n",
        "\n",
        "model = SkipGramModelWithNegSampling(vocab_size, embedding_dim).to(device)\n",
        "optimizer = optim.Adam(model.parameters(), lr=0.05)\n",
        "lr_scheduler = ReduceLROnPlateau(optimizer, factor=0.5, patience=150)\n",
        "criterion = nn.BCEWithLogitsLoss()"
      ]
    },
    {
      "cell_type": "code",
      "execution_count": 161,
      "metadata": {
        "id": "qFIyMz3FADgF"
      },
      "outputs": [],
      "source": [
        "params_counter = 0\n",
        "for weights in model.parameters():\n",
        "    params_counter += weights.shape.numel()\n",
        "assert params_counter == len(word_to_index) * embedding_dim * 2"
      ]
    },
    {
      "cell_type": "code",
      "execution_count": 162,
      "metadata": {
        "id": "5CurzOUlADgF"
      },
      "outputs": [],
      "source": [
        "def train_skipgram_with_neg_sampling(model,\n",
        "                                     context_pairs,\n",
        "                                     keep_prob_array,\n",
        "                                     word_to_index,\n",
        "                                     batch_size,\n",
        "                                     num_negatives,\n",
        "                                     negative_sampling_prob_array,\n",
        "                                     steps,\n",
        "                                     optimizer=optimizer,\n",
        "                                     lr_scheduler=lr_scheduler,\n",
        "                                     device=device,):\n",
        "\n",
        "    pos_labels = torch.ones(batch_size).to(device)\n",
        "    neg_labels = torch.zeros(batch_size, num_negatives).to(device)\n",
        "    loss_history = []\n",
        "    for step in tqdma(range(steps)):\n",
        "        batch, neg_samples = generate_batch_with_neg_samples(context_pairs,\n",
        "                                                             batch_size,\n",
        "                                                             keep_prob_array,\n",
        "                                                             word_to_index,\n",
        "                                                             num_negatives,\n",
        "                                                             negative_sampling_prob_array,)\n",
        "        center_words = torch.tensor([pair[0] for pair in batch], dtype=torch.long).to(device)\n",
        "        pos_context_words = torch.tensor([pair[1] for pair in batch], dtype=torch.long).to(device)\n",
        "        neg_context_words = torch.tensor(neg_samples, dtype=torch.long).to(device)\n",
        "\n",
        "        optimizer.zero_grad()\n",
        "        pos_scores, neg_scores = model(center_words, pos_context_words, neg_context_words)\n",
        "\n",
        "        loss_pos = criterion(pos_scores, pos_labels)\n",
        "        loss_neg = criterion(neg_scores, neg_labels)\n",
        "\n",
        "        loss = loss_pos + loss_neg\n",
        "        loss.backward()\n",
        "        optimizer.step()\n",
        "\n",
        "        loss_history.append(loss.item())\n",
        "        lr_scheduler.step(loss_history[-1])\n",
        "\n",
        "        if step % 100 == 0:\n",
        "            print(f\"Step {step}, Loss: {np.mean(loss_history[-100:])}, learning rate: {lr_scheduler._last_lr}\")"
      ]
    },
    {
      "cell_type": "code",
      "execution_count": 164,
      "metadata": {
        "colab": {
          "base_uri": "https://localhost:8080/",
          "height": 288,
          "referenced_widgets": [
            "7e03c421ef9e4955a05bf563c1031b8f",
            "1021485a4f2d4ef2a109369c7a0b4f14",
            "5430865240c64a28baa42ac4ffdd639c",
            "c5e6b993f757459bb1830f9cf3e5e1c5",
            "6e01609b4f714f16b0797286a8dfa8c5",
            "9c66b02f0dad439cbd7a75063caba123",
            "df8b1417db9f495b937f7d6bf01e8aae",
            "f497d212f31f48eb9465c43605fdb164",
            "5dbaa7e6289b40dd8596d4b939d26fd8",
            "94dd151fa335477586e3431d8df0176c",
            "3500a0e2b5fb45f38b1c3f765b6cd827"
          ]
        },
        "id": "2hZxW42_ADgH",
        "outputId": "0336a395-06c1-4feb-9920-9492b79698c0"
      },
      "outputs": [
        {
          "output_type": "display_data",
          "data": {
            "text/plain": [
              "  0%|          | 0/1250 [00:00<?, ?it/s]"
            ],
            "application/vnd.jupyter.widget-view+json": {
              "version_major": 2,
              "version_minor": 0,
              "model_id": "7e03c421ef9e4955a05bf563c1031b8f"
            }
          },
          "metadata": {}
        },
        {
          "output_type": "stream",
          "name": "stdout",
          "text": [
            "Step 0, Loss: 4.890671253204346, learning rate: [0.05]\n",
            "Step 100, Loss: 3.8747504687309267, learning rate: [0.05]\n",
            "Step 200, Loss: 3.2925720620155334, learning rate: [0.05]\n",
            "Step 300, Loss: 3.083724091053009, learning rate: [0.05]\n",
            "Step 400, Loss: 3.0281702852249146, learning rate: [0.05]\n",
            "Step 500, Loss: 3.0018372678756715, learning rate: [0.025]\n",
            "Step 600, Loss: 2.8831252574920656, learning rate: [0.025]\n",
            "Step 700, Loss: 2.720821521282196, learning rate: [0.025]\n",
            "Step 800, Loss: 2.6235374784469605, learning rate: [0.025]\n",
            "Step 900, Loss: 2.544050004482269, learning rate: [0.025]\n",
            "Step 1000, Loss: 2.4359169459342955, learning rate: [0.025]\n",
            "Step 1100, Loss: 2.3706761312484743, learning rate: [0.025]\n",
            "Step 1200, Loss: 2.3466572427749632, learning rate: [0.025]\n"
          ]
        }
      ],
      "source": [
        "# steps = 2500\n",
        "# batch_size = 512\n",
        "batch_size = 128\n",
        "steps = 1250\n",
        "# steps = 500\n",
        "# batch_size = 4096\n",
        "train_skipgram_with_neg_sampling(model,\n",
        "                                 context_pairs,\n",
        "                                 keep_prob_array,\n",
        "                                 word_to_index,\n",
        "                                 batch_size,\n",
        "                                 num_negatives,\n",
        "                                 negative_sampling_prob_array,\n",
        "                                 steps,)"
      ]
    },
    {
      "cell_type": "markdown",
      "metadata": {
        "id": "WltovBhdADgH"
      },
      "source": [
        "Наконец, используйте полученную матрицу весов в качестве матрицы в векторными представлениями слов. Рекомендуем использовать для сдачи матрицу, которая отвечала за слова из контекста (т.е. декодера)."
      ]
    },
    {
      "cell_type": "code",
      "execution_count": 165,
      "metadata": {
        "id": "xXHRDlv-ADgI"
      },
      "outputs": [],
      "source": [
        "_model_parameters = model.parameters()\n",
        "embedding_matrix_center = next(_model_parameters).detach()  # Assuming that first matrix was for central word\n",
        "embedding_matrix_context = next(_model_parameters).detach()  # Assuming that second matrix was for context word"
      ]
    },
    {
      "cell_type": "code",
      "execution_count": 166,
      "metadata": {
        "id": "wftyVW9yADgJ"
      },
      "outputs": [],
      "source": [
        "def get_word_vector(word, embedding_matrix, word_to_index=word_to_index):\n",
        "    return embedding_matrix[word_to_index[word]]"
      ]
    },
    {
      "cell_type": "markdown",
      "metadata": {
        "id": "c2fsf2iLADgK"
      },
      "source": [
        "Простые проверки:"
      ]
    },
    {
      "cell_type": "code",
      "execution_count": 177,
      "metadata": {
        "id": "h9wjbSNNADgW"
      },
      "outputs": [],
      "source": [
        "similarity_1 = F.cosine_similarity(get_word_vector(\"iphone\", embedding_matrix_context)[None, :],\n",
        "                                   get_word_vector(\"apple\", embedding_matrix_context)[None, :],)\n",
        "similarity_2 = F.cosine_similarity(get_word_vector(\"iphone\", embedding_matrix_context)[None, :],\n",
        "                                   get_word_vector(\"dell\", embedding_matrix_context)[None, :],)\n",
        "assert similarity_1 > similarity_2"
      ]
    },
    {
      "cell_type": "code",
      "execution_count": 168,
      "metadata": {
        "id": "IDW2PdVkADgX"
      },
      "outputs": [],
      "source": [
        "similarity_1 = F.cosine_similarity(get_word_vector(\"windows\", embedding_matrix_context)[None, :],\n",
        "                                   get_word_vector(\"laptop\", embedding_matrix_context)[None, :],)\n",
        "similarity_2 = F.cosine_similarity(get_word_vector(\"windows\", embedding_matrix_context)[None, :],\n",
        "                                   get_word_vector(\"macbook\", embedding_matrix_context)[None, :],)\n",
        "assert similarity_1 > similarity_2"
      ]
    },
    {
      "cell_type": "markdown",
      "metadata": {
        "id": "EZxew8vuADgX"
      },
      "source": [
        "Наконец, взглянем на ближайшие по косинусной мере слова. Функция реализована ниже."
      ]
    },
    {
      "cell_type": "code",
      "execution_count": 169,
      "metadata": {
        "id": "dA0V6rOYtsLk"
      },
      "outputs": [],
      "source": [
        "def find_nearest(word, embedding_matrix, word_to_index=word_to_index, k=10):\n",
        "    word_vector = get_word_vector(word, embedding_matrix)[None, :]\n",
        "    dists = F.cosine_similarity(embedding_matrix, word_vector)\n",
        "    index_sorted = torch.argsort(dists)\n",
        "    top_k = index_sorted[-k:]\n",
        "    return [(index_to_word[x], dists[x].item()) for x in top_k.numpy()]"
      ]
    },
    {
      "cell_type": "code",
      "execution_count": 170,
      "metadata": {
        "colab": {
          "base_uri": "https://localhost:8080/"
        },
        "id": "1JVwhBrgADgY",
        "outputId": "4ce9451f-0668-4efd-c56e-a4605e61908b"
      },
      "outputs": [
        {
          "output_type": "execute_result",
          "data": {
            "text/plain": [
              "[('transmitter', 0.577238142490387),\n",
              " ('baraka', 0.5842851400375366),\n",
              " ('montana', 0.5955228209495544),\n",
              " ('cries', 0.5987150073051453),\n",
              " ('practicing', 0.6070535778999329),\n",
              " ('griffin', 0.6164010763168335),\n",
              " ('akbar', 0.6236343383789062),\n",
              " ('zeroes', 0.6450906991958618),\n",
              " ('official', 0.6702287197113037),\n",
              " ('python', 0.9999999403953552)]"
            ]
          },
          "metadata": {},
          "execution_count": 170
        }
      ],
      "source": [
        "find_nearest(\"python\", embedding_matrix_context, k=10)"
      ]
    },
    {
      "cell_type": "markdown",
      "metadata": {
        "id": "YDS3fhw_ADgZ"
      },
      "source": [
        "Также вы можете визуально проверить, как представлены в латентном пространстве часто встречающиеся слова."
      ]
    },
    {
      "cell_type": "code",
      "execution_count": 171,
      "metadata": {
        "id": "D3_gqPYkADgZ"
      },
      "outputs": [],
      "source": [
        "top_k = 5000\n",
        "_top_words = sorted([x for x in word_count_dict.items()], key=lambda x: x[1])[-top_k - 100 : -100]  # ignoring 100 most frequent words\n",
        "top_words = [x[0] for x in _top_words]\n",
        "del _top_words"
      ]
    },
    {
      "cell_type": "code",
      "execution_count": 172,
      "metadata": {
        "id": "VIZ01yyJADgZ"
      },
      "outputs": [],
      "source": [
        "word_embeddings = torch.cat([embedding_matrix_context[word_to_index[x]][None, :] for x in top_words], dim=0).numpy()"
      ]
    },
    {
      "cell_type": "code",
      "execution_count": 173,
      "metadata": {
        "id": "raPyGvW_ADga"
      },
      "outputs": [],
      "source": [
        "import bokeh.models as bm\n",
        "import bokeh.plotting as pl\n",
        "from bokeh.io import output_notebook\n",
        "\n",
        "output_notebook()\n",
        "\n",
        "\n",
        "def draw_vectors(x,\n",
        "                 y,\n",
        "                 radius=10,\n",
        "                 alpha=0.25,\n",
        "                 color=\"blue\",\n",
        "                 width=600,\n",
        "                 height=400,\n",
        "                 show=True,\n",
        "                 **kwargs,):\n",
        "\n",
        "    \"\"\"draws an interactive plot for data points with auxilirary info on hover\"\"\"\n",
        "    if isinstance(color, str):\n",
        "        color = [color] * len(x)\n",
        "    data_source = bm.ColumnDataSource({\"x\": x, \"y\": y, \"color\": color, **kwargs})\n",
        "\n",
        "    fig = pl.figure(active_scroll=\"wheel_zoom\", width=width, height=height)\n",
        "    fig.scatter(\"x\", \"y\", size=radius, color=\"color\", alpha=alpha, source=data_source)\n",
        "\n",
        "    fig.add_tools(bm.HoverTool(tooltips=[(key, \"@\" + key) for key in kwargs.keys()]))\n",
        "    if show:\n",
        "        pl.show(fig)\n",
        "    return fig"
      ]
    },
    {
      "cell_type": "code",
      "execution_count": 174,
      "metadata": {
        "id": "mHIHKcnlADga"
      },
      "outputs": [],
      "source": [
        "embedding = umap.UMAP(n_neighbors=5).fit_transform(word_embeddings)"
      ]
    },
    {
      "cell_type": "code",
      "execution_count": 175,
      "metadata": {
        "colab": {
          "base_uri": "https://localhost:8080/",
          "height": 434
        },
        "id": "buPlZYF4ADgb",
        "outputId": "5519640f-d891-4bcb-d25e-33ba10174d7f"
      },
      "outputs": [
        {
          "output_type": "display_data",
          "data": {
            "application/javascript": [
              "'use strict';\n",
              "(function(root) {\n",
              "  function now() {\n",
              "    return new Date();\n",
              "  }\n",
              "\n",
              "  const force = true;\n",
              "\n",
              "  if (typeof root._bokeh_onload_callbacks === \"undefined\" || force === true) {\n",
              "    root._bokeh_onload_callbacks = [];\n",
              "    root._bokeh_is_loading = undefined;\n",
              "  }\n",
              "\n",
              "const JS_MIME_TYPE = 'application/javascript';\n",
              "  const HTML_MIME_TYPE = 'text/html';\n",
              "  const EXEC_MIME_TYPE = 'application/vnd.bokehjs_exec.v0+json';\n",
              "  const CLASS_NAME = 'output_bokeh rendered_html';\n",
              "\n",
              "  /**\n",
              "   * Render data to the DOM node\n",
              "   */\n",
              "  function render(props, node) {\n",
              "    const script = document.createElement(\"script\");\n",
              "    node.appendChild(script);\n",
              "  }\n",
              "\n",
              "  /**\n",
              "   * Handle when an output is cleared or removed\n",
              "   */\n",
              "  function handleClearOutput(event, handle) {\n",
              "    function drop(id) {\n",
              "      const view = Bokeh.index.get_by_id(id)\n",
              "      if (view != null) {\n",
              "        view.model.document.clear()\n",
              "        Bokeh.index.delete(view)\n",
              "      }\n",
              "    }\n",
              "\n",
              "    const cell = handle.cell;\n",
              "\n",
              "    const id = cell.output_area._bokeh_element_id;\n",
              "    const server_id = cell.output_area._bokeh_server_id;\n",
              "\n",
              "    // Clean up Bokeh references\n",
              "    if (id != null) {\n",
              "      drop(id)\n",
              "    }\n",
              "\n",
              "    if (server_id !== undefined) {\n",
              "      // Clean up Bokeh references\n",
              "      const cmd_clean = \"from bokeh.io.state import curstate; print(curstate().uuid_to_server['\" + server_id + \"'].get_sessions()[0].document.roots[0]._id)\";\n",
              "      cell.notebook.kernel.execute(cmd_clean, {\n",
              "        iopub: {\n",
              "          output: function(msg) {\n",
              "            const id = msg.content.text.trim()\n",
              "            drop(id)\n",
              "          }\n",
              "        }\n",
              "      });\n",
              "      // Destroy server and session\n",
              "      const cmd_destroy = \"import bokeh.io.notebook as ion; ion.destroy_server('\" + server_id + \"')\";\n",
              "      cell.notebook.kernel.execute(cmd_destroy);\n",
              "    }\n",
              "  }\n",
              "\n",
              "  /**\n",
              "   * Handle when a new output is added\n",
              "   */\n",
              "  function handleAddOutput(event, handle) {\n",
              "    const output_area = handle.output_area;\n",
              "    const output = handle.output;\n",
              "\n",
              "    // limit handleAddOutput to display_data with EXEC_MIME_TYPE content only\n",
              "    if ((output.output_type != \"display_data\") || (!Object.prototype.hasOwnProperty.call(output.data, EXEC_MIME_TYPE))) {\n",
              "      return\n",
              "    }\n",
              "\n",
              "    const toinsert = output_area.element.find(\".\" + CLASS_NAME.split(' ')[0]);\n",
              "\n",
              "    if (output.metadata[EXEC_MIME_TYPE][\"id\"] !== undefined) {\n",
              "      toinsert[toinsert.length - 1].firstChild.textContent = output.data[JS_MIME_TYPE];\n",
              "      // store reference to embed id on output_area\n",
              "      output_area._bokeh_element_id = output.metadata[EXEC_MIME_TYPE][\"id\"];\n",
              "    }\n",
              "    if (output.metadata[EXEC_MIME_TYPE][\"server_id\"] !== undefined) {\n",
              "      const bk_div = document.createElement(\"div\");\n",
              "      bk_div.innerHTML = output.data[HTML_MIME_TYPE];\n",
              "      const script_attrs = bk_div.children[0].attributes;\n",
              "      for (let i = 0; i < script_attrs.length; i++) {\n",
              "        toinsert[toinsert.length - 1].firstChild.setAttribute(script_attrs[i].name, script_attrs[i].value);\n",
              "        toinsert[toinsert.length - 1].firstChild.textContent = bk_div.children[0].textContent\n",
              "      }\n",
              "      // store reference to server id on output_area\n",
              "      output_area._bokeh_server_id = output.metadata[EXEC_MIME_TYPE][\"server_id\"];\n",
              "    }\n",
              "  }\n",
              "\n",
              "  function register_renderer(events, OutputArea) {\n",
              "\n",
              "    function append_mime(data, metadata, element) {\n",
              "      // create a DOM node to render to\n",
              "      const toinsert = this.create_output_subarea(\n",
              "        metadata,\n",
              "        CLASS_NAME,\n",
              "        EXEC_MIME_TYPE\n",
              "      );\n",
              "      this.keyboard_manager.register_events(toinsert);\n",
              "      // Render to node\n",
              "      const props = {data: data, metadata: metadata[EXEC_MIME_TYPE]};\n",
              "      render(props, toinsert[toinsert.length - 1]);\n",
              "      element.append(toinsert);\n",
              "      return toinsert\n",
              "    }\n",
              "\n",
              "    /* Handle when an output is cleared or removed */\n",
              "    events.on('clear_output.CodeCell', handleClearOutput);\n",
              "    events.on('delete.Cell', handleClearOutput);\n",
              "\n",
              "    /* Handle when a new output is added */\n",
              "    events.on('output_added.OutputArea', handleAddOutput);\n",
              "\n",
              "    /**\n",
              "     * Register the mime type and append_mime function with output_area\n",
              "     */\n",
              "    OutputArea.prototype.register_mime_type(EXEC_MIME_TYPE, append_mime, {\n",
              "      /* Is output safe? */\n",
              "      safe: true,\n",
              "      /* Index of renderer in `output_area.display_order` */\n",
              "      index: 0\n",
              "    });\n",
              "  }\n",
              "\n",
              "  // register the mime type if in Jupyter Notebook environment and previously unregistered\n",
              "  if (root.Jupyter !== undefined) {\n",
              "    const events = require('base/js/events');\n",
              "    const OutputArea = require('notebook/js/outputarea').OutputArea;\n",
              "\n",
              "    if (OutputArea.prototype.mime_types().indexOf(EXEC_MIME_TYPE) == -1) {\n",
              "      register_renderer(events, OutputArea);\n",
              "    }\n",
              "  }\n",
              "  if (typeof (root._bokeh_timeout) === \"undefined\" || force === true) {\n",
              "    root._bokeh_timeout = Date.now() + 5000;\n",
              "    root._bokeh_failed_load = false;\n",
              "  }\n",
              "\n",
              "  const NB_LOAD_WARNING = {'data': {'text/html':\n",
              "     \"<div style='background-color: #fdd'>\\n\"+\n",
              "     \"<p>\\n\"+\n",
              "     \"BokehJS does not appear to have successfully loaded. If loading BokehJS from CDN, this \\n\"+\n",
              "     \"may be due to a slow or bad network connection. Possible fixes:\\n\"+\n",
              "     \"</p>\\n\"+\n",
              "     \"<ul>\\n\"+\n",
              "     \"<li>re-rerun `output_notebook()` to attempt to load from CDN again, or</li>\\n\"+\n",
              "     \"<li>use INLINE resources instead, as so:</li>\\n\"+\n",
              "     \"</ul>\\n\"+\n",
              "     \"<code>\\n\"+\n",
              "     \"from bokeh.resources import INLINE\\n\"+\n",
              "     \"output_notebook(resources=INLINE)\\n\"+\n",
              "     \"</code>\\n\"+\n",
              "     \"</div>\"}};\n",
              "\n",
              "  function display_loaded(error = null) {\n",
              "    const el = document.getElementById(null);\n",
              "    if (el != null) {\n",
              "      const html = (() => {\n",
              "        if (typeof root.Bokeh === \"undefined\") {\n",
              "          if (error == null) {\n",
              "            return \"BokehJS is loading ...\";\n",
              "          } else {\n",
              "            return \"BokehJS failed to load.\";\n",
              "          }\n",
              "        } else {\n",
              "          const prefix = `BokehJS ${root.Bokeh.version}`;\n",
              "          if (error == null) {\n",
              "            return `${prefix} successfully loaded.`;\n",
              "          } else {\n",
              "            return `${prefix} <b>encountered errors</b> while loading and may not function as expected.`;\n",
              "          }\n",
              "        }\n",
              "      })();\n",
              "      el.innerHTML = html;\n",
              "\n",
              "      if (error != null) {\n",
              "        const wrapper = document.createElement(\"div\");\n",
              "        wrapper.style.overflow = \"auto\";\n",
              "        wrapper.style.height = \"5em\";\n",
              "        wrapper.style.resize = \"vertical\";\n",
              "        const content = document.createElement(\"div\");\n",
              "        content.style.fontFamily = \"monospace\";\n",
              "        content.style.whiteSpace = \"pre-wrap\";\n",
              "        content.style.backgroundColor = \"rgb(255, 221, 221)\";\n",
              "        content.textContent = error.stack ?? error.toString();\n",
              "        wrapper.append(content);\n",
              "        el.append(wrapper);\n",
              "      }\n",
              "    } else if (Date.now() < root._bokeh_timeout) {\n",
              "      setTimeout(() => display_loaded(error), 100);\n",
              "    }\n",
              "  }\n",
              "\n",
              "  function run_callbacks() {\n",
              "    try {\n",
              "      root._bokeh_onload_callbacks.forEach(function(callback) {\n",
              "        if (callback != null)\n",
              "          callback();\n",
              "      });\n",
              "    } finally {\n",
              "      delete root._bokeh_onload_callbacks\n",
              "    }\n",
              "    console.debug(\"Bokeh: all callbacks have finished\");\n",
              "  }\n",
              "\n",
              "  function load_libs(css_urls, js_urls, callback) {\n",
              "    if (css_urls == null) css_urls = [];\n",
              "    if (js_urls == null) js_urls = [];\n",
              "\n",
              "    root._bokeh_onload_callbacks.push(callback);\n",
              "    if (root._bokeh_is_loading > 0) {\n",
              "      console.debug(\"Bokeh: BokehJS is being loaded, scheduling callback at\", now());\n",
              "      return null;\n",
              "    }\n",
              "    if (js_urls == null || js_urls.length === 0) {\n",
              "      run_callbacks();\n",
              "      return null;\n",
              "    }\n",
              "    console.debug(\"Bokeh: BokehJS not loaded, scheduling load and callback at\", now());\n",
              "    root._bokeh_is_loading = css_urls.length + js_urls.length;\n",
              "\n",
              "    function on_load() {\n",
              "      root._bokeh_is_loading--;\n",
              "      if (root._bokeh_is_loading === 0) {\n",
              "        console.debug(\"Bokeh: all BokehJS libraries/stylesheets loaded\");\n",
              "        run_callbacks()\n",
              "      }\n",
              "    }\n",
              "\n",
              "    function on_error(url) {\n",
              "      console.error(\"failed to load \" + url);\n",
              "    }\n",
              "\n",
              "    for (let i = 0; i < css_urls.length; i++) {\n",
              "      const url = css_urls[i];\n",
              "      const element = document.createElement(\"link\");\n",
              "      element.onload = on_load;\n",
              "      element.onerror = on_error.bind(null, url);\n",
              "      element.rel = \"stylesheet\";\n",
              "      element.type = \"text/css\";\n",
              "      element.href = url;\n",
              "      console.debug(\"Bokeh: injecting link tag for BokehJS stylesheet: \", url);\n",
              "      document.body.appendChild(element);\n",
              "    }\n",
              "\n",
              "    for (let i = 0; i < js_urls.length; i++) {\n",
              "      const url = js_urls[i];\n",
              "      const element = document.createElement('script');\n",
              "      element.onload = on_load;\n",
              "      element.onerror = on_error.bind(null, url);\n",
              "      element.async = false;\n",
              "      element.src = url;\n",
              "      console.debug(\"Bokeh: injecting script tag for BokehJS library: \", url);\n",
              "      document.head.appendChild(element);\n",
              "    }\n",
              "  };\n",
              "\n",
              "  function inject_raw_css(css) {\n",
              "    const element = document.createElement(\"style\");\n",
              "    element.appendChild(document.createTextNode(css));\n",
              "    document.body.appendChild(element);\n",
              "  }\n",
              "\n",
              "  const js_urls = [\"https://cdn.bokeh.org/bokeh/release/bokeh-3.4.3.min.js\", \"https://cdn.bokeh.org/bokeh/release/bokeh-gl-3.4.3.min.js\", \"https://cdn.bokeh.org/bokeh/release/bokeh-widgets-3.4.3.min.js\", \"https://cdn.bokeh.org/bokeh/release/bokeh-tables-3.4.3.min.js\", \"https://cdn.bokeh.org/bokeh/release/bokeh-mathjax-3.4.3.min.js\"];\n",
              "  const css_urls = [];\n",
              "\n",
              "  const inline_js = [    function(Bokeh) {\n",
              "      Bokeh.set_log_level(\"info\");\n",
              "    },\n",
              "function(Bokeh) {\n",
              "    }\n",
              "  ];\n",
              "\n",
              "  function run_inline_js() {\n",
              "    if (root.Bokeh !== undefined || force === true) {\n",
              "      try {\n",
              "            for (let i = 0; i < inline_js.length; i++) {\n",
              "      inline_js[i].call(root, root.Bokeh);\n",
              "    }\n",
              "\n",
              "      } catch (error) {throw error;\n",
              "      }} else if (Date.now() < root._bokeh_timeout) {\n",
              "      setTimeout(run_inline_js, 100);\n",
              "    } else if (!root._bokeh_failed_load) {\n",
              "      console.log(\"Bokeh: BokehJS failed to load within specified timeout.\");\n",
              "      root._bokeh_failed_load = true;\n",
              "    } else if (force !== true) {\n",
              "      const cell = $(document.getElementById(null)).parents('.cell').data().cell;\n",
              "      cell.output_area.append_execute_result(NB_LOAD_WARNING)\n",
              "    }\n",
              "  }\n",
              "\n",
              "  if (root._bokeh_is_loading === 0) {\n",
              "    console.debug(\"Bokeh: BokehJS loaded, going straight to plotting\");\n",
              "    run_inline_js();\n",
              "  } else {\n",
              "    load_libs(css_urls, js_urls, function() {\n",
              "      console.debug(\"Bokeh: BokehJS plotting callback run at\", now());\n",
              "      run_inline_js();\n",
              "    });\n",
              "  }\n",
              "}(window));"
            ],
            "application/vnd.bokehjs_load.v0+json": "'use strict';\n(function(root) {\n  function now() {\n    return new Date();\n  }\n\n  const force = true;\n\n  if (typeof root._bokeh_onload_callbacks === \"undefined\" || force === true) {\n    root._bokeh_onload_callbacks = [];\n    root._bokeh_is_loading = undefined;\n  }\n\n\n  if (typeof (root._bokeh_timeout) === \"undefined\" || force === true) {\n    root._bokeh_timeout = Date.now() + 5000;\n    root._bokeh_failed_load = false;\n  }\n\n  const NB_LOAD_WARNING = {'data': {'text/html':\n     \"<div style='background-color: #fdd'>\\n\"+\n     \"<p>\\n\"+\n     \"BokehJS does not appear to have successfully loaded. If loading BokehJS from CDN, this \\n\"+\n     \"may be due to a slow or bad network connection. Possible fixes:\\n\"+\n     \"</p>\\n\"+\n     \"<ul>\\n\"+\n     \"<li>re-rerun `output_notebook()` to attempt to load from CDN again, or</li>\\n\"+\n     \"<li>use INLINE resources instead, as so:</li>\\n\"+\n     \"</ul>\\n\"+\n     \"<code>\\n\"+\n     \"from bokeh.resources import INLINE\\n\"+\n     \"output_notebook(resources=INLINE)\\n\"+\n     \"</code>\\n\"+\n     \"</div>\"}};\n\n  function display_loaded(error = null) {\n    const el = document.getElementById(null);\n    if (el != null) {\n      const html = (() => {\n        if (typeof root.Bokeh === \"undefined\") {\n          if (error == null) {\n            return \"BokehJS is loading ...\";\n          } else {\n            return \"BokehJS failed to load.\";\n          }\n        } else {\n          const prefix = `BokehJS ${root.Bokeh.version}`;\n          if (error == null) {\n            return `${prefix} successfully loaded.`;\n          } else {\n            return `${prefix} <b>encountered errors</b> while loading and may not function as expected.`;\n          }\n        }\n      })();\n      el.innerHTML = html;\n\n      if (error != null) {\n        const wrapper = document.createElement(\"div\");\n        wrapper.style.overflow = \"auto\";\n        wrapper.style.height = \"5em\";\n        wrapper.style.resize = \"vertical\";\n        const content = document.createElement(\"div\");\n        content.style.fontFamily = \"monospace\";\n        content.style.whiteSpace = \"pre-wrap\";\n        content.style.backgroundColor = \"rgb(255, 221, 221)\";\n        content.textContent = error.stack ?? error.toString();\n        wrapper.append(content);\n        el.append(wrapper);\n      }\n    } else if (Date.now() < root._bokeh_timeout) {\n      setTimeout(() => display_loaded(error), 100);\n    }\n  }\n\n  function run_callbacks() {\n    try {\n      root._bokeh_onload_callbacks.forEach(function(callback) {\n        if (callback != null)\n          callback();\n      });\n    } finally {\n      delete root._bokeh_onload_callbacks\n    }\n    console.debug(\"Bokeh: all callbacks have finished\");\n  }\n\n  function load_libs(css_urls, js_urls, callback) {\n    if (css_urls == null) css_urls = [];\n    if (js_urls == null) js_urls = [];\n\n    root._bokeh_onload_callbacks.push(callback);\n    if (root._bokeh_is_loading > 0) {\n      console.debug(\"Bokeh: BokehJS is being loaded, scheduling callback at\", now());\n      return null;\n    }\n    if (js_urls == null || js_urls.length === 0) {\n      run_callbacks();\n      return null;\n    }\n    console.debug(\"Bokeh: BokehJS not loaded, scheduling load and callback at\", now());\n    root._bokeh_is_loading = css_urls.length + js_urls.length;\n\n    function on_load() {\n      root._bokeh_is_loading--;\n      if (root._bokeh_is_loading === 0) {\n        console.debug(\"Bokeh: all BokehJS libraries/stylesheets loaded\");\n        run_callbacks()\n      }\n    }\n\n    function on_error(url) {\n      console.error(\"failed to load \" + url);\n    }\n\n    for (let i = 0; i < css_urls.length; i++) {\n      const url = css_urls[i];\n      const element = document.createElement(\"link\");\n      element.onload = on_load;\n      element.onerror = on_error.bind(null, url);\n      element.rel = \"stylesheet\";\n      element.type = \"text/css\";\n      element.href = url;\n      console.debug(\"Bokeh: injecting link tag for BokehJS stylesheet: \", url);\n      document.body.appendChild(element);\n    }\n\n    for (let i = 0; i < js_urls.length; i++) {\n      const url = js_urls[i];\n      const element = document.createElement('script');\n      element.onload = on_load;\n      element.onerror = on_error.bind(null, url);\n      element.async = false;\n      element.src = url;\n      console.debug(\"Bokeh: injecting script tag for BokehJS library: \", url);\n      document.head.appendChild(element);\n    }\n  };\n\n  function inject_raw_css(css) {\n    const element = document.createElement(\"style\");\n    element.appendChild(document.createTextNode(css));\n    document.body.appendChild(element);\n  }\n\n  const js_urls = [\"https://cdn.bokeh.org/bokeh/release/bokeh-3.4.3.min.js\", \"https://cdn.bokeh.org/bokeh/release/bokeh-gl-3.4.3.min.js\", \"https://cdn.bokeh.org/bokeh/release/bokeh-widgets-3.4.3.min.js\", \"https://cdn.bokeh.org/bokeh/release/bokeh-tables-3.4.3.min.js\", \"https://cdn.bokeh.org/bokeh/release/bokeh-mathjax-3.4.3.min.js\"];\n  const css_urls = [];\n\n  const inline_js = [    function(Bokeh) {\n      Bokeh.set_log_level(\"info\");\n    },\nfunction(Bokeh) {\n    }\n  ];\n\n  function run_inline_js() {\n    if (root.Bokeh !== undefined || force === true) {\n      try {\n            for (let i = 0; i < inline_js.length; i++) {\n      inline_js[i].call(root, root.Bokeh);\n    }\n\n      } catch (error) {throw error;\n      }} else if (Date.now() < root._bokeh_timeout) {\n      setTimeout(run_inline_js, 100);\n    } else if (!root._bokeh_failed_load) {\n      console.log(\"Bokeh: BokehJS failed to load within specified timeout.\");\n      root._bokeh_failed_load = true;\n    } else if (force !== true) {\n      const cell = $(document.getElementById(null)).parents('.cell').data().cell;\n      cell.output_area.append_execute_result(NB_LOAD_WARNING)\n    }\n  }\n\n  if (root._bokeh_is_loading === 0) {\n    console.debug(\"Bokeh: BokehJS loaded, going straight to plotting\");\n    run_inline_js();\n  } else {\n    load_libs(css_urls, js_urls, function() {\n      console.debug(\"Bokeh: BokehJS plotting callback run at\", now());\n      run_inline_js();\n    });\n  }\n}(window));"
          },
          "metadata": {}
        },
        {
          "output_type": "display_data",
          "data": {
            "text/html": [
              "\n",
              "  <div id=\"a53259b6-2caf-4dba-aab8-868025ed113b\" data-root-id=\"p1200\" style=\"display: contents;\"></div>\n"
            ]
          },
          "metadata": {}
        },
        {
          "output_type": "display_data",
          "data": {
            "application/javascript": [
              "(function(root) {\n",
              "  function embed_document(root) {\n",
              "  const docs_json = {\"8610cb51-a09a-4e61-92ea-e3840ad219a0\":{\"version\":\"3.4.3\",\"title\":\"Bokeh Application\",\"roots\":[{\"type\":\"object\",\"name\":\"Figure\",\"id\":\"p1200\",\"attributes\":{\"height\":400,\"x_range\":{\"type\":\"object\",\"name\":\"DataRange1d\",\"id\":\"p1201\"},\"y_range\":{\"type\":\"object\",\"name\":\"DataRange1d\",\"id\":\"p1202\"},\"x_scale\":{\"type\":\"object\",\"name\":\"LinearScale\",\"id\":\"p1209\"},\"y_scale\":{\"type\":\"object\",\"name\":\"LinearScale\",\"id\":\"p1210\"},\"title\":{\"type\":\"object\",\"name\":\"Title\",\"id\":\"p1207\"},\"renderers\":[{\"type\":\"object\",\"name\":\"GlyphRenderer\",\"id\":\"p1238\",\"attributes\":{\"data_source\":{\"type\":\"object\",\"name\":\"ColumnDataSource\",\"id\":\"p1197\",\"attributes\":{\"selected\":{\"type\":\"object\",\"name\":\"Selection\",\"id\":\"p1198\",\"attributes\":{\"indices\":[],\"line_indices\":[]}},\"selection_policy\":{\"type\":\"object\",\"name\":\"UnionRenderers\",\"id\":\"p1199\"},\"data\":{\"type\":\"map\",\"entries\":[[\"x\",{\"type\":\"ndarray\",\"array\":{\"type\":\"bytes\",\"data\":\"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\"},\"shape\":[5000],\"dtype\":\"float32\",\"order\":\"little\"}],[\"y\",{\"type\":\"ndarray\",\"array\":{\"type\":\"bytes\",\"data\":\"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\"},\"shape\":[5000],\"dtype\":\"float32\",\"order\":\"little\"}],[\"color\",[\"blue\",\"blue\",\"blue\",\"blue\",\"blue\",\"blue\",\"blue\",\"blue\",\"blue\",\"blue\",\"blue\",\"blue\",\"blue\",\"blue\",\"blue\",\"blue\",\"blue\",\"blue\",\"blue\",\"blue\",\"blue\",\"blue\",\"blue\",\"blue\",\"blue\",\"blue\",\"blue\",\"blue\",\"blue\",\"blue\",\"blue\",\"blue\",\"blue\",\"blue\",\"blue\",\"blue\",\"blue\",\"blue\",\"blue\",\"blue\",\"blue\",\"blue\",\"blue\",\"blue\",\"blue\",\"blue\",\"blue\",\"blue\",\"blue\",\"blue\",\"blue\",\"blue\",\"blue\",\"blue\",\"blue\",\"blue\",\"blue\",\"blue\",\"blue\",\"blue\",\"blue\",\"blue\",\"blue\",\"blue\",\"blue\",\"blue\",\"blue\",\"blue\",\"blue\",\"blue\",\"blue\",\"blue\",\"blue\",\"blue\",\"blue\",\"blue\",\"blue\",\"blue\",\"blue\",\"blue\",\"blue\",\"blue\",\"blue\",\"blue\",\"blue\",\"blue\",\"blue\",\"blue\",\"blue\",\"blue\",\"blue\",\"blue\",\"blue\",\"blue\",\"blue\",\"blue\",\"blue\",\"blue\",\"blue\",\"blue\",\"blue\",\"blue\",\"blue\",\"blue\",\"blue\",\"blue\",\"blue\",\"blue\",\"blue\",\"blue\",\"blue\",\"blue\",\"blue\",\"blue\",\"blue\",\"blue\",\"blue\",\"blue\",\"blue\",\"blue\",\"blue\",\"blue\",\"blue\",\"blue\",\"blue\",\"blue\",\"blue\",\"blue\",\"blue\",\"blue\",\"blue\",\"blue\",\"blue\",\"blue\",\"blue\",\"blue\",\"blue\",\"blue\",\"blue\",\"blue\",\"blue\",\"blue\",\"blue\",\"blue\",\"blue\",\"blue\",\"blue\",\"blue\",\"blue\",\"blue\",\"blue\",\"blue\",\"blue\",\"blue\",\"blue\",\"blue\",\"blue\",\"blue\",\"blue\",\"blue\",\"blue\",\"blue\",\"blue\",\"blue\",\"blue\",\"blue\",\"blue\",\"blue\",\"blue\",\"blue\",\"blue\",\"blue\",\"blue\",\"blue\",\"blue\",\"blue\",\"blue\",\"blue\",\"blue\",\"blue\",\"blue\",\"blue\",\"blue\",\"blue\",\"blue\",\"blue\",\"blue\",\"blue\",\"blue\",\"blue\",\"blue\",\"blue\",\"blue\",\"blue\",\"blue\",\"blue\",\"blue\",\"blue\",\"blue\",\"blue\",\"blue\",\"blue\",\"blue\",\"blue\",\"blue\",\"blue\",\"blue\",\"blue\",\"blue\",\"blue\",\"blue\",\"blue\",\"blue\",\"blue\",\"blue\",\"blue\",\"blue\",\"blue\",\"blue\",\"blue\",\"blue\",\"blue\",\"blue\",\"blue\",\"blue\",\"blue\",\"blue\",\"blue\",\"blue\",\"blue\",\"blue\",\"blue\",\"blue\",\"blue\",\"blue\",\"blue\",\"blue\",\"blue\",\"blue\",\"blue\",\"blue\",\"blue\",\"blue\",\"blue\",\"blue\",\"blue\",\"blue\",\"blue\",\"blue\",\"blue\",\"blue\",\"blue\",\"blue\",\"blue\",\"blue\",\"blue\",\"blue\",\"blue\",\"blue\",\"blue\",\"blue\",\"blue\",\"blue\",\"blue\",\"blue\",\"blue\",\"blue\",\"blue\",\"blue\",\"blue\",\"blue\",\"blue\",\"blue\",\"blue\",\"blue\",\"blue\",\"blue\",\"blue\",\"blue\",\"blue\",\"blue\",\"blue\",\"blue\",\"blue\",\"blue\",\"blue\",\"blue\",\"blue\",\"blue\",\"blue\",\"blue\",\"blue\",\"blue\",\"blue\",\"blue\",\"blue\",\"blue\",\"blue\",\"blue\",\"blue\",\"blue\",\"blue\",\"blue\",\"blue\",\"blue\",\"blue\",\"blue\",\"blue\",\"blue\",\"blue\",\"blue\",\"blue\",\"blue\",\"blue\",\"blue\",\"blue\",\"blue\",\"blue\",\"blue\",\"blue\",\"blue\",\"blue\",\"blue\",\"blue\",\"blue\",\"blue\",\"blue\",\"blue\",\"blue\",\"blue\",\"blue\",\"blue\",\"blue\",\"blue\",\"blue\",\"blue\",\"blue\",\"blue\",\"blue\",\"blue\",\"blue\",\"blue\",\"blue\",\"blue\",\"blue\",\"blue\",\"blue\",\"blue\",\"blue\",\"blue\",\"blue\",\"blue\",\"blue\",\"blue\",\"blue\",\"blue\",\"blue\",\"blue\",\"blue\",\"blue\",\"blue\",\"blue\",\"blue\",\"blue\",\"blue\",\"blue\",\"blue\",\"blue\",\"blue\",\"blue\",\"blue\",\"blue\",\"blue\",\"blue\",\"blue\",\"blue\",\"blue\",\"blue\",\"blue\",\"blue\",\"blue\",\"blue\",\"blue\",\"blue\",\"blue\",\"blue\",\"blue\",\"blue\",\"blue\",\"blue\",\"blue\",\"blue\",\"blue\",\"blue\",\"blue\",\"blue\",\"blue\",\"blue\",\"blue\",\"blue\",\"blue\",\"blue\",\"blue\",\"blue\",\"blue\",\"blue\",\"blue\",\"blue\",\"blue\",\"blue\",\"blue\",\"blue\",\"blue\",\"blue\",\"blue\",\"blue\",\"blue\",\"blue\",\"blue\",\"blue\",\"blue\",\"blue\",\"blue\",\"blue\",\"blue\",\"blue\",\"blue\",\"blue\",\"blue\",\"blue\",\"blue\",\"blue\",\"blue\",\"blue\",\"blue\",\"blue\",\"blue\",\"blue\",\"blue\",\"blue\",\"blue\",\"blue\",\"blue\",\"blue\",\"blue\",\"blue\",\"blue\",\"blue\",\"blue\",\"blue\",\"blue\",\"blue\",\"blue\",\"blue\",\"blue\",\"blue\",\"blue\",\"blue\",\"blue\",\"blue\",\"blue\",\"blue\",\"blue\",\"blue\",\"blue\",\"blue\",\"blue\",\"blue\",\"blue\",\"blue\",\"blue\",\"blue\",\"blue\",\"blue\",\"blue\",\"blue\",\"blue\",\"blue\",\"blue\",\"blue\",\"blue\",\"blue\",\"blue\",\"blue\",\"blue\",\"blue\",\"blue\",\"blue\",\"blue\",\"blue\",\"blue\",\"blue\",\"blue\",\"blue\",\"blue\",\"blue\",\"blue\",\"blue\",\"blue\",\"blue\",\"blue\",\"blue\",\"blue\",\"blue\",\"blue\",\"blue\",\"blue\",\"blue\",\"blue\",\"blue\",\"blue\",\"blue\",\"blue\",\"blue\",\"blue\",\"blue\",\"blue\",\"blue\",\"blue\",\"blue\",\"blue\",\"blue\",\"blue\",\"blue\",\"blue\",\"blue\",\"blue\",\"blue\",\"blue\",\"blue\",\"blue\",\"blue\",\"blue\",\"blue\",\"blue\",\"blue\",\"blue\",\"blue\",\"blue\",\"blue\",\"blue\",\"blue\",\"blue\",\"blue\",\"blue\",\"blue\",\"blue\",\"blue\",\"blue\",\"blue\",\"blue\",\"blue\",\"blue\",\"blue\",\"blue\",\"blue\",\"blue\",\"blue\",\"blue\",\"blue\",\"blue\",\"blue\",\"blue\",\"blue\",\"blue\",\"blue\",\"blue\",\"blue\",\"blue\",\"blue\",\"blue\",\"blue\",\"blue\",\"blue\",\"blue\",\"blue\",\"blue\",\"blue\",\"blue\",\"blue\",\"blue\",\"blue\",\"blue\",\"blue\",\"blue\",\"blue\",\"blue\",\"blue\",\"blue\",\"blue\",\"blue\",\"blue\",\"blue\",\"blue\",\"blue\",\"blue\",\"blue\",\"blue\",\"blue\",\"blue\",\"blue\",\"blue\",\"blue\",\"blue\",\"blue\",\"blue\",\"blue\",\"blue\",\"blue\",\"blue\",\"blue\",\"blue\",\"blue\",\"blue\",\"blue\",\"blue\",\"blue\",\"blue\",\"blue\",\"blue\",\"blue\",\"blue\",\"blue\",\"blue\",\"blue\",\"blue\",\"blue\",\"blue\",\"blue\",\"blue\",\"blue\",\"blue\",\"blue\",\"blue\",\"blue\",\"blue\",\"blue\",\"blue\",\"blue\",\"blue\",\"blue\",\"blue\",\"blue\",\"blue\",\"blue\",\"blue\",\"blue\",\"blue\",\"blue\",\"blue\",\"blue\",\"blue\",\"blue\",\"blue\",\"blue\",\"blue\",\"blue\",\"blue\",\"blue\",\"blue\",\"blue\",\"blue\",\"blue\",\"blue\",\"blue\",\"blue\",\"blue\",\"blue\",\"blue\",\"blue\",\"blue\",\"blue\",\"blue\",\"blue\",\"blue\",\"blue\",\"blue\",\"blue\",\"blue\",\"blue\",\"blue\",\"blue\",\"blue\",\"blue\",\"blue\",\"blue\",\"blue\",\"blue\",\"blue\",\"blue\",\"blue\",\"blue\",\"blue\",\"blue\",\"blue\",\"blue\",\"blue\",\"blue\",\"blue\",\"blue\",\"blue\",\"blue\",\"blue\",\"blue\",\"blue\",\"blue\",\"blue\",\"blue\",\"blue\",\"blue\",\"blue\",\"blue\",\"blue\",\"blue\",\"blue\",\"blue\",\"blue\",\"blue\",\"blue\",\"blue\",\"blue\",\"blue\",\"blue\",\"blue\",\"blue\",\"blue\",\"blue\",\"blue\",\"blue\",\"blue\",\"blue\",\"blue\",\"blue\",\"blue\",\"blue\",\"blue\",\"blue\",\"blue\",\"blue\",\"blue\",\"blue\",\"blue\",\"blue\",\"blue\",\"blue\",\"blue\",\"blue\",\"blue\",\"blue\",\"blue\",\"blue\",\"blue\",\"blue\",\"blue\",\"blue\",\"blue\",\"blue\",\"blue\",\"blue\",\"blue\",\"blue\",\"blue\",\"blue\",\"blue\",\"blue\",\"blue\",\"blue\",\"blue\",\"blue\",\"blue\",\"blue\",\"blue\",\"blue\",\"blue\",\"blue\",\"blue\",\"blue\",\"blue\",\"blue\",\"blue\",\"blue\",\"blue\",\"blue\",\"blue\",\"blue\",\"blue\",\"blue\",\"blue\",\"blue\",\"blue\",\"blue\",\"blue\",\"blue\",\"blue\",\"blue\",\"blue\",\"blue\",\"blue\",\"blue\",\"blue\",\"blue\",\"blue\",\"blue\",\"blue\",\"blue\",\"blue\",\"blue\",\"blue\",\"blue\",\"blue\",\"blue\",\"blue\",\"blue\",\"blue\",\"blue\",\"blue\",\"blue\",\"blue\",\"blue\",\"blue\",\"blue\",\"blue\",\"blue\",\"blue\",\"blue\",\"blue\",\"blue\",\"blue\",\"blue\",\"blue\",\"blue\",\"blue\",\"blue\",\"blue\",\"blue\",\"blue\",\"blue\",\"blue\",\"blue\",\"blue\",\"blue\",\"blue\",\"blue\",\"blue\",\"blue\",\"blue\",\"blue\",\"blue\",\"blue\",\"blue\",\"blue\",\"blue\",\"blue\",\"blue\",\"blue\",\"blue\",\"blue\",\"blue\",\"blue\",\"blue\",\"blue\",\"blue\",\"blue\",\"blue\",\"blue\",\"blue\",\"blue\",\"blue\",\"blue\",\"blue\",\"blue\",\"blue\",\"blue\",\"blue\",\"blue\",\"blue\",\"blue\",\"blue\",\"blue\",\"blue\",\"blue\",\"blue\",\"blue\",\"blue\",\"blue\",\"blue\",\"blue\",\"blue\",\"blue\",\"blue\",\"blue\",\"blue\",\"blue\",\"blue\",\"blue\",\"blue\",\"blue\",\"blue\",\"blue\",\"blue\",\"blue\",\"blue\",\"blue\",\"blue\",\"blue\",\"blue\",\"blue\",\"blue\",\"blue\",\"blue\",\"blue\",\"blue\",\"blue\",\"blue\",\"blue\",\"blue\",\"blue\",\"blue\",\"blue\",\"blue\",\"blue\",\"blue\",\"blue\",\"blue\",\"blue\",\"blue\",\"blue\",\"blue\",\"blue\",\"blue\",\"blue\",\"blue\",\"blue\",\"blue\",\"blue\",\"blue\",\"blue\",\"blue\",\"blue\",\"blue\",\"blue\",\"blue\",\"blue\",\"blue\",\"blue\",\"blue\",\"blue\",\"blue\",\"blue\",\"blue\",\"blue\",\"blue\",\"blue\",\"blue\",\"blue\",\"blue\",\"blue\",\"blue\",\"blue\",\"blue\",\"blue\",\"blue\",\"blue\",\"blue\",\"blue\",\"blue\",\"blue\",\"blue\",\"blue\",\"blue\",\"blue\",\"blue\",\"blue\",\"blue\",\"blue\",\"blue\",\"blue\",\"blue\",\"blue\",\"blue\",\"blue\",\"blue\",\"blue\",\"blue\",\"blue\",\"blue\",\"blue\",\"blue\",\"blue\",\"blue\",\"blue\",\"blue\",\"blue\",\"blue\",\"blue\",\"blue\",\"blue\",\"blue\",\"blue\",\"blue\",\"blue\",\"blue\",\"blue\",\"blue\",\"blue\",\"blue\",\"blue\",\"blue\",\"blue\",\"blue\",\"blue\",\"blue\",\"blue\",\"blue\",\"blue\",\"blue\",\"blue\",\"blue\",\"blue\",\"blue\",\"blue\",\"blue\",\"blue\",\"blue\",\"blue\",\"blue\",\"blue\",\"blue\",\"blue\",\"blue\",\"blue\",\"blue\",\"blue\",\"blue\",\"blue\",\"blue\",\"blue\",\"blue\",\"blue\",\"blue\",\"blue\",\"blue\",\"blue\",\"blue\",\"blue\",\"blue\",\"blue\",\"blue\",\"blue\",\"blue\",\"blue\",\"blue\",\"blue\",\"blue\",\"blue\",\"blue\",\"blue\",\"blue\",\"blue\",\"blue\",\"blue\",\"blue\",\"blue\",\"blue\",\"blue\",\"blue\",\"blue\",\"blue\",\"blue\",\"blue\",\"blue\",\"blue\",\"blue\",\"blue\",\"blue\",\"blue\",\"blue\",\"blue\",\"blue\",\"blue\",\"blue\",\"blue\",\"blue\",\"blue\",\"blue\",\"blue\",\"blue\",\"blue\",\"blue\",\"blue\",\"blue\",\"blue\",\"blue\",\"blue\",\"blue\",\"blue\",\"blue\",\"blue\",\"blue\",\"blue\",\"blue\",\"blue\",\"blue\",\"blue\",\"blue\",\"blue\",\"blue\",\"blue\",\"blue\",\"blue\",\"blue\",\"blue\",\"blue\",\"blue\",\"blue\",\"blue\",\"blue\",\"blue\",\"blue\",\"blue\",\"blue\",\"blue\",\"blue\",\"blue\",\"blue\",\"blue\",\"blue\",\"blue\",\"blue\",\"blue\",\"blue\",\"blue\",\"blue\",\"blue\",\"blue\",\"blue\",\"blue\",\"blue\",\"blue\",\"blue\",\"blue\",\"blue\",\"blue\",\"blue\",\"blue\",\"blue\",\"blue\",\"blue\",\"blue\",\"blue\",\"blue\",\"blue\",\"blue\",\"blue\",\"blue\",\"blue\",\"blue\",\"blue\",\"blue\",\"blue\",\"blue\",\"blue\",\"blue\",\"blue\",\"blue\",\"blue\",\"blue\",\"blue\",\"blue\",\"blue\",\"blue\",\"blue\",\"blue\",\"blue\",\"blue\",\"blue\",\"blue\",\"blue\",\"blue\",\"blue\",\"blue\",\"blue\",\"blue\",\"blue\",\"blue\",\"blue\",\"blue\",\"blue\",\"blue\",\"blue\",\"blue\",\"blue\",\"blue\",\"blue\",\"blue\",\"blue\",\"blue\",\"blue\",\"blue\",\"blue\",\"blue\",\"blue\",\"blue\",\"blue\",\"blue\",\"blue\",\"blue\",\"blue\",\"blue\",\"blue\",\"blue\",\"blue\",\"blue\",\"blue\",\"blue\",\"blue\",\"blue\",\"blue\",\"blue\",\"blue\",\"blue\",\"blue\",\"blue\",\"blue\",\"blue\",\"blue\",\"blue\",\"blue\",\"blue\",\"blue\",\"blue\",\"blue\",\"blue\",\"blue\",\"blue\",\"blue\",\"blue\",\"blue\",\"blue\",\"blue\",\"blue\",\"blue\",\"blue\",\"blue\",\"blue\",\"blue\",\"blue\",\"blue\",\"blue\",\"blue\",\"blue\",\"blue\",\"blue\",\"blue\",\"blue\",\"blue\",\"blue\",\"blue\",\"blue\",\"blue\",\"blue\",\"blue\",\"blue\",\"blue\",\"blue\",\"blue\",\"blue\",\"blue\",\"blue\",\"blue\",\"blue\",\"blue\",\"blue\",\"blue\",\"blue\",\"blue\",\"blue\",\"blue\",\"blue\",\"blue\",\"blue\",\"blue\",\"blue\",\"blue\",\"blue\",\"blue\",\"blue\",\"blue\",\"blue\",\"blue\",\"blue\",\"blue\",\"blue\",\"blue\",\"blue\",\"blue\",\"blue\",\"blue\",\"blue\",\"blue\",\"blue\",\"blue\",\"blue\",\"blue\",\"blue\",\"blue\",\"blue\",\"blue\",\"blue\",\"blue\",\"blue\",\"blue\",\"blue\",\"blue\",\"blue\",\"blue\",\"blue\",\"blue\",\"blue\",\"blue\",\"blue\",\"blue\",\"blue\",\"blue\",\"blue\",\"blue\",\"blue\",\"blue\",\"blue\",\"blue\",\"blue\",\"blue\",\"blue\",\"blue\",\"blue\",\"blue\",\"blue\",\"blue\",\"blue\",\"blue\",\"blue\",\"blue\",\"blue\",\"blue\",\"blue\",\"blue\",\"blue\",\"blue\",\"blue\",\"blue\",\"blue\",\"blue\",\"blue\",\"blue\",\"blue\",\"blue\",\"blue\",\"blue\",\"blue\",\"blue\",\"blue\",\"blue\",\"blue\",\"blue\",\"blue\",\"blue\",\"blue\",\"blue\",\"blue\",\"blue\",\"blue\",\"blue\",\"blue\",\"blue\",\"blue\",\"blue\",\"blue\",\"blue\",\"blue\",\"blue\",\"blue\",\"blue\",\"blue\",\"blue\",\"blue\",\"blue\",\"blue\",\"blue\",\"blue\",\"blue\",\"blue\",\"blue\",\"blue\",\"blue\",\"blue\",\"blue\",\"blue\",\"blue\",\"blue\",\"blue\",\"blue\",\"blue\",\"blue\",\"blue\",\"blue\",\"blue\",\"blue\",\"blue\",\"blue\",\"blue\",\"blue\",\"blue\",\"blue\",\"blue\",\"blue\",\"blue\",\"blue\",\"blue\",\"blue\",\"blue\",\"blue\",\"blue\",\"blue\",\"blue\",\"blue\",\"blue\",\"blue\",\"blue\",\"blue\",\"blue\",\"blue\",\"blue\",\"blue\",\"blue\",\"blue\",\"blue\",\"blue\",\"blue\",\"blue\",\"blue\",\"blue\",\"blue\",\"blue\",\"blue\",\"blue\",\"blue\",\"blue\",\"blue\",\"blue\",\"blue\",\"blue\",\"blue\",\"blue\",\"blue\",\"blue\",\"blue\",\"blue\",\"blue\",\"blue\",\"blue\",\"blue\",\"blue\",\"blue\",\"blue\",\"blue\",\"blue\",\"blue\",\"blue\",\"blue\",\"blue\",\"blue\",\"blue\",\"blue\",\"blue\",\"blue\",\"blue\",\"blue\",\"blue\",\"blue\",\"blue\",\"blue\",\"blue\",\"blue\",\"blue\",\"blue\",\"blue\",\"blue\",\"blue\",\"blue\",\"blue\",\"blue\",\"blue\",\"blue\",\"blue\",\"blue\",\"blue\",\"blue\",\"blue\",\"blue\",\"blue\",\"blue\",\"blue\",\"blue\",\"blue\",\"blue\",\"blue\",\"blue\",\"blue\",\"blue\",\"blue\",\"blue\",\"blue\",\"blue\",\"blue\",\"blue\",\"blue\",\"blue\",\"blue\",\"blue\",\"blue\",\"blue\",\"blue\",\"blue\",\"blue\",\"blue\",\"blue\",\"blue\",\"blue\",\"blue\",\"blue\",\"blue\",\"blue\",\"blue\",\"blue\",\"blue\",\"blue\",\"blue\",\"blue\",\"blue\",\"blue\",\"blue\",\"blue\",\"blue\",\"blue\",\"blue\",\"blue\",\"blue\",\"blue\",\"blue\",\"blue\",\"blue\",\"blue\",\"blue\",\"blue\",\"blue\",\"blue\",\"blue\",\"blue\",\"blue\",\"blue\",\"blue\",\"blue\",\"blue\",\"blue\",\"blue\",\"blue\",\"blue\",\"blue\",\"blue\",\"blue\",\"blue\",\"blue\",\"blue\",\"blue\",\"blue\",\"blue\",\"blue\",\"blue\",\"blue\",\"blue\",\"blue\",\"blue\",\"blue\",\"blue\",\"blue\",\"blue\",\"blue\",\"blue\",\"blue\",\"blue\",\"blue\",\"blue\",\"blue\",\"blue\",\"blue\",\"blue\",\"blue\",\"blue\",\"blue\",\"blue\",\"blue\",\"blue\",\"blue\",\"blue\",\"blue\",\"blue\",\"blue\",\"blue\",\"blue\",\"blue\",\"blue\",\"blue\",\"blue\",\"blue\",\"blue\",\"blue\",\"blue\",\"blue\",\"blue\",\"blue\",\"blue\",\"blue\",\"blue\",\"blue\",\"blue\",\"blue\",\"blue\",\"blue\",\"blue\",\"blue\",\"blue\",\"blue\",\"blue\",\"blue\",\"blue\",\"blue\",\"blue\",\"blue\",\"blue\",\"blue\",\"blue\",\"blue\",\"blue\",\"blue\",\"blue\",\"blue\",\"blue\",\"blue\",\"blue\",\"blue\",\"blue\",\"blue\",\"blue\",\"blue\",\"blue\",\"blue\",\"blue\",\"blue\",\"blue\",\"blue\",\"blue\",\"blue\",\"blue\",\"blue\",\"blue\",\"blue\",\"blue\",\"blue\",\"blue\",\"blue\",\"blue\",\"blue\",\"blue\",\"blue\",\"blue\",\"blue\",\"blue\",\"blue\",\"blue\",\"blue\",\"blue\",\"blue\",\"blue\",\"blue\",\"blue\",\"blue\",\"blue\",\"blue\",\"blue\",\"blue\",\"blue\",\"blue\",\"blue\",\"blue\",\"blue\",\"blue\",\"blue\",\"blue\",\"blue\",\"blue\",\"blue\",\"blue\",\"blue\",\"blue\",\"blue\",\"blue\",\"blue\",\"blue\",\"blue\",\"blue\",\"blue\",\"blue\",\"blue\",\"blue\",\"blue\",\"blue\",\"blue\",\"blue\",\"blue\",\"blue\",\"blue\",\"blue\",\"blue\",\"blue\",\"blue\",\"blue\",\"blue\",\"blue\",\"blue\",\"blue\",\"blue\",\"blue\",\"blue\",\"blue\",\"blue\",\"blue\",\"blue\",\"blue\",\"blue\",\"blue\",\"blue\",\"blue\",\"blue\",\"blue\",\"blue\",\"blue\",\"blue\",\"blue\",\"blue\",\"blue\",\"blue\",\"blue\",\"blue\",\"blue\",\"blue\",\"blue\",\"blue\",\"blue\",\"blue\",\"blue\",\"blue\",\"blue\",\"blue\",\"blue\",\"blue\",\"blue\",\"blue\",\"blue\",\"blue\",\"blue\",\"blue\",\"blue\",\"blue\",\"blue\",\"blue\",\"blue\",\"blue\",\"blue\",\"blue\",\"blue\",\"blue\",\"blue\",\"blue\",\"blue\",\"blue\",\"blue\",\"blue\",\"blue\",\"blue\",\"blue\",\"blue\",\"blue\",\"blue\",\"blue\",\"blue\",\"blue\",\"blue\",\"blue\",\"blue\",\"blue\",\"blue\",\"blue\",\"blue\",\"blue\",\"blue\",\"blue\",\"blue\",\"blue\",\"blue\",\"blue\",\"blue\",\"blue\",\"blue\",\"blue\",\"blue\",\"blue\",\"blue\",\"blue\",\"blue\",\"blue\",\"blue\",\"blue\",\"blue\",\"blue\",\"blue\",\"blue\",\"blue\",\"blue\",\"blue\",\"blue\",\"blue\",\"blue\",\"blue\",\"blue\",\"blue\",\"blue\",\"blue\",\"blue\",\"blue\",\"blue\",\"blue\",\"blue\",\"blue\",\"blue\",\"blue\",\"blue\",\"blue\",\"blue\",\"blue\",\"blue\",\"blue\",\"blue\",\"blue\",\"blue\",\"blue\",\"blue\",\"blue\",\"blue\",\"blue\",\"blue\",\"blue\",\"blue\",\"blue\",\"blue\",\"blue\",\"blue\",\"blue\",\"blue\",\"blue\",\"blue\",\"blue\",\"blue\",\"blue\",\"blue\",\"blue\",\"blue\",\"blue\",\"blue\",\"blue\",\"blue\",\"blue\",\"blue\",\"blue\",\"blue\",\"blue\",\"blue\",\"blue\",\"blue\",\"blue\",\"blue\",\"blue\",\"blue\",\"blue\",\"blue\",\"blue\",\"blue\",\"blue\",\"blue\",\"blue\",\"blue\",\"blue\",\"blue\",\"blue\",\"blue\",\"blue\",\"blue\",\"blue\",\"blue\",\"blue\",\"blue\",\"blue\",\"blue\",\"blue\",\"blue\",\"blue\",\"blue\",\"blue\",\"blue\",\"blue\",\"blue\",\"blue\",\"blue\",\"blue\",\"blue\",\"blue\",\"blue\",\"blue\",\"blue\",\"blue\",\"blue\",\"blue\",\"blue\",\"blue\",\"blue\",\"blue\",\"blue\",\"blue\",\"blue\",\"blue\",\"blue\",\"blue\",\"blue\",\"blue\",\"blue\",\"blue\",\"blue\",\"blue\",\"blue\",\"blue\",\"blue\",\"blue\",\"blue\",\"blue\",\"blue\",\"blue\",\"blue\",\"blue\",\"blue\",\"blue\",\"blue\",\"blue\",\"blue\",\"blue\",\"blue\",\"blue\",\"blue\",\"blue\",\"blue\",\"blue\",\"blue\",\"blue\",\"blue\",\"blue\",\"blue\",\"blue\",\"blue\",\"blue\",\"blue\",\"blue\",\"blue\",\"blue\",\"blue\",\"blue\",\"blue\",\"blue\",\"blue\",\"blue\",\"blue\",\"blue\",\"blue\",\"blue\",\"blue\",\"blue\",\"blue\",\"blue\",\"blue\",\"blue\",\"blue\",\"blue\",\"blue\",\"blue\",\"blue\",\"blue\",\"blue\",\"blue\",\"blue\",\"blue\",\"blue\",\"blue\",\"blue\",\"blue\",\"blue\",\"blue\",\"blue\",\"blue\",\"blue\",\"blue\",\"blue\",\"blue\",\"blue\",\"blue\",\"blue\",\"blue\",\"blue\",\"blue\",\"blue\",\"blue\",\"blue\",\"blue\",\"blue\",\"blue\",\"blue\",\"blue\",\"blue\",\"blue\",\"blue\",\"blue\",\"blue\",\"blue\",\"blue\",\"blue\",\"blue\",\"blue\",\"blue\",\"blue\",\"blue\",\"blue\",\"blue\",\"blue\",\"blue\",\"blue\",\"blue\",\"blue\",\"blue\",\"blue\",\"blue\",\"blue\",\"blue\",\"blue\",\"blue\",\"blue\",\"blue\",\"blue\",\"blue\",\"blue\",\"blue\",\"blue\",\"blue\",\"blue\",\"blue\",\"blue\",\"blue\",\"blue\",\"blue\",\"blue\",\"blue\",\"blue\",\"blue\",\"blue\",\"blue\",\"blue\",\"blue\",\"blue\",\"blue\",\"blue\",\"blue\",\"blue\",\"blue\",\"blue\",\"blue\",\"blue\",\"blue\",\"blue\",\"blue\",\"blue\",\"blue\",\"blue\",\"blue\",\"blue\",\"blue\",\"blue\",\"blue\",\"blue\",\"blue\",\"blue\",\"blue\",\"blue\",\"blue\",\"blue\",\"blue\",\"blue\",\"blue\",\"blue\",\"blue\",\"blue\",\"blue\",\"blue\",\"blue\",\"blue\",\"blue\",\"blue\",\"blue\",\"blue\",\"blue\",\"blue\",\"blue\",\"blue\",\"blue\",\"blue\",\"blue\",\"blue\",\"blue\",\"blue\",\"blue\",\"blue\",\"blue\",\"blue\",\"blue\",\"blue\",\"blue\",\"blue\",\"blue\",\"blue\",\"blue\",\"blue\",\"blue\",\"blue\",\"blue\",\"blue\",\"blue\",\"blue\",\"blue\",\"blue\",\"blue\",\"blue\",\"blue\",\"blue\",\"blue\",\"blue\",\"blue\",\"blue\",\"blue\",\"blue\",\"blue\",\"blue\",\"blue\",\"blue\",\"blue\",\"blue\",\"blue\",\"blue\",\"blue\",\"blue\",\"blue\",\"blue\",\"blue\",\"blue\",\"blue\",\"blue\",\"blue\",\"blue\",\"blue\",\"blue\",\"blue\",\"blue\",\"blue\",\"blue\",\"blue\",\"blue\",\"blue\",\"blue\",\"blue\",\"blue\",\"blue\",\"blue\",\"blue\",\"blue\",\"blue\",\"blue\",\"blue\",\"blue\",\"blue\",\"blue\",\"blue\",\"blue\",\"blue\",\"blue\",\"blue\",\"blue\",\"blue\",\"blue\",\"blue\",\"blue\",\"blue\",\"blue\",\"blue\",\"blue\",\"blue\",\"blue\",\"blue\",\"blue\",\"blue\",\"blue\",\"blue\",\"blue\",\"blue\",\"blue\",\"blue\",\"blue\",\"blue\",\"blue\",\"blue\",\"blue\",\"blue\",\"blue\",\"blue\",\"blue\",\"blue\",\"blue\",\"blue\",\"blue\",\"blue\",\"blue\",\"blue\",\"blue\",\"blue\",\"blue\",\"blue\",\"blue\",\"blue\",\"blue\",\"blue\",\"blue\",\"blue\",\"blue\",\"blue\",\"blue\",\"blue\",\"blue\",\"blue\",\"blue\",\"blue\",\"blue\",\"blue\",\"blue\",\"blue\",\"blue\",\"blue\",\"blue\",\"blue\",\"blue\",\"blue\",\"blue\",\"blue\",\"blue\",\"blue\",\"blue\",\"blue\",\"blue\",\"blue\",\"blue\",\"blue\",\"blue\",\"blue\",\"blue\",\"blue\",\"blue\",\"blue\",\"blue\",\"blue\",\"blue\",\"blue\",\"blue\",\"blue\",\"blue\",\"blue\",\"blue\",\"blue\",\"blue\",\"blue\",\"blue\",\"blue\",\"blue\",\"blue\",\"blue\",\"blue\",\"blue\",\"blue\",\"blue\",\"blue\",\"blue\",\"blue\",\"blue\",\"blue\",\"blue\",\"blue\",\"blue\",\"blue\",\"blue\",\"blue\",\"blue\",\"blue\",\"blue\",\"blue\",\"blue\",\"blue\",\"blue\",\"blue\",\"blue\",\"blue\",\"blue\",\"blue\",\"blue\",\"blue\",\"blue\",\"blue\",\"blue\",\"blue\",\"blue\",\"blue\",\"blue\",\"blue\",\"blue\",\"blue\",\"blue\",\"blue\",\"blue\",\"blue\",\"blue\",\"blue\",\"blue\",\"blue\",\"blue\",\"blue\",\"blue\",\"blue\",\"blue\",\"blue\",\"blue\",\"blue\",\"blue\",\"blue\",\"blue\",\"blue\",\"blue\",\"blue\",\"blue\",\"blue\",\"blue\",\"blue\",\"blue\",\"blue\",\"blue\",\"blue\",\"blue\",\"blue\",\"blue\",\"blue\",\"blue\",\"blue\",\"blue\",\"blue\",\"blue\",\"blue\",\"blue\",\"blue\",\"blue\",\"blue\",\"blue\",\"blue\",\"blue\",\"blue\",\"blue\",\"blue\",\"blue\",\"blue\",\"blue\",\"blue\",\"blue\",\"blue\",\"blue\",\"blue\",\"blue\",\"blue\",\"blue\",\"blue\",\"blue\",\"blue\",\"blue\",\"blue\",\"blue\",\"blue\",\"blue\",\"blue\",\"blue\",\"blue\",\"blue\",\"blue\",\"blue\",\"blue\",\"blue\",\"blue\",\"blue\",\"blue\",\"blue\",\"blue\",\"blue\",\"blue\",\"blue\",\"blue\",\"blue\",\"blue\",\"blue\",\"blue\",\"blue\",\"blue\",\"blue\",\"blue\",\"blue\",\"blue\",\"blue\",\"blue\",\"blue\",\"blue\",\"blue\",\"blue\",\"blue\",\"blue\",\"blue\",\"blue\",\"blue\",\"blue\",\"blue\",\"blue\",\"blue\",\"blue\",\"blue\",\"blue\",\"blue\",\"blue\",\"blue\",\"blue\",\"blue\",\"blue\",\"blue\",\"blue\",\"blue\",\"blue\",\"blue\",\"blue\",\"blue\",\"blue\",\"blue\",\"blue\",\"blue\",\"blue\",\"blue\",\"blue\",\"blue\",\"blue\",\"blue\",\"blue\",\"blue\",\"blue\",\"blue\",\"blue\",\"blue\",\"blue\",\"blue\",\"blue\",\"blue\",\"blue\",\"blue\",\"blue\",\"blue\",\"blue\",\"blue\",\"blue\",\"blue\",\"blue\",\"blue\",\"blue\",\"blue\",\"blue\",\"blue\",\"blue\",\"blue\",\"blue\",\"blue\",\"blue\",\"blue\",\"blue\",\"blue\",\"blue\",\"blue\",\"blue\",\"blue\",\"blue\",\"blue\",\"blue\",\"blue\",\"blue\",\"blue\",\"blue\",\"blue\",\"blue\",\"blue\",\"blue\",\"blue\",\"blue\",\"blue\",\"blue\",\"blue\",\"blue\",\"blue\",\"blue\",\"blue\",\"blue\",\"blue\",\"blue\",\"blue\",\"blue\",\"blue\",\"blue\",\"blue\",\"blue\",\"blue\",\"blue\",\"blue\",\"blue\",\"blue\",\"blue\",\"blue\",\"blue\",\"blue\",\"blue\",\"blue\",\"blue\",\"blue\",\"blue\",\"blue\",\"blue\",\"blue\",\"blue\",\"blue\",\"blue\",\"blue\",\"blue\",\"blue\",\"blue\",\"blue\",\"blue\",\"blue\",\"blue\",\"blue\",\"blue\",\"blue\",\"blue\",\"blue\",\"blue\",\"blue\",\"blue\",\"blue\",\"blue\",\"blue\",\"blue\",\"blue\",\"blue\",\"blue\",\"blue\",\"blue\",\"blue\",\"blue\",\"blue\",\"blue\",\"blue\",\"blue\",\"blue\",\"blue\",\"blue\",\"blue\",\"blue\",\"blue\",\"blue\",\"blue\",\"blue\",\"blue\",\"blue\",\"blue\",\"blue\",\"blue\",\"blue\",\"blue\",\"blue\",\"blue\",\"blue\",\"blue\",\"blue\",\"blue\",\"blue\",\"blue\",\"blue\",\"blue\",\"blue\",\"blue\",\"blue\",\"blue\",\"blue\",\"blue\",\"blue\",\"blue\",\"blue\",\"blue\",\"blue\",\"blue\",\"blue\",\"blue\",\"blue\",\"blue\",\"blue\",\"blue\",\"blue\",\"blue\",\"blue\",\"blue\",\"blue\",\"blue\",\"blue\",\"blue\",\"blue\",\"blue\",\"blue\",\"blue\",\"blue\",\"blue\",\"blue\",\"blue\",\"blue\",\"blue\",\"blue\",\"blue\",\"blue\",\"blue\",\"blue\",\"blue\",\"blue\",\"blue\",\"blue\",\"blue\",\"blue\",\"blue\",\"blue\",\"blue\",\"blue\",\"blue\",\"blue\",\"blue\",\"blue\",\"blue\",\"blue\",\"blue\",\"blue\",\"blue\",\"blue\",\"blue\",\"blue\",\"blue\",\"blue\",\"blue\",\"blue\",\"blue\",\"blue\",\"blue\",\"blue\",\"blue\",\"blue\",\"blue\",\"blue\",\"blue\",\"blue\",\"blue\",\"blue\",\"blue\",\"blue\",\"blue\",\"blue\",\"blue\",\"blue\",\"blue\",\"blue\",\"blue\",\"blue\",\"blue\",\"blue\",\"blue\",\"blue\",\"blue\",\"blue\",\"blue\",\"blue\",\"blue\",\"blue\",\"blue\",\"blue\",\"blue\",\"blue\",\"blue\",\"blue\",\"blue\",\"blue\",\"blue\",\"blue\",\"blue\",\"blue\",\"blue\",\"blue\",\"blue\",\"blue\",\"blue\",\"blue\",\"blue\",\"blue\",\"blue\",\"blue\",\"blue\",\"blue\",\"blue\",\"blue\",\"blue\",\"blue\",\"blue\",\"blue\",\"blue\",\"blue\",\"blue\",\"blue\",\"blue\",\"blue\",\"blue\",\"blue\",\"blue\",\"blue\",\"blue\",\"blue\",\"blue\",\"blue\",\"blue\",\"blue\",\"blue\",\"blue\",\"blue\",\"blue\",\"blue\",\"blue\",\"blue\",\"blue\",\"blue\",\"blue\",\"blue\",\"blue\",\"blue\",\"blue\",\"blue\",\"blue\",\"blue\",\"blue\",\"blue\",\"blue\",\"blue\",\"blue\",\"blue\",\"blue\",\"blue\",\"blue\",\"blue\",\"blue\",\"blue\",\"blue\",\"blue\",\"blue\",\"blue\",\"blue\",\"blue\",\"blue\",\"blue\",\"blue\",\"blue\",\"blue\",\"blue\",\"blue\",\"blue\",\"blue\",\"blue\",\"blue\",\"blue\",\"blue\",\"blue\",\"blue\",\"blue\",\"blue\",\"blue\",\"blue\",\"blue\",\"blue\",\"blue\",\"blue\",\"blue\",\"blue\",\"blue\",\"blue\",\"blue\",\"blue\",\"blue\",\"blue\",\"blue\",\"blue\",\"blue\",\"blue\",\"blue\",\"blue\",\"blue\",\"blue\",\"blue\",\"blue\",\"blue\",\"blue\",\"blue\",\"blue\",\"blue\",\"blue\",\"blue\",\"blue\",\"blue\",\"blue\",\"blue\",\"blue\",\"blue\",\"blue\",\"blue\",\"blue\",\"blue\",\"blue\",\"blue\",\"blue\",\"blue\",\"blue\",\"blue\",\"blue\",\"blue\",\"blue\",\"blue\",\"blue\",\"blue\",\"blue\",\"blue\",\"blue\",\"blue\",\"blue\",\"blue\",\"blue\",\"blue\",\"blue\",\"blue\",\"blue\",\"blue\",\"blue\",\"blue\",\"blue\",\"blue\",\"blue\",\"blue\",\"blue\",\"blue\",\"blue\",\"blue\",\"blue\",\"blue\",\"blue\",\"blue\",\"blue\",\"blue\",\"blue\",\"blue\",\"blue\",\"blue\",\"blue\",\"blue\",\"blue\",\"blue\",\"blue\",\"blue\",\"blue\",\"blue\",\"blue\",\"blue\",\"blue\",\"blue\",\"blue\",\"blue\",\"blue\",\"blue\",\"blue\",\"blue\",\"blue\",\"blue\",\"blue\",\"blue\",\"blue\",\"blue\",\"blue\",\"blue\",\"blue\",\"blue\",\"blue\",\"blue\",\"blue\",\"blue\",\"blue\",\"blue\",\"blue\",\"blue\",\"blue\",\"blue\",\"blue\",\"blue\",\"blue\",\"blue\",\"blue\",\"blue\",\"blue\",\"blue\",\"blue\",\"blue\",\"blue\",\"blue\",\"blue\",\"blue\",\"blue\",\"blue\",\"blue\",\"blue\",\"blue\",\"blue\",\"blue\",\"blue\",\"blue\",\"blue\",\"blue\",\"blue\",\"blue\",\"blue\",\"blue\",\"blue\",\"blue\",\"blue\",\"blue\",\"blue\",\"blue\",\"blue\",\"blue\",\"blue\",\"blue\",\"blue\",\"blue\",\"blue\",\"blue\",\"blue\",\"blue\",\"blue\",\"blue\",\"blue\",\"blue\",\"blue\",\"blue\",\"blue\",\"blue\",\"blue\",\"blue\",\"blue\",\"blue\",\"blue\",\"blue\",\"blue\",\"blue\",\"blue\",\"blue\",\"blue\",\"blue\",\"blue\",\"blue\",\"blue\",\"blue\",\"blue\",\"blue\",\"blue\",\"blue\",\"blue\",\"blue\",\"blue\",\"blue\",\"blue\",\"blue\",\"blue\",\"blue\",\"blue\",\"blue\",\"blue\",\"blue\",\"blue\",\"blue\",\"blue\",\"blue\",\"blue\",\"blue\",\"blue\",\"blue\",\"blue\",\"blue\",\"blue\",\"blue\",\"blue\",\"blue\",\"blue\",\"blue\",\"blue\",\"blue\",\"blue\",\"blue\",\"blue\",\"blue\",\"blue\",\"blue\",\"blue\",\"blue\",\"blue\",\"blue\",\"blue\",\"blue\",\"blue\",\"blue\",\"blue\",\"blue\",\"blue\",\"blue\",\"blue\",\"blue\",\"blue\",\"blue\",\"blue\",\"blue\",\"blue\",\"blue\",\"blue\",\"blue\",\"blue\",\"blue\",\"blue\",\"blue\",\"blue\",\"blue\",\"blue\",\"blue\",\"blue\",\"blue\",\"blue\",\"blue\",\"blue\",\"blue\",\"blue\",\"blue\",\"blue\",\"blue\",\"blue\",\"blue\",\"blue\",\"blue\",\"blue\",\"blue\",\"blue\",\"blue\",\"blue\",\"blue\",\"blue\",\"blue\",\"blue\",\"blue\",\"blue\",\"blue\",\"blue\",\"blue\",\"blue\",\"blue\",\"blue\",\"blue\",\"blue\",\"blue\",\"blue\",\"blue\",\"blue\",\"blue\",\"blue\",\"blue\",\"blue\",\"blue\",\"blue\",\"blue\",\"blue\",\"blue\",\"blue\",\"blue\",\"blue\",\"blue\",\"blue\",\"blue\",\"blue\",\"blue\",\"blue\",\"blue\",\"blue\",\"blue\",\"blue\",\"blue\",\"blue\",\"blue\",\"blue\",\"blue\",\"blue\",\"blue\",\"blue\",\"blue\",\"blue\",\"blue\",\"blue\",\"blue\",\"blue\",\"blue\",\"blue\",\"blue\",\"blue\",\"blue\",\"blue\",\"blue\",\"blue\",\"blue\",\"blue\",\"blue\",\"blue\",\"blue\",\"blue\",\"blue\",\"blue\",\"blue\",\"blue\",\"blue\",\"blue\",\"blue\",\"blue\",\"blue\",\"blue\",\"blue\",\"blue\",\"blue\",\"blue\",\"blue\",\"blue\",\"blue\",\"blue\",\"blue\",\"blue\",\"blue\",\"blue\",\"blue\",\"blue\",\"blue\",\"blue\",\"blue\",\"blue\",\"blue\",\"blue\",\"blue\",\"blue\",\"blue\",\"blue\",\"blue\",\"blue\",\"blue\",\"blue\",\"blue\",\"blue\",\"blue\",\"blue\",\"blue\",\"blue\",\"blue\",\"blue\",\"blue\",\"blue\",\"blue\",\"blue\",\"blue\",\"blue\",\"blue\",\"blue\",\"blue\",\"blue\",\"blue\",\"blue\",\"blue\",\"blue\",\"blue\",\"blue\",\"blue\",\"blue\",\"blue\",\"blue\",\"blue\",\"blue\",\"blue\",\"blue\",\"blue\",\"blue\",\"blue\",\"blue\",\"blue\",\"blue\",\"blue\",\"blue\",\"blue\",\"blue\",\"blue\",\"blue\",\"blue\",\"blue\",\"blue\",\"blue\",\"blue\",\"blue\",\"blue\",\"blue\",\"blue\",\"blue\",\"blue\",\"blue\",\"blue\",\"blue\",\"blue\",\"blue\",\"blue\",\"blue\",\"blue\",\"blue\",\"blue\",\"blue\",\"blue\",\"blue\",\"blue\",\"blue\",\"blue\",\"blue\",\"blue\",\"blue\",\"blue\",\"blue\",\"blue\",\"blue\",\"blue\",\"blue\",\"blue\",\"blue\",\"blue\",\"blue\",\"blue\",\"blue\",\"blue\",\"blue\",\"blue\",\"blue\",\"blue\",\"blue\",\"blue\",\"blue\",\"blue\",\"blue\",\"blue\",\"blue\",\"blue\",\"blue\",\"blue\",\"blue\",\"blue\",\"blue\",\"blue\",\"blue\",\"blue\",\"blue\",\"blue\",\"blue\",\"blue\",\"blue\",\"blue\",\"blue\",\"blue\",\"blue\",\"blue\",\"blue\",\"blue\",\"blue\",\"blue\",\"blue\",\"blue\",\"blue\",\"blue\",\"blue\",\"blue\",\"blue\",\"blue\",\"blue\",\"blue\",\"blue\",\"blue\",\"blue\",\"blue\",\"blue\",\"blue\",\"blue\",\"blue\",\"blue\",\"blue\",\"blue\",\"blue\",\"blue\",\"blue\",\"blue\",\"blue\",\"blue\",\"blue\",\"blue\",\"blue\",\"blue\",\"blue\",\"blue\",\"blue\",\"blue\",\"blue\",\"blue\",\"blue\",\"blue\",\"blue\",\"blue\",\"blue\",\"blue\",\"blue\",\"blue\",\"blue\",\"blue\",\"blue\",\"blue\",\"blue\",\"blue\",\"blue\",\"blue\",\"blue\",\"blue\",\"blue\",\"blue\",\"blue\",\"blue\",\"blue\",\"blue\",\"blue\",\"blue\",\"blue\",\"blue\",\"blue\",\"blue\",\"blue\",\"blue\",\"blue\",\"blue\",\"blue\",\"blue\",\"blue\",\"blue\",\"blue\",\"blue\",\"blue\",\"blue\",\"blue\",\"blue\",\"blue\",\"blue\",\"blue\",\"blue\",\"blue\",\"blue\",\"blue\",\"blue\",\"blue\",\"blue\",\"blue\",\"blue\",\"blue\",\"blue\",\"blue\",\"blue\",\"blue\",\"blue\",\"blue\",\"blue\",\"blue\",\"blue\",\"blue\",\"blue\",\"blue\",\"blue\",\"blue\",\"blue\",\"blue\",\"blue\",\"blue\",\"blue\",\"blue\",\"blue\",\"blue\",\"blue\",\"blue\",\"blue\",\"blue\",\"blue\",\"blue\",\"blue\",\"blue\",\"blue\",\"blue\",\"blue\",\"blue\",\"blue\",\"blue\",\"blue\",\"blue\",\"blue\",\"blue\",\"blue\",\"blue\",\"blue\",\"blue\",\"blue\",\"blue\",\"blue\",\"blue\",\"blue\",\"blue\",\"blue\",\"blue\",\"blue\",\"blue\",\"blue\",\"blue\",\"blue\",\"blue\",\"blue\",\"blue\",\"blue\",\"blue\",\"blue\",\"blue\",\"blue\",\"blue\",\"blue\",\"blue\",\"blue\",\"blue\",\"blue\",\"blue\",\"blue\",\"blue\",\"blue\",\"blue\",\"blue\",\"blue\",\"blue\",\"blue\",\"blue\",\"blue\",\"blue\",\"blue\",\"blue\",\"blue\",\"blue\",\"blue\",\"blue\",\"blue\",\"blue\",\"blue\",\"blue\",\"blue\",\"blue\",\"blue\",\"blue\",\"blue\",\"blue\",\"blue\",\"blue\",\"blue\",\"blue\",\"blue\",\"blue\",\"blue\",\"blue\",\"blue\",\"blue\",\"blue\",\"blue\",\"blue\",\"blue\",\"blue\",\"blue\",\"blue\",\"blue\",\"blue\",\"blue\",\"blue\",\"blue\",\"blue\",\"blue\",\"blue\",\"blue\",\"blue\",\"blue\",\"blue\",\"blue\",\"blue\",\"blue\",\"blue\",\"blue\",\"blue\",\"blue\",\"blue\",\"blue\",\"blue\",\"blue\",\"blue\",\"blue\",\"blue\",\"blue\",\"blue\",\"blue\",\"blue\",\"blue\",\"blue\",\"blue\",\"blue\",\"blue\",\"blue\",\"blue\",\"blue\",\"blue\",\"blue\",\"blue\",\"blue\",\"blue\",\"blue\",\"blue\",\"blue\",\"blue\",\"blue\",\"blue\",\"blue\",\"blue\",\"blue\",\"blue\",\"blue\",\"blue\",\"blue\",\"blue\",\"blue\",\"blue\",\"blue\",\"blue\",\"blue\",\"blue\",\"blue\",\"blue\",\"blue\",\"blue\",\"blue\",\"blue\",\"blue\",\"blue\",\"blue\",\"blue\",\"blue\",\"blue\",\"blue\",\"blue\",\"blue\",\"blue\",\"blue\",\"blue\",\"blue\",\"blue\",\"blue\",\"blue\",\"blue\",\"blue\",\"blue\",\"blue\",\"blue\",\"blue\",\"blue\",\"blue\",\"blue\",\"blue\",\"blue\",\"blue\",\"blue\",\"blue\",\"blue\",\"blue\",\"blue\",\"blue\",\"blue\",\"blue\",\"blue\",\"blue\",\"blue\",\"blue\",\"blue\",\"blue\",\"blue\",\"blue\",\"blue\",\"blue\",\"blue\",\"blue\",\"blue\",\"blue\",\"blue\",\"blue\",\"blue\",\"blue\",\"blue\",\"blue\",\"blue\",\"blue\",\"blue\",\"blue\",\"blue\",\"blue\",\"blue\",\"blue\",\"blue\",\"blue\",\"blue\",\"blue\",\"blue\",\"blue\",\"blue\",\"blue\",\"blue\",\"blue\",\"blue\",\"blue\",\"blue\",\"blue\",\"blue\",\"blue\",\"blue\",\"blue\",\"blue\",\"blue\",\"blue\",\"blue\",\"blue\",\"blue\",\"blue\",\"blue\",\"blue\",\"blue\",\"blue\",\"blue\",\"blue\",\"blue\",\"blue\",\"blue\",\"blue\",\"blue\",\"blue\",\"blue\",\"blue\",\"blue\",\"blue\",\"blue\",\"blue\",\"blue\",\"blue\",\"blue\",\"blue\",\"blue\",\"blue\",\"blue\",\"blue\",\"blue\",\"blue\",\"blue\",\"blue\",\"blue\",\"blue\",\"blue\",\"blue\",\"blue\",\"blue\",\"blue\",\"blue\",\"blue\",\"blue\",\"blue\",\"blue\",\"blue\",\"blue\",\"blue\",\"blue\",\"blue\",\"blue\",\"blue\",\"blue\",\"blue\",\"blue\",\"blue\",\"blue\",\"blue\",\"blue\",\"blue\",\"blue\",\"blue\",\"blue\",\"blue\",\"blue\",\"blue\",\"blue\",\"blue\",\"blue\",\"blue\",\"blue\",\"blue\",\"blue\",\"blue\",\"blue\",\"blue\",\"blue\",\"blue\",\"blue\",\"blue\",\"blue\",\"blue\",\"blue\",\"blue\",\"blue\",\"blue\",\"blue\",\"blue\",\"blue\",\"blue\",\"blue\",\"blue\",\"blue\",\"blue\",\"blue\",\"blue\",\"blue\",\"blue\",\"blue\",\"blue\",\"blue\",\"blue\",\"blue\",\"blue\",\"blue\",\"blue\",\"blue\",\"blue\",\"blue\",\"blue\",\"blue\",\"blue\",\"blue\",\"blue\",\"blue\",\"blue\",\"blue\",\"blue\",\"blue\",\"blue\",\"blue\",\"blue\",\"blue\",\"blue\",\"blue\",\"blue\",\"blue\",\"blue\",\"blue\",\"blue\",\"blue\",\"blue\",\"blue\",\"blue\",\"blue\",\"blue\",\"blue\",\"blue\",\"blue\",\"blue\",\"blue\",\"blue\",\"blue\",\"blue\",\"blue\",\"blue\",\"blue\",\"blue\",\"blue\",\"blue\",\"blue\",\"blue\",\"blue\",\"blue\",\"blue\",\"blue\",\"blue\",\"blue\",\"blue\",\"blue\",\"blue\",\"blue\",\"blue\",\"blue\",\"blue\",\"blue\",\"blue\",\"blue\",\"blue\",\"blue\",\"blue\",\"blue\",\"blue\",\"blue\",\"blue\",\"blue\",\"blue\",\"blue\",\"blue\",\"blue\",\"blue\",\"blue\",\"blue\",\"blue\",\"blue\",\"blue\",\"blue\",\"blue\",\"blue\",\"blue\",\"blue\",\"blue\",\"blue\",\"blue\",\"blue\",\"blue\",\"blue\",\"blue\",\"blue\",\"blue\",\"blue\",\"blue\",\"blue\",\"blue\",\"blue\",\"blue\",\"blue\",\"blue\",\"blue\",\"blue\",\"blue\",\"blue\",\"blue\",\"blue\",\"blue\",\"blue\",\"blue\",\"blue\",\"blue\",\"blue\",\"blue\",\"blue\",\"blue\",\"blue\",\"blue\",\"blue\",\"blue\",\"blue\",\"blue\",\"blue\",\"blue\",\"blue\",\"blue\",\"blue\",\"blue\",\"blue\",\"blue\",\"blue\",\"blue\",\"blue\",\"blue\",\"blue\",\"blue\",\"blue\",\"blue\",\"blue\",\"blue\",\"blue\",\"blue\",\"blue\",\"blue\",\"blue\",\"blue\",\"blue\",\"blue\",\"blue\",\"blue\",\"blue\",\"blue\",\"blue\",\"blue\",\"blue\",\"blue\",\"blue\",\"blue\",\"blue\",\"blue\",\"blue\",\"blue\",\"blue\",\"blue\",\"blue\",\"blue\",\"blue\",\"blue\",\"blue\",\"blue\",\"blue\",\"blue\",\"blue\",\"blue\",\"blue\",\"blue\",\"blue\",\"blue\",\"blue\",\"blue\",\"blue\",\"blue\",\"blue\",\"blue\",\"blue\",\"blue\",\"blue\",\"blue\",\"blue\",\"blue\",\"blue\",\"blue\",\"blue\",\"blue\",\"blue\",\"blue\",\"blue\",\"blue\",\"blue\",\"blue\",\"blue\",\"blue\",\"blue\",\"blue\",\"blue\",\"blue\",\"blue\",\"blue\",\"blue\",\"blue\",\"blue\",\"blue\",\"blue\",\"blue\",\"blue\",\"blue\",\"blue\",\"blue\",\"blue\",\"blue\",\"blue\",\"blue\",\"blue\",\"blue\",\"blue\",\"blue\",\"blue\",\"blue\",\"blue\",\"blue\",\"blue\",\"blue\",\"blue\",\"blue\",\"blue\",\"blue\",\"blue\",\"blue\",\"blue\",\"blue\",\"blue\",\"blue\",\"blue\",\"blue\",\"blue\",\"blue\",\"blue\",\"blue\",\"blue\",\"blue\",\"blue\",\"blue\",\"blue\",\"blue\",\"blue\",\"blue\",\"blue\",\"blue\",\"blue\",\"blue\",\"blue\",\"blue\",\"blue\",\"blue\",\"blue\",\"blue\",\"blue\",\"blue\",\"blue\",\"blue\",\"blue\",\"blue\",\"blue\",\"blue\",\"blue\",\"blue\",\"blue\",\"blue\",\"blue\",\"blue\",\"blue\",\"blue\",\"blue\",\"blue\",\"blue\",\"blue\",\"blue\",\"blue\",\"blue\",\"blue\",\"blue\",\"blue\",\"blue\",\"blue\",\"blue\",\"blue\",\"blue\",\"blue\",\"blue\",\"blue\",\"blue\",\"blue\",\"blue\",\"blue\",\"blue\",\"blue\",\"blue\",\"blue\",\"blue\",\"blue\",\"blue\",\"blue\",\"blue\",\"blue\",\"blue\",\"blue\",\"blue\",\"blue\",\"blue\",\"blue\",\"blue\",\"blue\",\"blue\",\"blue\",\"blue\",\"blue\",\"blue\",\"blue\",\"blue\",\"blue\",\"blue\",\"blue\",\"blue\",\"blue\",\"blue\",\"blue\",\"blue\",\"blue\",\"blue\",\"blue\",\"blue\",\"blue\",\"blue\",\"blue\",\"blue\",\"blue\",\"blue\",\"blue\",\"blue\",\"blue\",\"blue\",\"blue\",\"blue\",\"blue\",\"blue\",\"blue\",\"blue\",\"blue\",\"blue\",\"blue\",\"blue\",\"blue\",\"blue\",\"blue\",\"blue\",\"blue\",\"blue\",\"blue\",\"blue\",\"blue\",\"blue\",\"blue\",\"blue\",\"blue\",\"blue\",\"blue\",\"blue\",\"blue\",\"blue\",\"blue\",\"blue\",\"blue\",\"blue\",\"blue\",\"blue\",\"blue\",\"blue\",\"blue\",\"blue\",\"blue\",\"blue\",\"blue\",\"blue\",\"blue\",\"blue\",\"blue\",\"blue\",\"blue\",\"blue\",\"blue\",\"blue\",\"blue\",\"blue\",\"blue\",\"blue\",\"blue\",\"blue\",\"blue\",\"blue\",\"blue\",\"blue\",\"blue\",\"blue\",\"blue\",\"blue\",\"blue\",\"blue\",\"blue\",\"blue\",\"blue\",\"blue\",\"blue\",\"blue\",\"blue\",\"blue\",\"blue\",\"blue\",\"blue\",\"blue\",\"blue\",\"blue\",\"blue\",\"blue\",\"blue\",\"blue\",\"blue\",\"blue\",\"blue\",\"blue\",\"blue\",\"blue\",\"blue\",\"blue\",\"blue\",\"blue\",\"blue\",\"blue\",\"blue\",\"blue\",\"blue\",\"blue\",\"blue\",\"blue\",\"blue\",\"blue\",\"blue\",\"blue\",\"blue\",\"blue\",\"blue\",\"blue\",\"blue\",\"blue\",\"blue\",\"blue\",\"blue\",\"blue\",\"blue\",\"blue\",\"blue\",\"blue\",\"blue\",\"blue\",\"blue\",\"blue\",\"blue\",\"blue\",\"blue\",\"blue\",\"blue\",\"blue\",\"blue\",\"blue\",\"blue\",\"blue\",\"blue\",\"blue\",\"blue\",\"blue\",\"blue\",\"blue\",\"blue\",\"blue\",\"blue\",\"blue\",\"blue\",\"blue\",\"blue\",\"blue\",\"blue\",\"blue\",\"blue\",\"blue\",\"blue\",\"blue\",\"blue\",\"blue\",\"blue\",\"blue\",\"blue\",\"blue\",\"blue\",\"blue\",\"blue\",\"blue\",\"blue\",\"blue\",\"blue\",\"blue\",\"blue\",\"blue\",\"blue\",\"blue\",\"blue\",\"blue\",\"blue\",\"blue\",\"blue\",\"blue\",\"blue\",\"blue\",\"blue\",\"blue\",\"blue\",\"blue\",\"blue\",\"blue\",\"blue\",\"blue\",\"blue\",\"blue\",\"blue\",\"blue\",\"blue\",\"blue\",\"blue\",\"blue\",\"blue\",\"blue\",\"blue\",\"blue\",\"blue\",\"blue\",\"blue\",\"blue\",\"blue\",\"blue\",\"blue\",\"blue\",\"blue\",\"blue\",\"blue\",\"blue\",\"blue\",\"blue\",\"blue\",\"blue\",\"blue\",\"blue\",\"blue\",\"blue\",\"blue\",\"blue\",\"blue\",\"blue\",\"blue\",\"blue\",\"blue\",\"blue\",\"blue\",\"blue\",\"blue\",\"blue\",\"blue\",\"blue\",\"blue\",\"blue\",\"blue\",\"blue\",\"blue\",\"blue\",\"blue\",\"blue\",\"blue\",\"blue\",\"blue\",\"blue\",\"blue\",\"blue\",\"blue\",\"blue\",\"blue\",\"blue\",\"blue\",\"blue\",\"blue\",\"blue\",\"blue\",\"blue\",\"blue\",\"blue\",\"blue\",\"blue\",\"blue\",\"blue\",\"blue\",\"blue\",\"blue\",\"blue\",\"blue\",\"blue\",\"blue\",\"blue\",\"blue\",\"blue\",\"blue\",\"blue\",\"blue\",\"blue\",\"blue\",\"blue\",\"blue\",\"blue\",\"blue\",\"blue\",\"blue\",\"blue\",\"blue\",\"blue\",\"blue\",\"blue\",\"blue\",\"blue\",\"blue\",\"blue\",\"blue\",\"blue\",\"blue\",\"blue\",\"blue\",\"blue\",\"blue\",\"blue\",\"blue\",\"blue\",\"blue\",\"blue\",\"blue\",\"blue\",\"blue\",\"blue\",\"blue\",\"blue\",\"blue\",\"blue\",\"blue\",\"blue\",\"blue\",\"blue\",\"blue\",\"blue\",\"blue\",\"blue\",\"blue\",\"blue\",\"blue\",\"blue\",\"blue\",\"blue\",\"blue\",\"blue\",\"blue\",\"blue\",\"blue\",\"blue\",\"blue\",\"blue\",\"blue\",\"blue\",\"blue\",\"blue\",\"blue\",\"blue\",\"blue\",\"blue\",\"blue\",\"blue\",\"blue\",\"blue\",\"blue\",\"blue\",\"blue\",\"blue\",\"blue\",\"blue\",\"blue\",\"blue\",\"blue\",\"blue\",\"blue\",\"blue\",\"blue\",\"blue\",\"blue\",\"blue\",\"blue\",\"blue\",\"blue\",\"blue\",\"blue\",\"blue\",\"blue\",\"blue\",\"blue\",\"blue\",\"blue\",\"blue\",\"blue\",\"blue\",\"blue\",\"blue\",\"blue\",\"blue\",\"blue\",\"blue\",\"blue\",\"blue\",\"blue\",\"blue\",\"blue\",\"blue\",\"blue\",\"blue\",\"blue\",\"blue\",\"blue\",\"blue\",\"blue\",\"blue\",\"blue\",\"blue\",\"blue\",\"blue\",\"blue\",\"blue\",\"blue\",\"blue\",\"blue\",\"blue\",\"blue\",\"blue\",\"blue\",\"blue\",\"blue\",\"blue\",\"blue\",\"blue\",\"blue\",\"blue\",\"blue\",\"blue\",\"blue\",\"blue\",\"blue\",\"blue\",\"blue\",\"blue\",\"blue\",\"blue\",\"blue\",\"blue\",\"blue\",\"blue\",\"blue\",\"blue\",\"blue\",\"blue\",\"blue\",\"blue\",\"blue\",\"blue\",\"blue\",\"blue\",\"blue\",\"blue\",\"blue\",\"blue\",\"blue\",\"blue\",\"blue\",\"blue\",\"blue\",\"blue\",\"blue\",\"blue\",\"blue\",\"blue\",\"blue\",\"blue\",\"blue\",\"blue\",\"blue\",\"blue\",\"blue\",\"blue\",\"blue\",\"blue\",\"blue\",\"blue\",\"blue\",\"blue\",\"blue\",\"blue\",\"blue\",\"blue\",\"blue\",\"blue\",\"blue\",\"blue\",\"blue\",\"blue\",\"blue\",\"blue\",\"blue\",\"blue\",\"blue\",\"blue\",\"blue\",\"blue\",\"blue\",\"blue\",\"blue\",\"blue\",\"blue\",\"blue\",\"blue\",\"blue\",\"blue\",\"blue\",\"blue\",\"blue\",\"blue\",\"blue\",\"blue\",\"blue\",\"blue\",\"blue\",\"blue\",\"blue\",\"blue\",\"blue\",\"blue\",\"blue\",\"blue\",\"blue\",\"blue\",\"blue\",\"blue\",\"blue\",\"blue\",\"blue\",\"blue\",\"blue\",\"blue\",\"blue\",\"blue\",\"blue\",\"blue\",\"blue\",\"blue\",\"blue\",\"blue\",\"blue\",\"blue\",\"blue\",\"blue\",\"blue\",\"blue\",\"blue\",\"blue\",\"blue\",\"blue\",\"blue\",\"blue\",\"blue\",\"blue\",\"blue\",\"blue\",\"blue\",\"blue\",\"blue\",\"blue\",\"blue\",\"blue\",\"blue\",\"blue\",\"blue\",\"blue\",\"blue\",\"blue\",\"blue\",\"blue\",\"blue\",\"blue\",\"blue\",\"blue\",\"blue\",\"blue\",\"blue\",\"blue\",\"blue\",\"blue\",\"blue\",\"blue\",\"blue\",\"blue\",\"blue\",\"blue\",\"blue\",\"blue\",\"blue\",\"blue\",\"blue\",\"blue\",\"blue\",\"blue\",\"blue\",\"blue\",\"blue\",\"blue\",\"blue\",\"blue\",\"blue\",\"blue\",\"blue\",\"blue\",\"blue\",\"blue\",\"blue\",\"blue\",\"blue\",\"blue\",\"blue\",\"blue\",\"blue\",\"blue\",\"blue\",\"blue\",\"blue\",\"blue\",\"blue\",\"blue\",\"blue\",\"blue\",\"blue\",\"blue\",\"blue\",\"blue\",\"blue\",\"blue\",\"blue\",\"blue\",\"blue\",\"blue\",\"blue\",\"blue\",\"blue\",\"blue\",\"blue\",\"blue\",\"blue\",\"blue\",\"blue\",\"blue\",\"blue\",\"blue\",\"blue\",\"blue\",\"blue\",\"blue\",\"blue\",\"blue\",\"blue\",\"blue\",\"blue\",\"blue\",\"blue\",\"blue\",\"blue\",\"blue\",\"blue\",\"blue\",\"blue\",\"blue\",\"blue\",\"blue\",\"blue\",\"blue\",\"blue\",\"blue\",\"blue\",\"blue\",\"blue\",\"blue\",\"blue\",\"blue\",\"blue\",\"blue\",\"blue\",\"blue\",\"blue\",\"blue\",\"blue\",\"blue\",\"blue\",\"blue\",\"blue\",\"blue\",\"blue\",\"blue\",\"blue\",\"blue\",\"blue\",\"blue\",\"blue\",\"blue\",\"blue\",\"blue\",\"blue\",\"blue\",\"blue\",\"blue\",\"blue\",\"blue\",\"blue\",\"blue\",\"blue\",\"blue\",\"blue\",\"blue\",\"blue\",\"blue\",\"blue\",\"blue\",\"blue\",\"blue\",\"blue\",\"blue\",\"blue\",\"blue\",\"blue\",\"blue\",\"blue\",\"blue\",\"blue\",\"blue\",\"blue\",\"blue\",\"blue\",\"blue\",\"blue\",\"blue\",\"blue\",\"blue\",\"blue\",\"blue\",\"blue\",\"blue\",\"blue\",\"blue\",\"blue\",\"blue\",\"blue\",\"blue\",\"blue\",\"blue\",\"blue\",\"blue\",\"blue\",\"blue\",\"blue\",\"blue\",\"blue\",\"blue\",\"blue\",\"blue\",\"blue\",\"blue\",\"blue\",\"blue\",\"blue\",\"blue\",\"blue\",\"blue\",\"blue\",\"blue\",\"blue\",\"blue\",\"blue\",\"blue\",\"blue\",\"blue\",\"blue\",\"blue\",\"blue\",\"blue\",\"blue\",\"blue\",\"blue\",\"blue\",\"blue\",\"blue\",\"blue\",\"blue\",\"blue\",\"blue\",\"blue\",\"blue\",\"blue\",\"blue\",\"blue\",\"blue\",\"blue\",\"blue\",\"blue\",\"blue\",\"blue\",\"blue\",\"blue\",\"blue\",\"blue\",\"blue\",\"blue\",\"blue\",\"blue\",\"blue\",\"blue\",\"blue\",\"blue\",\"blue\",\"blue\",\"blue\",\"blue\",\"blue\",\"blue\",\"blue\",\"blue\",\"blue\",\"blue\",\"blue\",\"blue\",\"blue\",\"blue\",\"blue\",\"blue\",\"blue\",\"blue\",\"blue\",\"blue\",\"blue\",\"blue\",\"blue\",\"blue\",\"blue\",\"blue\",\"blue\",\"blue\",\"blue\",\"blue\",\"blue\",\"blue\",\"blue\",\"blue\",\"blue\",\"blue\",\"blue\",\"blue\",\"blue\",\"blue\",\"blue\",\"blue\",\"blue\",\"blue\",\"blue\",\"blue\",\"blue\",\"blue\",\"blue\",\"blue\",\"blue\"]],[\"token\",[\"verified\",\"2gb\",\"illinois\",\"jazz\",\"checking\",\"telescope\",\"seasons\",\"astrologer\",\"contribution\",\"homemade\",\"heroes\",\"warcraft\",\"kumar\",\"tester\",\"politically\",\"conquer\",\"columbia\",\"quiet\",\"repeat\",\"kapil\",\"involve\",\"mckinsey\",\"switched\",\"att\",\"instance\",\"innocent\",\"portuguese\",\"subscribers\",\"cabinet\",\"terror\",\"85\",\"rotation\",\"shirts\",\"drawn\",\"bi\",\"aspergers\",\"inspiration\",\"beats\",\"\\u00a3\",\"approximately\",\"asset\",\"empathy\",\"rooting\",\"ia\",\"dandruff\",\"slab\",\"operator\",\"horrible\",\"dominant\",\"ocd\",\"spacetime\",\"blow\",\"installing\",\"learnt\",\"separation\",\"institution\",\"temples\",\"hons\",\"pound\",\"removing\",\"unemployment\",\"greenlit\",\"audit\",\"supplement\",\"roller\",\"dota\",\"tiny\",\"equally\",\"braces\",\"aggressive\",\"corn\",\"camps\",\"additional\",\"consent\",\"granted\",\"welfare\",\"myths\",\"stations\",\"timeline\",\"psychologist\",\"nagpur\",\"herself\",\"cooper\",\"exgirlfriend\",\"intercourse\",\"flip\",\"hurts\",\"lpa\",\"nerve\",\"tvs\",\"halloween\",\"screenshot\",\"biomedical\",\"covered\",\"milky\",\"onsite\",\"aside\",\"meaningful\",\"stretch\",\"joker\",\"encounter\",\"tone\",\"founders\",\"talked\",\"respectively\",\"downloads\",\"cocaine\",\"toxic\",\"sword\",\"fuck\",\"trainer\",\"partition\",\"boxing\",\"grid\",\"practicing\",\"menu\",\"cms\",\"indore\",\"ate\",\"volunteer\",\"misconceptions\",\"pics\",\"flies\",\"instantly\",\"trans\",\"friday\",\"sociopaths\",\"ctc\",\"hoax\",\"detailed\",\"sizes\",\"rejection\",\"limitations\",\"bharat\",\"kissing\",\"renewable\",\"oriented\",\"countrys\",\"dumps\",\"spiders\",\"technological\",\"advertisement\",\"headache\",\"zodiac\",\"accommodation\",\"venus\",\"calcium\",\"passenger\",\"falls\",\"overnight\",\"pickup\",\"gary\",\"transportation\",\"odds\",\"jupiter\",\"purchasing\",\"fluently\",\"flu\",\"photons\",\"conductor\",\"ohio\",\"balaji\",\"mcdonalds\",\"betting\",\"irrational\",\"sachin\",\"deactivate\",\"estimate\",\"hairs\",\"fluent\",\"errors\",\"remaining\",\"marriages\",\"medieval\",\"charles\",\"spider\",\"oxford\",\"gita\",\"races\",\"liquor\",\"poland\",\"lease\",\"co2\",\"selenium\",\"attempts\",\"crystal\",\"manaphy\",\"knight\",\"collapsed\",\"wheels\",\"behaviour\",\"bitcoins\",\"parliament\",\"himher\",\"handsome\",\"thousands\",\"caring\",\"kings\",\"lucky\",\"workplace\",\"condom\",\"intuitive\",\"chronic\",\"eyesight\",\"simulation\",\"prank\",\"quickest\",\"concert\",\"popularity\",\"connections\",\"disorders\",\"scripting\",\"appearance\",\"js\",\"depth\",\"cheque\",\"longterm\",\"documentaries\",\"dioxide\",\"bright\",\"info\",\"diseases\",\"appeal\",\"snap\",\"smoked\",\"singers\",\"boil\",\"probably\",\"temperatures\",\"appearing\",\"olive\",\"ntse\",\"telecom\",\"brief\",\"discrimination\",\"ethnic\",\"cache\",\"passionate\",\"shoulder\",\"assault\",\"marshmallow\",\"momentum\",\"yr\",\"migrate\",\"retire\",\"cet\",\"canvas\",\"vietnamese\",\"institutions\",\"meter\",\"roots\",\"integer\",\"imported\",\"ants\",\"lyft\",\"piercing\",\"il\",\"poop\",\"organisms\",\"ve\",\"entropy\",\"calm\",\"saddest\",\"toward\",\"myth\",\"sight\",\"filling\",\"hdmi\",\"satisfied\",\"transactions\",\"pharmacy\",\"nursing\",\"correlation\",\"regression\",\"awake\",\"md\",\"nri\",\"recommendations\",\"bin\",\"finland\",\"multi\",\"voted\",\"discovery\",\"edward\",\"touching\",\"immigrant\",\"geometry\",\"indicate\",\"ourselves\",\"texting\",\"seek\",\"expecting\",\"dj\",\"brake\",\"helicopter\",\"blonde\",\"triple\",\"ladies\",\"vivekananda\",\"switching\",\"prostitution\",\"banana\",\"magazines\",\"shippuden\",\"lucknow\",\"2019\",\"failing\",\"elizabeth\",\"irish\",\"ebook\",\"temporary\",\"governor\",\"wasting\",\"weekends\",\"cpt\",\"wax\",\"labor\",\"instruments\",\"instrumentation\",\"hates\",\"hip\",\"arnab\",\"bubble\",\"employers\",\"aadhaar\",\"boyfriends\",\"jake\",\"explained\",\"yesterday\",\"beta\",\"extrovert\",\"andhra\",\"micromax\",\"vertical\",\"lay\",\"nonprofit\",\"dubbed\",\"typing\",\"automotive\",\"thomas\",\"procedures\",\"priority\",\"funded\",\"arabs\",\"siblings\",\"guinea\",\"missile\",\"luck\",\"strategic\",\"defend\",\"module\",\"tuition\",\"acids\",\"controller\",\"committee\",\"housing\",\"integral\",\"peaceful\",\"refugees\",\"prescription\",\"interns\",\"supported\",\"womans\",\"dentist\",\"wives\",\"village\",\"affecting\",\"lte\",\"beaches\",\"austin\",\"substance\",\"engagement\",\"trainee\",\"measures\",\"trailer\",\"purchased\",\"15000\",\"uttar\",\"glue\",\"dtu\",\"medal\",\"photon\",\"engg\",\"violin\",\"column\",\"somehow\",\"rotate\",\"3000\",\"virat\",\"forgotten\",\"fingers\",\"slim\",\"arrest\",\"covalent\",\"ncert\",\"kernel\",\"da\",\"alarm\",\"ngo\",\"4gb\",\"productivity\",\"planned\",\"district\",\"berlin\",\"lists\",\"leads\",\"slang\",\"defence\",\"aspiring\",\"56\",\"enemy\",\"farming\",\"muller\",\"pays\",\"liver\",\"membrane\",\"secretly\",\"plug\",\"gum\",\"eclipse\",\"chewing\",\"labs\",\"zombie\",\"authority\",\"males\",\"argentina\",\"tasks\",\"fell\",\"nails\",\"palestine\",\"tanks\",\"identical\",\"deck\",\"qualification\",\"leadership\",\"kohli\",\"pronunciation\",\"hello\",\"violent\",\"sabha\",\"respiration\",\"transform\",\"warranty\",\"faculty\",\"adolf\",\"expenses\",\"jersey\",\"mercury\",\"whiskey\",\"tackle\",\"tweet\",\"blame\",\"cruise\",\"mahindra\",\"discharge\",\"reduced\",\"vodka\",\"mahatma\",\"bass\",\"compete\",\"stains\",\"pill\",\"swim\",\"ali\",\"gf\",\"ford\",\"prince\",\"sweat\",\"performing\",\"limits\",\"leonardo\",\"cow\",\"resolve\",\"matters\",\"pharmaceutical\",\"ray\",\"remotely\",\"pf\",\"clinical\",\"bpo\",\"homeless\",\"husbands\",\"rising\",\"newtons\",\"outcome\",\"derivative\",\"alpha\",\"grown\",\"capitalism\",\"astronaut\",\"hybrid\",\"palm\",\"teens\",\"hits\",\"airplanes\",\"none\",\"admin\",\"applicable\",\"amcat\",\"spam\",\"neutrality\",\"pixel\",\"festival\",\"faces\",\"molar\",\"snakes\",\"sip\",\"kik\",\"farm\",\"ltd\",\"votes\",\"publishing\",\"comfort\",\"frontend\",\"spin\",\"diagnosed\",\"buildings\",\"\\u00b0\",\"cashless\",\"addictive\",\"extinct\",\"ugc\",\"coke\",\"llb\",\"phrases\",\"struggle\",\"drives\",\"fiber\",\"grocery\",\"achieved\",\"penny\",\"bath\",\"allies\",\"uninstall\",\"ny\",\"appears\",\"effort\",\"satellites\",\"confirmed\",\"loneliness\",\"illuminati\",\"uri\",\"lucid\",\"preferably\",\"neither\",\"\\u221a\",\"pacific\",\"americas\",\"bs\",\"graduated\",\"bills\",\"tube\",\"germans\",\"assume\",\"cleared\",\"mate\",\"divide\",\"versions\",\"fallen\",\"journey\",\"anthem\",\"certificates\",\"looked\",\"sponsor\",\"useless\",\"dependent\",\"invite\",\"guru\",\"keyword\",\"aipmt\",\"clone\",\"kgs\",\"chip\",\"origins\",\"wide\",\"motivational\",\"elite\",\"wanna\",\"unity\",\"cough\",\"connecting\",\"mystery\",\"kim\",\"syrian\",\"voldemort\",\"responsibilities\",\"molecules\",\"boobs\",\"holidays\",\"tutorial\",\"circumstances\",\"fiitjee\",\"islands\",\"bypass\",\"slowly\",\"mixture\",\"aluminum\",\"salesforce\",\"twin\",\"iot\",\"remedy\",\"sheets\",\"pole\",\"hated\",\"females\",\"protected\",\"irs\",\"insecure\",\"entering\",\"neuroscience\",\"offices\",\"delta\",\"suggestion\",\"snapdeal\",\"backstory\",\"periodic\",\"cancelled\",\"mans\",\"complicated\",\"bitsat\",\"pleasure\",\"loop\",\"dropbox\",\"selfish\",\"nude\",\"20000\",\"voter\",\"variables\",\"victory\",\"closest\",\"compensation\",\"extended\",\"locations\",\"cracked\",\"perks\",\"ended\",\"exit\",\"awareness\",\"pakistanis\",\"ebooks\",\"bull\",\"unblock\",\"100000\",\"entrepreneurship\",\"infrastructure\",\"scotland\",\"guest\",\"attacked\",\"hurting\",\"lion\",\"reject\",\"purposes\",\"knife\",\"thai\",\"ipl\",\"knee\",\"accepting\",\"spent\",\"punjabi\",\"tab\",\"quoras\",\"caffeine\",\"athletes\",\"ink\",\"cooked\",\"improving\",\"invaded\",\"allah\",\"thermodynamics\",\"mortgage\",\"firsttime\",\"achievements\",\"issued\",\"breath\",\"award\",\"llc\",\"legends\",\"mood\",\"influenced\",\"proteins\",\"holy\",\"performed\",\"pee\",\"blocks\",\"molecule\",\"interests\",\"imei\",\"requires\",\"cisco\",\"moves\",\"marrying\",\"mca\",\"perfectly\",\"iisc\",\"corporation\",\"shiva\",\"viruses\",\"difficulty\",\"50000\",\"volte\",\"shampoo\",\"secular\",\"transplant\",\"ghz\",\"ahead\",\"crew\",\"interact\",\"depend\",\"hawaii\",\"hiv\",\"evening\",\"vegetable\",\"revenge\",\"suppose\",\"busy\",\"label\",\"rogue\",\"rational\",\"hillstation\",\"brains\",\"urdu\",\"imagine\",\"salaries\",\"survey\",\"g4\",\"butt\",\"manufacturers\",\"saas\",\"residency\",\"recommendation\",\"purple\",\"fault\",\"aadhar\",\"aging\",\"bhopal\",\"conducted\",\"loses\",\"infection\",\"forest\",\"impacts\",\"collection\",\"fridge\",\"diamond\",\"mis\",\"recorded\",\"march\",\"conditioner\",\"signature\",\"listed\",\"branches\",\"manchester\",\"wanting\",\"perception\",\"absolutely\",\"servers\",\"soluble\",\"swami\",\"lumia\",\"directors\",\"52\",\"2008\",\"gaining\",\"stereotypes\",\"homes\",\"vegas\",\"jam\",\"behave\",\"relatively\",\"forum\",\"ib\",\"earphones\",\"facilities\",\"april\",\"finally\",\"tail\",\"capacitor\",\"tiger\",\"deaf\",\"deliver\",\"django\",\"expand\",\"skip\",\"nearly\",\"maybe\",\"task\",\"gateway\",\"strangest\",\"abstract\",\"adding\",\"suck\",\"tim\",\"printed\",\"sigma\",\"immigrate\",\"decline\",\"arrested\",\"95\",\"narcissistic\",\"freelancing\",\"patterns\",\"expired\",\"casual\",\"tablets\",\"patients\",\"lean\",\"pieces\",\"laymans\",\"whatever\",\"polish\",\"lemon\",\"abortion\",\"i3\",\"theorem\",\"h\",\"compulsory\",\"helped\",\"sons\",\"feminism\",\"compiler\",\"tested\",\"enhance\",\"adhd\",\"manhattan\",\"iii\",\"nail\",\"eee\",\"deals\",\"excellent\",\"ipo\",\"folder\",\"sand\",\"continuous\",\"capable\",\"libraries\",\"aggregate\",\"64\",\"bsnl\",\"profiles\",\"spirit\",\"pulled\",\"owns\",\"deloitte\",\"therapist\",\"acts\",\"millions\",\"authors\",\"marathi\",\"dvd\",\"coconut\",\"swiss\",\"interaction\",\"ncr\",\"kannada\",\"smallest\",\"advisable\",\"smartest\",\"sorry\",\"normally\",\"ends\",\"rome\",\"spectrum\",\"cousin\",\"75\",\"suzuki\",\"nights\",\"cap\",\"enable\",\"counselling\",\"proxy\",\"margin\",\"shops\",\"hackers\",\"tatkal\",\"opened\",\"cinema\",\"consumption\",\"coal\",\"silent\",\"choosing\",\"introduction\",\"electromagnetic\",\"hcl\",\"complaint\",\"puppies\",\"vc\",\"symbols\",\"lenses\",\"username\",\"arrow\",\"adopted\",\"affects\",\"sudden\",\"pcm\",\"gel\",\"affair\",\"pinterest\",\"statements\",\"supplements\",\"justified\",\"turns\",\"santa\",\"shoe\",\"trek\",\"headphone\",\"girlfriends\",\"verizon\",\"rocket\",\"conference\",\"ego\",\"srm\",\"afghanistan\",\"nucleus\",\"generated\",\"chinas\",\"ww1\",\"consultancy\",\"socially\",\"allen\",\"berkeley\",\"missed\",\"crying\",\"introduced\",\"ps3\",\"flour\",\"brought\",\"elder\",\"minecraft\",\"9th\",\"freelancer\",\"circles\",\"scars\",\"entertainment\",\"turbine\",\"deeply\",\"rom\",\"evolved\",\"nato\",\"strengths\",\"ide\",\"tweets\",\"scholarships\",\"mentor\",\"collect\",\"hdfc\",\"mandarin\",\"solo\",\"terrible\",\"influential\",\"professionals\",\"65\",\"recognition\",\"nvidia\",\"cia\",\"designs\",\"10k\",\"creation\",\"tom\",\"rated\",\"introverts\",\"boiling\",\"communism\",\"treaty\",\"whereas\",\"thanks\",\"cigarette\",\"bengaluru\",\"oneplus\",\"reserve\",\"advertise\",\"nits\",\"helping\",\"bruce\",\"mp3\",\"severe\",\"proposal\",\"cultures\",\"tap\",\"animated\",\"planes\",\"hall\",\"cognitive\",\"supports\",\"keys\",\"gotten\",\"feedback\",\"recording\",\"proceed\",\"membership\",\"console\",\"overseas\",\"hows\",\"william\",\"billionaires\",\"updated\",\"pre\",\"organizations\",\"messi\",\"unexpected\",\"nitrogen\",\"hungry\",\"nigeria\",\"sync\",\"arduino\",\"gross\",\"outer\",\"searching\",\"workers\",\"outlook\",\"europeans\",\"founder\",\"lectures\",\"legitimate\",\"camp\",\"ordinary\",\"investments\",\"bone\",\"raising\",\"quite\",\"ages\",\"joint\",\"johnson\",\"destination\",\"concerned\",\"belief\",\"refrigerator\",\"implications\",\"manga\",\"mandatory\",\"obamas\",\"lawyers\",\"bedroom\",\"icon\",\"qualifications\",\"qa\",\"bikes\",\"boston\",\"holding\",\"session\",\"appointment\",\"weaknesses\",\"iphones\",\"motorcycle\",\"schizophrenia\",\"5th\",\"intellectual\",\"eaten\",\"attending\",\"medals\",\"adsense\",\"nda\",\"6th\",\"kali\",\"georgia\",\"wechat\",\"earlier\",\"drone\",\"truck\",\"horse\",\"merchant\",\"torque\",\"seed\",\"backend\",\"holmes\",\"graduating\",\"400\",\"bones\",\"sufficient\",\"participate\",\"rifle\",\"shock\",\"downloaded\",\"earthquake\",\"breasts\",\"secretary\",\"insert\",\"damaged\",\"massive\",\"standing\",\"remainder\",\"programme\",\"holocaust\",\"totally\",\"belt\",\"affairs\",\"nokia\",\"mechanism\",\"pin\",\"scan\",\"fought\",\"superpower\",\"poetry\",\"signals\",\"educated\",\"scariest\",\"trains\",\"closer\",\"weapon\",\"icici\",\"serial\",\"bicycle\",\"terminal\",\"finished\",\"stolen\",\"inspiring\",\"cuisine\",\"spark\",\"sounds\",\"pricing\",\"click\",\"underwear\",\"kidney\",\"bengal\",\"invention\",\"discount\",\"chase\",\"evaluate\",\"distributed\",\"themes\",\"amd\",\"stem\",\"st\",\"genre\",\"vegetables\",\"council\",\"bihar\",\"thick\",\"mouse\",\"worry\",\"newly\",\"updates\",\"candy\",\"prepaid\",\"wet\",\"rap\",\"motors\",\"implemented\",\"theoretical\",\"fabric\",\"mexican\",\"portfolio\",\"technique\",\"icse\",\"expansion\",\"evolutionary\",\"justify\",\"trick\",\"attached\",\"lightning\",\"pitch\",\"armed\",\"einstein\",\"conversion\",\"iitjee\",\"declared\",\"admit\",\"acquisition\",\"innovation\",\"runs\",\"wwe\",\"trial\",\"memories\",\"refuse\",\"netherlands\",\"committed\",\"fraud\",\"jailbreak\",\"settle\",\"badly\",\"approved\",\"eligibility\",\"trend\",\"increases\",\"comic\",\"quorans\",\"cellular\",\"matches\",\"receiving\",\"bmw\",\"vlsi\",\"signed\",\"lakes\",\"350\",\"communications\",\"pork\",\"joined\",\"anyway\",\"differentiate\",\"actresses\",\"29\",\"ethics\",\"premier\",\"hearing\",\"vehicles\",\"drama\",\"instant\",\"lips\",\"dates\",\"july\",\"holiday\",\"coach\",\"malayalam\",\"superior\",\"soviet\",\"plate\",\"throw\",\"worship\",\"bars\",\"sharma\",\"mothers\",\"integrated\",\"clubs\",\"bug\",\"melbourne\",\"co\",\"bisexual\",\"regions\",\"lesson\",\"heads\",\"reader\",\"snake\",\"qualify\",\"paul\",\"causing\",\"disappear\",\"era\",\"lets\",\"qualified\",\"spiritual\",\"wolf\",\"requirement\",\"journalism\",\"studied\",\"lowest\",\"vader\",\"coursera\",\"stark\",\"configuration\",\"verbal\",\"undergrad\",\"dimensions\",\"transition\",\"efficiently\",\"interstellar\",\"locked\",\"summary\",\"chandigarh\",\"ghosts\",\"included\",\"operate\",\"dimension\",\"mount\",\"noticed\",\"rating\",\"somewhere\",\"martin\",\"bra\",\"bird\",\"zuckerberg\",\"sensor\",\"audience\",\"dirty\",\"starbucks\",\"permission\",\"residential\",\"wholesale\",\"assets\",\"clearly\",\"km\",\"invade\",\"ipcc\",\"fb\",\"shell\",\"shave\",\"loud\",\"tip\",\"seeds\",\"sets\",\"polar\",\"although\",\"june\",\"judaism\",\"anti\",\"instrument\",\"seven\",\"shooting\",\"j\",\"portal\",\"tower\",\"github\",\"linked\",\"admitted\",\"punishment\",\"mid\",\"micro\",\"cured\",\"lifestyle\",\"nor\",\"upset\",\"challenge\",\"soap\",\"standards\",\"integration\",\"lottery\",\"lab\",\"williams\",\"odd\",\"soil\",\"sensitive\",\"route\",\"tattoos\",\"coin\",\"declare\",\"frame\",\"differential\",\"bowl\",\"softwares\",\"notifications\",\"maintenance\",\"inner\",\"apples\",\"converted\",\"recruiter\",\"bombay\",\"command\",\"posting\",\"controlled\",\"balls\",\"personally\",\"poker\",\"extract\",\"hired\",\"bugs\",\"providers\",\"loans\",\"calculator\",\"attractions\",\"torrents\",\"keywords\",\"profession\",\"blogging\",\"transport\",\"sue\",\"anonymously\",\"compounds\",\"robot\",\"buddhism\",\"sweet\",\"defense\",\"nobody\",\"uc\",\"defined\",\"division\",\"bags\",\"epic\",\"unhealthy\",\"craziest\",\"urban\",\"combination\",\"pair\",\"laugh\",\"cv\",\"usd\",\"launched\",\"usps\",\"visited\",\"nexus\",\"regularly\",\"brothers\",\"broker\",\"concentrate\",\"agreement\",\"nervous\",\"frozen\",\"detail\",\"sir\",\"situations\",\"borderline\",\"angularjs\",\"abusive\",\"tourism\",\"relate\",\"august\",\"communist\",\"accountant\",\"dumb\",\"arab\",\"b2b\",\"du\",\"thermal\",\"asians\",\"threat\",\"karma\",\"passive\",\"homosexuality\",\"putting\",\"quantitative\",\"relativity\",\"sanskrit\",\"opinions\",\"verify\",\"bear\",\"roll\",\"expanding\",\"teenage\",\"jeans\",\"providing\",\"shared\",\"extreme\",\"mi\",\"vr\",\"progress\",\"greece\",\"cpu\",\"ips\",\"merge\",\"reputation\",\"loving\",\"salman\",\"iss\",\"warm\",\"dental\",\"extension\",\"attraction\",\"fictional\",\"journal\",\"login\",\"secondary\",\"recognize\",\"southern\",\"ph\",\"lunch\",\"wallet\",\"ronaldo\",\"larger\",\"actions\",\"fathers\",\"adopt\",\"claims\",\"bottom\",\"therapy\",\"patient\",\"described\",\"virginity\",\"functional\",\"ionic\",\"chartered\",\"discover\",\"55\",\"21st\",\"biased\",\"mad\",\"northern\",\"onto\",\"liberals\",\"premium\",\"neutral\",\"detect\",\"diagram\",\"sperm\",\"ga\",\"bleach\",\"spread\",\"contributions\",\"activate\",\"prior\",\"safest\",\"holder\",\"360\",\"aim\",\"rental\",\"families\",\"everybody\",\"shut\",\"payments\",\"150\",\"cube\",\"vegan\",\"newspaper\",\"beef\",\"houses\",\"preferred\",\"simultaneously\",\"marked\",\"reactions\",\"emergency\",\"protection\",\"cab\",\"forex\",\"norway\",\"immigrants\",\"googles\",\"ssb\",\"wing\",\"yrs\",\"ensure\",\"spy\",\"reasoning\",\"strange\",\"forgive\",\"turkish\",\"tag\",\"ranking\",\"platforms\",\"fox\",\"existed\",\"walmart\",\"lazy\",\"ears\",\"clock\",\"beam\",\"rare\",\"bush\",\"2011\",\"stops\",\"batteries\",\"certified\",\"naked\",\"worldwide\",\"staying\",\"lifetime\",\"ted\",\"lake\",\"wealthy\",\"transit\",\"stephen\",\"rural\",\"versa\",\"pets\",\"commonly\",\"adults\",\"ultimate\",\"genius\",\"vinegar\",\"allows\",\"aid\",\"retirement\",\"airtel\",\"sciences\",\"mountain\",\"drinks\",\"tour\",\"wind\",\"seattle\",\"disabled\",\"bodies\",\"lesbian\",\"governments\",\"kinetic\",\"tumblr\",\"absolute\",\"author\",\"toilet\",\"whey\",\"sleepy\",\"molecular\",\"watches\",\"inventions\",\"rain\",\"34\",\"angular\",\"o\",\"dish\",\"however\",\"agents\",\"abs\",\"switzerland\",\"transformer\",\"clearing\",\"consciousness\",\"broadband\",\"uae\",\"automatic\",\"opposed\",\"geography\",\"astronauts\",\"decisions\",\"cement\",\"induction\",\"luxury\",\"upvotes\",\"politicians\",\"posted\",\"toefl\",\"kitchen\",\"noise\",\"radius\",\"dye\",\"miles\",\"risks\",\"scientifically\",\"mnc\",\"propose\",\"prepared\",\"iiit\",\"mention\",\"equipment\",\"darth\",\"january\",\"surname\",\"raised\",\"attitude\",\"gta\",\"david\",\"hike\",\"awkward\",\"proven\",\"productive\",\"lg\",\"filled\",\"atmosphere\",\"lee\",\"irctc\",\"addicted\",\"dynamic\",\"employment\",\"weekend\",\"replacement\",\"singing\",\"owners\",\"bipolar\",\"tomorrow\",\"poems\",\"default\",\"kvpy\",\"sauce\",\"competitors\",\"russians\",\"sample\",\"crimes\",\"hang\",\"inspired\",\"furniture\",\"throughout\",\"presence\",\"efficiency\",\"leg\",\"biological\",\"pilani\",\"conversations\",\"inspirational\",\"bachelor\",\"centers\",\"withdraw\",\"fundamental\",\"comparison\",\"november\",\"fifa\",\"penalty\",\"algebra\",\"joke\",\"htc\",\"pilots\",\"collapse\",\"texts\",\"vocabulary\",\"moved\",\"sc\",\"smile\",\"october\",\"dot\",\"genetic\",\"architect\",\"url\",\"51\",\"sore\",\"uniform\",\"re\",\"rails\",\"smaller\",\"marine\",\"terrorists\",\"nazi\",\"breast\",\"politician\",\"subtitles\",\"chosen\",\"egypt\",\"thin\",\"packages\",\"editor\",\"bands\",\"mythology\",\"reasonable\",\"permit\",\"acceptable\",\"seriously\",\"iraq\",\"fever\",\"visitor\",\"honest\",\"friction\",\"offering\",\"smarter\",\"ahmedabad\",\"replaced\",\"resolution\",\"burning\",\"bridge\",\"catholic\",\"calendar\",\"resident\",\"policies\",\"forced\",\"leading\",\"arm\",\"deserve\",\"context\",\"coolest\",\"arranged\",\"arizona\",\"comics\",\"harm\",\"democrats\",\"jail\",\"breed\",\"anywhere\",\"psu\",\"christ\",\"violence\",\"agriculture\",\"objective\",\"moments\",\"infinity\",\"supporting\",\"critical\",\"trees\",\"beyond\",\"bag\",\"vitamin\",\"assembly\",\"solved\",\"array\",\"perspective\",\"pas\",\"wwii\",\"skinny\",\"contains\",\"lift\",\"cleaning\",\"peter\",\"aap\",\"pimples\",\"initial\",\"lesserknown\",\"sights\",\"principles\",\"realize\",\"millionaire\",\"faux\",\"orbit\",\"desire\",\"hi\",\"prophet\",\"suits\",\"careers\",\"thinks\",\"quantity\",\"spots\",\"wage\",\"asleep\",\"sociology\",\"guard\",\"units\",\"structural\",\"operation\",\"pants\",\"w\",\"bulk\",\"possibly\",\"drunk\",\"fired\",\"accident\",\"inch\",\"bottle\",\"aerospace\",\"narcissist\",\"ux\",\"angeles\",\"wood\",\"index\",\"safely\",\"robotics\",\"edition\",\"metals\",\"practices\",\"scheme\",\"interior\",\"diabetes\",\"nobel\",\"youth\",\"lived\",\"september\",\"chief\",\"proposed\",\"assuming\",\"sin\",\"counter\",\"disable\",\"introduce\",\"restore\",\"swimming\",\"intern\",\"answering\",\"mentioned\",\"crash\",\"laser\",\"teenagers\",\"presentation\",\"quran\",\"classified\",\"demonetisation\",\"communicate\",\"cotton\",\"autism\",\"anger\",\"environmental\",\"stable\",\"7th\",\"bread\",\"invited\",\"wisdom\",\"wrote\",\"widely\",\"minor\",\"formal\",\"dreaming\",\"managers\",\"escape\",\"pollution\",\"taiwan\",\"verification\",\"los\",\"figures\",\"26\",\"illness\",\"sides\",\"compatible\",\"pack\",\"conspiracy\",\"hedge\",\"flights\",\"dropped\",\"former\",\"suffer\",\"aware\",\"designers\",\"mahabharata\",\"evolve\",\"weigh\",\"dies\",\"fruits\",\"cc\",\"butter\",\"sharing\",\"atoms\",\"tongue\",\"transaction\",\"poverty\",\"suffering\",\"presidents\",\"resistance\",\"adam\",\"civilization\",\"mining\",\"toronto\",\"stick\",\"increased\",\"wild\",\"freelance\",\"removal\",\"aws\",\"rio\",\"principle\",\"asus\",\"cute\",\"consumer\",\"pool\",\"variable\",\"tutorials\",\"advance\",\"keeping\",\"visible\",\"cognizant\",\"equations\",\"rooms\",\"krishna\",\"printer\",\"tooth\",\"mentally\",\"realistic\",\"automobile\",\"cake\",\"tie\",\"beach\",\"ghost\",\"comfortable\",\"mysql\",\"oral\",\"closed\",\"helps\",\"maharashtra\",\"admissions\",\"i5\",\"partners\",\"axis\",\"beliefs\",\"neck\",\"clans\",\"hidden\",\"cyber\",\"voting\",\"bacteria\",\"layer\",\"chhattisgarh\",\"5000\",\"sitting\",\"murder\",\"argument\",\"f\",\"privacy\",\"syndrome\",\"2010\",\"bite\",\"vacation\",\"isro\",\"trouble\",\"records\",\"answered\",\"digit\",\"defeat\",\"childhood\",\"5s\",\"gates\",\"f1\",\"town\",\"anal\",\"copper\",\"talks\",\"affiliate\",\"sociopath\",\"installed\",\"static\",\"copyright\",\"animation\",\"donate\",\"stranger\",\"bcom\",\"destroyed\",\"gujarat\",\"foundation\",\"prize\",\"components\",\"foreigner\",\"arms\",\"unlimited\",\"needing\",\"settings\",\"item\",\"eve\",\"competition\",\"landing\",\"beard\",\"patent\",\"ending\",\"2020\",\"incident\",\"petroleum\",\"florida\",\"particularly\",\"ups\",\"generator\",\"leather\",\"heal\",\"experiment\",\"28\",\"passing\",\"talent\",\"remote\",\"300\",\"published\",\"impossible\",\"steam\",\"80\",\"washing\",\"guilty\",\"punjab\",\"70\",\"album\",\"bullet\",\"paris\",\"interface\",\"agencies\",\"mission\",\"digits\",\"modis\",\"recruitment\",\"manipal\",\"telling\",\"meal\",\"orange\",\"stone\",\"links\",\"ab\",\"upper\",\"cameras\",\"p\",\"combat\",\"passion\",\"shower\",\"thailand\",\"beings\",\"grad\",\"27\",\"finger\",\"jump\",\"lights\",\"ui\",\"bba\",\"sweden\",\"arrive\",\"4th\",\"amendment\",\"window\",\"satellite\",\"al\",\"matlab\",\"jokes\",\"muhammad\",\"expression\",\"booking\",\"dinner\",\"skype\",\"lots\",\"2018\",\"teen\",\"finish\",\"dslr\",\"mens\",\"proud\",\"entrepreneurs\",\"ukraine\",\"coins\",\"scenario\",\"transmission\",\"ignore\",\"pride\",\"contribute\",\"grand\",\"curve\",\"false\",\"operations\",\"breakup\",\"eventually\",\"acquire\",\"commission\",\"lies\",\"spoken\",\"pills\",\"masturbating\",\"jackson\",\"airbnb\",\"delivered\",\"disk\",\"radiation\",\"plays\",\"marvel\",\"particle\",\"breakfast\",\"smartphones\",\"relevant\",\"quota\",\"refund\",\"inches\",\"telugu\",\"angel\",\"eastern\",\"inflation\",\"predict\",\"annoying\",\"obc\",\"tough\",\"conduct\",\"originate\",\"notification\",\"backup\",\"harder\",\"richest\",\"pronounce\",\"sri\",\"wheel\",\"wasnt\",\"oldest\",\"sheet\",\"soda\",\"20s\",\"wipro\",\"awesome\",\"facial\",\"z\",\"noida\",\"confident\",\"fbi\",\"corrupt\",\"succeed\",\"reddit\",\"associate\",\"input\",\"guns\",\"rahul\",\"baking\",\"description\",\"musical\",\"apache\",\"nowadays\",\"fluid\",\"capacity\",\"loose\",\"freshman\",\"cfa\",\"optional\",\"theres\",\"ps4\",\"trends\",\"jon\",\"richard\",\"legit\",\"nodejs\",\"document\",\"sexually\",\"particles\",\"singer\",\"printing\",\"captain\",\"valuable\",\"several\",\"aiims\",\"boot\",\"sit\",\"zone\",\"billionaire\",\"floor\",\"gravitational\",\"export\",\"motivation\",\"golden\",\"transgender\",\"healthcare\",\"heaven\",\"81\",\"leaves\",\"listening\",\"overall\",\"press\",\"dishes\",\"railways\",\"warming\",\"enfield\",\"extent\",\"acceleration\",\"afford\",\"bonds\",\"border\",\"registration\",\"cast\",\"hope\",\"shipping\",\"karnataka\",\"specifically\",\"opportunity\",\"arabia\",\"pump\",\"pg\",\"carrier\",\"plot\",\"kingdom\",\"contract\",\"painful\",\"kindle\",\"boring\",\"essential\",\"disney\",\"charger\",\"seconds\",\"measured\",\"honda\",\"ba\",\"makeup\",\"\\u2013\",\"mini\",\"annual\",\"traits\",\"retrieve\",\"willing\",\"swift\",\"consume\",\"hindus\",\"psychopath\",\"tells\",\"solving\",\"conditions\",\"artists\",\"spotify\",\"bomb\",\"integrate\",\"stuck\",\"nikon\",\"gadgets\",\"womens\",\"judge\",\"republicans\",\"vacuum\",\"felt\",\"putin\",\"tennis\",\"concentration\",\"fans\",\"constantly\",\"matrix\",\"secrets\",\"spot\",\"soft\",\"stored\",\"neural\",\"submit\",\"scores\",\"ola\",\"wire\",\"gdp\",\"jaipur\",\"typically\",\"airline\",\"roles\",\"cheaper\",\"machines\",\"shift\",\"impress\",\"basics\",\"32\",\"conservative\",\"birds\",\"tend\",\"duty\",\"setup\",\"rude\",\"pink\",\"church\",\"mine\",\"jack\",\"sending\",\"cooking\",\"versus\",\"expert\",\"olympic\",\"biotechnology\",\"gurgaon\",\"worked\",\"codes\",\"successfully\",\"hardware\",\"faith\",\"pr\",\"television\",\"compound\",\"vit\",\"universal\",\"thank\",\"grammatically\",\"chicago\",\"ivy\",\"worried\",\"enterprise\",\"sodium\",\"railway\",\"remedies\",\"racism\",\"tracking\",\"psychological\",\"apartment\",\"magazine\",\"martial\",\"beauty\",\"waiting\",\"attacks\",\"horror\",\"fantasy\",\"ma\",\"select\",\"increasing\",\"metro\",\"opt\",\"map\",\"watched\",\"gear\",\"icloud\",\"james\",\"comedy\",\"lollipop\",\"ireland\",\"upcoming\",\"italian\",\"oven\",\"emotionally\",\"decided\",\"lakh\",\"grey\",\"kept\",\"produced\",\"mouth\",\"manual\",\"dhoni\",\"fill\",\"throat\",\"shoot\",\"liked\",\"innovative\",\"immediately\",\"lonely\",\"fighting\",\"max\",\"accidentally\",\"schedule\",\"orgasm\",\"rape\",\"ride\",\"muscles\",\"graduates\",\"taller\",\"boost\",\"lakhs\",\"microwave\",\"electrons\",\"upon\",\"attract\",\"ap\",\"abuse\",\"earths\",\"forever\",\"underrated\",\"facing\",\"terrorist\",\"alien\",\"celebrity\",\"frequently\",\"vpn\",\"wales\",\"powder\",\"superman\",\"mixed\",\"caught\",\"goods\",\"beginning\",\"starts\",\"atomic\",\"associated\",\"triangle\",\"parties\",\"banning\",\"k\",\"honey\",\"monitor\",\"graph\",\"leaders\",\"embedded\",\"juice\",\"split\",\"lady\",\"sequence\",\"911\",\"harassment\",\"nepal\",\"pop\",\"habit\",\"setting\",\"edge\",\"ww2\",\"gps\",\"federal\",\"charged\",\"lying\",\"empty\",\"whenever\",\"airplane\",\"jet\",\"destroy\",\"ies\",\"wouldnt\",\"quick\",\"decrease\",\"robert\",\"pradesh\",\"professors\",\"massage\",\"held\",\"spending\",\"markets\",\"objects\",\"chart\",\"mechanics\",\"silver\",\"usage\",\"basketball\",\"gen\",\"periods\",\"identity\",\"individuals\",\"css\",\"soul\",\"ipod\",\"chest\",\"understanding\",\"coast\",\"classic\",\"spain\",\"babies\",\"sd\",\"hostel\",\"shirt\",\"further\",\"logical\",\"franchise\",\"obtain\",\"foreigners\",\"fully\",\"region\",\"designed\",\"cheated\",\"beneficial\",\"shes\",\"accent\",\"couldnt\",\"queen\",\"sick\",\"blowing\",\"properly\",\"stronger\",\"returns\",\"condition\",\"musk\",\"ugly\",\"teams\",\"filter\",\"snow\",\"glasses\",\"employer\",\"solid\",\"followed\",\"embarrassing\",\"auto\",\"meeting\",\"belong\",\"strike\",\"internships\",\"bachelors\",\"administration\",\"temple\",\"wealth\",\"retail\",\"speakers\",\"electoral\",\"headphones\",\"streaming\",\"mirror\",\"diesel\",\"republic\",\"antivirus\",\"customers\",\"atm\",\"vagina\",\"cigarettes\",\"aptitude\",\"lewis\",\"saudi\",\"puppy\",\"recovery\",\"jimmy\",\"obsessed\",\"domestic\",\"pen\",\"batch\",\"de\",\"drawing\",\"ai\",\"medium\",\"simply\",\"photoshop\",\"sms\",\"turning\",\"nadu\",\"appropriate\",\"adobe\",\"substitute\",\"fruit\",\"recipes\",\"fighter\",\"saving\",\"greater\",\"cheat\",\"routine\",\"push\",\"sherlock\",\"arguments\",\"sony\",\"import\",\"soldiers\",\"charges\",\"emotions\",\"ibm\",\"un\",\"innovations\",\"itunes\",\"consultant\",\"iims\",\"relations\",\"psychopaths\",\"existing\",\"angle\",\"clash\",\"bus\",\"australian\",\"crazy\",\"pull\",\"theories\",\"savings\",\"suit\",\"contrast\",\"calculus\",\"pi\",\"credits\",\"bluetooth\",\"himself\",\"traveling\",\"criminal\",\"xiaomi\",\"zealand\",\"seats\",\"electron\",\"script\",\"11th\",\"lessons\",\"programmers\",\"december\",\"flag\",\"singh\",\"arabic\",\"sale\",\"nfl\",\"grammar\",\"killing\",\"virgin\",\"differently\",\"poem\",\"provided\",\"automation\",\"shy\",\"translation\",\"mathematical\",\"45\",\"celebrities\",\"spring\",\"downloading\",\"dr\",\"organization\",\"majority\",\"clients\",\"hd\",\"motivate\",\"thats\",\"thesis\",\"door\",\"weakest\",\"saw\",\"canon\",\"younger\",\"costs\",\"river\",\"rings\",\"factory\",\"decent\",\"clintons\",\"holes\",\"desert\",\"divorce\",\"sold\",\"cheese\",\"atom\",\"taught\",\"minute\",\"ocean\",\"crisis\",\"represent\",\"surgical\",\"parent\",\"brexit\",\"possibility\",\"longest\",\"edit\",\"scholarship\",\"motivated\",\"chocolate\",\"faced\",\"90\",\"parallel\",\"foot\",\"examination\",\"friendly\",\"kinds\",\"wins\",\"islamic\",\"degrees\",\"registered\",\"distribution\",\"junior\",\"gave\",\"sing\",\"articles\",\"hadoop\",\"saved\",\"hero\",\"ear\",\"asks\",\"improved\",\"teenager\",\"forms\",\"wash\",\"provides\",\"washington\",\"strikes\",\"binary\",\"syria\",\"indonesia\",\"powers\",\"highly\",\"heshe\",\"happiness\",\"director\",\"citizenship\",\"knew\",\"humanity\",\"translate\",\"nba\",\"permanently\",\"soccer\",\"todays\",\"challenges\",\"barack\",\"title\",\"latin\",\"fitness\",\"genuine\",\"investor\",\"dislike\",\"scenes\",\"hacker\",\"bangladesh\",\"ebay\",\"earning\",\"dell\",\"paytm\",\"spouse\",\"bored\",\"roman\",\"official\",\"dragon\",\"park\",\"except\",\"habits\",\"quote\",\"astrology\",\"congress\",\"automatically\",\"island\",\"religions\",\"christianity\",\"supreme\",\"owner\",\"hell\",\"wikipedia\",\"cancel\",\"industries\",\"actress\",\"client\",\"visual\",\"michael\",\"remain\",\"ability\",\"concrete\",\"conflict\",\"string\",\"linear\",\"supposed\",\"engines\",\"2012\",\"\\u2018\",\"lesser\",\"traditional\",\"episodes\",\"goals\",\"tata\",\"opening\",\"target\",\"weak\",\"anonymous\",\"bjp\",\"resource\",\"concepts\",\"ruby\",\"friendship\",\"nyc\",\"pretty\",\"implement\",\"painting\",\"ill\",\"agency\",\"reverse\",\"confused\",\"italy\",\"response\",\"yellow\",\"dance\",\"contain\",\"vice\",\"editing\",\"acting\",\"weirdest\",\"feels\",\"govt\",\"accounting\",\"rise\",\"wise\",\"leaving\",\"lens\",\"artist\",\"arvind\",\"pattern\",\"scared\",\"attention\",\"airlines\",\"sky\",\"malaysia\",\"port\",\"attempt\",\"element\",\"classical\",\"shown\",\"safety\",\"including\",\"tablet\",\"la\",\"terrorism\",\"commit\",\"maps\",\"african\",\"viewed\",\"calling\",\"6s\",\"agent\",\"output\",\"justice\",\"don\",\"addiction\",\"lock\",\"vegetarian\",\"britain\",\"percent\",\"meditation\",\"ibps\",\"monthly\",\"writers\",\"forward\",\"stuff\",\"mr\",\"ready\",\"forgot\",\"flying\",\"recommended\",\"fields\",\"blind\",\"l\",\"hinduism\",\"desktop\",\"host\",\"tattoo\",\"maintain\",\"boards\",\"helpful\",\"semester\",\"load\",\"tier\",\"agree\",\"factor\",\"elon\",\"freshers\",\"sql\",\"cases\",\"exact\",\"confidence\",\"behavior\",\"hacked\",\"quotes\",\"hydrogen\",\"pakistani\",\"masturbate\",\"divided\",\"skill\",\"fine\",\"falling\",\"chess\",\"charging\",\"pages\",\"vector\",\"supporters\",\"waste\",\"sanders\",\"affordable\",\"unlock\",\"techniques\",\"wine\",\"keyboard\",\"cm\",\"wireless\",\"lawyer\",\"egg\",\"cope\",\"mindblowing\",\"recipe\",\"corruption\",\"scored\",\"secure\",\"teaching\",\"opposite\",\"educational\",\"bernie\",\"y\",\"library\",\"models\",\"kid\",\"stack\",\"separate\",\"19\",\"extremely\",\"properties\",\"cable\",\"magic\",\"removed\",\"computing\",\"hospital\",\"beer\",\"christians\",\"twice\",\"kg\",\"consulting\",\"whose\",\"serious\",\"petrol\",\"travelling\",\"revolution\",\"custom\",\"structures\",\"guide\",\"celebrate\",\"lenovo\",\"turned\",\"ielts\",\"grades\",\"fuel\",\"relative\",\"oracle\",\"academy\",\"lack\",\"passed\",\"relation\",\"values\",\"movement\",\"strategies\",\"eu\",\"emotional\",\"legs\",\"pokemon\",\"3g\",\"iran\",\"mostly\",\"jewish\",\"offered\",\"log\",\"hasnt\",\"explanation\",\"signal\",\"stores\",\"syllabus\",\"bits\",\"yoga\",\"weapons\",\"gods\",\"10000\",\"delivery\",\"gb\",\"sum\",\"letters\",\"venture\",\"selection\",\"winning\",\"35\",\"comment\",\"consequences\",\"sport\",\"items\",\"seems\",\"ring\",\"jealous\",\"laptops\",\"criteria\",\"fresh\",\"reference\",\"bitcoin\",\"infinite\",\"perform\",\"brazil\",\"density\",\"plans\",\"hosting\",\"clothing\",\"hong\",\"dying\",\"heavy\",\"steve\",\"gone\",\"damage\",\"missing\",\"ethical\",\"republican\",\"contacts\",\"activity\",\"electronic\",\"qualities\",\"piano\",\"hisher\",\"repair\",\"posts\",\"disease\",\"winter\",\"ten\",\"publish\",\"paint\",\"physically\",\"executive\",\"deposit\",\"elements\",\"xbox\",\"ceo\",\"visitors\",\"discovered\",\"tickets\",\"literature\",\"primary\",\"naturally\",\"senior\",\"u\",\"hardest\",\"debate\",\"frequency\",\"vietnam\",\"cry\",\"assistant\",\"gifts\",\"practical\",\"funny\",\"valid\",\"liberal\",\"refer\",\"beat\",\"shape\",\"institutes\",\"msc\",\"internal\",\"located\",\"significant\",\"scientists\",\"g\",\"ship\",\"proper\",\"independence\",\"added\",\"hes\",\"catch\",\"urine\",\"effectively\",\"named\",\"responsible\",\"strength\",\"whos\",\"immigration\",\"vehicle\",\"tesla\",\"kong\",\"meth\",\"england\",\"huge\",\"pizza\",\"rejected\",\"george\",\"fan\",\"salt\",\"browser\",\"sat\",\"loved\",\"fees\",\"walking\",\"symbol\",\"equity\",\"ubuntu\",\"alternatives\",\"theme\",\"virus\",\"manufacturing\",\"cutoff\",\"pure\",\"22\",\"introvert\",\"unable\",\"greek\",\"rice\",\"gst\",\"happening\",\"centre\",\"kiss\",\"prison\",\"bigger\",\"font\",\"construction\",\"exercises\",\"keeps\",\"gmat\",\"offers\",\"cross\",\"nasa\",\"unit\",\"advertising\",\"cup\",\"fixed\",\"limited\",\"billion\",\"subjects\",\"arts\",\"worlds\",\"stupid\",\"breaking\",\"funding\",\"tank\",\"generate\",\"efficient\",\"exists\",\"atheist\",\"entrepreneur\",\"direction\",\"broken\",\"offline\",\"firms\",\"station\",\"magnetic\",\"include\",\"aliens\",\"tinder\",\"logo\",\"photography\",\"worse\",\"besides\",\"path\",\"somebody\",\"interviews\",\"persons\",\"figure\",\"placed\",\"nation\",\"knows\",\"unmarried\",\"hp\",\"profitable\",\"tricks\",\"boss\",\"reply\",\"scam\",\"circle\",\"processor\",\"debt\",\"growing\",\"royal\",\"fiction\",\"department\",\"mistake\",\"weird\",\"graphics\",\"external\",\"article\",\"volume\",\"scratch\",\"chain\",\"protect\",\"storage\",\"texas\",\"liquid\",\"circuit\",\"graphic\",\"tired\",\"weather\",\"oxygen\",\"velocity\",\"dad\",\"band\",\"teachers\",\"drugs\",\"complex\",\"studio\",\"accenture\",\"leader\",\"levels\",\"goal\",\"logic\",\"acne\",\"plastic\",\"motion\",\"button\",\"peoples\",\"vision\",\"gap\",\"dollar\",\"computers\",\"stomach\",\"sources\",\"constant\",\"draw\",\"dress\",\"calculated\",\"sort\",\"3rd\",\"club\",\"channels\",\"creating\",\"candidates\",\"kejriwal\",\"broke\",\"sentences\",\"format\",\"emails\",\"raw\",\"stanford\",\"completed\",\"documents\",\"pan\",\"showing\",\"enter\",\"unknown\",\"bought\",\"router\",\"claim\",\"six\",\"technologies\",\"\\u20b9\",\"flipkart\",\"infosys\",\"mutual\",\"angry\",\"iits\",\"affected\",\"prices\",\"shares\",\"naruto\",\"processing\",\"finding\",\"democratic\",\"evolution\",\"harmful\",\"dual\",\"virtual\",\"member\",\"wave\",\"actual\",\"extra\",\"radio\",\"citizens\",\"e\",\"hr\",\"previous\",\"stopped\",\"walk\",\"redmi\",\"speaker\",\"torrent\",\"smoke\",\"mistakes\",\"flash\",\"iron\",\"entire\",\"individual\",\"express\",\"flow\",\"mode\",\"aircraft\",\"section\",\"planets\",\"10th\",\"respond\",\"easier\",\"evil\",\"percentile\",\"seeing\",\"calories\",\"upgrade\",\"professor\",\"v\",\"launch\",\"staff\",\"till\",\"silicon\",\"entry\",\"constitution\",\"century\",\"notice\",\"ie\",\"atheists\",\"tests\",\"21\",\"became\",\"kerala\",\"truly\",\"count\",\"essay\",\"papers\",\"accurate\",\"colors\",\"respect\",\"ideal\",\"rock\",\"reliance\",\"peace\",\"masturbation\",\"audio\",\"random\",\"independent\",\"colour\",\"hotels\",\"presidency\",\"generation\",\"paypal\",\"shot\",\"central\",\"released\",\"occur\",\"display\",\"industrial\",\"particular\",\"risk\",\"eg\",\"belly\",\"pet\",\"similarities\",\"organic\",\"marijuana\",\"networks\",\"aspects\",\"flat\",\"d\",\"comments\",\"nose\",\"identify\",\"rbi\",\"improvement\",\"directly\",\"framework\",\"suggestions\",\"designing\",\"brands\",\"religious\",\"influence\",\"novels\",\"statistics\",\"historical\",\"ground\",\"commerce\",\"pregnancy\",\"romantic\",\"failure\",\"wearing\",\"john\",\"apart\",\"bay\",\"symptoms\",\"200\",\"couple\",\"60\",\"canadian\",\"lie\",\"print\",\"carry\",\"gender\",\"experienced\",\"pounds\",\"reservation\",\"either\",\"stage\",\"artificial\",\"fit\",\"blogs\",\"developing\",\"environment\",\"learned\",\"copy\",\"phase\",\"bond\",\"democracy\",\"cgpa\",\"operating\",\"surface\",\"officers\",\"h1b\",\"ip\",\"workout\",\"fee\",\"elected\",\"hands\",\"largest\",\"sad\",\"shouldnt\",\"seat\",\"sister\",\"developers\",\"despite\",\"scene\",\"po\",\"diploma\",\"request\",\"empire\",\"ratio\",\"considering\",\"academic\",\"tree\",\"register\",\"advantage\",\"eligible\",\"nit\",\"shop\",\"intel\",\"funniest\",\"alternative\",\"fail\",\"ads\",\"nature\",\"miss\",\"involved\",\"overrated\",\"attend\",\"freedom\",\"dna\",\"beginners\",\"raise\",\"dry\",\"failed\",\"legally\",\"batman\",\"upload\",\"carbon\",\"regret\",\"applied\",\"points\",\"investors\",\"pick\",\"equivalent\",\"connected\",\"christmas\",\"lyrics\",\"nations\",\"caused\",\"bsc\",\"1st\",\"action\",\"activities\",\"biology\",\"hide\",\"asia\",\"takes\",\"require\",\"alive\",\"mom\",\"cycle\",\"generally\",\"campaign\",\"fair\",\"wake\",\"bit\",\"rules\",\"olympics\",\"racist\",\"areas\",\"eggs\",\"feature\",\"sap\",\"taxes\",\"ad\",\"shall\",\"theyre\",\"species\",\"pilot\",\"firm\",\"fish\",\"define\",\"doctors\",\"piece\",\"itself\",\"bang\",\"solutions\",\"iim\",\"2013\",\"wanted\",\"length\",\"burn\",\"waves\",\"bar\",\"gives\",\"forces\",\"christian\",\"anybody\",\"relationships\",\"nice\",\"wedding\",\"various\",\"brother\",\"films\",\"cream\",\"suddenly\",\"philippines\",\"fashion\",\"truth\",\"gpa\",\"cgl\",\"tall\",\"goa\",\"hacking\",\"statement\",\"reset\",\"materials\",\"played\",\"match\",\"usb\",\"novel\",\"unusual\",\"knowing\",\"selected\",\"valley\",\"chrome\",\"couples\",\"becomes\",\"died\",\"cheating\",\"community\",\"groups\",\"category\",\"pursuing\",\"writer\",\"mexico\",\"anymore\",\"sugar\",\"climate\",\"brown\",\"players\",\"ii\",\"reviews\",\"took\",\"led\",\"connection\",\"begin\",\"html\",\"changing\",\"received\",\"plants\",\"debit\",\"record\",\"revenue\",\"mars\",\"strongest\",\"members\",\"formed\",\"union\",\"thought\",\"existence\",\"kashmir\",\"gandhi\",\"pdf\",\"banned\",\"0\",\"plane\",\"treated\",\"electricity\",\"scale\",\"basis\",\"moral\",\"images\",\"methods\",\"certification\",\"voltage\",\"style\",\"base\",\"excel\",\"amazing\",\"regarding\",\"result\",\"rates\",\"hold\",\"indias\",\"airport\",\"businesses\",\"feet\",\"built\",\"linkedin\",\"signs\",\"above\",\"networking\",\"r\",\"shopping\",\"looks\",\"went\",\"placements\",\"bed\",\"experiences\",\"daughter\",\"tourist\",\"employee\",\"caste\",\"wait\",\"direct\",\"especially\",\"feed\",\"continue\",\"expected\",\"algorithm\",\"depressed\",\"shoes\",\"soon\",\"supply\",\"stress\",\"24\",\"inr\",\"foods\",\"rent\",\"architecture\",\"ban\",\"entrance\",\"actors\",\"messenger\",\"unique\",\"kolkata\",\"funds\",\"rupee\",\"promote\",\"rupees\",\"jews\",\"23\",\"cook\",\"cultural\",\"accepted\",\"hear\",\"glass\",\"road\",\"joining\",\"measure\",\"havent\",\"metal\",\"resume\",\"afraid\",\"turkey\",\"meat\",\"goes\",\"installation\",\"netflix\",\"benefit\",\"demand\",\"release\",\"produce\",\"report\",\"cover\",\"changes\",\"double\",\"2nd\",\"reaction\",\"killed\",\"steel\",\"requirements\",\"france\",\"exchange\",\"ac\",\"quantum\",\"reliable\",\"box\",\"results\",\"lives\",\"treatment\",\"4g\",\"ece\",\"probability\",\"sleeping\",\"philosophy\",\"handle\",\"forget\",\"driver\",\"demonetization\",\"algorithms\",\"trade\",\"rule\",\"muscle\",\"calls\",\"tried\",\"mental\",\"sure\",\"quit\",\"navy\",\"achieve\",\"francisco\",\"location\",\"until\",\"sense\",\"anxiety\",\"wordpress\",\"focus\",\"fact\",\"production\",\"conversation\",\"motor\",\"five\",\"attracted\",\"hit\",\"analyst\",\"moto\",\"isis\",\"chicken\",\"sector\",\"permanent\",\"along\",\"king\",\"slow\",\"candidate\",\"minutes\",\"purchase\",\"gun\",\"selling\",\"usually\",\"\\u2026\",\"fly\",\"round\",\"panel\",\"error\",\"stocks\",\"api\",\"remember\",\"africa\",\"paying\",\"hitler\",\"3d\",\"regular\",\"losing\",\"mail\",\"yahoo\",\"cheapest\",\"older\",\"concept\",\"characters\",\"definition\",\"lines\",\"pm\",\"cloud\",\"cats\",\"russian\",\"ipad\",\"korean\",\"proof\",\"battle\",\"stars\",\"stream\",\"recent\",\"typical\",\"performance\",\"harvard\",\"restaurant\",\"origin\",\"listen\",\"smell\",\"decide\",\"serve\",\"undergraduate\",\"profit\",\"situation\",\"surgery\",\"asking\",\"plant\",\"link\",\"square\",\"completing\",\"four\",\"trust\",\"payment\",\"gym\",\"andor\",\"worklife\",\"guitar\",\"elections\",\"half\",\"investing\",\"scientist\",\"street\",\"needs\",\"native\",\"thoughts\",\"reality\",\"40\",\"medicine\",\"race\",\"choice\",\"longer\",\"came\",\"applying\",\"hiring\",\"west\",\"weed\",\"hacks\",\"step\",\"sea\",\"crime\",\"devices\",\"event\",\"citizen\",\"14\",\"17\",\"ticket\",\"fund\",\"equation\",\"suicide\",\"whom\",\"met\",\"almost\",\"designer\",\"local\",\"departments\",\"khan\",\"customer\",\"banking\",\"javascript\",\"trip\",\"issue\",\"react\",\"cannot\",\"dubai\",\"wall\",\"touch\",\"parts\",\"loves\",\"clothes\",\"straight\",\"sexual\",\"active\",\"inpatient\",\"dreams\",\"protein\",\"table\",\"exercise\",\"lord\",\"mtech\",\"creative\",\"ball\",\"speaking\",\"son\",\"receive\",\"dollars\",\"domain\",\"prospects\",\"hour\",\"graduation\",\"commercial\",\"themselves\",\"factors\",\"jesus\",\"programmer\",\"recommend\",\"replace\",\"chat\",\"placement\",\"episode\",\"fastest\",\"restaurants\",\"object\",\"drivers\",\"gaming\",\"mark\",\"taste\",\"seem\",\"perfect\",\"potential\",\"trumps\",\"appear\",\"rights\",\"equal\",\"rest\",\"package\",\"meant\",\"drop\",\"cool\",\"material\",\"potter\",\"events\",\"convince\",\"completely\",\"n\",\"zero\",\"significance\",\"lower\",\"feelings\",\"followers\",\"evidence\",\"certain\",\"later\",\"original\",\"bible\",\"disorder\",\"testing\",\"via\",\"stand\",\"actor\",\"characteristics\",\"cities\",\"reach\",\"ago\",\"mbbs\",\"speech\",\"electric\",\"approach\",\"scientific\",\"root\",\"analytics\",\"below\",\"grade\",\"mains\",\"topic\",\"fun\",\"ancient\",\"adult\",\"standard\",\"ice\",\"everyday\",\"population\",\"invented\",\"european\",\"intelligent\",\"11\",\"subject\",\"rehab\",\"background\",\"giving\",\"platform\",\"flight\",\"thrones\",\"maths\",\"dc\",\"teeth\",\"mit\",\"weeks\",\"east\",\"means\",\"programs\",\"beginner\",\"heat\",\"third\",\"tea\",\"range\",\"london\",\"maximum\",\"enjoy\",\"2000\",\"cells\",\"quickly\",\"here\",\"expensive\",\"phrase\",\"partner\",\"league\",\"anime\",\"latest\",\"specific\",\"whether\",\"functions\",\"os\",\"fire\",\"saying\",\"secret\",\"13\",\"planet\",\"hole\",\"super\",\"teacher\",\"strong\",\"accounts\",\"minister\",\"database\",\"economic\",\"channel\",\"estate\",\"ram\",\"switch\",\"asian\",\"smoking\",\"branch\",\"israel\",\"18\",\"features\",\"success\",\"lead\",\"total\",\"key\",\"master\",\"ok\",\"favourite\",\"psychology\",\"pok\\u00e9mon\",\"nothing\",\"clean\",\"25\",\"politics\",\"drinking\",\"sometimes\",\"recently\",\"korea\",\"sent\",\"poor\",\"hindu\",\"hollywood\",\"survive\",\"cure\",\"property\",\"return\",\"narendra\",\"budget\",\"sports\",\"limit\",\"arent\",\"boys\",\"driving\",\"whole\",\"cash\",\"smartphone\",\"php\",\"developed\",\"ssc\",\"hot\",\"attractive\",\"tool\",\"physical\",\"ecommerce\",\"sbi\",\"morning\",\"animal\",\"multiple\",\"loan\",\"acid\",\"fresher\",\"spanish\",\"moving\",\"decision\",\"county\",\"determined\",\"becoming\",\"seo\",\"summer\",\"manage\",\"server\",\"competitive\",\"milk\",\"importance\",\"banks\",\"cheap\",\"powerful\",\"issues\",\"penis\",\"according\",\"analysis\",\"bike\",\"position\",\"western\",\"advanced\",\"campus\",\"highest\",\"front\",\"court\",\"status\",\"gravity\",\"positions\",\"comes\",\"steps\",\"complete\",\"electronics\",\"won\",\"hurt\",\"certificate\",\"temperature\",\"player\",\"someones\",\"communication\",\"million\",\"talking\",\"preparing\",\"finance\",\"cancer\",\"9\",\"harry\",\"accept\",\"2014\",\"plus\",\"born\",\"tcs\",\"license\",\"bring\",\"teach\",\"practice\",\"trading\",\"m\",\"might\",\"opportunities\",\"global\",\"wish\",\"outside\",\"attack\",\"procedure\",\"needed\",\"update\",\"coffee\",\"provider\",\"rather\",\"16\",\"allow\",\"tamil\",\"mix\",\"connect\",\"room\",\"watching\",\"deep\",\"york\",\"image\",\"birth\",\"sign\",\"birthday\",\"playing\",\"wars\",\"grads\",\"hire\",\"phones\",\"cbse\",\"details\",\"clear\",\"cricket\",\"dangerous\",\"track\",\"corporate\",\"voice\",\"upsc\",\"content\",\"okay\",\"san\",\"heart\",\"far\",\"heard\",\"prove\",\"positive\",\"moment\",\"sales\",\"opinion\",\"engineers\",\"block\",\"diet\",\"coding\",\"core\",\"baby\",\"father\",\"little\",\"large\",\"blocked\",\"distance\",\"land\",\"simple\",\"husband\",\"told\",\"traffic\",\"prevent\",\"pictures\",\"planning\",\"fear\",\"classes\",\"towards\",\"technical\",\"building\",\"trying\",\"photo\",\"early\",\"uses\",\"sydney\",\"startups\",\"act\",\"id\",\"describe\",\"12th\",\"may\",\"formula\",\"gets\",\"present\",\"wont\",\"cut\",\"treat\",\"mathematics\",\"visiting\",\"eye\",\"policy\",\"close\",\"cse\",\"suitable\",\"version\",\"tools\",\"head\",\"minimum\",\"chennai\",\"easily\",\"method\",\"intelligence\",\"gre\",\"mother\",\"doctor\",\"macbook\",\"deleted\",\"gas\",\"suggest\",\"cards\",\"files\",\"loss\",\"art\",\"easiest\",\"late\",\"among\",\"together\",\"depression\",\"higher\",\"alone\",\"economics\",\"dead\",\"growth\",\"insurance\",\"gold\",\"necessary\",\"neet\",\"blog\",\"example\",\"memory\",\"crack\",\"consider\",\"works\",\"currency\",\"recruit\",\"pursue\",\"strategy\",\"young\",\"cs\",\"projects\",\"50\",\"manager\",\"abroad\",\"schools\",\"illegal\",\"inside\",\"stories\",\"hand\",\"t\",\"greatest\",\"personality\",\"galaxy\",\"device\",\"views\",\"user\",\"chemistry\",\"cars\",\"iq\",\"prefer\",\"picture\",\"nuclear\",\"middle\",\"applications\",\"gmail\",\"laws\",\"final\",\"capital\",\"kids\",\"society\",\"fake\",\"bill\",\"save\",\"though\",\"likely\",\"determine\",\"shows\",\"character\",\"snapchat\",\"youre\",\"eyes\",\"islam\",\"marry\",\"brand\",\"yet\",\"impact\",\"speak\",\"within\",\"rich\",\"resources\",\"net\",\"non\",\"pressure\",\"changed\",\"allowed\",\"obama\",\"cold\",\"running\",\"feeling\",\"jio\",\"football\",\"gift\",\"written\",\"buying\",\"mac\",\"spend\",\"prime\",\"blue\",\"train\",\"studies\",\"negative\",\"thinking\",\"solution\",\"sun\",\"least\",\"following\",\"install\",\"else\",\"muslims\",\"camera\",\"vote\",\"linux\",\"expect\",\"german\",\"recover\",\"starting\",\"crush\",\"coming\",\"muslim\",\"modern\",\"battery\",\"provide\",\"access\",\"presidential\",\"interest\",\"dating\",\"pro\",\"likes\",\"french\",\"singapore\",\"useful\",\"already\",\"professional\",\"percentage\",\"drink\",\"created\",\"board\",\"passport\",\"structure\",\"case\",\"height\",\"microsoft\",\"break\",\"screen\",\"names\",\"chance\",\"special\",\"30\",\"skin\",\"natural\",\"color\",\"interested\",\"amount\",\"pain\",\"healthy\",\"hack\",\"messages\",\"ias\",\"gay\",\"disadvantages\",\"pass\",\"moon\",\"systems\",\"hindi\",\"financial\",\"taken\",\"yes\",\"sim\",\"pregnant\",\"faster\",\"animals\",\"internship\",\"let\",\"photos\",\"balance\",\"sound\",\"due\",\"knowledge\",\"charge\",\"message\",\"officer\",\"solar\",\"military\",\"meet\",\"option\",\"reading\",\"across\",\"overcome\",\"everyone\",\"everything\",\"wife\",\"reduce\",\"chances\",\"samsung\",\"income\",\"bollywood\",\"season\",\"europe\",\"boy\",\"currently\",\"ex\",\"smart\",\"california\",\"engine\",\"paid\",\"army\",\"contact\",\"address\",\"wants\",\"ones\",\"gain\",\"reasons\",\"avoid\",\"please\",\"note\",\"known\",\"pune\",\"film\",\"national\",\"once\",\"users\",\"porn\",\"scope\",\"twitter\",\"drug\",\"rank\",\"japan\",\"fight\",\"transfer\",\"political\",\"green\",\"news\",\"self\",\"uber\",\"basic\",\"british\",\"religion\",\"hyderabad\",\"topics\",\"explain\",\"phd\",\"eating\",\"letter\",\"calculate\",\"ive\",\"tech\",\"personal\",\"japanese\",\"check\",\"hotel\",\"wifi\",\"beautiful\",\"difficult\",\"paper\",\"languages\",\"investment\",\"develop\",\"north\",\"electrical\",\"ios\",\"alcohol\",\"exactly\",\"profile\",\"past\",\"exams\",\"ca\",\"convert\",\"vs\",\"understand\",\"care\",\"dream\",\"try\",\"americans\",\"lost\",\"chemical\",\"source\",\"b\",\"admission\",\"easy\",\"must\",\"three\",\"effect\",\"view\",\"options\",\"page\",\"away\",\"red\",\"said\",\"line\",\"short\",\"happy\",\"security\",\"dark\",\"preparation\",\"second\",\"fat\",\"matter\",\"few\",\"since\",\"role\",\"pc\",\"office\",\"team\",\"delete\",\"cell\",\"election\",\"economy\",\"term\",\"dogs\",\"text\",\"female\",\"effective\",\"brain\",\"share\",\"digital\",\"btech\",\"russia\",\"\\u201c\",\"party\",\"numbers\",\"20\",\"store\",\"male\",\"mass\",\"turn\",\"left\",\"married\",\"rs\",\"taking\",\"those\",\"password\",\"follow\",\"advice\",\"isnt\",\"15\",\"types\",\"network\",\"\\u201d\",\"week\",\"purpose\",\"related\",\"fix\",\"started\",\"courses\",\"masters\",\"grow\",\"8\",\"fast\",\"leave\",\"100\",\"often\",\"found\",\"pros\",\"marriage\",\"cons\",\"quality\",\"words\",\"kill\",\"price\",\"near\",\"modi\",\"enough\",\"search\",\"python\",\"x\",\"blood\",\"math\",\"yourself\",\"drive\",\"size\",\"star\",\"graduate\",\"majors\",\"500\",\"model\",\"studying\",\"general\",\"oil\",\"colleges\",\"area\",\"developer\",\"germany\",\"industry\",\"full\",\"training\",\"says\",\"period\",\"videos\",\"universe\",\"fall\",\"daily\",\"information\",\"foreign\",\"credit\",\"force\",\"12\",\"youve\",\"south\",\"offer\",\"set\",\"add\",\"send\",\"australia\",\"center\",\"1000\",\"famous\",\"2015\",\"lot\",\"function\",\"tax\",\"correct\",\"solve\",\"advantages\",\"coaching\",\"institute\",\"effects\",\"guys\",\"again\",\"group\",\"hours\",\"side\",\"sentence\",\"low\",\"similar\",\"plan\",\"children\",\"answers\",\"talk\",\"marks\",\"ideas\",\"theory\",\"death\",\"compared\",\"night\",\"remove\",\"dog\",\"anything\",\"single\",\"successful\",\"gate\",\"indians\",\"put\",\"problems\",\"move\",\"writing\",\"point\",\"invest\",\"asked\",\"biggest\",\"others\",\"stock\",\"notes\",\"story\",\"machine\",\"private\",\"sell\",\"seen\",\"required\",\"field\",\"file\",\"rate\",\"humans\",\"application\",\"face\",\"sites\",\"mind\",\"facts\",\"mumbai\",\"post\",\"stay\",\"child\",\"terms\",\"products\",\"control\",\"legal\",\"police\",\"didnt\",\"level\",\"worst\",\"hate\",\"visit\",\"called\",\"amazon\",\"causes\",\"health\",\"form\",\"physics\",\"iit\",\"skills\",\"times\",\"medical\",\"based\",\"list\",\"websites\",\"die\",\"part\",\"less\",\"benefits\",\"apple\",\"instead\",\"these\",\"boyfriend\",\"sleep\",\"canada\",\"reason\",\"education\",\"cause\",\"jee\",\"value\",\"today\",\"media\",\"public\",\"happened\",\"product\",\"research\",\"main\",\"behind\",\"international\",\"project\",\"uk\",\"differ\",\"7\",\"places\",\"wear\",\"order\",\"date\",\"etc\",\"small\",\"songs\",\"apps\",\"email\",\"given\",\"wrong\",\"site\",\"normal\",\"culture\",\"also\",\"civil\",\"city\",\"available\",\"house\",\"exist\",\"startup\",\"services\",\"ms\",\"both\",\"down\",\"2017\",\"run\",\"cat\",\"well\",\"space\",\"join\",\"deal\",\"games\",\"visa\",\"rid\",\"air\",\"speed\",\"popular\",\"problem\",\"support\",\"current\",\"pakistan\",\"choose\",\"build\",\"idea\",\"america\",\"whatsapp\",\"affect\",\"law\",\"technology\",\"call\",\"6\",\"universities\",\"family\",\"marketing\",\"major\",\"actually\",\"favorite\",\"light\",\"bangalore\",\"woman\",\"because\",\"type\",\"program\",\"looking\",\"living\",\"open\",\"believe\",\"month\",\"able\",\"management\",\"travel\",\"degree\",\"show\",\"interesting\",\"score\",\"months\",\"series\",\"chinese\",\"development\",\"end\",\"code\",\"design\",\"per\",\"employees\",\"review\",\"clinton\",\"common\",\"kind\",\"internet\",\"song\",\"download\",\"course\",\"parents\",\"jobs\",\"such\",\"increase\",\"java\",\"god\",\"another\",\"united\",\"girlfriend\",\"mechanical\",\"always\",\"next\",\"never\",\"around\",\"tips\",\"mba\",\"myself\",\"hillary\",\"apply\",\"answer\",\"something\",\"considered\",\"making\",\"differences\",\"market\",\"compare\",\"great\",\"keep\",\"test\",\"s\",\"win\",\"against\",\"states\",\"earn\",\"youtube\",\"worth\",\"delhi\",\"energy\",\"laptop\",\"american\",\"lose\",\"each\",\"hard\",\"makes\",\"age\",\"ask\",\"safe\",\"body\",\"power\",\"salary\",\"4\",\"watch\",\"white\",\"windows\",\"instagram\",\"history\",\"pay\",\"every\",\"last\",\"create\",\"relationship\",\"music\",\"too\",\"meaning\",\"state\",\"average\",\"earth\",\"got\",\"process\",\"class\",\"tv\",\"eat\",\"done\",\"happens\",\"days\",\"big\",\"off\",\"improve\",\"future\",\"place\",\"man\",\"human\",\"government\",\"play\",\"countries\",\"food\",\"service\",\"students\",\"weight\",\"game\",\"engineer\",\"write\",\"very\",\"interview\",\"web\",\"tell\",\"social\",\"girls\",\"video\",\"look\",\"having\",\"guy\",\"home\",\"hair\",\"usa\",\"doesnt\",\"word\",\"bank\",\"friend\",\"true\",\"experience\",\"career\",\"president\",\"question\",\"own\",\"china\",\"come\",\"under\",\"working\",\"him\",\"doing\",\"donald\",\"friends\",\"right\",\"5\",\"cost\",\"mobile\",\"even\",\"movies\",\"then\",\"c\",\"\\u2019\",\"exam\",\"men\",\"learning\",\"card\",\"war\",\"read\",\"programming\",\"black\",\"anyone\",\"high\",\"10\",\"companies\",\"car\",\"getting\",\"give\",\"important\",\"questions\",\"cant\",\"iphone\",\"website\",\"top\",\"water\",\"prepare\",\"during\",\"real\",\"say\",\"system\",\"name\",\"through\",\"two\",\"1\",\"our\",\"study\",\"3\",\"university\",\"made\",\"back\",\"happen\",\"stop\",\"student\",\"sex\",\"bad\",\"language\",\"going\",\"same\",\"before\",\"software\",\"school\",\"live\",\"country\",\"android\",\"science\",\"help\",\"she\",\"see\",\"thing\",\"women\",\"over\",\"data\",\"examples\",\"computer\",\"had\",\"ways\",\"change\",\"while\",\"book\",\"english\",\"account\",\"still\",\"movie\",\"books\",\"2016\",\"facebook\",\"free\",\"number\",\"college\",\"app\",\"2\",\"just\",\"now\",\"no\",\"trump\",\"company\",\"only\",\"old\",\"been\",\"google\",\"phone\",\"long\",\"different\",\"girl\",\"his\",\"her\",\"years\",\"really\",\"them\",\"using\",\"business\",\"need\",\"being\",\"buy\",\"day\",\"person\",\"things\",\"possible\",\"could\",\"were\",\"its\",\"love\",\"engineering\",\"im\",\"used\",\"online\",\"go\",\"year\",\"he\",\"into\",\"feel\",\"dont\",\"first\",\"up\"]]]}}},\"view\":{\"type\":\"object\",\"name\":\"CDSView\",\"id\":\"p1239\",\"attributes\":{\"filter\":{\"type\":\"object\",\"name\":\"AllIndices\",\"id\":\"p1240\"}}},\"glyph\":{\"type\":\"object\",\"name\":\"Scatter\",\"id\":\"p1235\",\"attributes\":{\"x\":{\"type\":\"field\",\"field\":\"x\"},\"y\":{\"type\":\"field\",\"field\":\"y\"},\"size\":{\"type\":\"value\",\"value\":10},\"line_color\":{\"type\":\"field\",\"field\":\"color\"},\"line_alpha\":{\"type\":\"value\",\"value\":0.25},\"fill_color\":{\"type\":\"field\",\"field\":\"color\"},\"fill_alpha\":{\"type\":\"value\",\"value\":0.25},\"hatch_color\":{\"type\":\"field\",\"field\":\"color\"},\"hatch_alpha\":{\"type\":\"value\",\"value\":0.25}}},\"nonselection_glyph\":{\"type\":\"object\",\"name\":\"Scatter\",\"id\":\"p1236\",\"attributes\":{\"x\":{\"type\":\"field\",\"field\":\"x\"},\"y\":{\"type\":\"field\",\"field\":\"y\"},\"size\":{\"type\":\"value\",\"value\":10},\"line_color\":{\"type\":\"field\",\"field\":\"color\"},\"line_alpha\":{\"type\":\"value\",\"value\":0.1},\"fill_color\":{\"type\":\"field\",\"field\":\"color\"},\"fill_alpha\":{\"type\":\"value\",\"value\":0.1},\"hatch_color\":{\"type\":\"field\",\"field\":\"color\"},\"hatch_alpha\":{\"type\":\"value\",\"value\":0.1}}},\"muted_glyph\":{\"type\":\"object\",\"name\":\"Scatter\",\"id\":\"p1237\",\"attributes\":{\"x\":{\"type\":\"field\",\"field\":\"x\"},\"y\":{\"type\":\"field\",\"field\":\"y\"},\"size\":{\"type\":\"value\",\"value\":10},\"line_color\":{\"type\":\"field\",\"field\":\"color\"},\"line_alpha\":{\"type\":\"value\",\"value\":0.2},\"fill_color\":{\"type\":\"field\",\"field\":\"color\"},\"fill_alpha\":{\"type\":\"value\",\"value\":0.2},\"hatch_color\":{\"type\":\"field\",\"field\":\"color\"},\"hatch_alpha\":{\"type\":\"value\",\"value\":0.2}}}}}],\"toolbar\":{\"type\":\"object\",\"name\":\"Toolbar\",\"id\":\"p1208\",\"attributes\":{\"tools\":[{\"type\":\"object\",\"name\":\"PanTool\",\"id\":\"p1221\"},{\"type\":\"object\",\"name\":\"WheelZoomTool\",\"id\":\"p1222\",\"attributes\":{\"renderers\":\"auto\"}},{\"type\":\"object\",\"name\":\"BoxZoomTool\",\"id\":\"p1223\",\"attributes\":{\"overlay\":{\"type\":\"object\",\"name\":\"BoxAnnotation\",\"id\":\"p1224\",\"attributes\":{\"syncable\":false,\"level\":\"overlay\",\"visible\":false,\"left\":{\"type\":\"number\",\"value\":\"nan\"},\"right\":{\"type\":\"number\",\"value\":\"nan\"},\"top\":{\"type\":\"number\",\"value\":\"nan\"},\"bottom\":{\"type\":\"number\",\"value\":\"nan\"},\"left_units\":\"canvas\",\"right_units\":\"canvas\",\"top_units\":\"canvas\",\"bottom_units\":\"canvas\",\"line_color\":\"black\",\"line_alpha\":1.0,\"line_width\":2,\"line_dash\":[4,4],\"fill_color\":\"lightgrey\",\"fill_alpha\":0.5}}}},{\"type\":\"object\",\"name\":\"SaveTool\",\"id\":\"p1229\"},{\"type\":\"object\",\"name\":\"ResetTool\",\"id\":\"p1230\"},{\"type\":\"object\",\"name\":\"HelpTool\",\"id\":\"p1231\"},{\"type\":\"object\",\"name\":\"HoverTool\",\"id\":\"p1241\",\"attributes\":{\"renderers\":\"auto\",\"tooltips\":[[\"token\",\"@token\"]]}}],\"active_scroll\":{\"id\":\"p1222\"}}},\"left\":[{\"type\":\"object\",\"name\":\"LinearAxis\",\"id\":\"p1216\",\"attributes\":{\"ticker\":{\"type\":\"object\",\"name\":\"BasicTicker\",\"id\":\"p1217\",\"attributes\":{\"mantissas\":[1,2,5]}},\"formatter\":{\"type\":\"object\",\"name\":\"BasicTickFormatter\",\"id\":\"p1218\"},\"major_label_policy\":{\"type\":\"object\",\"name\":\"AllLabels\",\"id\":\"p1219\"}}}],\"below\":[{\"type\":\"object\",\"name\":\"LinearAxis\",\"id\":\"p1211\",\"attributes\":{\"ticker\":{\"type\":\"object\",\"name\":\"BasicTicker\",\"id\":\"p1212\",\"attributes\":{\"mantissas\":[1,2,5]}},\"formatter\":{\"type\":\"object\",\"name\":\"BasicTickFormatter\",\"id\":\"p1213\"},\"major_label_policy\":{\"type\":\"object\",\"name\":\"AllLabels\",\"id\":\"p1214\"}}}],\"center\":[{\"type\":\"object\",\"name\":\"Grid\",\"id\":\"p1215\",\"attributes\":{\"axis\":{\"id\":\"p1211\"}}},{\"type\":\"object\",\"name\":\"Grid\",\"id\":\"p1220\",\"attributes\":{\"dimension\":1,\"axis\":{\"id\":\"p1216\"}}}]}}]}};\n",
              "  const render_items = [{\"docid\":\"8610cb51-a09a-4e61-92ea-e3840ad219a0\",\"roots\":{\"p1200\":\"a53259b6-2caf-4dba-aab8-868025ed113b\"},\"root_ids\":[\"p1200\"]}];\n",
              "  void root.Bokeh.embed.embed_items_notebook(docs_json, render_items);\n",
              "  }\n",
              "  if (root.Bokeh !== undefined) {\n",
              "    embed_document(root);\n",
              "  } else {\n",
              "    let attempts = 0;\n",
              "    const timer = setInterval(function(root) {\n",
              "      if (root.Bokeh !== undefined) {\n",
              "        clearInterval(timer);\n",
              "        embed_document(root);\n",
              "      } else {\n",
              "        attempts++;\n",
              "        if (attempts > 100) {\n",
              "          clearInterval(timer);\n",
              "          console.log(\"Bokeh: ERROR: Unable to run BokehJS code because BokehJS library is missing\");\n",
              "        }\n",
              "      }\n",
              "    }, 10, root)\n",
              "  }\n",
              "})(window);"
            ],
            "application/vnd.bokehjs_exec.v0+json": ""
          },
          "metadata": {
            "application/vnd.bokehjs_exec.v0+json": {
              "id": "p1200"
            }
          }
        },
        {
          "output_type": "execute_result",
          "data": {
            "text/plain": [
              "figure(id='p1200', ...)"
            ],
            "text/html": [
              "<div style=\"display: table;\"><div style=\"display: table-row;\"><div style=\"display: table-cell;\"><b title=\"bokeh.plotting._figure.figure\">figure</b>(</div><div style=\"display: table-cell;\">id&nbsp;=&nbsp;'p1200', <span id=\"p1245\" style=\"cursor: pointer;\">&hellip;)</span></div></div><div class=\"p1244\" style=\"display: none;\"><div style=\"display: table-cell;\"></div><div style=\"display: table-cell;\">above&nbsp;=&nbsp;[],</div></div><div class=\"p1244\" style=\"display: none;\"><div style=\"display: table-cell;\"></div><div style=\"display: table-cell;\">align&nbsp;=&nbsp;'auto',</div></div><div class=\"p1244\" style=\"display: none;\"><div style=\"display: table-cell;\"></div><div style=\"display: table-cell;\">aspect_ratio&nbsp;=&nbsp;None,</div></div><div class=\"p1244\" style=\"display: none;\"><div style=\"display: table-cell;\"></div><div style=\"display: table-cell;\">aspect_scale&nbsp;=&nbsp;1,</div></div><div class=\"p1244\" style=\"display: none;\"><div style=\"display: table-cell;\"></div><div style=\"display: table-cell;\">attribution&nbsp;=&nbsp;[],</div></div><div class=\"p1244\" style=\"display: none;\"><div style=\"display: table-cell;\"></div><div style=\"display: table-cell;\">background_fill_alpha&nbsp;=&nbsp;1.0,</div></div><div class=\"p1244\" style=\"display: none;\"><div style=\"display: table-cell;\"></div><div style=\"display: table-cell;\">background_fill_color&nbsp;=&nbsp;'#ffffff',</div></div><div class=\"p1244\" style=\"display: none;\"><div style=\"display: table-cell;\"></div><div style=\"display: table-cell;\">below&nbsp;=&nbsp;[LinearAxis(id='p1211', ...)],</div></div><div class=\"p1244\" style=\"display: none;\"><div style=\"display: table-cell;\"></div><div style=\"display: table-cell;\">border_fill_alpha&nbsp;=&nbsp;1.0,</div></div><div class=\"p1244\" style=\"display: none;\"><div style=\"display: table-cell;\"></div><div style=\"display: table-cell;\">border_fill_color&nbsp;=&nbsp;'#ffffff',</div></div><div class=\"p1244\" style=\"display: none;\"><div style=\"display: table-cell;\"></div><div style=\"display: table-cell;\">center&nbsp;=&nbsp;[Grid(id='p1215', ...), Grid(id='p1220', ...)],</div></div><div class=\"p1244\" style=\"display: none;\"><div style=\"display: table-cell;\"></div><div style=\"display: table-cell;\">context_menu&nbsp;=&nbsp;None,</div></div><div class=\"p1244\" style=\"display: none;\"><div style=\"display: table-cell;\"></div><div style=\"display: table-cell;\">css_classes&nbsp;=&nbsp;[],</div></div><div class=\"p1244\" style=\"display: none;\"><div style=\"display: table-cell;\"></div><div style=\"display: table-cell;\">css_variables&nbsp;=&nbsp;{},</div></div><div class=\"p1244\" style=\"display: none;\"><div style=\"display: table-cell;\"></div><div style=\"display: table-cell;\">disabled&nbsp;=&nbsp;False,</div></div><div class=\"p1244\" style=\"display: none;\"><div style=\"display: table-cell;\"></div><div style=\"display: table-cell;\">elements&nbsp;=&nbsp;[],</div></div><div class=\"p1244\" style=\"display: none;\"><div style=\"display: table-cell;\"></div><div style=\"display: table-cell;\">extra_x_ranges&nbsp;=&nbsp;{},</div></div><div class=\"p1244\" style=\"display: none;\"><div style=\"display: table-cell;\"></div><div style=\"display: table-cell;\">extra_x_scales&nbsp;=&nbsp;{},</div></div><div class=\"p1244\" style=\"display: none;\"><div style=\"display: table-cell;\"></div><div style=\"display: table-cell;\">extra_y_ranges&nbsp;=&nbsp;{},</div></div><div class=\"p1244\" style=\"display: none;\"><div style=\"display: table-cell;\"></div><div style=\"display: table-cell;\">extra_y_scales&nbsp;=&nbsp;{},</div></div><div class=\"p1244\" style=\"display: none;\"><div style=\"display: table-cell;\"></div><div style=\"display: table-cell;\">flow_mode&nbsp;=&nbsp;'block',</div></div><div class=\"p1244\" style=\"display: none;\"><div style=\"display: table-cell;\"></div><div style=\"display: table-cell;\">frame_align&nbsp;=&nbsp;True,</div></div><div class=\"p1244\" style=\"display: none;\"><div style=\"display: table-cell;\"></div><div style=\"display: table-cell;\">frame_height&nbsp;=&nbsp;None,</div></div><div class=\"p1244\" style=\"display: none;\"><div style=\"display: table-cell;\"></div><div style=\"display: table-cell;\">frame_width&nbsp;=&nbsp;None,</div></div><div class=\"p1244\" style=\"display: none;\"><div style=\"display: table-cell;\"></div><div style=\"display: table-cell;\">height&nbsp;=&nbsp;400,</div></div><div class=\"p1244\" style=\"display: none;\"><div style=\"display: table-cell;\"></div><div style=\"display: table-cell;\">height_policy&nbsp;=&nbsp;'auto',</div></div><div class=\"p1244\" style=\"display: none;\"><div style=\"display: table-cell;\"></div><div style=\"display: table-cell;\">hidpi&nbsp;=&nbsp;True,</div></div><div class=\"p1244\" style=\"display: none;\"><div style=\"display: table-cell;\"></div><div style=\"display: table-cell;\">hold_render&nbsp;=&nbsp;False,</div></div><div class=\"p1244\" style=\"display: none;\"><div style=\"display: table-cell;\"></div><div style=\"display: table-cell;\">js_event_callbacks&nbsp;=&nbsp;{},</div></div><div class=\"p1244\" style=\"display: none;\"><div style=\"display: table-cell;\"></div><div style=\"display: table-cell;\">js_property_callbacks&nbsp;=&nbsp;{},</div></div><div class=\"p1244\" style=\"display: none;\"><div style=\"display: table-cell;\"></div><div style=\"display: table-cell;\">left&nbsp;=&nbsp;[LinearAxis(id='p1216', ...)],</div></div><div class=\"p1244\" style=\"display: none;\"><div style=\"display: table-cell;\"></div><div style=\"display: table-cell;\">lod_factor&nbsp;=&nbsp;10,</div></div><div class=\"p1244\" style=\"display: none;\"><div style=\"display: table-cell;\"></div><div style=\"display: table-cell;\">lod_interval&nbsp;=&nbsp;300,</div></div><div class=\"p1244\" style=\"display: none;\"><div style=\"display: table-cell;\"></div><div style=\"display: table-cell;\">lod_threshold&nbsp;=&nbsp;2000,</div></div><div class=\"p1244\" style=\"display: none;\"><div style=\"display: table-cell;\"></div><div style=\"display: table-cell;\">lod_timeout&nbsp;=&nbsp;500,</div></div><div class=\"p1244\" style=\"display: none;\"><div style=\"display: table-cell;\"></div><div style=\"display: table-cell;\">margin&nbsp;=&nbsp;None,</div></div><div class=\"p1244\" style=\"display: none;\"><div style=\"display: table-cell;\"></div><div style=\"display: table-cell;\">match_aspect&nbsp;=&nbsp;False,</div></div><div class=\"p1244\" style=\"display: none;\"><div style=\"display: table-cell;\"></div><div style=\"display: table-cell;\">max_height&nbsp;=&nbsp;None,</div></div><div class=\"p1244\" style=\"display: none;\"><div style=\"display: table-cell;\"></div><div style=\"display: table-cell;\">max_width&nbsp;=&nbsp;None,</div></div><div class=\"p1244\" style=\"display: none;\"><div style=\"display: table-cell;\"></div><div style=\"display: table-cell;\">min_border&nbsp;=&nbsp;5,</div></div><div class=\"p1244\" style=\"display: none;\"><div style=\"display: table-cell;\"></div><div style=\"display: table-cell;\">min_border_bottom&nbsp;=&nbsp;None,</div></div><div class=\"p1244\" style=\"display: none;\"><div style=\"display: table-cell;\"></div><div style=\"display: table-cell;\">min_border_left&nbsp;=&nbsp;None,</div></div><div class=\"p1244\" style=\"display: none;\"><div style=\"display: table-cell;\"></div><div style=\"display: table-cell;\">min_border_right&nbsp;=&nbsp;None,</div></div><div class=\"p1244\" style=\"display: none;\"><div style=\"display: table-cell;\"></div><div style=\"display: table-cell;\">min_border_top&nbsp;=&nbsp;None,</div></div><div class=\"p1244\" style=\"display: none;\"><div style=\"display: table-cell;\"></div><div style=\"display: table-cell;\">min_height&nbsp;=&nbsp;None,</div></div><div class=\"p1244\" style=\"display: none;\"><div style=\"display: table-cell;\"></div><div style=\"display: table-cell;\">min_width&nbsp;=&nbsp;None,</div></div><div class=\"p1244\" style=\"display: none;\"><div style=\"display: table-cell;\"></div><div style=\"display: table-cell;\">name&nbsp;=&nbsp;None,</div></div><div class=\"p1244\" style=\"display: none;\"><div style=\"display: table-cell;\"></div><div style=\"display: table-cell;\">outline_line_alpha&nbsp;=&nbsp;1.0,</div></div><div class=\"p1244\" style=\"display: none;\"><div style=\"display: table-cell;\"></div><div style=\"display: table-cell;\">outline_line_cap&nbsp;=&nbsp;'butt',</div></div><div class=\"p1244\" style=\"display: none;\"><div style=\"display: table-cell;\"></div><div style=\"display: table-cell;\">outline_line_color&nbsp;=&nbsp;'#e5e5e5',</div></div><div class=\"p1244\" style=\"display: none;\"><div style=\"display: table-cell;\"></div><div style=\"display: table-cell;\">outline_line_dash&nbsp;=&nbsp;[],</div></div><div class=\"p1244\" style=\"display: none;\"><div style=\"display: table-cell;\"></div><div style=\"display: table-cell;\">outline_line_dash_offset&nbsp;=&nbsp;0,</div></div><div class=\"p1244\" style=\"display: none;\"><div style=\"display: table-cell;\"></div><div style=\"display: table-cell;\">outline_line_join&nbsp;=&nbsp;'bevel',</div></div><div class=\"p1244\" style=\"display: none;\"><div style=\"display: table-cell;\"></div><div style=\"display: table-cell;\">outline_line_width&nbsp;=&nbsp;1,</div></div><div class=\"p1244\" style=\"display: none;\"><div style=\"display: table-cell;\"></div><div style=\"display: table-cell;\">output_backend&nbsp;=&nbsp;'canvas',</div></div><div class=\"p1244\" style=\"display: none;\"><div style=\"display: table-cell;\"></div><div style=\"display: table-cell;\">renderers&nbsp;=&nbsp;[GlyphRenderer(id='p1238', ...)],</div></div><div class=\"p1244\" style=\"display: none;\"><div style=\"display: table-cell;\"></div><div style=\"display: table-cell;\">reset_policy&nbsp;=&nbsp;'standard',</div></div><div class=\"p1244\" style=\"display: none;\"><div style=\"display: table-cell;\"></div><div style=\"display: table-cell;\">resizable&nbsp;=&nbsp;False,</div></div><div class=\"p1244\" style=\"display: none;\"><div style=\"display: table-cell;\"></div><div style=\"display: table-cell;\">right&nbsp;=&nbsp;[],</div></div><div class=\"p1244\" style=\"display: none;\"><div style=\"display: table-cell;\"></div><div style=\"display: table-cell;\">sizing_mode&nbsp;=&nbsp;None,</div></div><div class=\"p1244\" style=\"display: none;\"><div style=\"display: table-cell;\"></div><div style=\"display: table-cell;\">styles&nbsp;=&nbsp;{},</div></div><div class=\"p1244\" style=\"display: none;\"><div style=\"display: table-cell;\"></div><div style=\"display: table-cell;\">stylesheets&nbsp;=&nbsp;[],</div></div><div class=\"p1244\" style=\"display: none;\"><div style=\"display: table-cell;\"></div><div style=\"display: table-cell;\">subscribed_events&nbsp;=&nbsp;PropertyValueSet(),</div></div><div class=\"p1244\" style=\"display: none;\"><div style=\"display: table-cell;\"></div><div style=\"display: table-cell;\">syncable&nbsp;=&nbsp;True,</div></div><div class=\"p1244\" style=\"display: none;\"><div style=\"display: table-cell;\"></div><div style=\"display: table-cell;\">tags&nbsp;=&nbsp;[],</div></div><div class=\"p1244\" style=\"display: none;\"><div style=\"display: table-cell;\"></div><div style=\"display: table-cell;\">title&nbsp;=&nbsp;Title(id='p1207', ...),</div></div><div class=\"p1244\" style=\"display: none;\"><div style=\"display: table-cell;\"></div><div style=\"display: table-cell;\">title_location&nbsp;=&nbsp;'above',</div></div><div class=\"p1244\" style=\"display: none;\"><div style=\"display: table-cell;\"></div><div style=\"display: table-cell;\">toolbar&nbsp;=&nbsp;Toolbar(id='p1208', ...),</div></div><div class=\"p1244\" style=\"display: none;\"><div style=\"display: table-cell;\"></div><div style=\"display: table-cell;\">toolbar_inner&nbsp;=&nbsp;False,</div></div><div class=\"p1244\" style=\"display: none;\"><div style=\"display: table-cell;\"></div><div style=\"display: table-cell;\">toolbar_location&nbsp;=&nbsp;'right',</div></div><div class=\"p1244\" style=\"display: none;\"><div style=\"display: table-cell;\"></div><div style=\"display: table-cell;\">toolbar_sticky&nbsp;=&nbsp;True,</div></div><div class=\"p1244\" style=\"display: none;\"><div style=\"display: table-cell;\"></div><div style=\"display: table-cell;\">visible&nbsp;=&nbsp;True,</div></div><div class=\"p1244\" style=\"display: none;\"><div style=\"display: table-cell;\"></div><div style=\"display: table-cell;\">width&nbsp;=&nbsp;600,</div></div><div class=\"p1244\" style=\"display: none;\"><div style=\"display: table-cell;\"></div><div style=\"display: table-cell;\">width_policy&nbsp;=&nbsp;'auto',</div></div><div class=\"p1244\" style=\"display: none;\"><div style=\"display: table-cell;\"></div><div style=\"display: table-cell;\">x_range&nbsp;=&nbsp;DataRange1d(id='p1201', ...),</div></div><div class=\"p1244\" style=\"display: none;\"><div style=\"display: table-cell;\"></div><div style=\"display: table-cell;\">x_scale&nbsp;=&nbsp;LinearScale(id='p1209', ...),</div></div><div class=\"p1244\" style=\"display: none;\"><div style=\"display: table-cell;\"></div><div style=\"display: table-cell;\">y_range&nbsp;=&nbsp;DataRange1d(id='p1202', ...),</div></div><div class=\"p1244\" style=\"display: none;\"><div style=\"display: table-cell;\"></div><div style=\"display: table-cell;\">y_scale&nbsp;=&nbsp;LinearScale(id='p1210', ...))</div></div></div>\n",
              "<script>\n",
              "(function() {\n",
              "  let expanded = false;\n",
              "  const ellipsis = document.getElementById(\"p1245\");\n",
              "  ellipsis.addEventListener(\"click\", function() {\n",
              "    const rows = document.getElementsByClassName(\"p1244\");\n",
              "    for (let i = 0; i < rows.length; i++) {\n",
              "      const el = rows[i];\n",
              "      el.style.display = expanded ? \"none\" : \"table-row\";\n",
              "    }\n",
              "    ellipsis.innerHTML = expanded ? \"&hellip;)\" : \"&lsaquo;&lsaquo;&lsaquo;\";\n",
              "    expanded = !expanded;\n",
              "  });\n",
              "})();\n",
              "</script>\n"
            ]
          },
          "metadata": {},
          "execution_count": 175
        }
      ],
      "source": [
        "draw_vectors(embedding[:, 0], embedding[:, 1], token=top_words)"
      ]
    },
    {
      "cell_type": "markdown",
      "metadata": {
        "id": "pbOvt8_lADgb"
      },
      "source": [
        "Для сдачи задания необходимо загрузить функции `subsample_frequent_words` и `get_negative_sampling_prob`, а также сгенерировать файл для посылки ниже и приложить в соответствующую задачу. Успехов!"
      ]
    },
    {
      "cell_type": "code",
      "execution_count": 176,
      "metadata": {
        "colab": {
          "base_uri": "https://localhost:8080/"
        },
        "id": "VPz_3eHRADgb",
        "outputId": "34cea2c8-ec9a-402f-dcb1-4185eb9d5981"
      },
      "outputs": [
        {
          "output_type": "stream",
          "name": "stdout",
          "text": [
            "File saved to `submission_dict.json`\n"
          ]
        }
      ],
      "source": [
        "# do not change the code in the block below\n",
        "# __________start of block__________\n",
        "import os\n",
        "import json\n",
        "\n",
        "assert os.path.exists(\n",
        "    \"words_subset.txt\"\n",
        "), \"Please, download `words_subset.txt` and place it in the working directory\"\n",
        "\n",
        "with open(\"words_subset.txt\") as iofile:\n",
        "    selected_words = iofile.read().split(\"\\n\")\n",
        "\n",
        "\n",
        "def get_matrix_for_selected_words(selected_words, embedding_matrix, word_to_index):\n",
        "    word_vectors = []\n",
        "    for word in selected_words:\n",
        "        index = word_to_index.get(word, None)\n",
        "        vector = [0.0] * embedding_matrix.shape[1]\n",
        "        if index is not None:\n",
        "            vector = embedding_matrix[index].numpy().tolist()\n",
        "        word_vectors.append(vector)\n",
        "    return word_vectors\n",
        "\n",
        "\n",
        "word_vectors = get_matrix_for_selected_words(\n",
        "    selected_words, embedding_matrix_context, word_to_index\n",
        ")\n",
        "\n",
        "with open(\"submission_dict.json\", \"w\") as iofile:\n",
        "    json.dump(word_vectors, iofile)\n",
        "print(\"File saved to `submission_dict.json`\")\n",
        "# __________end of block__________"
      ]
    },
    {
      "cell_type": "code",
      "execution_count": null,
      "metadata": {
        "id": "PAHs8qkm_Kka"
      },
      "outputs": [],
      "source": []
    }
  ],
  "metadata": {
    "colab": {
      "provenance": []
    },
    "kernelspec": {
      "display_name": "py3_research",
      "language": "python",
      "name": "python3"
    },
    "language_info": {
      "codemirror_mode": {
        "name": "ipython",
        "version": 3
      },
      "file_extension": ".py",
      "mimetype": "text/x-python",
      "name": "python",
      "nbconvert_exporter": "python",
      "pygments_lexer": "ipython3",
      "version": "3.11.2"
    },
    "widgets": {
      "application/vnd.jupyter.widget-state+json": {
        "7e03c421ef9e4955a05bf563c1031b8f": {
          "model_module": "@jupyter-widgets/controls",
          "model_name": "HBoxModel",
          "model_module_version": "1.5.0",
          "state": {
            "_dom_classes": [],
            "_model_module": "@jupyter-widgets/controls",
            "_model_module_version": "1.5.0",
            "_model_name": "HBoxModel",
            "_view_count": null,
            "_view_module": "@jupyter-widgets/controls",
            "_view_module_version": "1.5.0",
            "_view_name": "HBoxView",
            "box_style": "",
            "children": [
              "IPY_MODEL_1021485a4f2d4ef2a109369c7a0b4f14",
              "IPY_MODEL_5430865240c64a28baa42ac4ffdd639c",
              "IPY_MODEL_c5e6b993f757459bb1830f9cf3e5e1c5"
            ],
            "layout": "IPY_MODEL_6e01609b4f714f16b0797286a8dfa8c5"
          }
        },
        "1021485a4f2d4ef2a109369c7a0b4f14": {
          "model_module": "@jupyter-widgets/controls",
          "model_name": "HTMLModel",
          "model_module_version": "1.5.0",
          "state": {
            "_dom_classes": [],
            "_model_module": "@jupyter-widgets/controls",
            "_model_module_version": "1.5.0",
            "_model_name": "HTMLModel",
            "_view_count": null,
            "_view_module": "@jupyter-widgets/controls",
            "_view_module_version": "1.5.0",
            "_view_name": "HTMLView",
            "description": "",
            "description_tooltip": null,
            "layout": "IPY_MODEL_9c66b02f0dad439cbd7a75063caba123",
            "placeholder": "​",
            "style": "IPY_MODEL_df8b1417db9f495b937f7d6bf01e8aae",
            "value": "100%"
          }
        },
        "5430865240c64a28baa42ac4ffdd639c": {
          "model_module": "@jupyter-widgets/controls",
          "model_name": "FloatProgressModel",
          "model_module_version": "1.5.0",
          "state": {
            "_dom_classes": [],
            "_model_module": "@jupyter-widgets/controls",
            "_model_module_version": "1.5.0",
            "_model_name": "FloatProgressModel",
            "_view_count": null,
            "_view_module": "@jupyter-widgets/controls",
            "_view_module_version": "1.5.0",
            "_view_name": "ProgressView",
            "bar_style": "success",
            "description": "",
            "description_tooltip": null,
            "layout": "IPY_MODEL_f497d212f31f48eb9465c43605fdb164",
            "max": 1250,
            "min": 0,
            "orientation": "horizontal",
            "style": "IPY_MODEL_5dbaa7e6289b40dd8596d4b939d26fd8",
            "value": 1250
          }
        },
        "c5e6b993f757459bb1830f9cf3e5e1c5": {
          "model_module": "@jupyter-widgets/controls",
          "model_name": "HTMLModel",
          "model_module_version": "1.5.0",
          "state": {
            "_dom_classes": [],
            "_model_module": "@jupyter-widgets/controls",
            "_model_module_version": "1.5.0",
            "_model_name": "HTMLModel",
            "_view_count": null,
            "_view_module": "@jupyter-widgets/controls",
            "_view_module_version": "1.5.0",
            "_view_name": "HTMLView",
            "description": "",
            "description_tooltip": null,
            "layout": "IPY_MODEL_94dd151fa335477586e3431d8df0176c",
            "placeholder": "​",
            "style": "IPY_MODEL_3500a0e2b5fb45f38b1c3f765b6cd827",
            "value": " 1250/1250 [09:08&lt;00:00,  2.53it/s]"
          }
        },
        "6e01609b4f714f16b0797286a8dfa8c5": {
          "model_module": "@jupyter-widgets/base",
          "model_name": "LayoutModel",
          "model_module_version": "1.2.0",
          "state": {
            "_model_module": "@jupyter-widgets/base",
            "_model_module_version": "1.2.0",
            "_model_name": "LayoutModel",
            "_view_count": null,
            "_view_module": "@jupyter-widgets/base",
            "_view_module_version": "1.2.0",
            "_view_name": "LayoutView",
            "align_content": null,
            "align_items": null,
            "align_self": null,
            "border": null,
            "bottom": null,
            "display": null,
            "flex": null,
            "flex_flow": null,
            "grid_area": null,
            "grid_auto_columns": null,
            "grid_auto_flow": null,
            "grid_auto_rows": null,
            "grid_column": null,
            "grid_gap": null,
            "grid_row": null,
            "grid_template_areas": null,
            "grid_template_columns": null,
            "grid_template_rows": null,
            "height": null,
            "justify_content": null,
            "justify_items": null,
            "left": null,
            "margin": null,
            "max_height": null,
            "max_width": null,
            "min_height": null,
            "min_width": null,
            "object_fit": null,
            "object_position": null,
            "order": null,
            "overflow": null,
            "overflow_x": null,
            "overflow_y": null,
            "padding": null,
            "right": null,
            "top": null,
            "visibility": null,
            "width": null
          }
        },
        "9c66b02f0dad439cbd7a75063caba123": {
          "model_module": "@jupyter-widgets/base",
          "model_name": "LayoutModel",
          "model_module_version": "1.2.0",
          "state": {
            "_model_module": "@jupyter-widgets/base",
            "_model_module_version": "1.2.0",
            "_model_name": "LayoutModel",
            "_view_count": null,
            "_view_module": "@jupyter-widgets/base",
            "_view_module_version": "1.2.0",
            "_view_name": "LayoutView",
            "align_content": null,
            "align_items": null,
            "align_self": null,
            "border": null,
            "bottom": null,
            "display": null,
            "flex": null,
            "flex_flow": null,
            "grid_area": null,
            "grid_auto_columns": null,
            "grid_auto_flow": null,
            "grid_auto_rows": null,
            "grid_column": null,
            "grid_gap": null,
            "grid_row": null,
            "grid_template_areas": null,
            "grid_template_columns": null,
            "grid_template_rows": null,
            "height": null,
            "justify_content": null,
            "justify_items": null,
            "left": null,
            "margin": null,
            "max_height": null,
            "max_width": null,
            "min_height": null,
            "min_width": null,
            "object_fit": null,
            "object_position": null,
            "order": null,
            "overflow": null,
            "overflow_x": null,
            "overflow_y": null,
            "padding": null,
            "right": null,
            "top": null,
            "visibility": null,
            "width": null
          }
        },
        "df8b1417db9f495b937f7d6bf01e8aae": {
          "model_module": "@jupyter-widgets/controls",
          "model_name": "DescriptionStyleModel",
          "model_module_version": "1.5.0",
          "state": {
            "_model_module": "@jupyter-widgets/controls",
            "_model_module_version": "1.5.0",
            "_model_name": "DescriptionStyleModel",
            "_view_count": null,
            "_view_module": "@jupyter-widgets/base",
            "_view_module_version": "1.2.0",
            "_view_name": "StyleView",
            "description_width": ""
          }
        },
        "f497d212f31f48eb9465c43605fdb164": {
          "model_module": "@jupyter-widgets/base",
          "model_name": "LayoutModel",
          "model_module_version": "1.2.0",
          "state": {
            "_model_module": "@jupyter-widgets/base",
            "_model_module_version": "1.2.0",
            "_model_name": "LayoutModel",
            "_view_count": null,
            "_view_module": "@jupyter-widgets/base",
            "_view_module_version": "1.2.0",
            "_view_name": "LayoutView",
            "align_content": null,
            "align_items": null,
            "align_self": null,
            "border": null,
            "bottom": null,
            "display": null,
            "flex": null,
            "flex_flow": null,
            "grid_area": null,
            "grid_auto_columns": null,
            "grid_auto_flow": null,
            "grid_auto_rows": null,
            "grid_column": null,
            "grid_gap": null,
            "grid_row": null,
            "grid_template_areas": null,
            "grid_template_columns": null,
            "grid_template_rows": null,
            "height": null,
            "justify_content": null,
            "justify_items": null,
            "left": null,
            "margin": null,
            "max_height": null,
            "max_width": null,
            "min_height": null,
            "min_width": null,
            "object_fit": null,
            "object_position": null,
            "order": null,
            "overflow": null,
            "overflow_x": null,
            "overflow_y": null,
            "padding": null,
            "right": null,
            "top": null,
            "visibility": null,
            "width": null
          }
        },
        "5dbaa7e6289b40dd8596d4b939d26fd8": {
          "model_module": "@jupyter-widgets/controls",
          "model_name": "ProgressStyleModel",
          "model_module_version": "1.5.0",
          "state": {
            "_model_module": "@jupyter-widgets/controls",
            "_model_module_version": "1.5.0",
            "_model_name": "ProgressStyleModel",
            "_view_count": null,
            "_view_module": "@jupyter-widgets/base",
            "_view_module_version": "1.2.0",
            "_view_name": "StyleView",
            "bar_color": null,
            "description_width": ""
          }
        },
        "94dd151fa335477586e3431d8df0176c": {
          "model_module": "@jupyter-widgets/base",
          "model_name": "LayoutModel",
          "model_module_version": "1.2.0",
          "state": {
            "_model_module": "@jupyter-widgets/base",
            "_model_module_version": "1.2.0",
            "_model_name": "LayoutModel",
            "_view_count": null,
            "_view_module": "@jupyter-widgets/base",
            "_view_module_version": "1.2.0",
            "_view_name": "LayoutView",
            "align_content": null,
            "align_items": null,
            "align_self": null,
            "border": null,
            "bottom": null,
            "display": null,
            "flex": null,
            "flex_flow": null,
            "grid_area": null,
            "grid_auto_columns": null,
            "grid_auto_flow": null,
            "grid_auto_rows": null,
            "grid_column": null,
            "grid_gap": null,
            "grid_row": null,
            "grid_template_areas": null,
            "grid_template_columns": null,
            "grid_template_rows": null,
            "height": null,
            "justify_content": null,
            "justify_items": null,
            "left": null,
            "margin": null,
            "max_height": null,
            "max_width": null,
            "min_height": null,
            "min_width": null,
            "object_fit": null,
            "object_position": null,
            "order": null,
            "overflow": null,
            "overflow_x": null,
            "overflow_y": null,
            "padding": null,
            "right": null,
            "top": null,
            "visibility": null,
            "width": null
          }
        },
        "3500a0e2b5fb45f38b1c3f765b6cd827": {
          "model_module": "@jupyter-widgets/controls",
          "model_name": "DescriptionStyleModel",
          "model_module_version": "1.5.0",
          "state": {
            "_model_module": "@jupyter-widgets/controls",
            "_model_module_version": "1.5.0",
            "_model_name": "DescriptionStyleModel",
            "_view_count": null,
            "_view_module": "@jupyter-widgets/base",
            "_view_module_version": "1.2.0",
            "_view_name": "StyleView",
            "description_width": ""
          }
        }
      }
    }
  },
  "nbformat": 4,
  "nbformat_minor": 0
}